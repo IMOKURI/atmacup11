{
  "nbformat": 4,
  "nbformat_minor": 0,
  "metadata": {
    "kernelspec": {
      "language": "python",
      "display_name": "Python 3",
      "name": "python3"
    },
    "language_info": {
      "pygments_lexer": "ipython3",
      "nbconvert_exporter": "python",
      "version": "3.6.4",
      "file_extension": ".py",
      "codemirror_mode": {
        "name": "ipython",
        "version": 3
      },
      "name": "python",
      "mimetype": "text/x-python"
    },
    "colab": {
      "name": "atmacup11-baseline.ipynb",
      "provenance": [],
      "collapsed_sections": [],
      "include_colab_link": true
    },
    "accelerator": "GPU",
    "widgets": {
      "application/vnd.jupyter.widget-state+json": {
        "a885f216a7e2489a8b2bc8232d175c4b": {
          "model_module": "@jupyter-widgets/controls",
          "model_name": "VBoxModel",
          "state": {
            "_view_name": "VBoxView",
            "_dom_classes": [],
            "_model_name": "VBoxModel",
            "_view_module": "@jupyter-widgets/controls",
            "_model_module_version": "1.5.0",
            "_view_count": null,
            "_view_module_version": "1.5.0",
            "box_style": "",
            "layout": "IPY_MODEL_ebb9b93a5d7647c299cfa9fcaf73df26",
            "_model_module": "@jupyter-widgets/controls",
            "children": [
              "IPY_MODEL_90d644eaeda04397be10a821dbbc1c1d",
              "IPY_MODEL_21cd02f19f244ebeb5e24beeac669882"
            ]
          }
        },
        "ebb9b93a5d7647c299cfa9fcaf73df26": {
          "model_module": "@jupyter-widgets/base",
          "model_name": "LayoutModel",
          "state": {
            "_view_name": "LayoutView",
            "grid_template_rows": null,
            "right": null,
            "justify_content": null,
            "_view_module": "@jupyter-widgets/base",
            "overflow": null,
            "_model_module_version": "1.2.0",
            "_view_count": null,
            "flex_flow": null,
            "width": null,
            "min_width": null,
            "border": null,
            "align_items": null,
            "bottom": null,
            "_model_module": "@jupyter-widgets/base",
            "top": null,
            "grid_column": null,
            "overflow_y": null,
            "overflow_x": null,
            "grid_auto_flow": null,
            "grid_area": null,
            "grid_template_columns": null,
            "flex": null,
            "_model_name": "LayoutModel",
            "justify_items": null,
            "grid_row": null,
            "max_height": null,
            "align_content": null,
            "visibility": null,
            "align_self": null,
            "height": null,
            "min_height": null,
            "padding": null,
            "grid_auto_rows": null,
            "grid_gap": null,
            "max_width": null,
            "order": null,
            "_view_module_version": "1.2.0",
            "grid_template_areas": null,
            "object_position": null,
            "object_fit": null,
            "grid_auto_columns": null,
            "margin": null,
            "display": null,
            "left": null
          }
        },
        "90d644eaeda04397be10a821dbbc1c1d": {
          "model_module": "@jupyter-widgets/controls",
          "model_name": "LabelModel",
          "state": {
            "_view_name": "LabelView",
            "style": "IPY_MODEL_812c595c883e45dba3f883e4510afe5a",
            "_dom_classes": [],
            "description": "",
            "_model_name": "LabelModel",
            "placeholder": "​",
            "_view_module": "@jupyter-widgets/controls",
            "_model_module_version": "1.5.0",
            "value": " 648.26MB of 648.26MB uploaded (0.33MB deduped)\r",
            "_view_count": null,
            "_view_module_version": "1.5.0",
            "description_tooltip": null,
            "_model_module": "@jupyter-widgets/controls",
            "layout": "IPY_MODEL_8b2be64865d5495bb4c3d7bb97f6361f"
          }
        },
        "21cd02f19f244ebeb5e24beeac669882": {
          "model_module": "@jupyter-widgets/controls",
          "model_name": "FloatProgressModel",
          "state": {
            "_view_name": "ProgressView",
            "style": "IPY_MODEL_55f9ae622b1646b9a429e38899a71ec7",
            "_dom_classes": [],
            "description": "",
            "_model_name": "FloatProgressModel",
            "bar_style": "",
            "max": 1,
            "_view_module": "@jupyter-widgets/controls",
            "_model_module_version": "1.5.0",
            "value": 1,
            "_view_count": null,
            "_view_module_version": "1.5.0",
            "orientation": "horizontal",
            "min": 0,
            "description_tooltip": null,
            "_model_module": "@jupyter-widgets/controls",
            "layout": "IPY_MODEL_ef5a07a985b54c3f8a3df62f8af1f8e5"
          }
        },
        "812c595c883e45dba3f883e4510afe5a": {
          "model_module": "@jupyter-widgets/controls",
          "model_name": "DescriptionStyleModel",
          "state": {
            "_view_name": "StyleView",
            "_model_name": "DescriptionStyleModel",
            "description_width": "",
            "_view_module": "@jupyter-widgets/base",
            "_model_module_version": "1.5.0",
            "_view_count": null,
            "_view_module_version": "1.2.0",
            "_model_module": "@jupyter-widgets/controls"
          }
        },
        "8b2be64865d5495bb4c3d7bb97f6361f": {
          "model_module": "@jupyter-widgets/base",
          "model_name": "LayoutModel",
          "state": {
            "_view_name": "LayoutView",
            "grid_template_rows": null,
            "right": null,
            "justify_content": null,
            "_view_module": "@jupyter-widgets/base",
            "overflow": null,
            "_model_module_version": "1.2.0",
            "_view_count": null,
            "flex_flow": null,
            "width": null,
            "min_width": null,
            "border": null,
            "align_items": null,
            "bottom": null,
            "_model_module": "@jupyter-widgets/base",
            "top": null,
            "grid_column": null,
            "overflow_y": null,
            "overflow_x": null,
            "grid_auto_flow": null,
            "grid_area": null,
            "grid_template_columns": null,
            "flex": null,
            "_model_name": "LayoutModel",
            "justify_items": null,
            "grid_row": null,
            "max_height": null,
            "align_content": null,
            "visibility": null,
            "align_self": null,
            "height": null,
            "min_height": null,
            "padding": null,
            "grid_auto_rows": null,
            "grid_gap": null,
            "max_width": null,
            "order": null,
            "_view_module_version": "1.2.0",
            "grid_template_areas": null,
            "object_position": null,
            "object_fit": null,
            "grid_auto_columns": null,
            "margin": null,
            "display": null,
            "left": null
          }
        },
        "55f9ae622b1646b9a429e38899a71ec7": {
          "model_module": "@jupyter-widgets/controls",
          "model_name": "ProgressStyleModel",
          "state": {
            "_view_name": "StyleView",
            "_model_name": "ProgressStyleModel",
            "description_width": "",
            "_view_module": "@jupyter-widgets/base",
            "_model_module_version": "1.5.0",
            "_view_count": null,
            "_view_module_version": "1.2.0",
            "bar_color": null,
            "_model_module": "@jupyter-widgets/controls"
          }
        },
        "ef5a07a985b54c3f8a3df62f8af1f8e5": {
          "model_module": "@jupyter-widgets/base",
          "model_name": "LayoutModel",
          "state": {
            "_view_name": "LayoutView",
            "grid_template_rows": null,
            "right": null,
            "justify_content": null,
            "_view_module": "@jupyter-widgets/base",
            "overflow": null,
            "_model_module_version": "1.2.0",
            "_view_count": null,
            "flex_flow": null,
            "width": null,
            "min_width": null,
            "border": null,
            "align_items": null,
            "bottom": null,
            "_model_module": "@jupyter-widgets/base",
            "top": null,
            "grid_column": null,
            "overflow_y": null,
            "overflow_x": null,
            "grid_auto_flow": null,
            "grid_area": null,
            "grid_template_columns": null,
            "flex": null,
            "_model_name": "LayoutModel",
            "justify_items": null,
            "grid_row": null,
            "max_height": null,
            "align_content": null,
            "visibility": null,
            "align_self": null,
            "height": null,
            "min_height": null,
            "padding": null,
            "grid_auto_rows": null,
            "grid_gap": null,
            "max_width": null,
            "order": null,
            "_view_module_version": "1.2.0",
            "grid_template_areas": null,
            "object_position": null,
            "object_fit": null,
            "grid_auto_columns": null,
            "margin": null,
            "display": null,
            "left": null
          }
        }
      }
    }
  },
  "cells": [
    {
      "cell_type": "markdown",
      "metadata": {
        "id": "view-in-github",
        "colab_type": "text"
      },
      "source": [
        "<a href=\"https://colab.research.google.com/github/IMOKURI/atmacup11/blob/main/atmacup11_baseline.ipynb\" target=\"_parent\"><img src=\"https://colab.research.google.com/assets/colab-badge.svg\" alt=\"Open In Colab\"/></a>"
      ]
    },
    {
      "cell_type": "markdown",
      "metadata": {
        "id": "5e4660c1",
        "papermill": {
          "duration": 0.041567,
          "end_time": "2021-07-13T14:02:49.51373",
          "exception": false,
          "start_time": "2021-07-13T14:02:49.472163",
          "status": "completed"
        },
        "tags": []
      },
      "source": [
        "# About this notebook ...\n",
        "\n",
        "- Competition site: [atma cup #11](https://www.guruguru.science/competitions/17/)\n",
        "- [WandB training logs](https://wandb.ai/imokuri/atma11)\n",
        "\n",
        "\n",
        "\n",
        "\n",
        "\n"
      ]
    },
    {
      "cell_type": "markdown",
      "metadata": {
        "id": "68842c71",
        "papermill": {
          "duration": 0.042135,
          "end_time": "2021-07-13T14:02:49.597498",
          "exception": false,
          "start_time": "2021-07-13T14:02:49.555363",
          "status": "completed"
        },
        "tags": []
      },
      "source": [
        "## Prepare for Colab"
      ]
    },
    {
      "cell_type": "code",
      "metadata": {
        "execution": {
          "iopub.execute_input": "2021-07-13T14:02:49.688827Z",
          "iopub.status.busy": "2021-07-13T14:02:49.688324Z",
          "iopub.status.idle": "2021-07-13T14:02:50.380204Z",
          "shell.execute_reply": "2021-07-13T14:02:50.379342Z",
          "shell.execute_reply.started": "2021-07-13T13:57:11.542823Z"
        },
        "id": "14137a0f",
        "papermill": {
          "duration": 0.742908,
          "end_time": "2021-07-13T14:02:50.380444",
          "exception": false,
          "start_time": "2021-07-13T14:02:49.637536",
          "status": "completed"
        },
        "tags": [],
        "colab": {
          "base_uri": "https://localhost:8080/"
        },
        "outputId": "009ec6b0-9576-4e62-ed29-450810ed9302"
      },
      "source": [
        "!nvidia-smi"
      ],
      "execution_count": 1,
      "outputs": [
        {
          "output_type": "stream",
          "text": [
            "Thu Jul 15 00:28:24 2021       \n",
            "+-----------------------------------------------------------------------------+\n",
            "| NVIDIA-SMI 470.42.01    Driver Version: 460.32.03    CUDA Version: 11.2     |\n",
            "|-------------------------------+----------------------+----------------------+\n",
            "| GPU  Name        Persistence-M| Bus-Id        Disp.A | Volatile Uncorr. ECC |\n",
            "| Fan  Temp  Perf  Pwr:Usage/Cap|         Memory-Usage | GPU-Util  Compute M. |\n",
            "|                               |                      |               MIG M. |\n",
            "|===============================+======================+======================|\n",
            "|   0  Tesla P100-PCIE...  Off  | 00000000:00:04.0 Off |                    0 |\n",
            "| N/A   45C    P0    39W / 250W |      0MiB / 16280MiB |      0%      Default |\n",
            "|                               |                      |                  N/A |\n",
            "+-------------------------------+----------------------+----------------------+\n",
            "                                                                               \n",
            "+-----------------------------------------------------------------------------+\n",
            "| Processes:                                                                  |\n",
            "|  GPU   GI   CI        PID   Type   Process name                  GPU Memory |\n",
            "|        ID   ID                                                   Usage      |\n",
            "|=============================================================================|\n",
            "|  No running processes found                                                 |\n",
            "+-----------------------------------------------------------------------------+\n"
          ],
          "name": "stdout"
        }
      ]
    },
    {
      "cell_type": "code",
      "metadata": {
        "execution": {
          "iopub.execute_input": "2021-07-13T14:02:50.512086Z",
          "iopub.status.busy": "2021-07-13T14:02:50.508335Z",
          "iopub.status.idle": "2021-07-13T14:03:27.045096Z",
          "shell.execute_reply": "2021-07-13T14:03:27.044587Z",
          "shell.execute_reply.started": "2021-07-13T13:57:12.243113Z"
        },
        "id": "4871daf1",
        "papermill": {
          "duration": 36.60649,
          "end_time": "2021-07-13T14:03:27.045231",
          "exception": false,
          "start_time": "2021-07-13T14:02:50.438741",
          "status": "completed"
        },
        "tags": [],
        "colab": {
          "base_uri": "https://localhost:8080/"
        },
        "outputId": "c8013b8f-aae4-4995-c7c4-aa765b761882"
      },
      "source": [
        "import os\n",
        "import sys\n",
        "\n",
        "if os.path.exists('init.txt'):\n",
        "    print(\"Already initialized.\")\n",
        "\n",
        "else:\n",
        "    if 'google.colab' in sys.modules:\n",
        "        from google.colab import drive\n",
        "        drive.mount('/gdrive')\n",
        "\n",
        "        !cp /gdrive/MyDrive/Datasets/dataset_atmaCup11.zip .\n",
        "\n",
        "        !unzip dataset_atmaCup11.zip\n",
        "        !mkdir -p photos\n",
        "        !unzip photos.zip -d photos\n",
        "        !mv 'atmaCup#11_sample_submission.csv' atmaCup11_sample_submission.csv\n",
        "\n",
        "    # for StratifiedGroupKFold\n",
        "    !pip uninstall -y scikit-learn\n",
        "    !pip install --pre --extra-index https://pypi.anaconda.org/scipy-wheels-nightly/simple scikit-learn\n",
        "\n",
        "    !pip install -q wandb\n",
        "    !pip install -Uq timm\n",
        "    !pip install -Uq albumentations\n",
        "\n",
        "    !touch init.txt"
      ],
      "execution_count": 2,
      "outputs": [
        {
          "output_type": "stream",
          "text": [
            "Already initialized.\n"
          ],
          "name": "stdout"
        }
      ]
    },
    {
      "cell_type": "markdown",
      "metadata": {
        "id": "c39b7222",
        "papermill": {
          "duration": 0.052959,
          "end_time": "2021-07-13T14:03:27.151686",
          "exception": false,
          "start_time": "2021-07-13T14:03:27.098727",
          "status": "completed"
        },
        "tags": []
      },
      "source": [
        "## Library"
      ]
    },
    {
      "cell_type": "code",
      "metadata": {
        "execution": {
          "iopub.execute_input": "2021-07-13T14:03:27.264678Z",
          "iopub.status.busy": "2021-07-13T14:03:27.263822Z",
          "iopub.status.idle": "2021-07-13T14:03:31.307165Z",
          "shell.execute_reply": "2021-07-13T14:03:31.30666Z",
          "shell.execute_reply.started": "2021-07-13T13:57:51.357197Z"
        },
        "id": "f63096cb",
        "papermill": {
          "duration": 4.103057,
          "end_time": "2021-07-13T14:03:31.307301",
          "exception": false,
          "start_time": "2021-07-13T14:03:27.204244",
          "status": "completed"
        },
        "tags": []
      },
      "source": [
        "import glob\n",
        "import json\n",
        "import math\n",
        "import os\n",
        "import random\n",
        "import time\n",
        "import warnings\n",
        "from contextlib import contextmanager\n",
        "\n",
        "import albumentations as A\n",
        "import cv2\n",
        "import numpy as np\n",
        "import pandas as pd\n",
        "import scipy as sp\n",
        "import seaborn as sns\n",
        "import timm\n",
        "import torch\n",
        "import torch.nn as nn\n",
        "import torch.nn.functional as F\n",
        "import wandb\n",
        "from albumentations.pytorch import ToTensorV2\n",
        "from PIL import Image\n",
        "from matplotlib import pyplot as plt\n",
        "from sklearn.metrics import mean_squared_error\n",
        "from sklearn.model_selection import StratifiedGroupKFold\n",
        "from torch.optim import SGD, Adam\n",
        "from torch.optim.lr_scheduler import CosineAnnealingLR, CosineAnnealingWarmRestarts, ReduceLROnPlateau\n",
        "from torch.utils.data import DataLoader, Dataset\n",
        "from tqdm.notebook import tqdm"
      ],
      "execution_count": 3,
      "outputs": []
    },
    {
      "cell_type": "code",
      "metadata": {
        "execution": {
          "iopub.execute_input": "2021-07-13T14:03:31.422386Z",
          "iopub.status.busy": "2021-07-13T14:03:31.421579Z",
          "iopub.status.idle": "2021-07-13T14:03:31.424477Z",
          "shell.execute_reply": "2021-07-13T14:03:31.42405Z",
          "shell.execute_reply.started": "2021-07-13T13:57:55.318652Z"
        },
        "id": "c830faec",
        "papermill": {
          "duration": 0.061866,
          "end_time": "2021-07-13T14:03:31.424612",
          "exception": false,
          "start_time": "2021-07-13T14:03:31.362746",
          "status": "completed"
        },
        "tags": []
      },
      "source": [
        "warnings.filterwarnings(\"ignore\")"
      ],
      "execution_count": 4,
      "outputs": []
    },
    {
      "cell_type": "code",
      "metadata": {
        "execution": {
          "iopub.execute_input": "2021-07-13T14:03:54.244857Z",
          "iopub.status.busy": "2021-07-13T14:03:54.244067Z",
          "iopub.status.idle": "2021-07-13T14:03:54.248587Z",
          "shell.execute_reply": "2021-07-13T14:03:54.248165Z",
          "shell.execute_reply.started": "2021-07-13T13:58:08.534238Z"
        },
        "id": "16eb8ed5",
        "papermill": {
          "duration": 0.110502,
          "end_time": "2021-07-13T14:03:54.248712",
          "exception": false,
          "start_time": "2021-07-13T14:03:54.13821",
          "status": "completed"
        },
        "tags": []
      },
      "source": [
        "device = torch.device(\"cuda\" if torch.cuda.is_available() else \"cpu\")"
      ],
      "execution_count": 5,
      "outputs": []
    },
    {
      "cell_type": "code",
      "metadata": {
        "execution": {
          "iopub.execute_input": "2021-07-13T14:03:31.53922Z",
          "iopub.status.busy": "2021-07-13T14:03:31.534302Z",
          "iopub.status.idle": "2021-07-13T14:03:33.944775Z",
          "shell.execute_reply": "2021-07-13T14:03:33.944271Z",
          "shell.execute_reply.started": "2021-07-13T13:57:55.325495Z"
        },
        "id": "7cc53e8c",
        "papermill": {
          "duration": 2.46726,
          "end_time": "2021-07-13T14:03:33.944897",
          "exception": false,
          "start_time": "2021-07-13T14:03:31.477637",
          "status": "completed"
        },
        "tags": [],
        "colab": {
          "base_uri": "https://localhost:8080/"
        },
        "outputId": "531119de-106f-48bb-8c94-e67b4b2590e1"
      },
      "source": [
        "!wandb login 99be4cf161ada45b19189d933d9bae42e9928398"
      ],
      "execution_count": 6,
      "outputs": [
        {
          "output_type": "stream",
          "text": [
            "\u001b[34m\u001b[1mwandb\u001b[0m: Appending key for api.wandb.ai to your netrc file: /root/.netrc\n"
          ],
          "name": "stdout"
        }
      ]
    },
    {
      "cell_type": "code",
      "metadata": {
        "id": "fB5QkUQJq_6U"
      },
      "source": [
        "wandb_job_type = \"\"\n",
        "wandb_notes = \"\"\n",
        "wandb_tags = []"
      ],
      "execution_count": 7,
      "outputs": []
    },
    {
      "cell_type": "markdown",
      "metadata": {
        "id": "71d9ccbd",
        "papermill": {
          "duration": 0.053483,
          "end_time": "2021-07-13T14:03:34.052717",
          "exception": false,
          "start_time": "2021-07-13T14:03:33.999234",
          "status": "completed"
        },
        "tags": []
      },
      "source": [
        "## Load Data"
      ]
    },
    {
      "cell_type": "code",
      "metadata": {
        "execution": {
          "iopub.execute_input": "2021-07-13T14:03:34.164558Z",
          "iopub.status.busy": "2021-07-13T14:03:34.163735Z",
          "iopub.status.idle": "2021-07-13T14:03:34.166567Z",
          "shell.execute_reply": "2021-07-13T14:03:34.166155Z",
          "shell.execute_reply.started": "2021-07-13T13:57:57.898438Z"
        },
        "id": "4a62a05f",
        "papermill": {
          "duration": 0.060805,
          "end_time": "2021-07-13T14:03:34.166677",
          "exception": false,
          "start_time": "2021-07-13T14:03:34.105872",
          "status": "completed"
        },
        "tags": []
      },
      "source": [
        "DATA_DIR = \"../input/atmacup11/\"\n",
        "BASE_DIR = \"../input/atmacup11/photos/\"\n",
        "OUTPUT_DIR = \"./\"\n",
        "\n",
        "if 'google.colab' in sys.modules:\n",
        "    DATA_DIR = \"./\"\n",
        "    BASE_DIR = \"./photos/\"\n",
        "\n",
        "if not os.path.exists(OUTPUT_DIR):\n",
        "    os.makedirs(OUTPUT_DIR)"
      ],
      "execution_count": 8,
      "outputs": []
    },
    {
      "cell_type": "code",
      "metadata": {
        "execution": {
          "iopub.execute_input": "2021-07-13T14:03:34.276471Z",
          "iopub.status.busy": "2021-07-13T14:03:34.275915Z",
          "iopub.status.idle": "2021-07-13T14:03:35.207624Z",
          "shell.execute_reply": "2021-07-13T14:03:35.206789Z",
          "shell.execute_reply.started": "2021-07-13T13:57:57.907309Z"
        },
        "id": "221bcbeb",
        "papermill": {
          "duration": 0.988144,
          "end_time": "2021-07-13T14:03:35.207762",
          "exception": false,
          "start_time": "2021-07-13T14:03:34.219618",
          "status": "completed"
        },
        "tags": [],
        "colab": {
          "base_uri": "https://localhost:8080/"
        },
        "outputId": "d0d0a6f3-6b88-44eb-f8c2-9f23fbb20e87"
      },
      "source": [
        "paths = [path for path in glob.glob(BASE_DIR + \"*.jpg\")]\n",
        "print(len(paths))"
      ],
      "execution_count": 9,
      "outputs": [
        {
          "output_type": "stream",
          "text": [
            "9856\n"
          ],
          "name": "stdout"
        }
      ]
    },
    {
      "cell_type": "code",
      "metadata": {
        "execution": {
          "iopub.execute_input": "2021-07-13T14:03:35.320418Z",
          "iopub.status.busy": "2021-07-13T14:03:35.319829Z",
          "iopub.status.idle": "2021-07-13T14:03:35.429367Z",
          "shell.execute_reply": "2021-07-13T14:03:35.428824Z",
          "shell.execute_reply.started": "2021-07-13T13:57:58.182025Z"
        },
        "id": "26350797",
        "papermill": {
          "duration": 0.168137,
          "end_time": "2021-07-13T14:03:35.429499",
          "exception": false,
          "start_time": "2021-07-13T14:03:35.261362",
          "status": "completed"
        },
        "tags": []
      },
      "source": [
        "train = pd.read_csv(DATA_DIR + \"train.csv\")\n",
        "test = pd.read_csv(DATA_DIR + \"test.csv\")\n",
        "sub = pd.read_csv(DATA_DIR + \"atmaCup11_sample_submission.csv\")\n",
        "material = pd.read_csv(DATA_DIR + \"materials.csv\")\n",
        "technique = pd.read_csv(DATA_DIR + \"techniques.csv\")"
      ],
      "execution_count": 10,
      "outputs": []
    },
    {
      "cell_type": "code",
      "metadata": {
        "execution": {
          "iopub.execute_input": "2021-07-13T14:03:35.547052Z",
          "iopub.status.busy": "2021-07-13T14:03:35.546186Z",
          "iopub.status.idle": "2021-07-13T14:03:35.564282Z",
          "shell.execute_reply": "2021-07-13T14:03:35.563559Z",
          "shell.execute_reply.started": "2021-07-13T13:57:58.281218Z"
        },
        "id": "49252b08",
        "papermill": {
          "duration": 0.081017,
          "end_time": "2021-07-13T14:03:35.564402",
          "exception": false,
          "start_time": "2021-07-13T14:03:35.483385",
          "status": "completed"
        },
        "tags": []
      },
      "source": [
        "# https://www.guruguru.science/competitions/17/discussions/000d76a9-fc4b-443e-95f2-5c066c0f3108/\n",
        "train[\"sorting_date_target\"] = train[\"sorting_date\"] / 100.0 - 15.51"
      ],
      "execution_count": 11,
      "outputs": []
    },
    {
      "cell_type": "code",
      "metadata": {
        "execution": {
          "iopub.execute_input": "2021-07-13T14:03:35.693514Z",
          "iopub.status.busy": "2021-07-13T14:03:35.692674Z",
          "iopub.status.idle": "2021-07-13T14:03:35.729704Z",
          "shell.execute_reply": "2021-07-13T14:03:35.730157Z",
          "shell.execute_reply.started": "2021-07-13T13:57:58.316962Z"
        },
        "id": "18097672",
        "papermill": {
          "duration": 0.112287,
          "end_time": "2021-07-13T14:03:35.730312",
          "exception": false,
          "start_time": "2021-07-13T14:03:35.618025",
          "status": "completed"
        },
        "tags": [],
        "colab": {
          "base_uri": "https://localhost:8080/",
          "height": 1000
        },
        "outputId": "27d8f0c5-0b73-4957-9067-8caa474b7dbe"
      },
      "source": [
        "for ds in [train, test, sub]:\n",
        "    print(f\"=\" * 80)\n",
        "    ds.info()\n",
        "    display(ds.head())"
      ],
      "execution_count": 12,
      "outputs": [
        {
          "output_type": "stream",
          "text": [
            "================================================================================\n",
            "<class 'pandas.core.frame.DataFrame'>\n",
            "RangeIndex: 3937 entries, 0 to 3936\n",
            "Data columns (total 5 columns):\n",
            " #   Column               Non-Null Count  Dtype  \n",
            "---  ------               --------------  -----  \n",
            " 0   object_id            3937 non-null   object \n",
            " 1   sorting_date         3937 non-null   int64  \n",
            " 2   art_series_id        3937 non-null   object \n",
            " 3   target               3937 non-null   int64  \n",
            " 4   sorting_date_target  3937 non-null   float64\n",
            "dtypes: float64(1), int64(2), object(2)\n",
            "memory usage: 153.9+ KB\n"
          ],
          "name": "stdout"
        },
        {
          "output_type": "display_data",
          "data": {
            "text/html": [
              "<div>\n",
              "<style scoped>\n",
              "    .dataframe tbody tr th:only-of-type {\n",
              "        vertical-align: middle;\n",
              "    }\n",
              "\n",
              "    .dataframe tbody tr th {\n",
              "        vertical-align: top;\n",
              "    }\n",
              "\n",
              "    .dataframe thead th {\n",
              "        text-align: right;\n",
              "    }\n",
              "</style>\n",
              "<table border=\"1\" class=\"dataframe\">\n",
              "  <thead>\n",
              "    <tr style=\"text-align: right;\">\n",
              "      <th></th>\n",
              "      <th>object_id</th>\n",
              "      <th>sorting_date</th>\n",
              "      <th>art_series_id</th>\n",
              "      <th>target</th>\n",
              "      <th>sorting_date_target</th>\n",
              "    </tr>\n",
              "  </thead>\n",
              "  <tbody>\n",
              "    <tr>\n",
              "      <th>0</th>\n",
              "      <td>002bff09b09998d0be65</td>\n",
              "      <td>1631</td>\n",
              "      <td>509357f67692a6a45626</td>\n",
              "      <td>1</td>\n",
              "      <td>0.80</td>\n",
              "    </tr>\n",
              "    <tr>\n",
              "      <th>1</th>\n",
              "      <td>00309fb1ef05416f9c1f</td>\n",
              "      <td>1900</td>\n",
              "      <td>7987b47bbe5dc3039179</td>\n",
              "      <td>3</td>\n",
              "      <td>3.49</td>\n",
              "    </tr>\n",
              "    <tr>\n",
              "      <th>2</th>\n",
              "      <td>003a1562e97f79ba96dc</td>\n",
              "      <td>1834</td>\n",
              "      <td>ded7c3c9636708e5b14c</td>\n",
              "      <td>3</td>\n",
              "      <td>2.83</td>\n",
              "    </tr>\n",
              "    <tr>\n",
              "      <th>3</th>\n",
              "      <td>004890880e8e7431147b</td>\n",
              "      <td>1743</td>\n",
              "      <td>582ac2d7f0cef195b605</td>\n",
              "      <td>2</td>\n",
              "      <td>1.92</td>\n",
              "    </tr>\n",
              "    <tr>\n",
              "      <th>4</th>\n",
              "      <td>00718c32602425f504c1</td>\n",
              "      <td>1885</td>\n",
              "      <td>64c907f0c08dce4fb8e8</td>\n",
              "      <td>3</td>\n",
              "      <td>3.34</td>\n",
              "    </tr>\n",
              "  </tbody>\n",
              "</table>\n",
              "</div>"
            ],
            "text/plain": [
              "              object_id  sorting_date  ... target  sorting_date_target\n",
              "0  002bff09b09998d0be65          1631  ...      1                 0.80\n",
              "1  00309fb1ef05416f9c1f          1900  ...      3                 3.49\n",
              "2  003a1562e97f79ba96dc          1834  ...      3                 2.83\n",
              "3  004890880e8e7431147b          1743  ...      2                 1.92\n",
              "4  00718c32602425f504c1          1885  ...      3                 3.34\n",
              "\n",
              "[5 rows x 5 columns]"
            ]
          },
          "metadata": {
            "tags": []
          }
        },
        {
          "output_type": "stream",
          "text": [
            "================================================================================\n",
            "<class 'pandas.core.frame.DataFrame'>\n",
            "RangeIndex: 5919 entries, 0 to 5918\n",
            "Data columns (total 1 columns):\n",
            " #   Column     Non-Null Count  Dtype \n",
            "---  ------     --------------  ----- \n",
            " 0   object_id  5919 non-null   object\n",
            "dtypes: object(1)\n",
            "memory usage: 46.4+ KB\n"
          ],
          "name": "stdout"
        },
        {
          "output_type": "display_data",
          "data": {
            "text/html": [
              "<div>\n",
              "<style scoped>\n",
              "    .dataframe tbody tr th:only-of-type {\n",
              "        vertical-align: middle;\n",
              "    }\n",
              "\n",
              "    .dataframe tbody tr th {\n",
              "        vertical-align: top;\n",
              "    }\n",
              "\n",
              "    .dataframe thead th {\n",
              "        text-align: right;\n",
              "    }\n",
              "</style>\n",
              "<table border=\"1\" class=\"dataframe\">\n",
              "  <thead>\n",
              "    <tr style=\"text-align: right;\">\n",
              "      <th></th>\n",
              "      <th>object_id</th>\n",
              "    </tr>\n",
              "  </thead>\n",
              "  <tbody>\n",
              "    <tr>\n",
              "      <th>0</th>\n",
              "      <td>0009e50b94be36ccad39</td>\n",
              "    </tr>\n",
              "    <tr>\n",
              "      <th>1</th>\n",
              "      <td>000bd5e82eb22f199f44</td>\n",
              "    </tr>\n",
              "    <tr>\n",
              "      <th>2</th>\n",
              "      <td>0015f44de1854f617516</td>\n",
              "    </tr>\n",
              "    <tr>\n",
              "      <th>3</th>\n",
              "      <td>00388a678879ba1efa27</td>\n",
              "    </tr>\n",
              "    <tr>\n",
              "      <th>4</th>\n",
              "      <td>005e1e7c6496902d23f3</td>\n",
              "    </tr>\n",
              "  </tbody>\n",
              "</table>\n",
              "</div>"
            ],
            "text/plain": [
              "              object_id\n",
              "0  0009e50b94be36ccad39\n",
              "1  000bd5e82eb22f199f44\n",
              "2  0015f44de1854f617516\n",
              "3  00388a678879ba1efa27\n",
              "4  005e1e7c6496902d23f3"
            ]
          },
          "metadata": {
            "tags": []
          }
        },
        {
          "output_type": "stream",
          "text": [
            "================================================================================\n",
            "<class 'pandas.core.frame.DataFrame'>\n",
            "RangeIndex: 5919 entries, 0 to 5918\n",
            "Data columns (total 1 columns):\n",
            " #   Column  Non-Null Count  Dtype\n",
            "---  ------  --------------  -----\n",
            " 0   target  5919 non-null   int64\n",
            "dtypes: int64(1)\n",
            "memory usage: 46.4 KB\n"
          ],
          "name": "stdout"
        },
        {
          "output_type": "display_data",
          "data": {
            "text/html": [
              "<div>\n",
              "<style scoped>\n",
              "    .dataframe tbody tr th:only-of-type {\n",
              "        vertical-align: middle;\n",
              "    }\n",
              "\n",
              "    .dataframe tbody tr th {\n",
              "        vertical-align: top;\n",
              "    }\n",
              "\n",
              "    .dataframe thead th {\n",
              "        text-align: right;\n",
              "    }\n",
              "</style>\n",
              "<table border=\"1\" class=\"dataframe\">\n",
              "  <thead>\n",
              "    <tr style=\"text-align: right;\">\n",
              "      <th></th>\n",
              "      <th>target</th>\n",
              "    </tr>\n",
              "  </thead>\n",
              "  <tbody>\n",
              "    <tr>\n",
              "      <th>0</th>\n",
              "      <td>3</td>\n",
              "    </tr>\n",
              "    <tr>\n",
              "      <th>1</th>\n",
              "      <td>1</td>\n",
              "    </tr>\n",
              "    <tr>\n",
              "      <th>2</th>\n",
              "      <td>3</td>\n",
              "    </tr>\n",
              "    <tr>\n",
              "      <th>3</th>\n",
              "      <td>3</td>\n",
              "    </tr>\n",
              "    <tr>\n",
              "      <th>4</th>\n",
              "      <td>0</td>\n",
              "    </tr>\n",
              "  </tbody>\n",
              "</table>\n",
              "</div>"
            ],
            "text/plain": [
              "   target\n",
              "0       3\n",
              "1       1\n",
              "2       3\n",
              "3       3\n",
              "4       0"
            ]
          },
          "metadata": {
            "tags": []
          }
        }
      ]
    },
    {
      "cell_type": "code",
      "metadata": {
        "execution": {
          "iopub.execute_input": "2021-07-13T14:03:35.863409Z",
          "iopub.status.busy": "2021-07-13T14:03:35.862616Z",
          "iopub.status.idle": "2021-07-13T14:03:36.026732Z",
          "shell.execute_reply": "2021-07-13T14:03:36.027163Z",
          "shell.execute_reply.started": "2021-07-13T13:57:58.455807Z"
        },
        "id": "c9da5e5e",
        "papermill": {
          "duration": 0.240949,
          "end_time": "2021-07-13T14:03:36.02731",
          "exception": false,
          "start_time": "2021-07-13T14:03:35.786361",
          "status": "completed"
        },
        "tags": [],
        "colab": {
          "base_uri": "https://localhost:8080/",
          "height": 296
        },
        "outputId": "a189f60c-cd3c-415f-dd36-efd0dfbf71fc"
      },
      "source": [
        "sns.distplot(train[\"target\"], kde=False)"
      ],
      "execution_count": 13,
      "outputs": [
        {
          "output_type": "execute_result",
          "data": {
            "text/plain": [
              "<matplotlib.axes._subplots.AxesSubplot at 0x7f18bed84810>"
            ]
          },
          "metadata": {
            "tags": []
          },
          "execution_count": 13
        },
        {
          "output_type": "display_data",
          "data": {
            "image/png": "[encoded data removed]",
            "text/plain": [
              "<Figure size 432x288 with 1 Axes>"
            ]
          },
          "metadata": {
            "tags": [],
            "needs_background": "light"
          }
        }
      ]
    },
    {
      "cell_type": "code",
      "metadata": {
        "execution": {
          "iopub.execute_input": "2021-07-13T14:03:36.212402Z",
          "iopub.status.busy": "2021-07-13T14:03:36.211493Z",
          "iopub.status.idle": "2021-07-13T14:03:36.537222Z",
          "shell.execute_reply": "2021-07-13T14:03:36.538081Z",
          "shell.execute_reply.started": "2021-07-13T13:57:58.845858Z"
        },
        "id": "3f5772d0",
        "papermill": {
          "duration": 0.446634,
          "end_time": "2021-07-13T14:03:36.538289",
          "exception": false,
          "start_time": "2021-07-13T14:03:36.091655",
          "status": "completed"
        },
        "tags": [],
        "colab": {
          "base_uri": "https://localhost:8080/",
          "height": 297
        },
        "outputId": "fd48a433-47f0-406f-df88-87f74f63c276"
      },
      "source": [
        "sns.distplot(train[\"sorting_date_target\"], kde=False)"
      ],
      "execution_count": 14,
      "outputs": [
        {
          "output_type": "execute_result",
          "data": {
            "text/plain": [
              "<matplotlib.axes._subplots.AxesSubplot at 0x7f18be7c3e10>"
            ]
          },
          "metadata": {
            "tags": []
          },
          "execution_count": 14
        },
        {
          "output_type": "display_data",
          "data": {
            "image/png": "[encoded data removed]",
            "text/plain": [
              "<Figure size 432x288 with 1 Axes>"
            ]
          },
          "metadata": {
            "tags": [],
            "needs_background": "light"
          }
        }
      ]
    },
    {
      "cell_type": "code",
      "metadata": {
        "execution": {
          "iopub.execute_input": "2021-07-13T14:03:36.732829Z",
          "iopub.status.busy": "2021-07-13T14:03:36.732035Z",
          "iopub.status.idle": "2021-07-13T14:03:36.739299Z",
          "shell.execute_reply": "2021-07-13T14:03:36.738856Z",
          "shell.execute_reply.started": "2021-07-13T13:57:59.082355Z"
        },
        "id": "19b95d4e",
        "papermill": {
          "duration": 0.101947,
          "end_time": "2021-07-13T14:03:36.739417",
          "exception": false,
          "start_time": "2021-07-13T14:03:36.63747",
          "status": "completed"
        },
        "tags": [],
        "colab": {
          "base_uri": "https://localhost:8080/"
        },
        "outputId": "8b08cc66-930d-4201-dcb4-fc8ba8dd67b6"
      },
      "source": [
        "train[\"art_series_id\"].value_counts()"
      ],
      "execution_count": 15,
      "outputs": [
        {
          "output_type": "execute_result",
          "data": {
            "text/plain": [
              "607c22f5e66e8d50a298    9\n",
              "6fb734ceff36fe2184b5    7\n",
              "78db88c5ca6d7f6f4ac6    6\n",
              "f8b88aff7f66a106ba3f    4\n",
              "600db76c79a01bc40eb1    4\n",
              "                       ..\n",
              "f526a1968fc4f681e5df    1\n",
              "4e5601eead15ae1f9fc1    1\n",
              "668c0a1bde854cb5a9a5    1\n",
              "3a91e91345a917ec247f    1\n",
              "66cbd46ef0d410c03f4c    1\n",
              "Name: art_series_id, Length: 3784, dtype: int64"
            ]
          },
          "metadata": {
            "tags": []
          },
          "execution_count": 15
        }
      ]
    },
    {
      "cell_type": "markdown",
      "metadata": {
        "id": "b7ef06f8",
        "papermill": {
          "duration": 0.057546,
          "end_time": "2021-07-13T14:03:36.854804",
          "exception": false,
          "start_time": "2021-07-13T14:03:36.797258",
          "status": "completed"
        },
        "tags": []
      },
      "source": [
        "## Config"
      ]
    },
    {
      "cell_type": "code",
      "metadata": {
        "execution": {
          "iopub.execute_input": "2021-07-13T14:03:37.46477Z",
          "iopub.status.busy": "2021-07-13T14:03:37.463498Z",
          "iopub.status.idle": "2021-07-13T14:03:37.465646Z",
          "shell.execute_reply": "2021-07-13T14:03:37.466461Z",
          "shell.execute_reply.started": "2021-07-13T13:57:59.141326Z"
        },
        "id": "c0177571",
        "papermill": {
          "duration": 0.064126,
          "end_time": "2021-07-13T14:03:37.466583",
          "exception": false,
          "start_time": "2021-07-13T14:03:37.402457",
          "status": "completed"
        },
        "tags": []
      },
      "source": [
        "class Config:\n",
        "    wandb_entity = \"imokuri\"\n",
        "    wandb_project = \"atma11\"\n",
        "    print_freq = 50\n",
        "\n",
        "    train = True\n",
        "    validate = False\n",
        "    inference = False\n",
        "\n",
        "    debug = False\n",
        "    multi_gpu = False\n",
        "    apex = False\n"
      ],
      "execution_count": 16,
      "outputs": []
    },
    {
      "cell_type": "code",
      "metadata": {
        "execution": {
          "iopub.execute_input": "2021-07-13T14:03:37.587697Z",
          "iopub.status.busy": "2021-07-13T14:03:37.586356Z",
          "iopub.status.idle": "2021-07-13T14:03:37.588649Z",
          "shell.execute_reply": "2021-07-13T14:03:37.589157Z",
          "shell.execute_reply.started": "2021-07-13T13:57:59.152921Z"
        },
        "id": "0a195fe0",
        "papermill": {
          "duration": 0.065165,
          "end_time": "2021-07-13T14:03:37.589292",
          "exception": false,
          "start_time": "2021-07-13T14:03:37.524127",
          "status": "completed"
        },
        "tags": []
      },
      "source": [
        "if Config.train:\n",
        "    wandb_job_type = \"training\"\n",
        "\n",
        "elif Config.inference:\n",
        "    wandb_job_type = \"inference\"\n",
        "\n",
        "elif Config.validate:\n",
        "    wandb_job_type = \"validation\""
      ],
      "execution_count": 17,
      "outputs": []
    },
    {
      "cell_type": "code",
      "metadata": {
        "execution": {
          "iopub.execute_input": "2021-07-13T14:03:54.078379Z",
          "iopub.status.busy": "2021-07-13T14:03:54.077527Z",
          "iopub.status.idle": "2021-07-13T14:03:54.07969Z",
          "shell.execute_reply": "2021-07-13T14:03:54.080124Z",
          "shell.execute_reply.started": "2021-07-13T13:58:08.523771Z"
        },
        "id": "ccb61787",
        "papermill": {
          "duration": 0.065226,
          "end_time": "2021-07-13T14:03:54.080259",
          "exception": false,
          "start_time": "2021-07-13T14:03:54.015033",
          "status": "completed"
        },
        "tags": []
      },
      "source": [
        "if Config.apex:\n",
        "    from apex import amp"
      ],
      "execution_count": 18,
      "outputs": []
    },
    {
      "cell_type": "code",
      "metadata": {
        "id": "fWDHvHvNxoD3"
      },
      "source": [
        "seed = random.randrange(10000)\n",
        "# seed = 440\n",
        "\n",
        "print(seed)"
      ],
      "execution_count": 19,
      "outputs": []
    },
    {
      "cell_type": "code",
      "metadata": {
        "execution": {
          "iopub.execute_input": "2021-07-13T14:03:37.220404Z",
          "iopub.status.busy": "2021-07-13T14:03:37.218802Z",
          "iopub.status.idle": "2021-07-13T14:03:37.221109Z",
          "shell.execute_reply": "2021-07-13T14:03:37.221508Z",
          "shell.execute_reply.started": "2021-07-13T13:57:59.118596Z"
        },
        "id": "daf057a9",
        "papermill": {
          "duration": 0.067267,
          "end_time": "2021-07-13T14:03:37.221653",
          "exception": false,
          "start_time": "2021-07-13T14:03:37.154386",
          "status": "completed"
        },
        "tags": []
      },
      "source": [
        "config_defaults = {\n",
        "    \"seed\": seed,\n",
        "    \"size\": 256,\n",
        "    \"n_class\": 1,\n",
        "    \"n_fold\": 5,\n",
        "    \"gradient_accumulation_steps\": 1,\n",
        "    \"max_grad_norm\": 1000,\n",
        "    \"num_workers\": 4,\n",
        "    \"batch_size\": 16,\n",
        "    \"epochs\": 20,\n",
        "    \"scheduler\": \"CosineAnnealingWarmRestarts\",\n",
        "    \"criterion\": \"RMSELoss\",\n",
        "    \"lr\": 1e-3,\n",
        "    \"min_lr\": 1e-4,\n",
        "    \"weight_decay\": 1e-6,\n",
        "    \"model_name\": \"resnetrs50\",\n",
        "    \"inference_runs\": [\n",
        "        \"3r29llv1\", # 36\n",
        "        \"2r8nooek\", # 33\n",
        "        \"1t1k9jk5\", # 34\n",
        "    ],\n",
        "    \"no_aug\": True,\n",
        "}\n"
      ],
      "execution_count": 20,
      "outputs": []
    },
    {
      "cell_type": "code",
      "metadata": {
        "execution": {
          "iopub.execute_input": "2021-07-13T14:03:37.343742Z",
          "iopub.status.busy": "2021-07-13T14:03:37.342509Z",
          "iopub.status.idle": "2021-07-13T14:03:37.344858Z",
          "shell.execute_reply": "2021-07-13T14:03:37.34528Z",
          "shell.execute_reply.started": "2021-07-13T13:57:59.129581Z"
        },
        "id": "b5a710ed",
        "papermill": {
          "duration": 0.066068,
          "end_time": "2021-07-13T14:03:37.345408",
          "exception": false,
          "start_time": "2021-07-13T14:03:37.27934",
          "status": "completed"
        },
        "tags": []
      },
      "source": [
        "if config_defaults[\"scheduler\"] == \"CosineAnnealingWarmRestarts\":\n",
        "    config_defaults[\"T_0\"] = config_defaults[\"epochs\"]\n",
        "\n",
        "elif config_defaults[\"scheduler\"] == \"CosineAnnealingLR\":\n",
        "    config_defaults[\"T_max\"] = config_defaults[\"epochs\"]\n",
        "\n",
        "elif config_defaults[\"scheduler\"] == \"ReduceLROnPlateau\":\n",
        "    config_defaults[\"factor\"] = 0.2\n",
        "    config_defaults[\"patience\"] = 4\n",
        "    config_defaults[\"eps\"] = 1e-6\n"
      ],
      "execution_count": 21,
      "outputs": []
    },
    {
      "cell_type": "code",
      "metadata": {
        "execution": {
          "iopub.execute_input": "2021-07-13T14:03:46.139991Z",
          "iopub.status.busy": "2021-07-13T14:03:46.139194Z",
          "iopub.status.idle": "2021-07-13T14:03:46.14131Z",
          "shell.execute_reply": "2021-07-13T14:03:46.141711Z",
          "shell.execute_reply.started": "2021-07-13T13:58:07.74421Z"
        },
        "id": "fd440361",
        "papermill": {
          "duration": 0.066312,
          "end_time": "2021-07-13T14:03:46.141832",
          "exception": false,
          "start_time": "2021-07-13T14:03:46.07552",
          "status": "completed"
        },
        "tags": []
      },
      "source": [
        "if Config.debug:\n",
        "    config_defaults[\"epochs\"] = 1"
      ],
      "execution_count": 22,
      "outputs": []
    },
    {
      "cell_type": "code",
      "metadata": {
        "execution": {
          "iopub.execute_input": "2021-07-13T14:03:46.265056Z",
          "iopub.status.busy": "2021-07-13T14:03:46.26439Z",
          "iopub.status.idle": "2021-07-13T14:03:53.705061Z",
          "shell.execute_reply": "2021-07-13T14:03:53.704593Z",
          "shell.execute_reply.started": "2021-07-13T13:58:07.750675Z"
        },
        "id": "a6a78770",
        "papermill": {
          "duration": 7.504877,
          "end_time": "2021-07-13T14:03:53.705194",
          "exception": false,
          "start_time": "2021-07-13T14:03:46.200317",
          "status": "completed"
        },
        "tags": [],
        "colab": {
          "base_uri": "https://localhost:8080/",
          "height": 136
        },
        "outputId": "f4b17401-a816-4ec1-e61d-26ac9b18fc52"
      },
      "source": [
        "if Config.debug:\n",
        "    wandb.init(project=Config.wandb_project, config=config_defaults, mode=\"disabled\")\n",
        "else:\n",
        "    wandb.init(project=Config.wandb_project, config=config_defaults, notes=wandb_notes, tags=wandb_tags, job_type=wandb_job_type, save_code=True)"
      ],
      "execution_count": 23,
      "outputs": [
        {
          "output_type": "stream",
          "text": [
            "\u001b[34m\u001b[1mwandb\u001b[0m: Currently logged in as: \u001b[33mimokuri\u001b[0m (use `wandb login --relogin` to force relogin)\n"
          ],
          "name": "stderr"
        },
        {
          "output_type": "display_data",
          "data": {
            "text/html": [
              "\n",
              "                Tracking run with wandb version 0.10.33<br/>\n",
              "                Syncing run <strong style=\"color:#cdcd00\">hearty-sun-46</strong> to <a href=\"https://wandb.ai\" target=\"_blank\">Weights & Biases</a> <a href=\"https://docs.wandb.com/integrations/jupyter.html\" target=\"_blank\">(Documentation)</a>.<br/>\n",
              "                Project page: <a href=\"https://wandb.ai/imokuri/atma11\" target=\"_blank\">https://wandb.ai/imokuri/atma11</a><br/>\n",
              "                Run page: <a href=\"https://wandb.ai/imokuri/atma11/runs/2xxmh7x4\" target=\"_blank\">https://wandb.ai/imokuri/atma11/runs/2xxmh7x4</a><br/>\n",
              "                Run data is saved locally in <code>/content/wandb/run-20210715_002830-2xxmh7x4</code><br/><br/>\n",
              "            "
            ],
            "text/plain": [
              "<IPython.core.display.HTML object>"
            ]
          },
          "metadata": {
            "tags": []
          }
        }
      ]
    },
    {
      "cell_type": "code",
      "metadata": {
        "execution": {
          "iopub.execute_input": "2021-07-13T14:03:53.828458Z",
          "iopub.status.busy": "2021-07-13T14:03:53.827616Z",
          "iopub.status.idle": "2021-07-13T14:03:53.829731Z",
          "shell.execute_reply": "2021-07-13T14:03:53.830154Z",
          "shell.execute_reply.started": "2021-07-13T13:58:08.499415Z"
        },
        "id": "2408ee43",
        "papermill": {
          "duration": 0.066332,
          "end_time": "2021-07-13T14:03:53.830286",
          "exception": false,
          "start_time": "2021-07-13T14:03:53.763954",
          "status": "completed"
        },
        "tags": []
      },
      "source": [
        "config = wandb.config"
      ],
      "execution_count": 24,
      "outputs": []
    },
    {
      "cell_type": "markdown",
      "metadata": {
        "id": "XeZesLBHnfl5"
      },
      "source": [
        "## Load Models"
      ]
    },
    {
      "cell_type": "code",
      "metadata": {
        "id": "wOdN4h2grTzx"
      },
      "source": [
        "if Config.validate or Config.inference:\n",
        "    api = wandb.Api()\n",
        "    inference_models = []\n",
        "\n",
        "    for n, run_id in enumerate(config.inference_runs):\n",
        "        if not os.path.exists(run_id):\n",
        "            os.makedirs(run_id)\n",
        "\n",
        "        run_path = f\"{Config.wandb_entity}/{Config.wandb_project}/{run_id}\"\n",
        "        run = api.run(run_path)\n",
        "\n",
        "        try:\n",
        "            for file in run.files():\n",
        "                file.download(run_id)\n",
        "        except wandb.CommError:\n",
        "            # Already downloaded.\n",
        "            pass\n",
        "\n",
        "        inference_model = {}\n",
        "        inference_model[\"run_id\"] = run_id\n",
        "        inference_model[\"model_name\"] = run.config[\"model_name\"]\n",
        "        \n",
        "        for fold in range(config.n_fold):\n",
        "            model_preds = torch.load(f\"{run_id}/{inference_model['model_name']}_fold{fold}_best.pth\")\n",
        "            inference_model[f\"state_fold{fold}\"] = model_preds[\"model\"]\n",
        "            inference_model[f\"preds_fold{fold}\"] = model_preds[\"preds\"]\n",
        "\n",
        "        oof = pd.read_csv(f\"{run_id}/oof_df.csv\")[[\"object_id\", \"preds\"]]\n",
        "        oof.columns = [\"object_id\", f\"preds{n}\"]\n",
        "        train = pd.merge(train, oof, on=\"object_id\", )\n",
        "\n",
        "        inference_models.append(inference_model)\n",
        "    \n",
        "    print(train.columns)\n",
        "    print({m['run_id']: m['model_name'] for m in inference_models})"
      ],
      "execution_count": 25,
      "outputs": []
    },
    {
      "cell_type": "code",
      "metadata": {
        "execution": {
          "iopub.execute_input": "2021-07-13T14:03:53.954538Z",
          "iopub.status.busy": "2021-07-13T14:03:53.953653Z",
          "iopub.status.idle": "2021-07-13T14:03:53.95575Z",
          "shell.execute_reply": "2021-07-13T14:03:53.956217Z",
          "shell.execute_reply.started": "2021-07-13T13:58:08.506718Z"
        },
        "id": "ba31d893",
        "papermill": {
          "duration": 0.067451,
          "end_time": "2021-07-13T14:03:53.956352",
          "exception": false,
          "start_time": "2021-07-13T14:03:53.888901",
          "status": "completed"
        },
        "tags": []
      },
      "source": [
        "if Config.debug:\n",
        "    train = train.sample(n=1000, random_state=config.seed).reset_index(drop=True)\n",
        "    test = test.sample(n=1000, random_state=config.seed).reset_index(drop=True)\n",
        "    sub = sub.sample(n=1000, random_state=config.seed).reset_index(drop=True)"
      ],
      "execution_count": 26,
      "outputs": []
    },
    {
      "cell_type": "markdown",
      "metadata": {
        "id": "7d423ea8",
        "papermill": {
          "duration": 0.059969,
          "end_time": "2021-07-13T14:03:54.367872",
          "exception": false,
          "start_time": "2021-07-13T14:03:54.307903",
          "status": "completed"
        },
        "tags": []
      },
      "source": [
        "## Utils"
      ]
    },
    {
      "cell_type": "code",
      "metadata": {
        "execution": {
          "iopub.execute_input": "2021-07-13T14:03:54.496057Z",
          "iopub.status.busy": "2021-07-13T14:03:54.495404Z",
          "iopub.status.idle": "2021-07-13T14:03:54.501796Z",
          "shell.execute_reply": "2021-07-13T14:03:54.50133Z",
          "shell.execute_reply.started": "2021-07-13T13:58:08.588546Z"
        },
        "id": "5985d91d",
        "papermill": {
          "duration": 0.074529,
          "end_time": "2021-07-13T14:03:54.501913",
          "exception": false,
          "start_time": "2021-07-13T14:03:54.427384",
          "status": "completed"
        },
        "tags": []
      },
      "source": [
        "@contextmanager\n",
        "def timer(name):\n",
        "    t0 = time.time()\n",
        "    LOGGER.info(f\"[{name}] start\")\n",
        "    yield\n",
        "    LOGGER.info(f\"[{name}] done in {time.time() - t0:.0f} s.\")\n",
        "\n",
        "\n",
        "def init_logger(log_file=OUTPUT_DIR + \"train.log\"):\n",
        "    from logging import INFO, FileHandler, Formatter, StreamHandler, getLogger\n",
        "\n",
        "    logger = getLogger(__name__)\n",
        "    logger.setLevel(INFO)\n",
        "    handler1 = StreamHandler()\n",
        "    handler1.setFormatter(Formatter(\"%(message)s\"))\n",
        "    handler2 = FileHandler(filename=log_file)\n",
        "    handler2.setFormatter(Formatter(\"%(message)s\"))\n",
        "    logger.addHandler(handler1)\n",
        "    logger.addHandler(handler2)\n",
        "    return logger\n",
        "\n",
        "\n",
        "LOGGER = init_logger()\n",
        "\n",
        "\n",
        "def seed_torch(seed=42):\n",
        "    random.seed(seed)\n",
        "    os.environ[\"PYTHONHASHSEED\"] = str(seed)\n",
        "    np.random.seed(seed)\n",
        "    torch.manual_seed(seed)\n",
        "    torch.cuda.manual_seed(seed)\n",
        "    torch.backends.cudnn.deterministic = True\n",
        "\n",
        "\n",
        "seed_torch(seed=config.seed)\n"
      ],
      "execution_count": 27,
      "outputs": []
    },
    {
      "cell_type": "markdown",
      "metadata": {
        "id": "7d35d3bc",
        "papermill": {
          "duration": 0.05863,
          "end_time": "2021-07-13T14:03:54.619002",
          "exception": false,
          "start_time": "2021-07-13T14:03:54.560372",
          "status": "completed"
        },
        "tags": []
      },
      "source": [
        "## CV Split"
      ]
    },
    {
      "cell_type": "code",
      "metadata": {
        "execution": {
          "iopub.execute_input": "2021-07-13T14:03:54.744394Z",
          "iopub.status.busy": "2021-07-13T14:03:54.74354Z",
          "iopub.status.idle": "2021-07-13T14:03:56.61709Z",
          "shell.execute_reply": "2021-07-13T14:03:56.61794Z",
          "shell.execute_reply.started": "2021-07-13T13:58:08.605413Z"
        },
        "id": "7a604e6e",
        "papermill": {
          "duration": 1.940521,
          "end_time": "2021-07-13T14:03:56.618208",
          "exception": false,
          "start_time": "2021-07-13T14:03:54.677687",
          "status": "completed"
        },
        "tags": [],
        "colab": {
          "base_uri": "https://localhost:8080/"
        },
        "outputId": "1fd2f302-f58e-4cc9-f8d0-13e4f09c7eb5"
      },
      "source": [
        "folds = train.copy()\n",
        "Fold = StratifiedGroupKFold(n_splits=config.n_fold, shuffle=True, random_state=config.seed)\n",
        "for n, (train_index, val_index) in enumerate(Fold.split(folds, folds[\"target\"], folds[\"art_series_id\"])):\n",
        "    folds.loc[val_index, \"fold\"] = int(n)\n",
        "folds[\"fold\"] = folds[\"fold\"].astype(np.uint8)\n",
        "print(folds.groupby([\"fold\", \"target\"]).size())\n"
      ],
      "execution_count": 28,
      "outputs": [
        {
          "output_type": "stream",
          "text": [
            "fold  target\n",
            "0     0         111\n",
            "      1         178\n",
            "      2         279\n",
            "      3         218\n",
            "1     0         110\n",
            "      1         181\n",
            "      2         301\n",
            "      3         202\n",
            "2     0          82\n",
            "      1         168\n",
            "      2         322\n",
            "      3         206\n",
            "3     0          94\n",
            "      1         194\n",
            "      2         284\n",
            "      3         211\n",
            "4     0          78\n",
            "      1         175\n",
            "      2         325\n",
            "      3         218\n",
            "dtype: int64\n"
          ],
          "name": "stdout"
        }
      ]
    },
    {
      "cell_type": "markdown",
      "metadata": {
        "id": "596efb85",
        "papermill": {
          "duration": 0.099201,
          "end_time": "2021-07-13T14:03:56.811611",
          "exception": false,
          "start_time": "2021-07-13T14:03:56.71241",
          "status": "completed"
        },
        "tags": []
      },
      "source": [
        "## Dataset"
      ]
    },
    {
      "cell_type": "code",
      "metadata": {
        "execution": {
          "iopub.execute_input": "2021-07-13T14:03:57.003353Z",
          "iopub.status.busy": "2021-07-13T14:03:57.002444Z",
          "iopub.status.idle": "2021-07-13T14:03:57.004892Z",
          "shell.execute_reply": "2021-07-13T14:03:57.005664Z",
          "shell.execute_reply.started": "2021-07-13T13:58:09.040436Z"
        },
        "id": "c2721636",
        "papermill": {
          "duration": 0.104913,
          "end_time": "2021-07-13T14:03:57.005848",
          "exception": false,
          "start_time": "2021-07-13T14:03:56.900935",
          "status": "completed"
        },
        "tags": []
      },
      "source": [
        "class TrainDataset(Dataset):\n",
        "    def __init__(self, df, transform=None):\n",
        "        self.df = df\n",
        "        self.file_names = df[\"object_id\"].values\n",
        "        self.labels = df[\"sorting_date_target\"].values\n",
        "        self.transform = transform\n",
        "\n",
        "    def __len__(self):\n",
        "        return len(self.df)\n",
        "\n",
        "    def __getitem__(self, idx):\n",
        "        file_name = self.file_names[idx]\n",
        "        file_path = f\"{BASE_DIR}/{file_name}.jpg\"\n",
        "        image = cv2.imread(file_path)\n",
        "        image = cv2.cvtColor(image, cv2.COLOR_BGR2RGB)\n",
        "        if self.transform:\n",
        "            augmented = self.transform(image=image)\n",
        "            image = augmented[\"image\"]\n",
        "        label = torch.tensor(self.labels[idx]).float()\n",
        "        return image, label\n",
        "\n",
        "\n",
        "class TestDataset(Dataset):\n",
        "    def __init__(self, df, transform=None):\n",
        "        self.df = df\n",
        "        self.file_names = df[\"object_id\"].values\n",
        "        self.transform = transform\n",
        "\n",
        "    def __len__(self):\n",
        "        return len(self.df)\n",
        "\n",
        "    def __getitem__(self, idx):\n",
        "        file_name = self.file_names[idx]\n",
        "        file_path = f\"{BASE_DIR}/{file_name}.jpg\"\n",
        "        image = cv2.imread(file_path)\n",
        "        image = cv2.cvtColor(image, cv2.COLOR_BGR2RGB)\n",
        "        if self.transform:\n",
        "            augmented = self.transform(image=image)\n",
        "            image = augmented[\"image\"]\n",
        "        return image\n"
      ],
      "execution_count": 29,
      "outputs": []
    },
    {
      "cell_type": "code",
      "metadata": {
        "execution": {
          "iopub.execute_input": "2021-07-13T14:03:57.151261Z",
          "iopub.status.busy": "2021-07-13T14:03:57.150077Z",
          "iopub.status.idle": "2021-07-13T14:03:57.368831Z",
          "shell.execute_reply": "2021-07-13T14:03:57.368422Z",
          "shell.execute_reply.started": "2021-07-13T13:58:09.05394Z"
        },
        "id": "e56a1c49",
        "papermill": {
          "duration": 0.295182,
          "end_time": "2021-07-13T14:03:57.368949",
          "exception": false,
          "start_time": "2021-07-13T14:03:57.073767",
          "status": "completed"
        },
        "tags": [],
        "colab": {
          "base_uri": "https://localhost:8080/",
          "height": 227
        },
        "outputId": "f783c55c-d5b5-4511-f9a5-284b8291331a"
      },
      "source": [
        "# Test\n",
        "\n",
        "train_ds = TrainDataset(train, transform=None)\n",
        "\n",
        "for i in range(1):\n",
        "    image, label = train_ds[i]\n",
        "    plt.imshow(image)\n",
        "    plt.title(f\"label: {label}\")\n",
        "    plt.show()\n"
      ],
      "execution_count": 30,
      "outputs": [
        {
          "output_type": "display_data",
          "data": {
            "image/png": "[encoded data removed]",
            "text/plain": [
              "<Figure size 432x288 with 1 Axes>"
            ]
          },
          "metadata": {
            "tags": [],
            "needs_background": "light"
          }
        }
      ]
    },
    {
      "cell_type": "markdown",
      "metadata": {
        "id": "87073957",
        "papermill": {
          "duration": 0.066676,
          "end_time": "2021-07-13T14:03:57.497449",
          "exception": false,
          "start_time": "2021-07-13T14:03:57.430773",
          "status": "completed"
        },
        "tags": []
      },
      "source": [
        "## Transform"
      ]
    },
    {
      "cell_type": "code",
      "metadata": {
        "execution": {
          "iopub.execute_input": "2021-07-13T14:03:57.780622Z",
          "iopub.status.busy": "2021-07-13T14:03:57.779642Z",
          "iopub.status.idle": "2021-07-13T14:03:57.787509Z",
          "shell.execute_reply": "2021-07-13T14:03:57.78862Z",
          "shell.execute_reply.started": "2021-07-13T13:58:09.261547Z"
        },
        "id": "36ad5139",
        "papermill": {
          "duration": 0.211988,
          "end_time": "2021-07-13T14:03:57.788846",
          "exception": false,
          "start_time": "2021-07-13T14:03:57.576858",
          "status": "completed"
        },
        "tags": []
      },
      "source": [
        "def get_transforms(*, data):\n",
        "\n",
        "    if data == \"train\":\n",
        "        return A.Compose(\n",
        "            [\n",
        "                # A.Resize(config.size, config.size),\n",
        "                A.RandomResizedCrop(config.size, config.size, scale=(0.5, 1.0)),\n",
        "                A.Transpose(p=0.5),\n",
        "                A.HorizontalFlip(p=0.5),\n",
        "                A.VerticalFlip(p=0.5),\n",
        "                A.ShiftScaleRotate(p=0.5),\n",
        "                A.HueSaturationValue(hue_shift_limit=0.2, sat_shift_limit=0.2, val_shift_limit=0.2, p=0.5),\n",
        "                A.RandomBrightnessContrast(brightness_limit=(-0.1, 0.1), contrast_limit=(-0.1, 0.1), p=0.5),\n",
        "                A.CoarseDropout(p=0.5),\n",
        "                A.Cutout(p=0.5),\n",
        "                A.Normalize(\n",
        "                    mean=[0.485, 0.456, 0.406],\n",
        "                    std=[0.229, 0.224, 0.225],\n",
        "                ),\n",
        "                ToTensorV2(),\n",
        "            ]\n",
        "        )\n",
        "\n",
        "    elif data == \"weak_train\":\n",
        "        return A.Compose(\n",
        "            [\n",
        "                # A.Resize(config.size, config.size),\n",
        "                A.RandomResizedCrop(config.size, config.size, scale=(0.5, 1.0)),\n",
        "                A.Transpose(p=0.5),\n",
        "                A.HorizontalFlip(p=0.5),\n",
        "                A.VerticalFlip(p=0.5),\n",
        "                A.ShiftScaleRotate(p=0.5),\n",
        "                # A.HueSaturationValue(hue_shift_limit=0.2, sat_shift_limit=0.2, val_shift_limit=0.2, p=0.5),\n",
        "                # A.RandomBrightnessContrast(brightness_limit=(-0.1, 0.1), contrast_limit=(-0.1, 0.1), p=0.5),\n",
        "                # A.CoarseDropout(p=0.5),\n",
        "                # A.Cutout(p=0.5),\n",
        "                A.Normalize(\n",
        "                    mean=[0.485, 0.456, 0.406],\n",
        "                    std=[0.229, 0.224, 0.225],\n",
        "                ),\n",
        "                ToTensorV2(),\n",
        "            ]\n",
        "        )\n",
        "\n",
        "    elif data == \"valid\":\n",
        "        return A.Compose(\n",
        "            [\n",
        "                A.Resize(config.size, config.size),\n",
        "                # A.CenterCrop(config.size, config.size),\n",
        "                A.Normalize(\n",
        "                    mean=[0.485, 0.456, 0.406],\n",
        "                    std=[0.229, 0.224, 0.225],\n",
        "                ),\n",
        "                ToTensorV2(),\n",
        "            ]\n",
        "        )\n"
      ],
      "execution_count": 31,
      "outputs": []
    },
    {
      "cell_type": "code",
      "metadata": {
        "execution": {
          "iopub.execute_input": "2021-07-13T14:03:58.008355Z",
          "iopub.status.busy": "2021-07-13T14:03:58.007386Z",
          "iopub.status.idle": "2021-07-13T14:03:58.213924Z",
          "shell.execute_reply": "2021-07-13T14:03:58.214877Z",
          "shell.execute_reply.started": "2021-07-13T13:58:09.276511Z"
        },
        "id": "413218d8",
        "papermill": {
          "duration": 0.291354,
          "end_time": "2021-07-13T14:03:58.215212",
          "exception": false,
          "start_time": "2021-07-13T14:03:57.923858",
          "status": "completed"
        },
        "tags": [],
        "colab": {
          "base_uri": "https://localhost:8080/",
          "height": 281
        },
        "outputId": "1bb5741c-ebf3-46ce-fc1c-12d4bf059eca"
      },
      "source": [
        "# Test\n",
        "\n",
        "train_ds = TrainDataset(train, transform=get_transforms(data=\"train\"))\n",
        "\n",
        "for i in range(1):\n",
        "    image, label = train_ds[i]\n",
        "    plt.imshow(image[0])\n",
        "    plt.title(f\"label: {label}\")\n",
        "    plt.show()\n"
      ],
      "execution_count": 32,
      "outputs": [
        {
          "output_type": "display_data",
          "data": {
            "image/png": "[encoded data removed]",
            "text/plain": [
              "<Figure size 432x288 with 1 Axes>"
            ]
          },
          "metadata": {
            "tags": [],
            "needs_background": "light"
          }
        }
      ]
    },
    {
      "cell_type": "markdown",
      "metadata": {
        "id": "d681dabf",
        "papermill": {
          "duration": 0.109972,
          "end_time": "2021-07-13T14:03:58.466162",
          "exception": false,
          "start_time": "2021-07-13T14:03:58.35619",
          "status": "completed"
        },
        "tags": []
      },
      "source": [
        "## Model"
      ]
    },
    {
      "cell_type": "code",
      "metadata": {
        "execution": {
          "iopub.execute_input": "2021-07-13T14:03:58.688372Z",
          "iopub.status.busy": "2021-07-13T14:03:58.684733Z",
          "iopub.status.idle": "2021-07-13T14:03:58.692806Z",
          "shell.execute_reply": "2021-07-13T14:03:58.693706Z",
          "shell.execute_reply.started": "2021-07-13T13:58:09.452311Z"
        },
        "id": "229d18e7",
        "papermill": {
          "duration": 0.124177,
          "end_time": "2021-07-13T14:03:58.693902",
          "exception": false,
          "start_time": "2021-07-13T14:03:58.569725",
          "status": "completed"
        },
        "tags": []
      },
      "source": [
        "class Atma11Net(nn.Module):\n",
        "    def __init__(self, model_name=\"resnext50_32x4d\", pretrained=False):\n",
        "        super().__init__()\n",
        "        self.model_name = model_name\n",
        "        self.model = timm.create_model(model_name, pretrained=pretrained)\n",
        "\n",
        "        if \"res\" in model_name:\n",
        "            n_features = self.model.fc.in_features\n",
        "            self.model.fc = nn.Linear(n_features, config.n_class)\n",
        "\n",
        "        elif \"efficientnet\" in model_name:\n",
        "            n_features = self.model.classifier.in_features\n",
        "            self.model.classifier = nn.Linear(n_features, config.n_class)\n",
        "\n",
        "        elif model_name.startswith(\"vit_\"):\n",
        "            n_features = self.model.head.in_features\n",
        "            self.model.head = nn.Linear(n_features, config.n_class)\n",
        "            \n",
        "        elif \"nfnet\" in model_name:\n",
        "            n_features = self.model.head.fc.in_features\n",
        "            self.model.head.fc = nn.Linear(n_features, config.n_class)\n",
        "\n",
        "    def forward(self, x):\n",
        "        x = self.model(x).view(x.size(0))\n",
        "        return x\n"
      ],
      "execution_count": 33,
      "outputs": []
    },
    {
      "cell_type": "code",
      "metadata": {
        "execution": {
          "iopub.execute_input": "2021-07-13T14:03:58.85094Z",
          "iopub.status.busy": "2021-07-13T14:03:58.850156Z",
          "iopub.status.idle": "2021-07-13T14:04:06.237751Z",
          "shell.execute_reply": "2021-07-13T14:04:06.237304Z",
          "shell.execute_reply.started": "2021-07-13T13:58:09.464065Z"
        },
        "id": "0a3978b1",
        "papermill": {
          "duration": 7.462234,
          "end_time": "2021-07-13T14:04:06.237867",
          "exception": false,
          "start_time": "2021-07-13T14:03:58.775633",
          "status": "completed"
        },
        "tags": [],
        "colab": {
          "base_uri": "https://localhost:8080/"
        },
        "outputId": "2d95d453-6f13-4606-f426-427c525db517"
      },
      "source": [
        "# Test\n",
        "\n",
        "model = Atma11Net(model_name=config.model_name, pretrained=False)\n",
        "print(model)\n",
        "\n",
        "train_dataset = TrainDataset(train, transform=get_transforms(data=\"train\"))\n",
        "train_loader = DataLoader(train_dataset, batch_size=4, shuffle=True, num_workers=4, pin_memory=True, drop_last=True)\n",
        "\n",
        "for image, label in train_loader:\n",
        "    output = model(image)\n",
        "    print(output)\n",
        "    break\n"
      ],
      "execution_count": 34,
      "outputs": [
        {
          "output_type": "stream",
          "text": [
            "Atma11Net(\n",
            "  (model): ResNet(\n",
            "    (conv1): Sequential(\n",
            "      (0): Conv2d(3, 32, kernel_size=(3, 3), stride=(2, 2), padding=(1, 1), bias=False)\n",
            "      (1): BatchNorm2d(32, eps=1e-05, momentum=0.1, affine=True, track_running_stats=True)\n",
            "      (2): ReLU(inplace=True)\n",
            "      (3): Conv2d(32, 32, kernel_size=(3, 3), stride=(1, 1), padding=(1, 1), bias=False)\n",
            "      (4): BatchNorm2d(32, eps=1e-05, momentum=0.1, affine=True, track_running_stats=True)\n",
            "      (5): ReLU(inplace=True)\n",
            "      (6): Conv2d(32, 64, kernel_size=(3, 3), stride=(1, 1), padding=(1, 1), bias=False)\n",
            "    )\n",
            "    (bn1): BatchNorm2d(64, eps=1e-05, momentum=0.1, affine=True, track_running_stats=True)\n",
            "    (act1): ReLU(inplace=True)\n",
            "    (maxpool): Sequential(\n",
            "      (0): Conv2d(64, 64, kernel_size=(3, 3), stride=(2, 2), padding=(1, 1), bias=False)\n",
            "      (1): BatchNorm2d(64, eps=1e-05, momentum=0.1, affine=True, track_running_stats=True)\n",
            "      (2): ReLU(inplace=True)\n",
            "    )\n",
            "    (layer1): Sequential(\n",
            "      (0): Bottleneck(\n",
            "        (conv1): Conv2d(64, 64, kernel_size=(1, 1), stride=(1, 1), bias=False)\n",
            "        (bn1): BatchNorm2d(64, eps=1e-05, momentum=0.1, affine=True, track_running_stats=True)\n",
            "        (act1): ReLU(inplace=True)\n",
            "        (conv2): Conv2d(64, 64, kernel_size=(3, 3), stride=(1, 1), padding=(1, 1), bias=False)\n",
            "        (bn2): BatchNorm2d(64, eps=1e-05, momentum=0.1, affine=True, track_running_stats=True)\n",
            "        (act2): ReLU(inplace=True)\n",
            "        (conv3): Conv2d(64, 256, kernel_size=(1, 1), stride=(1, 1), bias=False)\n",
            "        (bn3): BatchNorm2d(256, eps=1e-05, momentum=0.1, affine=True, track_running_stats=True)\n",
            "        (se): SEModule(\n",
            "          (fc1): Conv2d(256, 64, kernel_size=(1, 1), stride=(1, 1))\n",
            "          (bn): Identity()\n",
            "          (act): ReLU(inplace=True)\n",
            "          (fc2): Conv2d(64, 256, kernel_size=(1, 1), stride=(1, 1))\n",
            "          (gate): Sigmoid()\n",
            "        )\n",
            "        (act3): ReLU(inplace=True)\n",
            "        (downsample): Sequential(\n",
            "          (0): Identity()\n",
            "          (1): Conv2d(64, 256, kernel_size=(1, 1), stride=(1, 1), bias=False)\n",
            "          (2): BatchNorm2d(256, eps=1e-05, momentum=0.1, affine=True, track_running_stats=True)\n",
            "        )\n",
            "      )\n",
            "      (1): Bottleneck(\n",
            "        (conv1): Conv2d(256, 64, kernel_size=(1, 1), stride=(1, 1), bias=False)\n",
            "        (bn1): BatchNorm2d(64, eps=1e-05, momentum=0.1, affine=True, track_running_stats=True)\n",
            "        (act1): ReLU(inplace=True)\n",
            "        (conv2): Conv2d(64, 64, kernel_size=(3, 3), stride=(1, 1), padding=(1, 1), bias=False)\n",
            "        (bn2): BatchNorm2d(64, eps=1e-05, momentum=0.1, affine=True, track_running_stats=True)\n",
            "        (act2): ReLU(inplace=True)\n",
            "        (conv3): Conv2d(64, 256, kernel_size=(1, 1), stride=(1, 1), bias=False)\n",
            "        (bn3): BatchNorm2d(256, eps=1e-05, momentum=0.1, affine=True, track_running_stats=True)\n",
            "        (se): SEModule(\n",
            "          (fc1): Conv2d(256, 64, kernel_size=(1, 1), stride=(1, 1))\n",
            "          (bn): Identity()\n",
            "          (act): ReLU(inplace=True)\n",
            "          (fc2): Conv2d(64, 256, kernel_size=(1, 1), stride=(1, 1))\n",
            "          (gate): Sigmoid()\n",
            "        )\n",
            "        (act3): ReLU(inplace=True)\n",
            "      )\n",
            "      (2): Bottleneck(\n",
            "        (conv1): Conv2d(256, 64, kernel_size=(1, 1), stride=(1, 1), bias=False)\n",
            "        (bn1): BatchNorm2d(64, eps=1e-05, momentum=0.1, affine=True, track_running_stats=True)\n",
            "        (act1): ReLU(inplace=True)\n",
            "        (conv2): Conv2d(64, 64, kernel_size=(3, 3), stride=(1, 1), padding=(1, 1), bias=False)\n",
            "        (bn2): BatchNorm2d(64, eps=1e-05, momentum=0.1, affine=True, track_running_stats=True)\n",
            "        (act2): ReLU(inplace=True)\n",
            "        (conv3): Conv2d(64, 256, kernel_size=(1, 1), stride=(1, 1), bias=False)\n",
            "        (bn3): BatchNorm2d(256, eps=1e-05, momentum=0.1, affine=True, track_running_stats=True)\n",
            "        (se): SEModule(\n",
            "          (fc1): Conv2d(256, 64, kernel_size=(1, 1), stride=(1, 1))\n",
            "          (bn): Identity()\n",
            "          (act): ReLU(inplace=True)\n",
            "          (fc2): Conv2d(64, 256, kernel_size=(1, 1), stride=(1, 1))\n",
            "          (gate): Sigmoid()\n",
            "        )\n",
            "        (act3): ReLU(inplace=True)\n",
            "      )\n",
            "    )\n",
            "    (layer2): Sequential(\n",
            "      (0): Bottleneck(\n",
            "        (conv1): Conv2d(256, 128, kernel_size=(1, 1), stride=(1, 1), bias=False)\n",
            "        (bn1): BatchNorm2d(128, eps=1e-05, momentum=0.1, affine=True, track_running_stats=True)\n",
            "        (act1): ReLU(inplace=True)\n",
            "        (conv2): Conv2d(128, 128, kernel_size=(3, 3), stride=(2, 2), padding=(1, 1), bias=False)\n",
            "        (bn2): BatchNorm2d(128, eps=1e-05, momentum=0.1, affine=True, track_running_stats=True)\n",
            "        (act2): ReLU(inplace=True)\n",
            "        (conv3): Conv2d(128, 512, kernel_size=(1, 1), stride=(1, 1), bias=False)\n",
            "        (bn3): BatchNorm2d(512, eps=1e-05, momentum=0.1, affine=True, track_running_stats=True)\n",
            "        (se): SEModule(\n",
            "          (fc1): Conv2d(512, 128, kernel_size=(1, 1), stride=(1, 1))\n",
            "          (bn): Identity()\n",
            "          (act): ReLU(inplace=True)\n",
            "          (fc2): Conv2d(128, 512, kernel_size=(1, 1), stride=(1, 1))\n",
            "          (gate): Sigmoid()\n",
            "        )\n",
            "        (act3): ReLU(inplace=True)\n",
            "        (downsample): Sequential(\n",
            "          (0): AvgPool2d(kernel_size=2, stride=2, padding=0)\n",
            "          (1): Conv2d(256, 512, kernel_size=(1, 1), stride=(1, 1), bias=False)\n",
            "          (2): BatchNorm2d(512, eps=1e-05, momentum=0.1, affine=True, track_running_stats=True)\n",
            "        )\n",
            "      )\n",
            "      (1): Bottleneck(\n",
            "        (conv1): Conv2d(512, 128, kernel_size=(1, 1), stride=(1, 1), bias=False)\n",
            "        (bn1): BatchNorm2d(128, eps=1e-05, momentum=0.1, affine=True, track_running_stats=True)\n",
            "        (act1): ReLU(inplace=True)\n",
            "        (conv2): Conv2d(128, 128, kernel_size=(3, 3), stride=(1, 1), padding=(1, 1), bias=False)\n",
            "        (bn2): BatchNorm2d(128, eps=1e-05, momentum=0.1, affine=True, track_running_stats=True)\n",
            "        (act2): ReLU(inplace=True)\n",
            "        (conv3): Conv2d(128, 512, kernel_size=(1, 1), stride=(1, 1), bias=False)\n",
            "        (bn3): BatchNorm2d(512, eps=1e-05, momentum=0.1, affine=True, track_running_stats=True)\n",
            "        (se): SEModule(\n",
            "          (fc1): Conv2d(512, 128, kernel_size=(1, 1), stride=(1, 1))\n",
            "          (bn): Identity()\n",
            "          (act): ReLU(inplace=True)\n",
            "          (fc2): Conv2d(128, 512, kernel_size=(1, 1), stride=(1, 1))\n",
            "          (gate): Sigmoid()\n",
            "        )\n",
            "        (act3): ReLU(inplace=True)\n",
            "      )\n",
            "      (2): Bottleneck(\n",
            "        (conv1): Conv2d(512, 128, kernel_size=(1, 1), stride=(1, 1), bias=False)\n",
            "        (bn1): BatchNorm2d(128, eps=1e-05, momentum=0.1, affine=True, track_running_stats=True)\n",
            "        (act1): ReLU(inplace=True)\n",
            "        (conv2): Conv2d(128, 128, kernel_size=(3, 3), stride=(1, 1), padding=(1, 1), bias=False)\n",
            "        (bn2): BatchNorm2d(128, eps=1e-05, momentum=0.1, affine=True, track_running_stats=True)\n",
            "        (act2): ReLU(inplace=True)\n",
            "        (conv3): Conv2d(128, 512, kernel_size=(1, 1), stride=(1, 1), bias=False)\n",
            "        (bn3): BatchNorm2d(512, eps=1e-05, momentum=0.1, affine=True, track_running_stats=True)\n",
            "        (se): SEModule(\n",
            "          (fc1): Conv2d(512, 128, kernel_size=(1, 1), stride=(1, 1))\n",
            "          (bn): Identity()\n",
            "          (act): ReLU(inplace=True)\n",
            "          (fc2): Conv2d(128, 512, kernel_size=(1, 1), stride=(1, 1))\n",
            "          (gate): Sigmoid()\n",
            "        )\n",
            "        (act3): ReLU(inplace=True)\n",
            "      )\n",
            "      (3): Bottleneck(\n",
            "        (conv1): Conv2d(512, 128, kernel_size=(1, 1), stride=(1, 1), bias=False)\n",
            "        (bn1): BatchNorm2d(128, eps=1e-05, momentum=0.1, affine=True, track_running_stats=True)\n",
            "        (act1): ReLU(inplace=True)\n",
            "        (conv2): Conv2d(128, 128, kernel_size=(3, 3), stride=(1, 1), padding=(1, 1), bias=False)\n",
            "        (bn2): BatchNorm2d(128, eps=1e-05, momentum=0.1, affine=True, track_running_stats=True)\n",
            "        (act2): ReLU(inplace=True)\n",
            "        (conv3): Conv2d(128, 512, kernel_size=(1, 1), stride=(1, 1), bias=False)\n",
            "        (bn3): BatchNorm2d(512, eps=1e-05, momentum=0.1, affine=True, track_running_stats=True)\n",
            "        (se): SEModule(\n",
            "          (fc1): Conv2d(512, 128, kernel_size=(1, 1), stride=(1, 1))\n",
            "          (bn): Identity()\n",
            "          (act): ReLU(inplace=True)\n",
            "          (fc2): Conv2d(128, 512, kernel_size=(1, 1), stride=(1, 1))\n",
            "          (gate): Sigmoid()\n",
            "        )\n",
            "        (act3): ReLU(inplace=True)\n",
            "      )\n",
            "    )\n",
            "    (layer3): Sequential(\n",
            "      (0): Bottleneck(\n",
            "        (conv1): Conv2d(512, 256, kernel_size=(1, 1), stride=(1, 1), bias=False)\n",
            "        (bn1): BatchNorm2d(256, eps=1e-05, momentum=0.1, affine=True, track_running_stats=True)\n",
            "        (act1): ReLU(inplace=True)\n",
            "        (conv2): Conv2d(256, 256, kernel_size=(3, 3), stride=(2, 2), padding=(1, 1), bias=False)\n",
            "        (bn2): BatchNorm2d(256, eps=1e-05, momentum=0.1, affine=True, track_running_stats=True)\n",
            "        (act2): ReLU(inplace=True)\n",
            "        (conv3): Conv2d(256, 1024, kernel_size=(1, 1), stride=(1, 1), bias=False)\n",
            "        (bn3): BatchNorm2d(1024, eps=1e-05, momentum=0.1, affine=True, track_running_stats=True)\n",
            "        (se): SEModule(\n",
            "          (fc1): Conv2d(1024, 256, kernel_size=(1, 1), stride=(1, 1))\n",
            "          (bn): Identity()\n",
            "          (act): ReLU(inplace=True)\n",
            "          (fc2): Conv2d(256, 1024, kernel_size=(1, 1), stride=(1, 1))\n",
            "          (gate): Sigmoid()\n",
            "        )\n",
            "        (act3): ReLU(inplace=True)\n",
            "        (downsample): Sequential(\n",
            "          (0): AvgPool2d(kernel_size=2, stride=2, padding=0)\n",
            "          (1): Conv2d(512, 1024, kernel_size=(1, 1), stride=(1, 1), bias=False)\n",
            "          (2): BatchNorm2d(1024, eps=1e-05, momentum=0.1, affine=True, track_running_stats=True)\n",
            "        )\n",
            "      )\n",
            "      (1): Bottleneck(\n",
            "        (conv1): Conv2d(1024, 256, kernel_size=(1, 1), stride=(1, 1), bias=False)\n",
            "        (bn1): BatchNorm2d(256, eps=1e-05, momentum=0.1, affine=True, track_running_stats=True)\n",
            "        (act1): ReLU(inplace=True)\n",
            "        (conv2): Conv2d(256, 256, kernel_size=(3, 3), stride=(1, 1), padding=(1, 1), bias=False)\n",
            "        (bn2): BatchNorm2d(256, eps=1e-05, momentum=0.1, affine=True, track_running_stats=True)\n",
            "        (act2): ReLU(inplace=True)\n",
            "        (conv3): Conv2d(256, 1024, kernel_size=(1, 1), stride=(1, 1), bias=False)\n",
            "        (bn3): BatchNorm2d(1024, eps=1e-05, momentum=0.1, affine=True, track_running_stats=True)\n",
            "        (se): SEModule(\n",
            "          (fc1): Conv2d(1024, 256, kernel_size=(1, 1), stride=(1, 1))\n",
            "          (bn): Identity()\n",
            "          (act): ReLU(inplace=True)\n",
            "          (fc2): Conv2d(256, 1024, kernel_size=(1, 1), stride=(1, 1))\n",
            "          (gate): Sigmoid()\n",
            "        )\n",
            "        (act3): ReLU(inplace=True)\n",
            "      )\n",
            "      (2): Bottleneck(\n",
            "        (conv1): Conv2d(1024, 256, kernel_size=(1, 1), stride=(1, 1), bias=False)\n",
            "        (bn1): BatchNorm2d(256, eps=1e-05, momentum=0.1, affine=True, track_running_stats=True)\n",
            "        (act1): ReLU(inplace=True)\n",
            "        (conv2): Conv2d(256, 256, kernel_size=(3, 3), stride=(1, 1), padding=(1, 1), bias=False)\n",
            "        (bn2): BatchNorm2d(256, eps=1e-05, momentum=0.1, affine=True, track_running_stats=True)\n",
            "        (act2): ReLU(inplace=True)\n",
            "        (conv3): Conv2d(256, 1024, kernel_size=(1, 1), stride=(1, 1), bias=False)\n",
            "        (bn3): BatchNorm2d(1024, eps=1e-05, momentum=0.1, affine=True, track_running_stats=True)\n",
            "        (se): SEModule(\n",
            "          (fc1): Conv2d(1024, 256, kernel_size=(1, 1), stride=(1, 1))\n",
            "          (bn): Identity()\n",
            "          (act): ReLU(inplace=True)\n",
            "          (fc2): Conv2d(256, 1024, kernel_size=(1, 1), stride=(1, 1))\n",
            "          (gate): Sigmoid()\n",
            "        )\n",
            "        (act3): ReLU(inplace=True)\n",
            "      )\n",
            "      (3): Bottleneck(\n",
            "        (conv1): Conv2d(1024, 256, kernel_size=(1, 1), stride=(1, 1), bias=False)\n",
            "        (bn1): BatchNorm2d(256, eps=1e-05, momentum=0.1, affine=True, track_running_stats=True)\n",
            "        (act1): ReLU(inplace=True)\n",
            "        (conv2): Conv2d(256, 256, kernel_size=(3, 3), stride=(1, 1), padding=(1, 1), bias=False)\n",
            "        (bn2): BatchNorm2d(256, eps=1e-05, momentum=0.1, affine=True, track_running_stats=True)\n",
            "        (act2): ReLU(inplace=True)\n",
            "        (conv3): Conv2d(256, 1024, kernel_size=(1, 1), stride=(1, 1), bias=False)\n",
            "        (bn3): BatchNorm2d(1024, eps=1e-05, momentum=0.1, affine=True, track_running_stats=True)\n",
            "        (se): SEModule(\n",
            "          (fc1): Conv2d(1024, 256, kernel_size=(1, 1), stride=(1, 1))\n",
            "          (bn): Identity()\n",
            "          (act): ReLU(inplace=True)\n",
            "          (fc2): Conv2d(256, 1024, kernel_size=(1, 1), stride=(1, 1))\n",
            "          (gate): Sigmoid()\n",
            "        )\n",
            "        (act3): ReLU(inplace=True)\n",
            "      )\n",
            "      (4): Bottleneck(\n",
            "        (conv1): Conv2d(1024, 256, kernel_size=(1, 1), stride=(1, 1), bias=False)\n",
            "        (bn1): BatchNorm2d(256, eps=1e-05, momentum=0.1, affine=True, track_running_stats=True)\n",
            "        (act1): ReLU(inplace=True)\n",
            "        (conv2): Conv2d(256, 256, kernel_size=(3, 3), stride=(1, 1), padding=(1, 1), bias=False)\n",
            "        (bn2): BatchNorm2d(256, eps=1e-05, momentum=0.1, affine=True, track_running_stats=True)\n",
            "        (act2): ReLU(inplace=True)\n",
            "        (conv3): Conv2d(256, 1024, kernel_size=(1, 1), stride=(1, 1), bias=False)\n",
            "        (bn3): BatchNorm2d(1024, eps=1e-05, momentum=0.1, affine=True, track_running_stats=True)\n",
            "        (se): SEModule(\n",
            "          (fc1): Conv2d(1024, 256, kernel_size=(1, 1), stride=(1, 1))\n",
            "          (bn): Identity()\n",
            "          (act): ReLU(inplace=True)\n",
            "          (fc2): Conv2d(256, 1024, kernel_size=(1, 1), stride=(1, 1))\n",
            "          (gate): Sigmoid()\n",
            "        )\n",
            "        (act3): ReLU(inplace=True)\n",
            "      )\n",
            "      (5): Bottleneck(\n",
            "        (conv1): Conv2d(1024, 256, kernel_size=(1, 1), stride=(1, 1), bias=False)\n",
            "        (bn1): BatchNorm2d(256, eps=1e-05, momentum=0.1, affine=True, track_running_stats=True)\n",
            "        (act1): ReLU(inplace=True)\n",
            "        (conv2): Conv2d(256, 256, kernel_size=(3, 3), stride=(1, 1), padding=(1, 1), bias=False)\n",
            "        (bn2): BatchNorm2d(256, eps=1e-05, momentum=0.1, affine=True, track_running_stats=True)\n",
            "        (act2): ReLU(inplace=True)\n",
            "        (conv3): Conv2d(256, 1024, kernel_size=(1, 1), stride=(1, 1), bias=False)\n",
            "        (bn3): BatchNorm2d(1024, eps=1e-05, momentum=0.1, affine=True, track_running_stats=True)\n",
            "        (se): SEModule(\n",
            "          (fc1): Conv2d(1024, 256, kernel_size=(1, 1), stride=(1, 1))\n",
            "          (bn): Identity()\n",
            "          (act): ReLU(inplace=True)\n",
            "          (fc2): Conv2d(256, 1024, kernel_size=(1, 1), stride=(1, 1))\n",
            "          (gate): Sigmoid()\n",
            "        )\n",
            "        (act3): ReLU(inplace=True)\n",
            "      )\n",
            "    )\n",
            "    (layer4): Sequential(\n",
            "      (0): Bottleneck(\n",
            "        (conv1): Conv2d(1024, 512, kernel_size=(1, 1), stride=(1, 1), bias=False)\n",
            "        (bn1): BatchNorm2d(512, eps=1e-05, momentum=0.1, affine=True, track_running_stats=True)\n",
            "        (act1): ReLU(inplace=True)\n",
            "        (conv2): Conv2d(512, 512, kernel_size=(3, 3), stride=(2, 2), padding=(1, 1), bias=False)\n",
            "        (bn2): BatchNorm2d(512, eps=1e-05, momentum=0.1, affine=True, track_running_stats=True)\n",
            "        (act2): ReLU(inplace=True)\n",
            "        (conv3): Conv2d(512, 2048, kernel_size=(1, 1), stride=(1, 1), bias=False)\n",
            "        (bn3): BatchNorm2d(2048, eps=1e-05, momentum=0.1, affine=True, track_running_stats=True)\n",
            "        (se): SEModule(\n",
            "          (fc1): Conv2d(2048, 512, kernel_size=(1, 1), stride=(1, 1))\n",
            "          (bn): Identity()\n",
            "          (act): ReLU(inplace=True)\n",
            "          (fc2): Conv2d(512, 2048, kernel_size=(1, 1), stride=(1, 1))\n",
            "          (gate): Sigmoid()\n",
            "        )\n",
            "        (act3): ReLU(inplace=True)\n",
            "        (downsample): Sequential(\n",
            "          (0): AvgPool2d(kernel_size=2, stride=2, padding=0)\n",
            "          (1): Conv2d(1024, 2048, kernel_size=(1, 1), stride=(1, 1), bias=False)\n",
            "          (2): BatchNorm2d(2048, eps=1e-05, momentum=0.1, affine=True, track_running_stats=True)\n",
            "        )\n",
            "      )\n",
            "      (1): Bottleneck(\n",
            "        (conv1): Conv2d(2048, 512, kernel_size=(1, 1), stride=(1, 1), bias=False)\n",
            "        (bn1): BatchNorm2d(512, eps=1e-05, momentum=0.1, affine=True, track_running_stats=True)\n",
            "        (act1): ReLU(inplace=True)\n",
            "        (conv2): Conv2d(512, 512, kernel_size=(3, 3), stride=(1, 1), padding=(1, 1), bias=False)\n",
            "        (bn2): BatchNorm2d(512, eps=1e-05, momentum=0.1, affine=True, track_running_stats=True)\n",
            "        (act2): ReLU(inplace=True)\n",
            "        (conv3): Conv2d(512, 2048, kernel_size=(1, 1), stride=(1, 1), bias=False)\n",
            "        (bn3): BatchNorm2d(2048, eps=1e-05, momentum=0.1, affine=True, track_running_stats=True)\n",
            "        (se): SEModule(\n",
            "          (fc1): Conv2d(2048, 512, kernel_size=(1, 1), stride=(1, 1))\n",
            "          (bn): Identity()\n",
            "          (act): ReLU(inplace=True)\n",
            "          (fc2): Conv2d(512, 2048, kernel_size=(1, 1), stride=(1, 1))\n",
            "          (gate): Sigmoid()\n",
            "        )\n",
            "        (act3): ReLU(inplace=True)\n",
            "      )\n",
            "      (2): Bottleneck(\n",
            "        (conv1): Conv2d(2048, 512, kernel_size=(1, 1), stride=(1, 1), bias=False)\n",
            "        (bn1): BatchNorm2d(512, eps=1e-05, momentum=0.1, affine=True, track_running_stats=True)\n",
            "        (act1): ReLU(inplace=True)\n",
            "        (conv2): Conv2d(512, 512, kernel_size=(3, 3), stride=(1, 1), padding=(1, 1), bias=False)\n",
            "        (bn2): BatchNorm2d(512, eps=1e-05, momentum=0.1, affine=True, track_running_stats=True)\n",
            "        (act2): ReLU(inplace=True)\n",
            "        (conv3): Conv2d(512, 2048, kernel_size=(1, 1), stride=(1, 1), bias=False)\n",
            "        (bn3): BatchNorm2d(2048, eps=1e-05, momentum=0.1, affine=True, track_running_stats=True)\n",
            "        (se): SEModule(\n",
            "          (fc1): Conv2d(2048, 512, kernel_size=(1, 1), stride=(1, 1))\n",
            "          (bn): Identity()\n",
            "          (act): ReLU(inplace=True)\n",
            "          (fc2): Conv2d(512, 2048, kernel_size=(1, 1), stride=(1, 1))\n",
            "          (gate): Sigmoid()\n",
            "        )\n",
            "        (act3): ReLU(inplace=True)\n",
            "      )\n",
            "    )\n",
            "    (global_pool): SelectAdaptivePool2d (pool_type=avg, flatten=Flatten(start_dim=1, end_dim=-1))\n",
            "    (fc): Linear(in_features=2048, out_features=1, bias=True)\n",
            "  )\n",
            ")\n",
            "tensor([ 0.0866,  0.0336, -0.0125,  0.1053], grad_fn=<ViewBackward>)\n"
          ],
          "name": "stdout"
        }
      ]
    },
    {
      "cell_type": "markdown",
      "metadata": {
        "id": "de50761e",
        "papermill": {
          "duration": 0.066272,
          "end_time": "2021-07-13T14:04:06.370182",
          "exception": false,
          "start_time": "2021-07-13T14:04:06.30391",
          "status": "completed"
        },
        "tags": []
      },
      "source": [
        "## Loss"
      ]
    },
    {
      "cell_type": "code",
      "metadata": {
        "execution": {
          "iopub.execute_input": "2021-07-13T14:04:06.506517Z",
          "iopub.status.busy": "2021-07-13T14:04:06.505659Z",
          "iopub.status.idle": "2021-07-13T14:04:06.508105Z",
          "shell.execute_reply": "2021-07-13T14:04:06.508753Z",
          "shell.execute_reply.started": "2021-07-13T13:58:16.000305Z"
        },
        "id": "47fcae06",
        "papermill": {
          "duration": 0.074524,
          "end_time": "2021-07-13T14:04:06.508947",
          "exception": false,
          "start_time": "2021-07-13T14:04:06.434423",
          "status": "completed"
        },
        "tags": []
      },
      "source": [
        "class RMSELoss(nn.Module):\n",
        "    def __init__(self, eps=1e-6):\n",
        "        super().__init__()\n",
        "        self.mse = nn.MSELoss()\n",
        "        self.eps = eps\n",
        "        \n",
        "    def forward(self, yhat, y):\n",
        "        loss = torch.sqrt(self.mse(yhat, y) + self.eps)\n",
        "        return loss\n"
      ],
      "execution_count": 35,
      "outputs": []
    },
    {
      "cell_type": "markdown",
      "metadata": {
        "id": "93661540",
        "papermill": {
          "duration": 0.06393,
          "end_time": "2021-07-13T14:04:06.640719",
          "exception": false,
          "start_time": "2021-07-13T14:04:06.576789",
          "status": "completed"
        },
        "tags": []
      },
      "source": [
        "## Scoring"
      ]
    },
    {
      "cell_type": "code",
      "metadata": {
        "execution": {
          "iopub.execute_input": "2021-07-13T14:04:06.773801Z",
          "iopub.status.busy": "2021-07-13T14:04:06.772929Z",
          "iopub.status.idle": "2021-07-13T14:04:06.775764Z",
          "shell.execute_reply": "2021-07-13T14:04:06.775184Z",
          "shell.execute_reply.started": "2021-07-13T13:58:16.007366Z"
        },
        "id": "19d9d03c",
        "papermill": {
          "duration": 0.071807,
          "end_time": "2021-07-13T14:04:06.775918",
          "exception": false,
          "start_time": "2021-07-13T14:04:06.704111",
          "status": "completed"
        },
        "tags": []
      },
      "source": [
        "def get_score(y_true, y_pred):\n",
        "    return np.sqrt(mean_squared_error(y_true, y_pred))"
      ],
      "execution_count": 36,
      "outputs": []
    },
    {
      "cell_type": "code",
      "metadata": {
        "execution": {
          "iopub.execute_input": "2021-07-13T14:04:06.916663Z",
          "iopub.status.busy": "2021-07-13T14:04:06.915692Z",
          "iopub.status.idle": "2021-07-13T14:04:06.921773Z",
          "shell.execute_reply": "2021-07-13T14:04:06.9224Z",
          "shell.execute_reply.started": "2021-07-13T13:58:16.018187Z"
        },
        "id": "a1b92d4f",
        "papermill": {
          "duration": 0.078352,
          "end_time": "2021-07-13T14:04:06.922598",
          "exception": false,
          "start_time": "2021-07-13T14:04:06.844246",
          "status": "completed"
        },
        "tags": []
      },
      "source": [
        "def get_result(result_df, fold=config.n_fold):\n",
        "    preds = result_df[\"preds\"].values\n",
        "    labels = result_df[\"target\"].values\n",
        "    score = get_score(labels, preds)\n",
        "    LOGGER.info(f\"Score: {score:<.5f}\")\n",
        "    # wandb.log({\"fold\": fold, \"CV\": score})\n",
        "    if fold == config.n_fold:\n",
        "        wandb.run.summary[f\"CV\"] = score\n",
        "    else:\n",
        "        wandb.run.summary[f\"CV_fold{fold}\"] = score\n"
      ],
      "execution_count": 37,
      "outputs": []
    },
    {
      "cell_type": "markdown",
      "metadata": {
        "id": "1bf498df",
        "papermill": {
          "duration": 0.063127,
          "end_time": "2021-07-13T14:04:07.050766",
          "exception": false,
          "start_time": "2021-07-13T14:04:06.987639",
          "status": "completed"
        },
        "tags": []
      },
      "source": [
        "## Helper functions"
      ]
    },
    {
      "cell_type": "code",
      "metadata": {
        "execution": {
          "iopub.execute_input": "2021-07-13T14:04:07.187804Z",
          "iopub.status.busy": "2021-07-13T14:04:07.186918Z",
          "iopub.status.idle": "2021-07-13T14:04:07.189224Z",
          "shell.execute_reply": "2021-07-13T14:04:07.189859Z",
          "shell.execute_reply.started": "2021-07-13T13:58:16.028074Z"
        },
        "id": "c5b0e152",
        "papermill": {
          "duration": 0.075151,
          "end_time": "2021-07-13T14:04:07.19007",
          "exception": false,
          "start_time": "2021-07-13T14:04:07.114919",
          "status": "completed"
        },
        "tags": []
      },
      "source": [
        "class AverageMeter(object):\n",
        "    \"\"\"Computes and stores the average and current value\"\"\"\n",
        "\n",
        "    def __init__(self):\n",
        "        self.reset()\n",
        "\n",
        "    def reset(self):\n",
        "        self.val = 0\n",
        "        self.avg = 0\n",
        "        self.sum = 0\n",
        "        self.count = 0\n",
        "\n",
        "    def update(self, val, n=1):\n",
        "        self.val = val\n",
        "        self.sum += val * n\n",
        "        self.count += n\n",
        "        self.avg = self.sum / self.count\n",
        "\n",
        "\n",
        "def asMinutes(s):\n",
        "    m = math.floor(s / 60)\n",
        "    s -= m * 60\n",
        "    return \"%dm %ds\" % (m, s)\n",
        "\n",
        "\n",
        "def timeSince(since, percent):\n",
        "    now = time.time()\n",
        "    s = now - since\n",
        "    es = s / (percent)\n",
        "    rs = es - s\n",
        "    return \"%s (remain %s)\" % (asMinutes(s), asMinutes(rs))"
      ],
      "execution_count": 38,
      "outputs": []
    },
    {
      "cell_type": "code",
      "metadata": {
        "execution": {
          "iopub.execute_input": "2021-07-13T14:04:07.335245Z",
          "iopub.status.busy": "2021-07-13T14:04:07.334332Z",
          "iopub.status.idle": "2021-07-13T14:04:07.33701Z",
          "shell.execute_reply": "2021-07-13T14:04:07.337716Z",
          "shell.execute_reply.started": "2021-07-13T13:58:16.039208Z"
        },
        "id": "99a3bfb5",
        "papermill": {
          "duration": 0.080333,
          "end_time": "2021-07-13T14:04:07.337907",
          "exception": false,
          "start_time": "2021-07-13T14:04:07.257574",
          "status": "completed"
        },
        "tags": []
      },
      "source": [
        "def train_fn(train_loader, model, criterion, optimizer, epoch, scheduler, device):\n",
        "    batch_time = AverageMeter()\n",
        "    data_time = AverageMeter()\n",
        "    losses = AverageMeter()\n",
        "    scores = AverageMeter()\n",
        "\n",
        "    # switch to train mode\n",
        "    model.train()\n",
        "    start = end = time.time()\n",
        "    global_step = 0\n",
        "\n",
        "    for step, (images, labels) in enumerate(train_loader):\n",
        "        # measure data loading time\n",
        "        data_time.update(time.time() - end)\n",
        "        images = images.to(device)\n",
        "        labels = labels.to(device)\n",
        "        batch_size = labels.size(0)\n",
        "\n",
        "        y_preds = model(images.float())\n",
        "\n",
        "        loss = criterion(y_preds, labels)\n",
        "\n",
        "        # record loss\n",
        "        losses.update(loss.item(), batch_size)\n",
        "        if config.gradient_accumulation_steps > 1:\n",
        "            loss = loss / config.gradient_accumulation_steps\n",
        "        if Config.apex:\n",
        "            with amp.scale_loss(loss, optimizer) as scaled_loss:\n",
        "                scaled_loss.backward()\n",
        "        else:\n",
        "            loss.backward()\n",
        "\n",
        "        grad_norm = torch.nn.utils.clip_grad_norm_(model.parameters(), config.max_grad_norm)\n",
        "\n",
        "        if (step + 1) % config.gradient_accumulation_steps == 0:\n",
        "            optimizer.step()\n",
        "            optimizer.zero_grad()\n",
        "            global_step += 1\n",
        "\n",
        "        # measure elapsed time\n",
        "        batch_time.update(time.time() - end)\n",
        "        end = time.time()\n",
        "\n",
        "        if step % Config.print_freq == 0 or step == (len(train_loader) - 1):\n",
        "            print(\n",
        "                f\"Epoch: [{epoch + 1}][{step}/{len(train_loader)}] \"\n",
        "                f\"Elapsed {timeSince(start, float(step + 1) / len(train_loader)):s} \"\n",
        "                f\"Loss: {losses.val:.4f}({losses.avg:.4f}) \"\n",
        "                f\"Grad: {grad_norm:.4f} \"\n",
        "                f\"LR: {scheduler.get_last_lr()[0]:.6f}  \"\n",
        "            )\n",
        "\n",
        "    return losses.avg"
      ],
      "execution_count": 39,
      "outputs": []
    },
    {
      "cell_type": "code",
      "metadata": {
        "execution": {
          "iopub.execute_input": "2021-07-13T14:04:07.484668Z",
          "iopub.status.busy": "2021-07-13T14:04:07.483771Z",
          "iopub.status.idle": "2021-07-13T14:04:07.494658Z",
          "shell.execute_reply": "2021-07-13T14:04:07.490453Z",
          "shell.execute_reply.started": "2021-07-13T13:58:16.054607Z"
        },
        "id": "186c441d",
        "papermill": {
          "duration": 0.087732,
          "end_time": "2021-07-13T14:04:07.494825",
          "exception": false,
          "start_time": "2021-07-13T14:04:07.407093",
          "status": "completed"
        },
        "tags": []
      },
      "source": [
        "def valid_fn(valid_loader, model, criterion, device):\n",
        "    batch_time = AverageMeter()\n",
        "    data_time = AverageMeter()\n",
        "    losses = AverageMeter()\n",
        "    scores = AverageMeter()\n",
        "\n",
        "    # switch to evaluation mode\n",
        "    model.eval()\n",
        "    preds = []\n",
        "    start = end = time.time()\n",
        "\n",
        "    for step, (images, labels) in enumerate(valid_loader):\n",
        "        # measure data loading time\n",
        "        data_time.update(time.time() - end)\n",
        "        images = images.to(device)\n",
        "        labels = labels.to(device)\n",
        "        batch_size = labels.size(0)\n",
        "\n",
        "        # compute loss\n",
        "        with torch.no_grad():\n",
        "            y_preds = model(images)\n",
        "\n",
        "        loss = criterion(y_preds, labels)\n",
        "        losses.update(loss.item(), batch_size)\n",
        "\n",
        "        # record accuracy\n",
        "        # preds.append(y_preds.softmax(1).to(\"cpu\").numpy())\n",
        "        preds.append(y_preds.to(\"cpu\").numpy())\n",
        "        if config.gradient_accumulation_steps > 1:\n",
        "            loss = loss / config.gradient_accumulation_steps\n",
        "\n",
        "        # measure elapsed time\n",
        "        batch_time.update(time.time() - end)\n",
        "        end = time.time()\n",
        "\n",
        "        if step % Config.print_freq == 0 or step == (len(valid_loader) - 1):\n",
        "            print(\n",
        "                f\"EVAL: [{step}/{len(valid_loader)}] \"\n",
        "                f\"Elapsed {timeSince(start, float(step + 1) / len(valid_loader)):s} \"\n",
        "                f\"Loss: {losses.val:.4f}({losses.avg:.4f}) \"\n",
        "            )\n",
        "    predictions = np.clip(np.concatenate(preds), 0, 3)\n",
        "    return losses.avg, predictions"
      ],
      "execution_count": 40,
      "outputs": []
    },
    {
      "cell_type": "code",
      "metadata": {
        "execution": {
          "iopub.execute_input": "2021-07-13T14:04:07.634152Z",
          "iopub.status.busy": "2021-07-13T14:04:07.633248Z",
          "iopub.status.idle": "2021-07-13T14:04:07.635358Z",
          "shell.execute_reply": "2021-07-13T14:04:07.636029Z",
          "shell.execute_reply.started": "2021-07-13T13:58:16.069317Z"
        },
        "id": "db7cdfc9",
        "papermill": {
          "duration": 0.076205,
          "end_time": "2021-07-13T14:04:07.636228",
          "exception": false,
          "start_time": "2021-07-13T14:04:07.560023",
          "status": "completed"
        },
        "tags": []
      },
      "source": [
        "def inference(test_loader):\n",
        "    predictions = []\n",
        "    for model_item in inference_models:\n",
        "        for fold in range(config.n_fold):\n",
        "            LOGGER.info(f\"========== ID: {model_item['run_id']} model: {model_item['model_name']} fold: {fold} inference ==========\")\n",
        "            model = Atma11Net(model_item[\"model_name\"])\n",
        "            model.to(device)\n",
        "            model.load_state_dict(model_item[f\"state_fold{fold}\"])\n",
        "            model.eval()\n",
        "            preds = []\n",
        "            for i, (images) in enumerate(test_loader):\n",
        "                images = images.to(device)\n",
        "                with torch.no_grad():\n",
        "                    y_preds = model(images)\n",
        "                # avg_preds.append(y_preds.softmax(1).to(\"cpu\").numpy())\n",
        "                preds.append(y_preds.to(\"cpu\").numpy())\n",
        "            preds = np.concatenate(preds)\n",
        "            predictions.append(preds)\n",
        "    predictions = np.clip(np.mean(predictions, axis=0), 0, 3)\n",
        "    return predictions\n"
      ],
      "execution_count": 41,
      "outputs": []
    },
    {
      "cell_type": "markdown",
      "metadata": {
        "id": "df9663c1",
        "papermill": {
          "duration": 0.065223,
          "end_time": "2021-07-13T14:04:07.769943",
          "exception": false,
          "start_time": "2021-07-13T14:04:07.70472",
          "status": "completed"
        },
        "tags": []
      },
      "source": [
        "## Train loop"
      ]
    },
    {
      "cell_type": "code",
      "metadata": {
        "execution": {
          "iopub.execute_input": "2021-07-13T14:04:07.93487Z",
          "iopub.status.busy": "2021-07-13T14:04:07.933739Z",
          "iopub.status.idle": "2021-07-13T14:04:07.942028Z",
          "shell.execute_reply": "2021-07-13T14:04:07.942658Z",
          "shell.execute_reply.started": "2021-07-13T13:58:16.081244Z"
        },
        "id": "357969e6",
        "papermill": {
          "duration": 0.102766,
          "end_time": "2021-07-13T14:04:07.94284",
          "exception": false,
          "start_time": "2021-07-13T14:04:07.840074",
          "status": "completed"
        },
        "tags": []
      },
      "source": [
        "def train_loop(folds, fold):\n",
        "\n",
        "    LOGGER.info(f\"========== fold: {fold} training ==========\")\n",
        "\n",
        "    # ====================================================\n",
        "    # Data Loader\n",
        "    # ====================================================\n",
        "    trn_idx = folds[folds[\"fold\"] != fold].index\n",
        "    val_idx = folds[folds[\"fold\"] == fold].index\n",
        "\n",
        "    train_folds = folds.loc[trn_idx].reset_index(drop=True)\n",
        "    valid_folds = folds.loc[val_idx].reset_index(drop=True)\n",
        "\n",
        "    train_dataset = TrainDataset(train_folds, transform=get_transforms(data=\"train\"))\n",
        "    train_dataset_weak_aug = TrainDataset(train_folds, transform=get_transforms(data=\"weak_train\"))\n",
        "    train_dataset_no_aug = TrainDataset(train_folds, transform=get_transforms(data=\"valid\"))\n",
        "    valid_dataset = TrainDataset(valid_folds, transform=get_transforms(data=\"valid\"))\n",
        "\n",
        "    train_loader = DataLoader(\n",
        "        train_dataset,\n",
        "        batch_size=config.batch_size,\n",
        "        shuffle=True,\n",
        "        num_workers=config.num_workers,\n",
        "        pin_memory=True,\n",
        "        drop_last=True,\n",
        "    )\n",
        "    train_loader_weak_aug = DataLoader(\n",
        "        train_dataset_weak_aug,\n",
        "        batch_size=config.batch_size,\n",
        "        shuffle=True,\n",
        "        num_workers=config.num_workers,\n",
        "        pin_memory=True,\n",
        "        drop_last=True,\n",
        "    )\n",
        "    train_loader_no_aug = DataLoader(\n",
        "        train_dataset_no_aug,\n",
        "        batch_size=config.batch_size,\n",
        "        shuffle=True,\n",
        "        num_workers=config.num_workers,\n",
        "        pin_memory=True,\n",
        "        drop_last=True,\n",
        "    )\n",
        "    valid_loader = DataLoader(\n",
        "        valid_dataset,\n",
        "        batch_size=config.batch_size,\n",
        "        shuffle=False,\n",
        "        num_workers=config.num_workers,\n",
        "        pin_memory=True,\n",
        "        drop_last=False,\n",
        "    )\n",
        "\n",
        "    # ====================================================\n",
        "    # Scheduler\n",
        "    # ====================================================\n",
        "    def get_scheduler(optimizer):\n",
        "        if config.scheduler == \"ReduceLROnPlateau\":\n",
        "            scheduler = ReduceLROnPlateau(\n",
        "                optimizer, mode=\"min\", factor=config.factor, patience=config.patience, verbose=True, eps=config.eps\n",
        "            )\n",
        "        elif config.scheduler == \"CosineAnnealingLR\":\n",
        "            scheduler = CosineAnnealingLR(optimizer, T_max=config.T_max, eta_min=config.min_lr, last_epoch=-1)\n",
        "        elif config.scheduler == \"CosineAnnealingWarmRestarts\":\n",
        "            scheduler = CosineAnnealingWarmRestarts(\n",
        "                optimizer, T_0=config.T_0, T_mult=1, eta_min=config.min_lr, last_epoch=-1\n",
        "            )\n",
        "        return scheduler\n",
        "\n",
        "    # ====================================================\n",
        "    # Model & Optimizer\n",
        "    # ====================================================\n",
        "    model = Atma11Net(config.model_name)\n",
        "    model.to(device)\n",
        "\n",
        "    # Use multi GPU\n",
        "    if device == torch.device(\"cuda\") and not Config.apex and Config.multi_gpu:\n",
        "        model = torch.nn.DataParallel(model)  # make parallel\n",
        "        # torch.backends.cudnn.benchmark=True\n",
        "\n",
        "    optimizer = Adam(model.parameters(), lr=config.lr, weight_decay=config.weight_decay, amsgrad=False)\n",
        "    scheduler = get_scheduler(optimizer)\n",
        "\n",
        "    # ====================================================\n",
        "    # Apex\n",
        "    # ====================================================\n",
        "    if Config.apex:\n",
        "        model, optimizer = amp.initialize(model, optimizer, opt_level=\"O1\", verbosity=0)\n",
        "\n",
        "    # ====================================================\n",
        "    # Criterion\n",
        "    # ====================================================\n",
        "    def get_criterion():\n",
        "        if config.criterion == \"CrossEntropyLoss\":\n",
        "            criterion = nn.CrossEntropyLoss()\n",
        "        elif config.criterion == \"RMSELoss\":\n",
        "            criterion = RMSELoss()\n",
        "        return criterion\n",
        "\n",
        "    criterion = get_criterion()\n",
        "\n",
        "    # ====================================================\n",
        "    # Loop\n",
        "    # ====================================================\n",
        "    best_score = np.inf\n",
        "    best_loss = np.inf\n",
        "\n",
        "    # if not Config.multi_gpu:\n",
        "    #     wandb.watch(model, log_freq=Config.print_freq)\n",
        "\n",
        "    for epoch in range(config.epochs):\n",
        "\n",
        "        start_time = time.time()\n",
        "\n",
        "        # train\n",
        "        if config.no_aug or epoch <= 1 or epoch >= config.epochs - 2:\n",
        "            avg_loss = train_fn(train_loader_no_aug, model, criterion, optimizer, epoch, scheduler, device)\n",
        "        elif epoch >= config.epochs - 5:\n",
        "            avg_loss = train_fn(train_loader_weak_aug, model, criterion, optimizer, epoch, scheduler, device)\n",
        "        else:\n",
        "            avg_loss = train_fn(train_loader, model, criterion, optimizer, epoch, scheduler, device)\n",
        "\n",
        "        # eval\n",
        "        avg_val_loss, preds = valid_fn(valid_loader, model, criterion, device)\n",
        "        valid_labels = valid_folds[\"target\"].values\n",
        "\n",
        "        if isinstance(scheduler, ReduceLROnPlateau):\n",
        "            scheduler.step(avg_val_loss)\n",
        "        elif isinstance(scheduler, CosineAnnealingLR):\n",
        "            scheduler.step()\n",
        "        elif isinstance(scheduler, CosineAnnealingWarmRestarts):\n",
        "            scheduler.step()\n",
        "\n",
        "        # scoring\n",
        "        # score = get_score(valid_labels, preds.argmax(1))\n",
        "        score = get_score(valid_labels, preds)\n",
        "\n",
        "        elapsed = time.time() - start_time\n",
        "\n",
        "        LOGGER.info(\n",
        "            f\"Epoch {epoch+1} - avg_train_loss: {avg_loss:.4f}  avg_val_loss: {avg_val_loss:.4f}  time: {elapsed:.0f}s\"\n",
        "        )\n",
        "        LOGGER.info(f\"Epoch {epoch+1} - Score: {score}\")\n",
        "\n",
        "        wandb.log(\n",
        "            {\n",
        "                \"epoch\": epoch + 1,\n",
        "                f\"loss/train_fold{fold}\": avg_loss,\n",
        "                f\"loss/val_fold{fold}\": avg_val_loss,\n",
        "                f\"score/fold{fold}\": score,\n",
        "            }\n",
        "        )\n",
        "\n",
        "        if score < best_score:\n",
        "            best_score = score\n",
        "            LOGGER.info(f\"Epoch {epoch+1} - Save Best Score: {best_score:.4f} Model\")\n",
        "            torch.save(\n",
        "                {\"model\": model.state_dict(), \"preds\": preds}, OUTPUT_DIR + f\"{config.model_name}_fold{fold}_best.pth\"\n",
        "            )\n",
        "            wandb.save(OUTPUT_DIR + f\"{config.model_name}_fold{fold}_best.pth\")\n",
        "\n",
        "        # if epoch == config.epochs - 1:\n",
        "        #     LOGGER.info(f\"Epoch {epoch+1} - Save final model\")\n",
        "        #     torch.save(\n",
        "        #         {\"model\": model.state_dict(), \"preds\": preds}, OUTPUT_DIR + f\"{config.model_name}_fold{fold}_final.pth\"\n",
        "        #     )\n",
        "\n",
        "    check_point = torch.load(OUTPUT_DIR + f\"{config.model_name}_fold{fold}_best.pth\")\n",
        "\n",
        "    valid_folds[[str(c) for c in range(config.n_class)]] = check_point[\"preds\"]\n",
        "    valid_folds[\"preds\"] = check_point[\"preds\"]  # .argmax(1)\n",
        "\n",
        "    return valid_folds"
      ],
      "execution_count": 42,
      "outputs": []
    },
    {
      "cell_type": "markdown",
      "metadata": {
        "id": "97b42fa3",
        "papermill": {
          "duration": 0.066876,
          "end_time": "2021-07-13T14:04:08.228336",
          "exception": false,
          "start_time": "2021-07-13T14:04:08.16146",
          "status": "completed"
        },
        "tags": []
      },
      "source": [
        "## Main\n"
      ]
    },
    {
      "cell_type": "code",
      "metadata": {
        "execution": {
          "iopub.execute_input": "2021-07-13T14:04:08.370518Z",
          "iopub.status.busy": "2021-07-13T14:04:08.369075Z",
          "iopub.status.idle": "2021-07-13T14:04:08.372617Z",
          "shell.execute_reply": "2021-07-13T14:04:08.371995Z",
          "shell.execute_reply.started": "2021-07-13T13:58:16.125664Z"
        },
        "id": "5baf150d",
        "papermill": {
          "duration": 0.079984,
          "end_time": "2021-07-13T14:04:08.372767",
          "exception": false,
          "start_time": "2021-07-13T14:04:08.292783",
          "status": "completed"
        },
        "tags": []
      },
      "source": [
        "def main():\n",
        "    if Config.train:\n",
        "        oof_df = pd.DataFrame()\n",
        "        for fold in range(config.n_fold):\n",
        "            _oof_df = train_loop(folds, fold)\n",
        "            oof_df = pd.concat([oof_df, _oof_df])\n",
        "            LOGGER.info(f\"========== fold: {fold} result ==========\")\n",
        "            get_result(_oof_df, fold)\n",
        "            \n",
        "        # CV result\n",
        "        LOGGER.info(f\"========== CV ==========\")\n",
        "        get_result(oof_df)\n",
        "        \n",
        "        # save result\n",
        "        oof_df.to_csv(OUTPUT_DIR + \"oof_df.csv\", index=False)\n",
        "        wandb.save(OUTPUT_DIR + \"oof_df.csv\")\n",
        "        \n",
        "    if Config.validate:\n",
        "        probs = []\n",
        "\n",
        "        for n, model_item in enumerate(inference_models):\n",
        "            probs.append(train[f\"preds{n}\"].values)\n",
        "        preds = np.mean(probs, axis=0)\n",
        "\n",
        "        train[\"preds\"] = np.clip(preds, 0, 3)\n",
        "\n",
        "        # CV result\n",
        "        LOGGER.info(f\"========== CV ==========\")\n",
        "        get_result(train)\n",
        "        \n",
        "        # save result\n",
        "        train.to_csv(OUTPUT_DIR + \"validation_df.csv\", index=False)\n",
        "        wandb.save(OUTPUT_DIR + \"validation_df.csv\")\n",
        "\n",
        "    if Config.inference:\n",
        "        test_dataset = TestDataset(test, transform=get_transforms(data=\"valid\"))\n",
        "        test_loader = DataLoader(\n",
        "            test_dataset, batch_size=config.batch_size, shuffle=False, num_workers=config.num_workers, pin_memory=True\n",
        "        )\n",
        "        predictions = inference(test_loader)\n",
        "\n",
        "        # submission\n",
        "        sub[\"target\"] = predictions  # .argmax(1)\n",
        "        sub.to_csv(OUTPUT_DIR + \"submission.csv\", index=False)\n",
        "        wandb.save(OUTPUT_DIR + \"submission.csv\")\n"
      ],
      "execution_count": 43,
      "outputs": []
    },
    {
      "cell_type": "code",
      "metadata": {
        "execution": {
          "iopub.execute_input": "2021-07-13T14:04:08.515457Z",
          "iopub.status.busy": "2021-07-13T14:04:08.514623Z",
          "iopub.status.idle": "2021-07-13T14:15:36.642579Z",
          "shell.execute_reply": "2021-07-13T14:15:36.643656Z",
          "shell.execute_reply.started": "2021-07-13T13:58:16.140064Z"
        },
        "id": "726e744f",
        "papermill": {
          "duration": 688.200662,
          "end_time": "2021-07-13T14:15:36.643885",
          "exception": false,
          "start_time": "2021-07-13T14:04:08.443223",
          "status": "completed"
        },
        "tags": [],
        "colab": {
          "base_uri": "https://localhost:8080/"
        },
        "outputId": "71806e52-8eab-4a65-f496-f10ef29a7f7d"
      },
      "source": [
        "if __name__ == \"__main__\":\n",
        "    main()\n"
      ],
      "execution_count": 44,
      "outputs": [
        {
          "output_type": "stream",
          "text": [
            "========== fold: 0 training ==========\n"
          ],
          "name": "stderr"
        },
        {
          "output_type": "stream",
          "text": [
            "Epoch: [1][0/196] Elapsed 0m 0s (remain 2m 19s) Loss: 2.1366(2.1366) Grad: 16.4596 LR: 0.001000  \n",
            "Epoch: [1][50/196] Elapsed 0m 11s (remain 0m 31s) Loss: 0.9008(1.1311) Grad: 7.8226 LR: 0.001000  \n",
            "Epoch: [1][100/196] Elapsed 0m 21s (remain 0m 20s) Loss: 1.0209(1.0622) Grad: 9.7184 LR: 0.001000  \n",
            "Epoch: [1][150/196] Elapsed 0m 31s (remain 0m 9s) Loss: 1.0618(1.0291) Grad: 2.8478 LR: 0.001000  \n",
            "Epoch: [1][195/196] Elapsed 0m 41s (remain 0m 0s) Loss: 0.5167(1.0190) Grad: 4.2183 LR: 0.001000  \n",
            "EVAL: [0/50] Elapsed 0m 0s (remain 0m 14s) Loss: 0.9420(0.9420) \n"
          ],
          "name": "stdout"
        },
        {
          "output_type": "stream",
          "text": [
            "Epoch 1 - avg_train_loss: 1.0190  avg_val_loss: 1.0540  time: 45s\n",
            "Epoch 1 - Score: 1.0553624472445733\n",
            "Epoch 1 - Save Best Score: 1.0554 Model\n"
          ],
          "name": "stderr"
        },
        {
          "output_type": "stream",
          "text": [
            "EVAL: [49/50] Elapsed 0m 3s (remain 0m 0s) Loss: 1.0401(1.0540) \n",
            "Epoch: [2][0/196] Elapsed 0m 0s (remain 2m 36s) Loss: 0.9023(0.9023) Grad: 8.6766 LR: 0.000994  \n",
            "Epoch: [2][50/196] Elapsed 0m 11s (remain 0m 31s) Loss: 0.8679(0.9475) Grad: 2.1695 LR: 0.000994  \n",
            "Epoch: [2][100/196] Elapsed 0m 21s (remain 0m 20s) Loss: 1.0563(0.9396) Grad: 6.0382 LR: 0.000994  \n",
            "Epoch: [2][150/196] Elapsed 0m 31s (remain 0m 9s) Loss: 1.5049(0.9264) Grad: 12.2138 LR: 0.000994  \n",
            "Epoch: [2][195/196] Elapsed 0m 41s (remain 0m 0s) Loss: 1.1387(0.9323) Grad: 5.8006 LR: 0.000994  \n",
            "EVAL: [0/50] Elapsed 0m 0s (remain 0m 18s) Loss: 0.8401(0.8401) \n"
          ],
          "name": "stdout"
        },
        {
          "output_type": "stream",
          "text": [
            "Epoch 2 - avg_train_loss: 0.9323  avg_val_loss: 0.9696  time: 45s\n",
            "Epoch 2 - Score: 0.9975205512968982\n",
            "Epoch 2 - Save Best Score: 0.9975 Model\n"
          ],
          "name": "stderr"
        },
        {
          "output_type": "stream",
          "text": [
            "EVAL: [49/50] Elapsed 0m 3s (remain 0m 0s) Loss: 0.9132(0.9696) \n",
            "Epoch: [3][0/196] Elapsed 0m 0s (remain 2m 22s) Loss: 0.8178(0.8178) Grad: 3.1992 LR: 0.000978  \n",
            "Epoch: [3][50/196] Elapsed 0m 11s (remain 0m 31s) Loss: 0.8713(0.9139) Grad: 4.3799 LR: 0.000978  \n",
            "Epoch: [3][100/196] Elapsed 0m 21s (remain 0m 20s) Loss: 0.9059(0.9001) Grad: 4.1950 LR: 0.000978  \n",
            "Epoch: [3][150/196] Elapsed 0m 31s (remain 0m 9s) Loss: 0.7082(0.8897) Grad: 4.9365 LR: 0.000978  \n",
            "Epoch: [3][195/196] Elapsed 0m 41s (remain 0m 0s) Loss: 0.8420(0.9028) Grad: 1.7076 LR: 0.000978  \n",
            "EVAL: [0/50] Elapsed 0m 0s (remain 0m 17s) Loss: 0.7157(0.7157) \n"
          ],
          "name": "stdout"
        },
        {
          "output_type": "stream",
          "text": [
            "Epoch 3 - avg_train_loss: 0.9028  avg_val_loss: 0.9048  time: 45s\n",
            "Epoch 3 - Score: 0.9280631417134378\n",
            "Epoch 3 - Save Best Score: 0.9281 Model\n"
          ],
          "name": "stderr"
        },
        {
          "output_type": "stream",
          "text": [
            "EVAL: [49/50] Elapsed 0m 3s (remain 0m 0s) Loss: 1.3732(0.9048) \n",
            "Epoch: [4][0/196] Elapsed 0m 0s (remain 2m 29s) Loss: 0.9120(0.9120) Grad: 2.1592 LR: 0.000951  \n",
            "Epoch: [4][50/196] Elapsed 0m 11s (remain 0m 31s) Loss: 1.1736(0.9132) Grad: 7.9811 LR: 0.000951  \n",
            "Epoch: [4][100/196] Elapsed 0m 21s (remain 0m 20s) Loss: 0.7622(0.8785) Grad: 2.2086 LR: 0.000951  \n",
            "Epoch: [4][150/196] Elapsed 0m 31s (remain 0m 9s) Loss: 1.0952(0.8728) Grad: 3.9665 LR: 0.000951  \n",
            "Epoch: [4][195/196] Elapsed 0m 41s (remain 0m 0s) Loss: 0.7367(0.8790) Grad: 1.9501 LR: 0.000951  \n",
            "EVAL: [0/50] Elapsed 0m 0s (remain 0m 20s) Loss: 0.7500(0.7500) \n"
          ],
          "name": "stdout"
        },
        {
          "output_type": "stream",
          "text": [
            "Epoch 4 - avg_train_loss: 0.8790  avg_val_loss: 0.9311  time: 45s\n",
            "Epoch 4 - Score: 0.9594421892865755\n"
          ],
          "name": "stderr"
        },
        {
          "output_type": "stream",
          "text": [
            "EVAL: [49/50] Elapsed 0m 3s (remain 0m 0s) Loss: 1.5650(0.9311) \n",
            "Epoch: [5][0/196] Elapsed 0m 0s (remain 1m 51s) Loss: 0.7244(0.7244) Grad: 3.7146 LR: 0.000914  \n",
            "Epoch: [5][50/196] Elapsed 0m 10s (remain 0m 31s) Loss: 0.7230(0.8525) Grad: 2.0567 LR: 0.000914  \n",
            "Epoch: [5][100/196] Elapsed 0m 21s (remain 0m 20s) Loss: 0.9250(0.8794) Grad: 1.7230 LR: 0.000914  \n",
            "Epoch: [5][150/196] Elapsed 0m 31s (remain 0m 9s) Loss: 1.0998(0.8808) Grad: 1.6618 LR: 0.000914  \n",
            "Epoch: [5][195/196] Elapsed 0m 40s (remain 0m 0s) Loss: 0.8946(0.8791) Grad: 3.0632 LR: 0.000914  \n",
            "EVAL: [0/50] Elapsed 0m 0s (remain 0m 19s) Loss: 0.7381(0.7381) \n"
          ],
          "name": "stdout"
        },
        {
          "output_type": "stream",
          "text": [
            "Epoch 5 - avg_train_loss: 0.8791  avg_val_loss: 0.9200  time: 44s\n",
            "Epoch 5 - Score: 0.9578915759323975\n"
          ],
          "name": "stderr"
        },
        {
          "output_type": "stream",
          "text": [
            "EVAL: [49/50] Elapsed 0m 3s (remain 0m 0s) Loss: 1.4686(0.9200) \n",
            "Epoch: [6][0/196] Elapsed 0m 0s (remain 1m 54s) Loss: 0.7978(0.7978) Grad: 3.4667 LR: 0.000868  \n",
            "Epoch: [6][50/196] Elapsed 0m 10s (remain 0m 31s) Loss: 0.8562(0.8624) Grad: 4.2694 LR: 0.000868  \n",
            "Epoch: [6][100/196] Elapsed 0m 21s (remain 0m 20s) Loss: 0.8796(0.8765) Grad: 4.3629 LR: 0.000868  \n",
            "Epoch: [6][150/196] Elapsed 0m 31s (remain 0m 9s) Loss: 0.9596(0.8713) Grad: 3.3132 LR: 0.000868  \n",
            "Epoch: [6][195/196] Elapsed 0m 40s (remain 0m 0s) Loss: 0.8841(0.8707) Grad: 1.5254 LR: 0.000868  \n",
            "EVAL: [0/50] Elapsed 0m 0s (remain 0m 13s) Loss: 0.5795(0.5795) \n"
          ],
          "name": "stdout"
        },
        {
          "output_type": "stream",
          "text": [
            "Epoch 6 - avg_train_loss: 0.8707  avg_val_loss: 0.8719  time: 44s\n",
            "Epoch 6 - Score: 0.9068119021144272\n",
            "Epoch 6 - Save Best Score: 0.9068 Model\n"
          ],
          "name": "stderr"
        },
        {
          "output_type": "stream",
          "text": [
            "EVAL: [49/50] Elapsed 0m 3s (remain 0m 0s) Loss: 1.4016(0.8719) \n",
            "Epoch: [7][0/196] Elapsed 0m 0s (remain 2m 26s) Loss: 0.6901(0.6901) Grad: 3.3957 LR: 0.000815  \n",
            "Epoch: [7][50/196] Elapsed 0m 11s (remain 0m 31s) Loss: 0.8042(0.8387) Grad: 3.4370 LR: 0.000815  \n",
            "Epoch: [7][100/196] Elapsed 0m 21s (remain 0m 20s) Loss: 0.7414(0.8370) Grad: 4.6921 LR: 0.000815  \n",
            "Epoch: [7][150/196] Elapsed 0m 31s (remain 0m 9s) Loss: 1.0135(0.8520) Grad: 2.1336 LR: 0.000815  \n",
            "Epoch: [7][195/196] Elapsed 0m 41s (remain 0m 0s) Loss: 0.6632(0.8564) Grad: 4.6299 LR: 0.000815  \n",
            "EVAL: [0/50] Elapsed 0m 0s (remain 0m 18s) Loss: 0.9780(0.9780) \n"
          ],
          "name": "stdout"
        },
        {
          "output_type": "stream",
          "text": [
            "Epoch 7 - avg_train_loss: 0.8564  avg_val_loss: 1.0929  time: 44s\n",
            "Epoch 7 - Score: 1.0887819978361581\n"
          ],
          "name": "stderr"
        },
        {
          "output_type": "stream",
          "text": [
            "EVAL: [49/50] Elapsed 0m 3s (remain 0m 0s) Loss: 1.7352(1.0929) \n",
            "Epoch: [8][0/196] Elapsed 0m 0s (remain 1m 49s) Loss: 0.7540(0.7540) Grad: 4.9026 LR: 0.000754  \n",
            "Epoch: [8][50/196] Elapsed 0m 11s (remain 0m 31s) Loss: 0.7213(0.8381) Grad: 2.3283 LR: 0.000754  \n",
            "Epoch: [8][100/196] Elapsed 0m 21s (remain 0m 20s) Loss: 0.7043(0.8591) Grad: 4.8882 LR: 0.000754  \n",
            "Epoch: [8][150/196] Elapsed 0m 31s (remain 0m 9s) Loss: 0.7536(0.8579) Grad: 5.1263 LR: 0.000754  \n",
            "Epoch: [8][195/196] Elapsed 0m 41s (remain 0m 0s) Loss: 0.8620(0.8585) Grad: 1.3188 LR: 0.000754  \n",
            "EVAL: [0/50] Elapsed 0m 0s (remain 0m 21s) Loss: 0.8151(0.8151) \n"
          ],
          "name": "stdout"
        },
        {
          "output_type": "stream",
          "text": [
            "Epoch 8 - avg_train_loss: 0.8585  avg_val_loss: 1.0000  time: 45s\n",
            "Epoch 8 - Score: 1.0029088011616785\n"
          ],
          "name": "stderr"
        },
        {
          "output_type": "stream",
          "text": [
            "EVAL: [49/50] Elapsed 0m 3s (remain 0m 0s) Loss: 1.7366(1.0000) \n",
            "Epoch: [9][0/196] Elapsed 0m 0s (remain 1m 51s) Loss: 0.6623(0.6623) Grad: 6.1081 LR: 0.000689  \n",
            "Epoch: [9][50/196] Elapsed 0m 10s (remain 0m 30s) Loss: 0.7526(0.8375) Grad: 1.9406 LR: 0.000689  \n",
            "Epoch: [9][100/196] Elapsed 0m 21s (remain 0m 19s) Loss: 0.9662(0.8561) Grad: 6.7410 LR: 0.000689  \n",
            "Epoch: [9][150/196] Elapsed 0m 31s (remain 0m 9s) Loss: 1.0073(0.8578) Grad: 3.0011 LR: 0.000689  \n",
            "Epoch: [9][195/196] Elapsed 0m 40s (remain 0m 0s) Loss: 1.0221(0.8501) Grad: 4.0181 LR: 0.000689  \n",
            "EVAL: [0/50] Elapsed 0m 0s (remain 0m 20s) Loss: 0.9897(0.9897) \n"
          ],
          "name": "stdout"
        },
        {
          "output_type": "stream",
          "text": [
            "Epoch 9 - avg_train_loss: 0.8501  avg_val_loss: 0.9524  time: 44s\n",
            "Epoch 9 - Score: 0.9848022054501077\n"
          ],
          "name": "stderr"
        },
        {
          "output_type": "stream",
          "text": [
            "EVAL: [49/50] Elapsed 0m 3s (remain 0m 0s) Loss: 1.4895(0.9524) \n",
            "Epoch: [10][0/196] Elapsed 0m 0s (remain 1m 51s) Loss: 1.0405(1.0405) Grad: 3.6233 LR: 0.000620  \n",
            "Epoch: [10][50/196] Elapsed 0m 10s (remain 0m 31s) Loss: 1.0997(0.8414) Grad: 5.0907 LR: 0.000620  \n",
            "Epoch: [10][100/196] Elapsed 0m 21s (remain 0m 20s) Loss: 0.9514(0.8437) Grad: 3.4278 LR: 0.000620  \n",
            "Epoch: [10][150/196] Elapsed 0m 31s (remain 0m 9s) Loss: 0.9141(0.8348) Grad: 2.2600 LR: 0.000620  \n",
            "Epoch: [10][195/196] Elapsed 0m 40s (remain 0m 0s) Loss: 0.9299(0.8429) Grad: 2.2921 LR: 0.000620  \n",
            "EVAL: [0/50] Elapsed 0m 0s (remain 0m 13s) Loss: 0.7253(0.7253) \n"
          ],
          "name": "stdout"
        },
        {
          "output_type": "stream",
          "text": [
            "Epoch 10 - avg_train_loss: 0.8429  avg_val_loss: 0.9203  time: 44s\n",
            "Epoch 10 - Score: 0.9692797664733847\n"
          ],
          "name": "stderr"
        },
        {
          "output_type": "stream",
          "text": [
            "EVAL: [49/50] Elapsed 0m 3s (remain 0m 0s) Loss: 1.5273(0.9203) \n",
            "Epoch: [11][0/196] Elapsed 0m 0s (remain 1m 49s) Loss: 0.8106(0.8106) Grad: 3.3383 LR: 0.000550  \n",
            "Epoch: [11][50/196] Elapsed 0m 10s (remain 0m 30s) Loss: 1.0547(0.8861) Grad: 5.1023 LR: 0.000550  \n",
            "Epoch: [11][100/196] Elapsed 0m 21s (remain 0m 19s) Loss: 0.8849(0.8452) Grad: 6.4713 LR: 0.000550  \n",
            "Epoch: [11][150/196] Elapsed 0m 31s (remain 0m 9s) Loss: 0.8266(0.8397) Grad: 2.4659 LR: 0.000550  \n",
            "Epoch: [11][195/196] Elapsed 0m 40s (remain 0m 0s) Loss: 0.8725(0.8460) Grad: 1.9808 LR: 0.000550  \n",
            "EVAL: [0/50] Elapsed 0m 0s (remain 0m 16s) Loss: 0.8315(0.8315) \n"
          ],
          "name": "stdout"
        },
        {
          "output_type": "stream",
          "text": [
            "Epoch 11 - avg_train_loss: 0.8460  avg_val_loss: 0.9716  time: 44s\n",
            "Epoch 11 - Score: 1.003054656810896\n"
          ],
          "name": "stderr"
        },
        {
          "output_type": "stream",
          "text": [
            "EVAL: [49/50] Elapsed 0m 3s (remain 0m 0s) Loss: 1.8276(0.9716) \n",
            "Epoch: [12][0/196] Elapsed 0m 0s (remain 1m 40s) Loss: 0.8690(0.8690) Grad: 2.6166 LR: 0.000480  \n",
            "Epoch: [12][50/196] Elapsed 0m 10s (remain 0m 30s) Loss: 0.7272(0.8259) Grad: 4.3684 LR: 0.000480  \n",
            "Epoch: [12][100/196] Elapsed 0m 21s (remain 0m 19s) Loss: 0.9787(0.8355) Grad: 3.7186 LR: 0.000480  \n",
            "Epoch: [12][150/196] Elapsed 0m 31s (remain 0m 9s) Loss: 0.8480(0.8273) Grad: 2.0786 LR: 0.000480  \n",
            "Epoch: [12][195/196] Elapsed 0m 40s (remain 0m 0s) Loss: 0.8610(0.8281) Grad: 3.9381 LR: 0.000480  \n",
            "EVAL: [0/50] Elapsed 0m 0s (remain 0m 14s) Loss: 1.0565(1.0565) \n"
          ],
          "name": "stdout"
        },
        {
          "output_type": "stream",
          "text": [
            "Epoch 12 - avg_train_loss: 0.8281  avg_val_loss: 1.0623  time: 44s\n",
            "Epoch 12 - Score: 1.0643422786535002\n"
          ],
          "name": "stderr"
        },
        {
          "output_type": "stream",
          "text": [
            "EVAL: [49/50] Elapsed 0m 3s (remain 0m 0s) Loss: 1.7853(1.0623) \n",
            "Epoch: [13][0/196] Elapsed 0m 0s (remain 1m 42s) Loss: 0.8374(0.8374) Grad: 2.1065 LR: 0.000411  \n",
            "Epoch: [13][50/196] Elapsed 0m 10s (remain 0m 31s) Loss: 0.9033(0.8305) Grad: 2.7226 LR: 0.000411  \n",
            "Epoch: [13][100/196] Elapsed 0m 21s (remain 0m 20s) Loss: 0.8131(0.8008) Grad: 1.0426 LR: 0.000411  \n",
            "Epoch: [13][150/196] Elapsed 0m 31s (remain 0m 9s) Loss: 0.4632(0.8115) Grad: 2.7120 LR: 0.000411  \n",
            "Epoch: [13][195/196] Elapsed 0m 40s (remain 0m 0s) Loss: 0.9109(0.8174) Grad: 2.0394 LR: 0.000411  \n",
            "EVAL: [0/50] Elapsed 0m 0s (remain 0m 19s) Loss: 0.7176(0.7176) \n"
          ],
          "name": "stdout"
        },
        {
          "output_type": "stream",
          "text": [
            "Epoch 13 - avg_train_loss: 0.8174  avg_val_loss: 0.8652  time: 44s\n",
            "Epoch 13 - Score: 0.893342397440568\n",
            "Epoch 13 - Save Best Score: 0.8933 Model\n"
          ],
          "name": "stderr"
        },
        {
          "output_type": "stream",
          "text": [
            "EVAL: [49/50] Elapsed 0m 3s (remain 0m 0s) Loss: 1.5636(0.8652) \n",
            "Epoch: [14][0/196] Elapsed 0m 0s (remain 2m 23s) Loss: 0.8056(0.8056) Grad: 3.1727 LR: 0.000346  \n",
            "Epoch: [14][50/196] Elapsed 0m 11s (remain 0m 31s) Loss: 0.7608(0.7962) Grad: 1.8209 LR: 0.000346  \n",
            "Epoch: [14][100/196] Elapsed 0m 21s (remain 0m 20s) Loss: 0.6072(0.8033) Grad: 3.6530 LR: 0.000346  \n",
            "Epoch: [14][150/196] Elapsed 0m 31s (remain 0m 9s) Loss: 0.8652(0.8030) Grad: 2.4252 LR: 0.000346  \n",
            "Epoch: [14][195/196] Elapsed 0m 41s (remain 0m 0s) Loss: 0.8412(0.8051) Grad: 1.9044 LR: 0.000346  \n",
            "EVAL: [0/50] Elapsed 0m 0s (remain 0m 15s) Loss: 0.6124(0.6124) \n"
          ],
          "name": "stdout"
        },
        {
          "output_type": "stream",
          "text": [
            "Epoch 14 - avg_train_loss: 0.8051  avg_val_loss: 0.8805  time: 45s\n",
            "Epoch 14 - Score: 0.9009097878134553\n"
          ],
          "name": "stderr"
        },
        {
          "output_type": "stream",
          "text": [
            "EVAL: [49/50] Elapsed 0m 3s (remain 0m 0s) Loss: 1.4766(0.8805) \n",
            "Epoch: [15][0/196] Elapsed 0m 0s (remain 1m 59s) Loss: 0.8304(0.8304) Grad: 2.9034 LR: 0.000285  \n",
            "Epoch: [15][50/196] Elapsed 0m 10s (remain 0m 31s) Loss: 0.9969(0.8027) Grad: 1.5809 LR: 0.000285  \n",
            "Epoch: [15][100/196] Elapsed 0m 21s (remain 0m 20s) Loss: 0.6887(0.7972) Grad: 4.3055 LR: 0.000285  \n",
            "Epoch: [15][150/196] Elapsed 0m 31s (remain 0m 9s) Loss: 0.6420(0.8001) Grad: 1.8395 LR: 0.000285  \n",
            "Epoch: [15][195/196] Elapsed 0m 40s (remain 0m 0s) Loss: 0.7283(0.8092) Grad: 3.9961 LR: 0.000285  \n",
            "EVAL: [0/50] Elapsed 0m 0s (remain 0m 19s) Loss: 0.5595(0.5595) \n"
          ],
          "name": "stdout"
        },
        {
          "output_type": "stream",
          "text": [
            "Epoch 15 - avg_train_loss: 0.8092  avg_val_loss: 0.8299  time: 44s\n",
            "Epoch 15 - Score: 0.8660741679984043\n",
            "Epoch 15 - Save Best Score: 0.8661 Model\n"
          ],
          "name": "stderr"
        },
        {
          "output_type": "stream",
          "text": [
            "EVAL: [49/50] Elapsed 0m 3s (remain 0m 0s) Loss: 1.4785(0.8299) \n",
            "Epoch: [16][0/196] Elapsed 0m 0s (remain 2m 32s) Loss: 0.8038(0.8038) Grad: 3.7738 LR: 0.000232  \n",
            "Epoch: [16][50/196] Elapsed 0m 11s (remain 0m 31s) Loss: 0.8106(0.8084) Grad: 2.7423 LR: 0.000232  \n",
            "Epoch: [16][100/196] Elapsed 0m 21s (remain 0m 20s) Loss: 0.7399(0.8248) Grad: 1.9061 LR: 0.000232  \n",
            "Epoch: [16][150/196] Elapsed 0m 31s (remain 0m 9s) Loss: 0.6760(0.8052) Grad: 3.2037 LR: 0.000232  \n",
            "Epoch: [16][195/196] Elapsed 0m 41s (remain 0m 0s) Loss: 0.8233(0.8065) Grad: 3.1418 LR: 0.000232  \n",
            "EVAL: [0/50] Elapsed 0m 0s (remain 0m 21s) Loss: 0.7358(0.7358) \n"
          ],
          "name": "stdout"
        },
        {
          "output_type": "stream",
          "text": [
            "Epoch 16 - avg_train_loss: 0.8065  avg_val_loss: 0.8918  time: 45s\n",
            "Epoch 16 - Score: 0.9143097831737107\n"
          ],
          "name": "stderr"
        },
        {
          "output_type": "stream",
          "text": [
            "EVAL: [49/50] Elapsed 0m 3s (remain 0m 0s) Loss: 1.7123(0.8918) \n",
            "Epoch: [17][0/196] Elapsed 0m 0s (remain 1m 49s) Loss: 0.5961(0.5961) Grad: 3.3093 LR: 0.000186  \n",
            "Epoch: [17][50/196] Elapsed 0m 10s (remain 0m 31s) Loss: 0.9559(0.7891) Grad: 3.9988 LR: 0.000186  \n",
            "Epoch: [17][100/196] Elapsed 0m 21s (remain 0m 19s) Loss: 0.9181(0.8002) Grad: 2.7283 LR: 0.000186  \n",
            "Epoch: [17][150/196] Elapsed 0m 31s (remain 0m 9s) Loss: 0.9268(0.8001) Grad: 2.8501 LR: 0.000186  \n",
            "Epoch: [17][195/196] Elapsed 0m 40s (remain 0m 0s) Loss: 0.6326(0.7975) Grad: 4.6210 LR: 0.000186  \n",
            "EVAL: [0/50] Elapsed 0m 0s (remain 0m 16s) Loss: 0.4831(0.4831) \n"
          ],
          "name": "stdout"
        },
        {
          "output_type": "stream",
          "text": [
            "Epoch 17 - avg_train_loss: 0.7975  avg_val_loss: 0.8525  time: 44s\n",
            "Epoch 17 - Score: 0.9039871993630207\n"
          ],
          "name": "stderr"
        },
        {
          "output_type": "stream",
          "text": [
            "EVAL: [49/50] Elapsed 0m 3s (remain 0m 0s) Loss: 1.6338(0.8525) \n",
            "Epoch: [18][0/196] Elapsed 0m 0s (remain 1m 38s) Loss: 0.8812(0.8812) Grad: 2.6236 LR: 0.000149  \n",
            "Epoch: [18][50/196] Elapsed 0m 10s (remain 0m 30s) Loss: 1.0032(0.7928) Grad: 2.3129 LR: 0.000149  \n",
            "Epoch: [18][100/196] Elapsed 0m 21s (remain 0m 19s) Loss: 0.7350(0.7933) Grad: 5.7319 LR: 0.000149  \n",
            "Epoch: [18][150/196] Elapsed 0m 31s (remain 0m 9s) Loss: 0.8995(0.8029) Grad: 2.9284 LR: 0.000149  \n",
            "Epoch: [18][195/196] Elapsed 0m 40s (remain 0m 0s) Loss: 0.6104(0.7895) Grad: 2.4239 LR: 0.000149  \n",
            "EVAL: [0/50] Elapsed 0m 0s (remain 0m 15s) Loss: 0.4823(0.4823) \n"
          ],
          "name": "stdout"
        },
        {
          "output_type": "stream",
          "text": [
            "Epoch 18 - avg_train_loss: 0.7895  avg_val_loss: 0.8466  time: 44s\n",
            "Epoch 18 - Score: 0.8945709654413192\n"
          ],
          "name": "stderr"
        },
        {
          "output_type": "stream",
          "text": [
            "EVAL: [49/50] Elapsed 0m 3s (remain 0m 0s) Loss: 1.7212(0.8466) \n",
            "Epoch: [19][0/196] Elapsed 0m 0s (remain 1m 41s) Loss: 0.8190(0.8190) Grad: 5.3693 LR: 0.000122  \n",
            "Epoch: [19][50/196] Elapsed 0m 10s (remain 0m 30s) Loss: 0.9222(0.7563) Grad: 4.5045 LR: 0.000122  \n",
            "Epoch: [19][100/196] Elapsed 0m 21s (remain 0m 19s) Loss: 0.9538(0.7456) Grad: 4.2980 LR: 0.000122  \n",
            "Epoch: [19][150/196] Elapsed 0m 31s (remain 0m 9s) Loss: 0.8199(0.7511) Grad: 3.4636 LR: 0.000122  \n",
            "Epoch: [19][195/196] Elapsed 0m 40s (remain 0m 0s) Loss: 0.7083(0.7643) Grad: 2.4975 LR: 0.000122  \n",
            "EVAL: [0/50] Elapsed 0m 0s (remain 0m 16s) Loss: 0.6291(0.6291) \n"
          ],
          "name": "stdout"
        },
        {
          "output_type": "stream",
          "text": [
            "Epoch 19 - avg_train_loss: 0.7643  avg_val_loss: 0.8458  time: 44s\n",
            "Epoch 19 - Score: 0.8845555934183185\n"
          ],
          "name": "stderr"
        },
        {
          "output_type": "stream",
          "text": [
            "EVAL: [49/50] Elapsed 0m 3s (remain 0m 0s) Loss: 1.6883(0.8458) \n",
            "Epoch: [20][0/196] Elapsed 0m 0s (remain 1m 56s) Loss: 0.7418(0.7418) Grad: 7.2960 LR: 0.000106  \n",
            "Epoch: [20][50/196] Elapsed 0m 10s (remain 0m 31s) Loss: 0.7980(0.7274) Grad: 3.0586 LR: 0.000106  \n",
            "Epoch: [20][100/196] Elapsed 0m 21s (remain 0m 20s) Loss: 0.7524(0.7523) Grad: 4.8305 LR: 0.000106  \n",
            "Epoch: [20][150/196] Elapsed 0m 31s (remain 0m 9s) Loss: 1.1131(0.7641) Grad: 5.8050 LR: 0.000106  \n",
            "Epoch: [20][195/196] Elapsed 0m 40s (remain 0m 0s) Loss: 0.7112(0.7712) Grad: 4.6828 LR: 0.000106  \n",
            "EVAL: [0/50] Elapsed 0m 0s (remain 0m 17s) Loss: 0.7672(0.7672) \n"
          ],
          "name": "stdout"
        },
        {
          "output_type": "stream",
          "text": [
            "Epoch 20 - avg_train_loss: 0.7712  avg_val_loss: 0.8485  time: 44s\n",
            "Epoch 20 - Score: 0.8833720759483101\n"
          ],
          "name": "stderr"
        },
        {
          "output_type": "stream",
          "text": [
            "EVAL: [49/50] Elapsed 0m 3s (remain 0m 0s) Loss: 1.6776(0.8485) \n"
          ],
          "name": "stdout"
        },
        {
          "output_type": "stream",
          "text": [
            "========== fold: 0 result ==========\n",
            "Score: 0.86607\n",
            "========== fold: 1 training ==========\n"
          ],
          "name": "stderr"
        },
        {
          "output_type": "stream",
          "text": [
            "Epoch: [1][0/196] Elapsed 0m 0s (remain 1m 39s) Loss: 2.3051(2.3051) Grad: 16.3725 LR: 0.001000  \n",
            "Epoch: [1][50/196] Elapsed 0m 10s (remain 0m 30s) Loss: 0.9088(1.1573) Grad: 2.5902 LR: 0.001000  \n",
            "Epoch: [1][100/196] Elapsed 0m 21s (remain 0m 19s) Loss: 1.5409(1.0806) Grad: 6.8127 LR: 0.001000  \n",
            "Epoch: [1][150/196] Elapsed 0m 31s (remain 0m 9s) Loss: 0.8795(1.0347) Grad: 5.3972 LR: 0.001000  \n",
            "Epoch: [1][195/196] Elapsed 0m 40s (remain 0m 0s) Loss: 0.8127(1.0126) Grad: 5.2047 LR: 0.001000  \n",
            "EVAL: [0/50] Elapsed 0m 0s (remain 0m 21s) Loss: 1.0666(1.0666) \n"
          ],
          "name": "stdout"
        },
        {
          "output_type": "stream",
          "text": [
            "Epoch 1 - avg_train_loss: 1.0126  avg_val_loss: 0.9452  time: 44s\n",
            "Epoch 1 - Score: 0.9811250083033761\n",
            "Epoch 1 - Save Best Score: 0.9811 Model\n"
          ],
          "name": "stderr"
        },
        {
          "output_type": "stream",
          "text": [
            "EVAL: [49/50] Elapsed 0m 3s (remain 0m 0s) Loss: 0.6315(0.9452) \n",
            "Epoch: [2][0/196] Elapsed 0m 0s (remain 2m 24s) Loss: 0.7929(0.7929) Grad: 6.3060 LR: 0.000994  \n",
            "Epoch: [2][50/196] Elapsed 0m 11s (remain 0m 31s) Loss: 0.7987(0.9250) Grad: 3.8346 LR: 0.000994  \n",
            "Epoch: [2][100/196] Elapsed 0m 21s (remain 0m 20s) Loss: 0.8905(0.9065) Grad: 2.3230 LR: 0.000994  \n",
            "Epoch: [2][150/196] Elapsed 0m 31s (remain 0m 9s) Loss: 0.7466(0.9146) Grad: 2.5629 LR: 0.000994  \n",
            "Epoch: [2][195/196] Elapsed 0m 41s (remain 0m 0s) Loss: 0.9613(0.9134) Grad: 5.7483 LR: 0.000994  \n",
            "EVAL: [0/50] Elapsed 0m 0s (remain 0m 18s) Loss: 1.2060(1.2060) \n"
          ],
          "name": "stdout"
        },
        {
          "output_type": "stream",
          "text": [
            "Epoch 2 - avg_train_loss: 0.9134  avg_val_loss: 0.9446  time: 45s\n",
            "Epoch 2 - Score: 0.9561639607950881\n",
            "Epoch 2 - Save Best Score: 0.9562 Model\n"
          ],
          "name": "stderr"
        },
        {
          "output_type": "stream",
          "text": [
            "EVAL: [49/50] Elapsed 0m 3s (remain 0m 0s) Loss: 0.7832(0.9446) \n",
            "Epoch: [3][0/196] Elapsed 0m 0s (remain 2m 39s) Loss: 1.2627(1.2627) Grad: 3.2778 LR: 0.000978  \n",
            "Epoch: [3][50/196] Elapsed 0m 11s (remain 0m 31s) Loss: 0.6969(0.9240) Grad: 2.3305 LR: 0.000978  \n",
            "Epoch: [3][100/196] Elapsed 0m 21s (remain 0m 20s) Loss: 0.9183(0.9119) Grad: 1.8086 LR: 0.000978  \n",
            "Epoch: [3][150/196] Elapsed 0m 31s (remain 0m 9s) Loss: 1.0716(0.9086) Grad: 2.5835 LR: 0.000978  \n",
            "Epoch: [3][195/196] Elapsed 0m 41s (remain 0m 0s) Loss: 0.9613(0.9005) Grad: 2.3257 LR: 0.000978  \n",
            "EVAL: [0/50] Elapsed 0m 0s (remain 0m 15s) Loss: 1.6849(1.6849) \n"
          ],
          "name": "stdout"
        },
        {
          "output_type": "stream",
          "text": [
            "Epoch 3 - avg_train_loss: 0.9005  avg_val_loss: 1.3184  time: 45s\n",
            "Epoch 3 - Score: 1.3054342564981047\n"
          ],
          "name": "stderr"
        },
        {
          "output_type": "stream",
          "text": [
            "EVAL: [49/50] Elapsed 0m 3s (remain 0m 0s) Loss: 1.3534(1.3184) \n",
            "Epoch: [4][0/196] Elapsed 0m 0s (remain 1m 51s) Loss: 0.8770(0.8770) Grad: 8.4022 LR: 0.000951  \n",
            "Epoch: [4][50/196] Elapsed 0m 10s (remain 0m 30s) Loss: 0.9836(0.8825) Grad: 5.5258 LR: 0.000951  \n",
            "Epoch: [4][100/196] Elapsed 0m 21s (remain 0m 19s) Loss: 1.1952(0.8921) Grad: 1.5885 LR: 0.000951  \n",
            "Epoch: [4][150/196] Elapsed 0m 31s (remain 0m 9s) Loss: 0.6529(0.8939) Grad: 2.6781 LR: 0.000951  \n",
            "Epoch: [4][195/196] Elapsed 0m 40s (remain 0m 0s) Loss: 0.6907(0.8961) Grad: 4.2726 LR: 0.000951  \n",
            "EVAL: [0/50] Elapsed 0m 0s (remain 0m 16s) Loss: 1.0649(1.0649) \n"
          ],
          "name": "stdout"
        },
        {
          "output_type": "stream",
          "text": [
            "Epoch 4 - avg_train_loss: 0.8961  avg_val_loss: 0.8827  time: 44s\n",
            "Epoch 4 - Score: 0.913259951076123\n",
            "Epoch 4 - Save Best Score: 0.9133 Model\n"
          ],
          "name": "stderr"
        },
        {
          "output_type": "stream",
          "text": [
            "EVAL: [49/50] Elapsed 0m 3s (remain 0m 0s) Loss: 0.6998(0.8827) \n",
            "Epoch: [5][0/196] Elapsed 0m 0s (remain 2m 31s) Loss: 0.8892(0.8892) Grad: 1.6144 LR: 0.000914  \n",
            "Epoch: [5][50/196] Elapsed 0m 11s (remain 0m 31s) Loss: 0.9123(0.9138) Grad: 3.9597 LR: 0.000914  \n",
            "Epoch: [5][100/196] Elapsed 0m 21s (remain 0m 20s) Loss: 0.7545(0.8825) Grad: 2.4726 LR: 0.000914  \n",
            "Epoch: [5][150/196] Elapsed 0m 31s (remain 0m 9s) Loss: 1.0588(0.8779) Grad: 6.0469 LR: 0.000914  \n",
            "Epoch: [5][195/196] Elapsed 0m 41s (remain 0m 0s) Loss: 0.8076(0.8755) Grad: 1.2552 LR: 0.000914  \n",
            "EVAL: [0/50] Elapsed 0m 0s (remain 0m 21s) Loss: 1.1806(1.1806) \n"
          ],
          "name": "stdout"
        },
        {
          "output_type": "stream",
          "text": [
            "Epoch 5 - avg_train_loss: 0.8755  avg_val_loss: 0.8927  time: 45s\n",
            "Epoch 5 - Score: 0.9102824427019635\n",
            "Epoch 5 - Save Best Score: 0.9103 Model\n"
          ],
          "name": "stderr"
        },
        {
          "output_type": "stream",
          "text": [
            "EVAL: [49/50] Elapsed 0m 3s (remain 0m 0s) Loss: 0.8245(0.8927) \n",
            "Epoch: [6][0/196] Elapsed 0m 0s (remain 2m 30s) Loss: 0.8906(0.8906) Grad: 1.0973 LR: 0.000868  \n",
            "Epoch: [6][50/196] Elapsed 0m 11s (remain 0m 31s) Loss: 1.0437(0.8544) Grad: 2.1894 LR: 0.000868  \n",
            "Epoch: [6][100/196] Elapsed 0m 21s (remain 0m 20s) Loss: 0.7580(0.8649) Grad: 2.4327 LR: 0.000868  \n",
            "Epoch: [6][150/196] Elapsed 0m 31s (remain 0m 9s) Loss: 0.8075(0.8575) Grad: 2.0188 LR: 0.000868  \n",
            "Epoch: [6][195/196] Elapsed 0m 41s (remain 0m 0s) Loss: 0.7385(0.8580) Grad: 1.0526 LR: 0.000868  \n",
            "EVAL: [0/50] Elapsed 0m 0s (remain 0m 20s) Loss: 1.0398(1.0398) \n"
          ],
          "name": "stdout"
        },
        {
          "output_type": "stream",
          "text": [
            "Epoch 6 - avg_train_loss: 0.8580  avg_val_loss: 0.9207  time: 45s\n",
            "Epoch 6 - Score: 0.9375175427351171\n"
          ],
          "name": "stderr"
        },
        {
          "output_type": "stream",
          "text": [
            "EVAL: [49/50] Elapsed 0m 3s (remain 0m 0s) Loss: 0.8152(0.9207) \n",
            "Epoch: [7][0/196] Elapsed 0m 0s (remain 1m 53s) Loss: 0.7044(0.7044) Grad: 1.3004 LR: 0.000815  \n",
            "Epoch: [7][50/196] Elapsed 0m 10s (remain 0m 31s) Loss: 0.7124(0.8725) Grad: 4.2974 LR: 0.000815  \n",
            "Epoch: [7][100/196] Elapsed 0m 21s (remain 0m 19s) Loss: 0.8735(0.8649) Grad: 4.0904 LR: 0.000815  \n",
            "Epoch: [7][150/196] Elapsed 0m 31s (remain 0m 9s) Loss: 0.8603(0.8633) Grad: 1.3496 LR: 0.000815  \n",
            "Epoch: [7][195/196] Elapsed 0m 40s (remain 0m 0s) Loss: 0.8732(0.8571) Grad: 4.2838 LR: 0.000815  \n",
            "EVAL: [0/50] Elapsed 0m 0s (remain 0m 16s) Loss: 0.9426(0.9426) \n"
          ],
          "name": "stdout"
        },
        {
          "output_type": "stream",
          "text": [
            "Epoch 7 - avg_train_loss: 0.8571  avg_val_loss: 0.9019  time: 44s\n",
            "Epoch 7 - Score: 0.9340969154928153\n"
          ],
          "name": "stderr"
        },
        {
          "output_type": "stream",
          "text": [
            "EVAL: [49/50] Elapsed 0m 3s (remain 0m 0s) Loss: 0.6912(0.9019) \n",
            "Epoch: [8][0/196] Elapsed 0m 0s (remain 1m 54s) Loss: 0.8074(0.8074) Grad: 3.2885 LR: 0.000754  \n",
            "Epoch: [8][50/196] Elapsed 0m 11s (remain 0m 31s) Loss: 0.8324(0.8361) Grad: 3.2211 LR: 0.000754  \n",
            "Epoch: [8][100/196] Elapsed 0m 21s (remain 0m 20s) Loss: 0.8744(0.8366) Grad: 2.0333 LR: 0.000754  \n",
            "Epoch: [8][150/196] Elapsed 0m 31s (remain 0m 9s) Loss: 0.7708(0.8348) Grad: 2.7546 LR: 0.000754  \n",
            "Epoch: [8][195/196] Elapsed 0m 40s (remain 0m 0s) Loss: 0.4763(0.8281) Grad: 2.0930 LR: 0.000754  \n",
            "EVAL: [0/50] Elapsed 0m 0s (remain 0m 20s) Loss: 0.9576(0.9576) \n"
          ],
          "name": "stdout"
        },
        {
          "output_type": "stream",
          "text": [
            "Epoch 8 - avg_train_loss: 0.8281  avg_val_loss: 0.8710  time: 44s\n",
            "Epoch 8 - Score: 0.9019340532424536\n",
            "Epoch 8 - Save Best Score: 0.9019 Model\n"
          ],
          "name": "stderr"
        },
        {
          "output_type": "stream",
          "text": [
            "EVAL: [49/50] Elapsed 0m 3s (remain 0m 0s) Loss: 0.8156(0.8710) \n",
            "Epoch: [9][0/196] Elapsed 0m 0s (remain 2m 29s) Loss: 0.9215(0.9215) Grad: 3.8206 LR: 0.000689  \n",
            "Epoch: [9][50/196] Elapsed 0m 11s (remain 0m 31s) Loss: 0.7712(0.8241) Grad: 2.1196 LR: 0.000689  \n",
            "Epoch: [9][100/196] Elapsed 0m 21s (remain 0m 20s) Loss: 0.8898(0.8227) Grad: 5.1746 LR: 0.000689  \n",
            "Epoch: [9][150/196] Elapsed 0m 31s (remain 0m 9s) Loss: 1.0260(0.8198) Grad: 2.7860 LR: 0.000689  \n",
            "Epoch: [9][195/196] Elapsed 0m 41s (remain 0m 0s) Loss: 0.9663(0.8210) Grad: 3.2884 LR: 0.000689  \n",
            "EVAL: [0/50] Elapsed 0m 0s (remain 0m 14s) Loss: 1.0843(1.0843) \n"
          ],
          "name": "stdout"
        },
        {
          "output_type": "stream",
          "text": [
            "Epoch 9 - avg_train_loss: 0.8210  avg_val_loss: 0.8499  time: 45s\n",
            "Epoch 9 - Score: 0.8737135319818919\n",
            "Epoch 9 - Save Best Score: 0.8737 Model\n"
          ],
          "name": "stderr"
        },
        {
          "output_type": "stream",
          "text": [
            "EVAL: [49/50] Elapsed 0m 3s (remain 0m 0s) Loss: 0.6463(0.8499) \n",
            "Epoch: [10][0/196] Elapsed 0m 0s (remain 2m 21s) Loss: 0.7641(0.7641) Grad: 1.5639 LR: 0.000620  \n",
            "Epoch: [10][50/196] Elapsed 0m 11s (remain 0m 31s) Loss: 0.7200(0.7907) Grad: 3.3214 LR: 0.000620  \n",
            "Epoch: [10][100/196] Elapsed 0m 21s (remain 0m 20s) Loss: 0.6589(0.8206) Grad: 2.1286 LR: 0.000620  \n",
            "Epoch: [10][150/196] Elapsed 0m 31s (remain 0m 9s) Loss: 0.6637(0.8173) Grad: 1.9851 LR: 0.000620  \n",
            "Epoch: [10][195/196] Elapsed 0m 40s (remain 0m 0s) Loss: 0.7875(0.8155) Grad: 1.1261 LR: 0.000620  \n",
            "EVAL: [0/50] Elapsed 0m 0s (remain 0m 19s) Loss: 1.0143(1.0143) \n"
          ],
          "name": "stdout"
        },
        {
          "output_type": "stream",
          "text": [
            "Epoch 10 - avg_train_loss: 0.8155  avg_val_loss: 0.8511  time: 44s\n",
            "Epoch 10 - Score: 0.9024597958868755\n"
          ],
          "name": "stderr"
        },
        {
          "output_type": "stream",
          "text": [
            "EVAL: [49/50] Elapsed 0m 3s (remain 0m 0s) Loss: 0.6809(0.8511) \n",
            "Epoch: [11][0/196] Elapsed 0m 0s (remain 2m 0s) Loss: 0.5970(0.5970) Grad: 4.4706 LR: 0.000550  \n",
            "Epoch: [11][50/196] Elapsed 0m 10s (remain 0m 31s) Loss: 0.8032(0.8109) Grad: 4.0664 LR: 0.000550  \n",
            "Epoch: [11][100/196] Elapsed 0m 21s (remain 0m 20s) Loss: 1.0787(0.8050) Grad: 6.7449 LR: 0.000550  \n",
            "Epoch: [11][150/196] Elapsed 0m 31s (remain 0m 9s) Loss: 0.8895(0.8083) Grad: 2.1568 LR: 0.000550  \n",
            "Epoch: [11][195/196] Elapsed 0m 41s (remain 0m 0s) Loss: 0.6690(0.8005) Grad: 3.9174 LR: 0.000550  \n",
            "EVAL: [0/50] Elapsed 0m 0s (remain 0m 19s) Loss: 0.9698(0.9698) \n"
          ],
          "name": "stdout"
        },
        {
          "output_type": "stream",
          "text": [
            "Epoch 11 - avg_train_loss: 0.8005  avg_val_loss: 0.8828  time: 44s\n",
            "Epoch 11 - Score: 0.9348224496654238\n"
          ],
          "name": "stderr"
        },
        {
          "output_type": "stream",
          "text": [
            "EVAL: [49/50] Elapsed 0m 3s (remain 0m 0s) Loss: 0.6756(0.8828) \n",
            "Epoch: [12][0/196] Elapsed 0m 0s (remain 1m 55s) Loss: 0.6442(0.6442) Grad: 3.2687 LR: 0.000480  \n",
            "Epoch: [12][50/196] Elapsed 0m 10s (remain 0m 30s) Loss: 0.7399(0.7395) Grad: 1.8580 LR: 0.000480  \n",
            "Epoch: [12][100/196] Elapsed 0m 21s (remain 0m 19s) Loss: 0.5359(0.7821) Grad: 5.4472 LR: 0.000480  \n",
            "Epoch: [12][150/196] Elapsed 0m 31s (remain 0m 9s) Loss: 0.7211(0.7928) Grad: 6.1002 LR: 0.000480  \n",
            "Epoch: [12][195/196] Elapsed 0m 40s (remain 0m 0s) Loss: 0.9387(0.7953) Grad: 3.2510 LR: 0.000480  \n",
            "EVAL: [0/50] Elapsed 0m 0s (remain 0m 15s) Loss: 1.0555(1.0555) \n"
          ],
          "name": "stdout"
        },
        {
          "output_type": "stream",
          "text": [
            "Epoch 12 - avg_train_loss: 0.7953  avg_val_loss: 0.8806  time: 44s\n",
            "Epoch 12 - Score: 0.9233565783239325\n"
          ],
          "name": "stderr"
        },
        {
          "output_type": "stream",
          "text": [
            "EVAL: [49/50] Elapsed 0m 3s (remain 0m 0s) Loss: 0.8406(0.8806) \n",
            "Epoch: [13][0/196] Elapsed 0m 0s (remain 1m 54s) Loss: 0.9751(0.9751) Grad: 2.4617 LR: 0.000411  \n",
            "Epoch: [13][50/196] Elapsed 0m 10s (remain 0m 31s) Loss: 0.4960(0.7762) Grad: 3.3558 LR: 0.000411  \n",
            "Epoch: [13][100/196] Elapsed 0m 21s (remain 0m 20s) Loss: 1.2388(0.7754) Grad: 5.0547 LR: 0.000411  \n",
            "Epoch: [13][150/196] Elapsed 0m 31s (remain 0m 9s) Loss: 0.6664(0.7813) Grad: 2.5921 LR: 0.000411  \n",
            "Epoch: [13][195/196] Elapsed 0m 40s (remain 0m 0s) Loss: 0.5728(0.7886) Grad: 3.0483 LR: 0.000411  \n",
            "EVAL: [0/50] Elapsed 0m 0s (remain 0m 21s) Loss: 1.0297(1.0297) \n"
          ],
          "name": "stdout"
        },
        {
          "output_type": "stream",
          "text": [
            "Epoch 13 - avg_train_loss: 0.7886  avg_val_loss: 0.8422  time: 44s\n",
            "Epoch 13 - Score: 0.8758415508978301\n"
          ],
          "name": "stderr"
        },
        {
          "output_type": "stream",
          "text": [
            "EVAL: [49/50] Elapsed 0m 3s (remain 0m 0s) Loss: 0.6698(0.8422) \n",
            "Epoch: [14][0/196] Elapsed 0m 0s (remain 1m 43s) Loss: 0.9078(0.9078) Grad: 1.9951 LR: 0.000346  \n",
            "Epoch: [14][50/196] Elapsed 0m 10s (remain 0m 30s) Loss: 0.7906(0.7948) Grad: 3.8028 LR: 0.000346  \n",
            "Epoch: [14][100/196] Elapsed 0m 21s (remain 0m 19s) Loss: 0.7616(0.7742) Grad: 4.6843 LR: 0.000346  \n",
            "Epoch: [14][150/196] Elapsed 0m 31s (remain 0m 9s) Loss: 0.7674(0.7810) Grad: 3.8599 LR: 0.000346  \n",
            "Epoch: [14][195/196] Elapsed 0m 40s (remain 0m 0s) Loss: 0.7184(0.7740) Grad: 0.9725 LR: 0.000346  \n",
            "EVAL: [0/50] Elapsed 0m 0s (remain 0m 19s) Loss: 0.8956(0.8956) \n"
          ],
          "name": "stdout"
        },
        {
          "output_type": "stream",
          "text": [
            "Epoch 14 - avg_train_loss: 0.7740  avg_val_loss: 0.8095  time: 44s\n",
            "Epoch 14 - Score: 0.8394144414087277\n",
            "Epoch 14 - Save Best Score: 0.8394 Model\n"
          ],
          "name": "stderr"
        },
        {
          "output_type": "stream",
          "text": [
            "EVAL: [49/50] Elapsed 0m 3s (remain 0m 0s) Loss: 0.6655(0.8095) \n",
            "Epoch: [15][0/196] Elapsed 0m 0s (remain 2m 38s) Loss: 0.7020(0.7020) Grad: 3.4809 LR: 0.000285  \n",
            "Epoch: [15][50/196] Elapsed 0m 11s (remain 0m 31s) Loss: 1.0083(0.8055) Grad: 5.6260 LR: 0.000285  \n",
            "Epoch: [15][100/196] Elapsed 0m 21s (remain 0m 20s) Loss: 0.8170(0.7687) Grad: 3.5095 LR: 0.000285  \n",
            "Epoch: [15][150/196] Elapsed 0m 31s (remain 0m 9s) Loss: 0.9546(0.7673) Grad: 5.7511 LR: 0.000285  \n",
            "Epoch: [15][195/196] Elapsed 0m 41s (remain 0m 0s) Loss: 0.6568(0.7679) Grad: 3.6947 LR: 0.000285  \n",
            "EVAL: [0/50] Elapsed 0m 0s (remain 0m 14s) Loss: 0.9143(0.9143) \n"
          ],
          "name": "stdout"
        },
        {
          "output_type": "stream",
          "text": [
            "Epoch 15 - avg_train_loss: 0.7679  avg_val_loss: 0.8260  time: 44s\n",
            "Epoch 15 - Score: 0.8761159490246837\n"
          ],
          "name": "stderr"
        },
        {
          "output_type": "stream",
          "text": [
            "EVAL: [49/50] Elapsed 0m 3s (remain 0m 0s) Loss: 0.6822(0.8260) \n",
            "Epoch: [16][0/196] Elapsed 0m 0s (remain 1m 46s) Loss: 0.6442(0.6442) Grad: 3.0307 LR: 0.000232  \n",
            "Epoch: [16][50/196] Elapsed 0m 10s (remain 0m 31s) Loss: 0.7362(0.7468) Grad: 3.0080 LR: 0.000232  \n",
            "Epoch: [16][100/196] Elapsed 0m 21s (remain 0m 20s) Loss: 0.9035(0.7498) Grad: 1.9513 LR: 0.000232  \n",
            "Epoch: [16][150/196] Elapsed 0m 31s (remain 0m 9s) Loss: 0.7828(0.7517) Grad: 2.3120 LR: 0.000232  \n",
            "Epoch: [16][195/196] Elapsed 0m 40s (remain 0m 0s) Loss: 0.8548(0.7528) Grad: 5.2689 LR: 0.000232  \n",
            "EVAL: [0/50] Elapsed 0m 0s (remain 0m 16s) Loss: 0.8780(0.8780) \n"
          ],
          "name": "stdout"
        },
        {
          "output_type": "stream",
          "text": [
            "Epoch 16 - avg_train_loss: 0.7528  avg_val_loss: 0.8168  time: 44s\n",
            "Epoch 16 - Score: 0.864330410670413\n"
          ],
          "name": "stderr"
        },
        {
          "output_type": "stream",
          "text": [
            "EVAL: [49/50] Elapsed 0m 3s (remain 0m 0s) Loss: 0.7525(0.8168) \n",
            "Epoch: [17][0/196] Elapsed 0m 0s (remain 1m 55s) Loss: 0.8861(0.8861) Grad: 4.9741 LR: 0.000186  \n",
            "Epoch: [17][50/196] Elapsed 0m 10s (remain 0m 30s) Loss: 0.7052(0.7606) Grad: 1.5787 LR: 0.000186  \n",
            "Epoch: [17][100/196] Elapsed 0m 21s (remain 0m 19s) Loss: 0.5823(0.7328) Grad: 2.5358 LR: 0.000186  \n",
            "Epoch: [17][150/196] Elapsed 0m 31s (remain 0m 9s) Loss: 0.5333(0.7393) Grad: 2.9626 LR: 0.000186  \n",
            "Epoch: [17][195/196] Elapsed 0m 40s (remain 0m 0s) Loss: 0.6203(0.7357) Grad: 2.5894 LR: 0.000186  \n",
            "EVAL: [0/50] Elapsed 0m 0s (remain 0m 19s) Loss: 0.9377(0.9377) \n"
          ],
          "name": "stdout"
        },
        {
          "output_type": "stream",
          "text": [
            "Epoch 17 - avg_train_loss: 0.7357  avg_val_loss: 0.8977  time: 44s\n",
            "Epoch 17 - Score: 0.953332886319338\n"
          ],
          "name": "stderr"
        },
        {
          "output_type": "stream",
          "text": [
            "EVAL: [49/50] Elapsed 0m 3s (remain 0m 0s) Loss: 0.7855(0.8977) \n",
            "Epoch: [18][0/196] Elapsed 0m 0s (remain 1m 53s) Loss: 1.1335(1.1335) Grad: 3.7871 LR: 0.000149  \n",
            "Epoch: [18][50/196] Elapsed 0m 10s (remain 0m 30s) Loss: 0.8397(0.7115) Grad: 5.5274 LR: 0.000149  \n",
            "Epoch: [18][100/196] Elapsed 0m 21s (remain 0m 19s) Loss: 0.5830(0.7323) Grad: 2.2363 LR: 0.000149  \n",
            "Epoch: [18][150/196] Elapsed 0m 31s (remain 0m 9s) Loss: 0.5442(0.7298) Grad: 2.8879 LR: 0.000149  \n",
            "Epoch: [18][195/196] Elapsed 0m 40s (remain 0m 0s) Loss: 0.7305(0.7280) Grad: 3.1532 LR: 0.000149  \n",
            "EVAL: [0/50] Elapsed 0m 0s (remain 0m 15s) Loss: 0.8662(0.8662) \n"
          ],
          "name": "stdout"
        },
        {
          "output_type": "stream",
          "text": [
            "Epoch 18 - avg_train_loss: 0.7280  avg_val_loss: 0.8050  time: 44s\n",
            "Epoch 18 - Score: 0.838324077270924\n",
            "Epoch 18 - Save Best Score: 0.8383 Model\n"
          ],
          "name": "stderr"
        },
        {
          "output_type": "stream",
          "text": [
            "EVAL: [49/50] Elapsed 0m 3s (remain 0m 0s) Loss: 0.7390(0.8050) \n",
            "Epoch: [19][0/196] Elapsed 0m 0s (remain 2m 26s) Loss: 0.9933(0.9933) Grad: 6.8110 LR: 0.000122  \n",
            "Epoch: [19][50/196] Elapsed 0m 11s (remain 0m 31s) Loss: 0.8290(0.7358) Grad: 2.4635 LR: 0.000122  \n",
            "Epoch: [19][100/196] Elapsed 0m 21s (remain 0m 20s) Loss: 0.5554(0.7350) Grad: 5.4120 LR: 0.000122  \n",
            "Epoch: [19][150/196] Elapsed 0m 31s (remain 0m 9s) Loss: 0.6667(0.7245) Grad: 4.6470 LR: 0.000122  \n",
            "Epoch: [19][195/196] Elapsed 0m 41s (remain 0m 0s) Loss: 0.8141(0.7241) Grad: 4.7928 LR: 0.000122  \n",
            "EVAL: [0/50] Elapsed 0m 0s (remain 0m 16s) Loss: 0.8672(0.8672) \n"
          ],
          "name": "stdout"
        },
        {
          "output_type": "stream",
          "text": [
            "Epoch 19 - avg_train_loss: 0.7241  avg_val_loss: 0.8172  time: 45s\n",
            "Epoch 19 - Score: 0.8653600587965194\n"
          ],
          "name": "stderr"
        },
        {
          "output_type": "stream",
          "text": [
            "EVAL: [49/50] Elapsed 0m 3s (remain 0m 0s) Loss: 0.7716(0.8172) \n",
            "Epoch: [20][0/196] Elapsed 0m 0s (remain 2m 0s) Loss: 0.4693(0.4693) Grad: 3.6386 LR: 0.000106  \n",
            "Epoch: [20][50/196] Elapsed 0m 10s (remain 0m 31s) Loss: 0.7547(0.6923) Grad: 4.1615 LR: 0.000106  \n",
            "Epoch: [20][100/196] Elapsed 0m 21s (remain 0m 20s) Loss: 0.7955(0.7036) Grad: 5.6871 LR: 0.000106  \n",
            "Epoch: [20][150/196] Elapsed 0m 31s (remain 0m 9s) Loss: 1.0221(0.7022) Grad: 2.7671 LR: 0.000106  \n",
            "Epoch: [20][195/196] Elapsed 0m 40s (remain 0m 0s) Loss: 0.6547(0.7082) Grad: 3.2213 LR: 0.000106  \n",
            "EVAL: [0/50] Elapsed 0m 0s (remain 0m 15s) Loss: 0.8621(0.8621) \n"
          ],
          "name": "stdout"
        },
        {
          "output_type": "stream",
          "text": [
            "Epoch 20 - avg_train_loss: 0.7082  avg_val_loss: 0.8369  time: 44s\n",
            "Epoch 20 - Score: 0.8965621493120394\n"
          ],
          "name": "stderr"
        },
        {
          "output_type": "stream",
          "text": [
            "EVAL: [49/50] Elapsed 0m 3s (remain 0m 0s) Loss: 0.7802(0.8369) \n"
          ],
          "name": "stdout"
        },
        {
          "output_type": "stream",
          "text": [
            "========== fold: 1 result ==========\n",
            "Score: 0.83832\n",
            "========== fold: 2 training ==========\n"
          ],
          "name": "stderr"
        },
        {
          "output_type": "stream",
          "text": [
            "Epoch: [1][0/197] Elapsed 0m 0s (remain 1m 42s) Loss: 2.1984(2.1984) Grad: 16.7844 LR: 0.001000  \n",
            "Epoch: [1][50/197] Elapsed 0m 10s (remain 0m 31s) Loss: 1.1560(1.2035) Grad: 6.4103 LR: 0.001000  \n",
            "Epoch: [1][100/197] Elapsed 0m 21s (remain 0m 20s) Loss: 0.9007(1.1011) Grad: 8.1347 LR: 0.001000  \n",
            "Epoch: [1][150/197] Elapsed 0m 31s (remain 0m 9s) Loss: 0.8238(1.0437) Grad: 6.9840 LR: 0.001000  \n",
            "Epoch: [1][196/197] Elapsed 0m 41s (remain 0m 0s) Loss: 0.7315(1.0180) Grad: 0.9821 LR: 0.001000  \n",
            "EVAL: [0/49] Elapsed 0m 0s (remain 0m 15s) Loss: 0.9596(0.9596) \n"
          ],
          "name": "stdout"
        },
        {
          "output_type": "stream",
          "text": [
            "Epoch 1 - avg_train_loss: 1.0180  avg_val_loss: 0.9743  time: 44s\n",
            "Epoch 1 - Score: 0.9825243638578907\n",
            "Epoch 1 - Save Best Score: 0.9825 Model\n"
          ],
          "name": "stderr"
        },
        {
          "output_type": "stream",
          "text": [
            "EVAL: [48/49] Elapsed 0m 3s (remain 0m 0s) Loss: 1.0406(0.9743) \n",
            "Epoch: [2][0/197] Elapsed 0m 0s (remain 2m 38s) Loss: 0.7642(0.7642) Grad: 6.7320 LR: 0.000994  \n",
            "Epoch: [2][50/197] Elapsed 0m 11s (remain 0m 31s) Loss: 0.9695(0.9345) Grad: 2.4104 LR: 0.000994  \n",
            "Epoch: [2][100/197] Elapsed 0m 21s (remain 0m 20s) Loss: 0.8049(0.9211) Grad: 0.9070 LR: 0.000994  \n",
            "Epoch: [2][150/197] Elapsed 0m 31s (remain 0m 9s) Loss: 0.8095(0.9109) Grad: 4.5182 LR: 0.000994  \n",
            "Epoch: [2][196/197] Elapsed 0m 41s (remain 0m 0s) Loss: 0.7837(0.9114) Grad: 3.1885 LR: 0.000994  \n",
            "EVAL: [0/49] Elapsed 0m 0s (remain 0m 17s) Loss: 0.9980(0.9980) \n"
          ],
          "name": "stdout"
        },
        {
          "output_type": "stream",
          "text": [
            "Epoch 2 - avg_train_loss: 0.9114  avg_val_loss: 0.8846  time: 45s\n",
            "Epoch 2 - Score: 0.8862615049908338\n",
            "Epoch 2 - Save Best Score: 0.8863 Model\n"
          ],
          "name": "stderr"
        },
        {
          "output_type": "stream",
          "text": [
            "EVAL: [48/49] Elapsed 0m 3s (remain 0m 0s) Loss: 1.1185(0.8846) \n",
            "Epoch: [3][0/197] Elapsed 0m 0s (remain 2m 50s) Loss: 0.7772(0.7772) Grad: 3.8193 LR: 0.000978  \n",
            "Epoch: [3][50/197] Elapsed 0m 11s (remain 0m 32s) Loss: 0.9352(0.8796) Grad: 1.5923 LR: 0.000978  \n",
            "Epoch: [3][100/197] Elapsed 0m 21s (remain 0m 20s) Loss: 1.2721(0.8834) Grad: 5.6606 LR: 0.000978  \n",
            "Epoch: [3][150/197] Elapsed 0m 31s (remain 0m 9s) Loss: 0.6010(0.8864) Grad: 4.1273 LR: 0.000978  \n",
            "Epoch: [3][196/197] Elapsed 0m 41s (remain 0m 0s) Loss: 0.6375(0.8849) Grad: 2.1528 LR: 0.000978  \n",
            "EVAL: [0/49] Elapsed 0m 0s (remain 0m 18s) Loss: 0.9353(0.9353) \n"
          ],
          "name": "stdout"
        },
        {
          "output_type": "stream",
          "text": [
            "Epoch 3 - avg_train_loss: 0.8849  avg_val_loss: 1.0071  time: 45s\n",
            "Epoch 3 - Score: 1.022887948667883\n"
          ],
          "name": "stderr"
        },
        {
          "output_type": "stream",
          "text": [
            "EVAL: [48/49] Elapsed 0m 3s (remain 0m 0s) Loss: 1.1326(1.0071) \n",
            "Epoch: [4][0/197] Elapsed 0m 0s (remain 1m 47s) Loss: 0.7015(0.7015) Grad: 1.6861 LR: 0.000951  \n",
            "Epoch: [4][50/197] Elapsed 0m 10s (remain 0m 31s) Loss: 1.0100(0.8701) Grad: 1.9777 LR: 0.000951  \n",
            "Epoch: [4][100/197] Elapsed 0m 21s (remain 0m 20s) Loss: 1.0774(0.8988) Grad: 1.5783 LR: 0.000951  \n",
            "Epoch: [4][150/197] Elapsed 0m 31s (remain 0m 9s) Loss: 1.2199(0.8856) Grad: 7.5434 LR: 0.000951  \n",
            "Epoch: [4][196/197] Elapsed 0m 41s (remain 0m 0s) Loss: 0.9345(0.8832) Grad: 3.5808 LR: 0.000951  \n",
            "EVAL: [0/49] Elapsed 0m 0s (remain 0m 14s) Loss: 0.9572(0.9572) \n"
          ],
          "name": "stdout"
        },
        {
          "output_type": "stream",
          "text": [
            "Epoch 4 - avg_train_loss: 0.8832  avg_val_loss: 0.9233  time: 44s\n",
            "Epoch 4 - Score: 0.9312331880075293\n"
          ],
          "name": "stderr"
        },
        {
          "output_type": "stream",
          "text": [
            "EVAL: [48/49] Elapsed 0m 3s (remain 0m 0s) Loss: 0.9897(0.9233) \n",
            "Epoch: [5][0/197] Elapsed 0m 0s (remain 1m 54s) Loss: 0.7760(0.7760) Grad: 5.8380 LR: 0.000914  \n",
            "Epoch: [5][50/197] Elapsed 0m 10s (remain 0m 31s) Loss: 0.8093(0.8865) Grad: 3.8876 LR: 0.000914  \n",
            "Epoch: [5][100/197] Elapsed 0m 21s (remain 0m 20s) Loss: 0.7938(0.8667) Grad: 3.6982 LR: 0.000914  \n",
            "Epoch: [5][150/197] Elapsed 0m 31s (remain 0m 9s) Loss: 0.5739(0.8739) Grad: 3.9761 LR: 0.000914  \n",
            "Epoch: [5][196/197] Elapsed 0m 41s (remain 0m 0s) Loss: 0.7188(0.8678) Grad: 6.7809 LR: 0.000914  \n",
            "EVAL: [0/49] Elapsed 0m 0s (remain 0m 15s) Loss: 1.0122(1.0122) \n"
          ],
          "name": "stdout"
        },
        {
          "output_type": "stream",
          "text": [
            "Epoch 5 - avg_train_loss: 0.8678  avg_val_loss: 0.8653  time: 44s\n",
            "Epoch 5 - Score: 0.8608583028183585\n",
            "Epoch 5 - Save Best Score: 0.8609 Model\n"
          ],
          "name": "stderr"
        },
        {
          "output_type": "stream",
          "text": [
            "EVAL: [48/49] Elapsed 0m 3s (remain 0m 0s) Loss: 0.9110(0.8653) \n",
            "Epoch: [6][0/197] Elapsed 0m 0s (remain 2m 16s) Loss: 0.8584(0.8584) Grad: 1.5421 LR: 0.000868  \n",
            "Epoch: [6][50/197] Elapsed 0m 11s (remain 0m 31s) Loss: 0.4048(0.8567) Grad: 1.2484 LR: 0.000868  \n",
            "Epoch: [6][100/197] Elapsed 0m 21s (remain 0m 20s) Loss: 0.9672(0.8682) Grad: 4.3069 LR: 0.000868  \n",
            "Epoch: [6][150/197] Elapsed 0m 31s (remain 0m 9s) Loss: 0.8547(0.8631) Grad: 1.6752 LR: 0.000868  \n",
            "Epoch: [6][196/197] Elapsed 0m 41s (remain 0m 0s) Loss: 0.8684(0.8598) Grad: 3.6932 LR: 0.000868  \n",
            "EVAL: [0/49] Elapsed 0m 0s (remain 0m 21s) Loss: 0.9566(0.9566) \n"
          ],
          "name": "stdout"
        },
        {
          "output_type": "stream",
          "text": [
            "Epoch 6 - avg_train_loss: 0.8598  avg_val_loss: 0.8718  time: 45s\n",
            "Epoch 6 - Score: 0.8587343582062926\n",
            "Epoch 6 - Save Best Score: 0.8587 Model\n"
          ],
          "name": "stderr"
        },
        {
          "output_type": "stream",
          "text": [
            "EVAL: [48/49] Elapsed 0m 3s (remain 0m 0s) Loss: 1.0613(0.8718) \n",
            "Epoch: [7][0/197] Elapsed 0m 0s (remain 2m 30s) Loss: 1.0903(1.0903) Grad: 3.9795 LR: 0.000815  \n",
            "Epoch: [7][50/197] Elapsed 0m 11s (remain 0m 31s) Loss: 0.7779(0.8605) Grad: 2.6458 LR: 0.000815  \n",
            "Epoch: [7][100/197] Elapsed 0m 21s (remain 0m 20s) Loss: 0.8149(0.8714) Grad: 2.5822 LR: 0.000815  \n",
            "Epoch: [7][150/197] Elapsed 0m 31s (remain 0m 9s) Loss: 0.8490(0.8567) Grad: 4.8764 LR: 0.000815  \n",
            "Epoch: [7][196/197] Elapsed 0m 41s (remain 0m 0s) Loss: 0.6318(0.8479) Grad: 1.0184 LR: 0.000815  \n",
            "EVAL: [0/49] Elapsed 0m 0s (remain 0m 18s) Loss: 0.8675(0.8675) \n"
          ],
          "name": "stdout"
        },
        {
          "output_type": "stream",
          "text": [
            "Epoch 7 - avg_train_loss: 0.8479  avg_val_loss: 0.9060  time: 45s\n",
            "Epoch 7 - Score: 0.8996470600468757\n"
          ],
          "name": "stderr"
        },
        {
          "output_type": "stream",
          "text": [
            "EVAL: [48/49] Elapsed 0m 3s (remain 0m 0s) Loss: 1.0260(0.9060) \n",
            "Epoch: [8][0/197] Elapsed 0m 0s (remain 1m 54s) Loss: 0.7933(0.7933) Grad: 2.2967 LR: 0.000754  \n",
            "Epoch: [8][50/197] Elapsed 0m 10s (remain 0m 31s) Loss: 0.9825(0.8518) Grad: 6.1995 LR: 0.000754  \n",
            "Epoch: [8][100/197] Elapsed 0m 21s (remain 0m 20s) Loss: 1.0852(0.8695) Grad: 3.7555 LR: 0.000754  \n",
            "Epoch: [8][150/197] Elapsed 0m 31s (remain 0m 9s) Loss: 0.9349(0.8662) Grad: 1.2924 LR: 0.000754  \n",
            "Epoch: [8][196/197] Elapsed 0m 41s (remain 0m 0s) Loss: 0.7205(0.8612) Grad: 2.1220 LR: 0.000754  \n",
            "EVAL: [0/49] Elapsed 0m 0s (remain 0m 16s) Loss: 0.8220(0.8220) \n"
          ],
          "name": "stdout"
        },
        {
          "output_type": "stream",
          "text": [
            "Epoch 8 - avg_train_loss: 0.8612  avg_val_loss: 0.8690  time: 44s\n",
            "Epoch 8 - Score: 0.8693480754990169\n"
          ],
          "name": "stderr"
        },
        {
          "output_type": "stream",
          "text": [
            "EVAL: [48/49] Elapsed 0m 3s (remain 0m 0s) Loss: 0.9899(0.8690) \n",
            "Epoch: [9][0/197] Elapsed 0m 0s (remain 1m 37s) Loss: 0.8800(0.8800) Grad: 1.8420 LR: 0.000689  \n",
            "Epoch: [9][50/197] Elapsed 0m 10s (remain 0m 30s) Loss: 0.7925(0.8233) Grad: 4.3849 LR: 0.000689  \n",
            "Epoch: [9][100/197] Elapsed 0m 21s (remain 0m 20s) Loss: 0.9009(0.8486) Grad: 4.2607 LR: 0.000689  \n",
            "Epoch: [9][150/197] Elapsed 0m 31s (remain 0m 9s) Loss: 1.0583(0.8366) Grad: 3.1701 LR: 0.000689  \n",
            "Epoch: [9][196/197] Elapsed 0m 41s (remain 0m 0s) Loss: 0.7780(0.8343) Grad: 5.2169 LR: 0.000689  \n",
            "EVAL: [0/49] Elapsed 0m 0s (remain 0m 19s) Loss: 0.8029(0.8029) \n"
          ],
          "name": "stdout"
        },
        {
          "output_type": "stream",
          "text": [
            "Epoch 9 - avg_train_loss: 0.8343  avg_val_loss: 0.8534  time: 44s\n",
            "Epoch 9 - Score: 0.862836111236694\n"
          ],
          "name": "stderr"
        },
        {
          "output_type": "stream",
          "text": [
            "EVAL: [48/49] Elapsed 0m 3s (remain 0m 0s) Loss: 1.2088(0.8534) \n",
            "Epoch: [10][0/197] Elapsed 0m 0s (remain 1m 44s) Loss: 0.8456(0.8456) Grad: 2.0402 LR: 0.000620  \n",
            "Epoch: [10][50/197] Elapsed 0m 10s (remain 0m 31s) Loss: 0.5055(0.8257) Grad: 3.3602 LR: 0.000620  \n",
            "Epoch: [10][100/197] Elapsed 0m 21s (remain 0m 20s) Loss: 0.8894(0.8173) Grad: 1.7883 LR: 0.000620  \n",
            "Epoch: [10][150/197] Elapsed 0m 31s (remain 0m 9s) Loss: 1.0186(0.8383) Grad: 5.9016 LR: 0.000620  \n",
            "Epoch: [10][196/197] Elapsed 0m 40s (remain 0m 0s) Loss: 0.9923(0.8360) Grad: 2.7409 LR: 0.000620  \n",
            "EVAL: [0/49] Elapsed 0m 0s (remain 0m 18s) Loss: 0.9095(0.9095) \n"
          ],
          "name": "stdout"
        },
        {
          "output_type": "stream",
          "text": [
            "Epoch 10 - avg_train_loss: 0.8360  avg_val_loss: 0.8506  time: 44s\n",
            "Epoch 10 - Score: 0.8393454856474517\n",
            "Epoch 10 - Save Best Score: 0.8393 Model\n"
          ],
          "name": "stderr"
        },
        {
          "output_type": "stream",
          "text": [
            "EVAL: [48/49] Elapsed 0m 3s (remain 0m 0s) Loss: 1.0194(0.8506) \n",
            "Epoch: [11][0/197] Elapsed 0m 0s (remain 2m 42s) Loss: 0.8497(0.8497) Grad: 4.8184 LR: 0.000550  \n",
            "Epoch: [11][50/197] Elapsed 0m 11s (remain 0m 32s) Loss: 0.7404(0.8044) Grad: 3.9562 LR: 0.000550  \n",
            "Epoch: [11][100/197] Elapsed 0m 21s (remain 0m 20s) Loss: 1.0118(0.8293) Grad: 3.9015 LR: 0.000550  \n",
            "Epoch: [11][150/197] Elapsed 0m 31s (remain 0m 9s) Loss: 1.0532(0.8325) Grad: 1.5615 LR: 0.000550  \n",
            "Epoch: [11][196/197] Elapsed 0m 41s (remain 0m 0s) Loss: 0.7213(0.8282) Grad: 1.9411 LR: 0.000550  \n",
            "EVAL: [0/49] Elapsed 0m 0s (remain 0m 15s) Loss: 0.9122(0.9122) \n"
          ],
          "name": "stdout"
        },
        {
          "output_type": "stream",
          "text": [
            "Epoch 11 - avg_train_loss: 0.8282  avg_val_loss: 0.8718  time: 45s\n",
            "Epoch 11 - Score: 0.8791899539476504\n"
          ],
          "name": "stderr"
        },
        {
          "output_type": "stream",
          "text": [
            "EVAL: [48/49] Elapsed 0m 3s (remain 0m 0s) Loss: 0.9477(0.8718) \n",
            "Epoch: [12][0/197] Elapsed 0m 0s (remain 1m 42s) Loss: 0.8191(0.8191) Grad: 3.5460 LR: 0.000480  \n",
            "Epoch: [12][50/197] Elapsed 0m 10s (remain 0m 31s) Loss: 0.6946(0.7755) Grad: 2.1252 LR: 0.000480  \n",
            "Epoch: [12][100/197] Elapsed 0m 21s (remain 0m 20s) Loss: 0.8338(0.7888) Grad: 3.8842 LR: 0.000480  \n",
            "Epoch: [12][150/197] Elapsed 0m 31s (remain 0m 9s) Loss: 0.5518(0.8018) Grad: 4.0974 LR: 0.000480  \n",
            "Epoch: [12][196/197] Elapsed 0m 41s (remain 0m 0s) Loss: 0.8041(0.8074) Grad: 1.7210 LR: 0.000480  \n",
            "EVAL: [0/49] Elapsed 0m 0s (remain 0m 15s) Loss: 0.8742(0.8742) \n"
          ],
          "name": "stdout"
        },
        {
          "output_type": "stream",
          "text": [
            "Epoch 12 - avg_train_loss: 0.8074  avg_val_loss: 0.8236  time: 44s\n",
            "Epoch 12 - Score: 0.8188519269480524\n",
            "Epoch 12 - Save Best Score: 0.8189 Model\n"
          ],
          "name": "stderr"
        },
        {
          "output_type": "stream",
          "text": [
            "EVAL: [48/49] Elapsed 0m 3s (remain 0m 0s) Loss: 0.9056(0.8236) \n",
            "Epoch: [13][0/197] Elapsed 0m 0s (remain 2m 40s) Loss: 0.7131(0.7131) Grad: 3.0093 LR: 0.000411  \n",
            "Epoch: [13][50/197] Elapsed 0m 11s (remain 0m 32s) Loss: 0.9307(0.7887) Grad: 4.4720 LR: 0.000411  \n",
            "Epoch: [13][100/197] Elapsed 0m 21s (remain 0m 20s) Loss: 0.5799(0.7945) Grad: 2.4198 LR: 0.000411  \n",
            "Epoch: [13][150/197] Elapsed 0m 31s (remain 0m 9s) Loss: 0.8591(0.7996) Grad: 4.2244 LR: 0.000411  \n",
            "Epoch: [13][196/197] Elapsed 0m 41s (remain 0m 0s) Loss: 0.7876(0.7952) Grad: 2.3920 LR: 0.000411  \n",
            "EVAL: [0/49] Elapsed 0m 0s (remain 0m 14s) Loss: 0.8168(0.8168) \n"
          ],
          "name": "stdout"
        },
        {
          "output_type": "stream",
          "text": [
            "Epoch 13 - avg_train_loss: 0.7952  avg_val_loss: 0.8324  time: 45s\n",
            "Epoch 13 - Score: 0.8370063900857924\n"
          ],
          "name": "stderr"
        },
        {
          "output_type": "stream",
          "text": [
            "EVAL: [48/49] Elapsed 0m 3s (remain 0m 0s) Loss: 0.9329(0.8324) \n",
            "Epoch: [14][0/197] Elapsed 0m 0s (remain 1m 46s) Loss: 0.9787(0.9787) Grad: 4.7999 LR: 0.000346  \n",
            "Epoch: [14][50/197] Elapsed 0m 10s (remain 0m 31s) Loss: 0.7508(0.8066) Grad: 5.6685 LR: 0.000346  \n",
            "Epoch: [14][100/197] Elapsed 0m 21s (remain 0m 20s) Loss: 1.1151(0.8045) Grad: 2.8692 LR: 0.000346  \n",
            "Epoch: [14][150/197] Elapsed 0m 31s (remain 0m 9s) Loss: 1.0088(0.7935) Grad: 2.1512 LR: 0.000346  \n",
            "Epoch: [14][196/197] Elapsed 0m 41s (remain 0m 0s) Loss: 0.7383(0.7937) Grad: 3.1623 LR: 0.000346  \n",
            "EVAL: [0/49] Elapsed 0m 0s (remain 0m 15s) Loss: 0.7288(0.7288) \n"
          ],
          "name": "stdout"
        },
        {
          "output_type": "stream",
          "text": [
            "Epoch 14 - avg_train_loss: 0.7937  avg_val_loss: 0.8462  time: 45s\n",
            "Epoch 14 - Score: 0.85696502992291\n"
          ],
          "name": "stderr"
        },
        {
          "output_type": "stream",
          "text": [
            "EVAL: [48/49] Elapsed 0m 3s (remain 0m 0s) Loss: 0.9636(0.8462) \n",
            "Epoch: [15][0/197] Elapsed 0m 0s (remain 1m 58s) Loss: 0.8187(0.8187) Grad: 4.0893 LR: 0.000285  \n",
            "Epoch: [15][50/197] Elapsed 0m 10s (remain 0m 31s) Loss: 1.0921(0.7945) Grad: 3.6555 LR: 0.000285  \n",
            "Epoch: [15][100/197] Elapsed 0m 21s (remain 0m 20s) Loss: 0.8797(0.7820) Grad: 3.2999 LR: 0.000285  \n",
            "Epoch: [15][150/197] Elapsed 0m 31s (remain 0m 9s) Loss: 0.5930(0.7804) Grad: 3.5630 LR: 0.000285  \n",
            "Epoch: [15][196/197] Elapsed 0m 40s (remain 0m 0s) Loss: 0.9312(0.7793) Grad: 2.8719 LR: 0.000285  \n",
            "EVAL: [0/49] Elapsed 0m 0s (remain 0m 18s) Loss: 0.7618(0.7618) \n"
          ],
          "name": "stdout"
        },
        {
          "output_type": "stream",
          "text": [
            "Epoch 15 - avg_train_loss: 0.7793  avg_val_loss: 0.8280  time: 44s\n",
            "Epoch 15 - Score: 0.8363956612388574\n"
          ],
          "name": "stderr"
        },
        {
          "output_type": "stream",
          "text": [
            "EVAL: [48/49] Elapsed 0m 3s (remain 0m 0s) Loss: 1.0848(0.8280) \n",
            "Epoch: [16][0/197] Elapsed 0m 0s (remain 1m 51s) Loss: 1.1569(1.1569) Grad: 2.1581 LR: 0.000232  \n",
            "Epoch: [16][50/197] Elapsed 0m 10s (remain 0m 31s) Loss: 0.9753(0.7642) Grad: 2.8014 LR: 0.000232  \n",
            "Epoch: [16][100/197] Elapsed 0m 21s (remain 0m 20s) Loss: 0.9956(0.7589) Grad: 2.6059 LR: 0.000232  \n",
            "Epoch: [16][150/197] Elapsed 0m 31s (remain 0m 9s) Loss: 0.9327(0.7598) Grad: 3.8139 LR: 0.000232  \n",
            "Epoch: [16][196/197] Elapsed 0m 41s (remain 0m 0s) Loss: 0.8400(0.7663) Grad: 2.6527 LR: 0.000232  \n",
            "EVAL: [0/49] Elapsed 0m 0s (remain 0m 16s) Loss: 0.8387(0.8387) \n"
          ],
          "name": "stdout"
        },
        {
          "output_type": "stream",
          "text": [
            "Epoch 16 - avg_train_loss: 0.7663  avg_val_loss: 0.8112  time: 44s\n",
            "Epoch 16 - Score: 0.8084299646763625\n",
            "Epoch 16 - Save Best Score: 0.8084 Model\n"
          ],
          "name": "stderr"
        },
        {
          "output_type": "stream",
          "text": [
            "EVAL: [48/49] Elapsed 0m 3s (remain 0m 0s) Loss: 0.9194(0.8112) \n",
            "Epoch: [17][0/197] Elapsed 0m 0s (remain 2m 25s) Loss: 0.7650(0.7650) Grad: 1.7838 LR: 0.000186  \n",
            "Epoch: [17][50/197] Elapsed 0m 11s (remain 0m 31s) Loss: 0.8366(0.7783) Grad: 4.0600 LR: 0.000186  \n",
            "Epoch: [17][100/197] Elapsed 0m 21s (remain 0m 20s) Loss: 0.6618(0.7591) Grad: 3.3378 LR: 0.000186  \n",
            "Epoch: [17][150/197] Elapsed 0m 31s (remain 0m 9s) Loss: 0.5894(0.7613) Grad: 5.2648 LR: 0.000186  \n",
            "Epoch: [17][196/197] Elapsed 0m 41s (remain 0m 0s) Loss: 0.6783(0.7583) Grad: 2.5373 LR: 0.000186  \n",
            "EVAL: [0/49] Elapsed 0m 0s (remain 0m 14s) Loss: 0.8332(0.8332) \n"
          ],
          "name": "stdout"
        },
        {
          "output_type": "stream",
          "text": [
            "Epoch 17 - avg_train_loss: 0.7583  avg_val_loss: 0.8339  time: 45s\n",
            "Epoch 17 - Score: 0.8421046458300929\n"
          ],
          "name": "stderr"
        },
        {
          "output_type": "stream",
          "text": [
            "EVAL: [48/49] Elapsed 0m 3s (remain 0m 0s) Loss: 1.0043(0.8339) \n",
            "Epoch: [18][0/197] Elapsed 0m 0s (remain 2m 5s) Loss: 0.6838(0.6838) Grad: 5.3856 LR: 0.000149  \n",
            "Epoch: [18][50/197] Elapsed 0m 10s (remain 0m 31s) Loss: 0.9243(0.7114) Grad: 3.0986 LR: 0.000149  \n",
            "Epoch: [18][100/197] Elapsed 0m 21s (remain 0m 20s) Loss: 0.5687(0.7400) Grad: 2.9224 LR: 0.000149  \n",
            "Epoch: [18][150/197] Elapsed 0m 31s (remain 0m 9s) Loss: 0.9088(0.7403) Grad: 2.4013 LR: 0.000149  \n",
            "Epoch: [18][196/197] Elapsed 0m 41s (remain 0m 0s) Loss: 0.7828(0.7467) Grad: 2.8625 LR: 0.000149  \n",
            "EVAL: [0/49] Elapsed 0m 0s (remain 0m 20s) Loss: 0.8845(0.8845) \n"
          ],
          "name": "stdout"
        },
        {
          "output_type": "stream",
          "text": [
            "Epoch 18 - avg_train_loss: 0.7467  avg_val_loss: 0.8225  time: 44s\n",
            "Epoch 18 - Score: 0.8220534911734689\n"
          ],
          "name": "stderr"
        },
        {
          "output_type": "stream",
          "text": [
            "EVAL: [48/49] Elapsed 0m 3s (remain 0m 0s) Loss: 1.0041(0.8225) \n",
            "Epoch: [19][0/197] Elapsed 0m 0s (remain 1m 59s) Loss: 0.6565(0.6565) Grad: 2.2799 LR: 0.000122  \n",
            "Epoch: [19][50/197] Elapsed 0m 10s (remain 0m 31s) Loss: 0.8587(0.7511) Grad: 2.3245 LR: 0.000122  \n",
            "Epoch: [19][100/197] Elapsed 0m 21s (remain 0m 20s) Loss: 0.5525(0.7387) Grad: 4.0087 LR: 0.000122  \n",
            "Epoch: [19][150/197] Elapsed 0m 31s (remain 0m 9s) Loss: 1.0123(0.7400) Grad: 6.2157 LR: 0.000122  \n",
            "Epoch: [19][196/197] Elapsed 0m 41s (remain 0m 0s) Loss: 0.7805(0.7373) Grad: 3.7605 LR: 0.000122  \n",
            "EVAL: [0/49] Elapsed 0m 0s (remain 0m 21s) Loss: 0.8559(0.8559) \n"
          ],
          "name": "stdout"
        },
        {
          "output_type": "stream",
          "text": [
            "Epoch 19 - avg_train_loss: 0.7373  avg_val_loss: 0.8286  time: 45s\n",
            "Epoch 19 - Score: 0.8242587798713221\n"
          ],
          "name": "stderr"
        },
        {
          "output_type": "stream",
          "text": [
            "EVAL: [48/49] Elapsed 0m 3s (remain 0m 0s) Loss: 1.0411(0.8286) \n",
            "Epoch: [20][0/197] Elapsed 0m 0s (remain 1m 54s) Loss: 0.7769(0.7769) Grad: 4.1404 LR: 0.000106  \n",
            "Epoch: [20][50/197] Elapsed 0m 10s (remain 0m 31s) Loss: 0.8484(0.7186) Grad: 2.3657 LR: 0.000106  \n",
            "Epoch: [20][100/197] Elapsed 0m 21s (remain 0m 20s) Loss: 0.9988(0.7410) Grad: 2.7266 LR: 0.000106  \n",
            "Epoch: [20][150/197] Elapsed 0m 31s (remain 0m 9s) Loss: 0.8166(0.7454) Grad: 3.5775 LR: 0.000106  \n",
            "Epoch: [20][196/197] Elapsed 0m 41s (remain 0m 0s) Loss: 0.9208(0.7404) Grad: 5.2559 LR: 0.000106  \n",
            "EVAL: [0/49] Elapsed 0m 0s (remain 0m 20s) Loss: 0.8292(0.8292) \n"
          ],
          "name": "stdout"
        },
        {
          "output_type": "stream",
          "text": [
            "Epoch 20 - avg_train_loss: 0.7404  avg_val_loss: 0.8251  time: 44s\n",
            "Epoch 20 - Score: 0.8190086379009358\n"
          ],
          "name": "stderr"
        },
        {
          "output_type": "stream",
          "text": [
            "EVAL: [48/49] Elapsed 0m 3s (remain 0m 0s) Loss: 1.0079(0.8251) \n"
          ],
          "name": "stdout"
        },
        {
          "output_type": "stream",
          "text": [
            "========== fold: 2 result ==========\n",
            "Score: 0.80843\n",
            "========== fold: 3 training ==========\n"
          ],
          "name": "stderr"
        },
        {
          "output_type": "stream",
          "text": [
            "Epoch: [1][0/197] Elapsed 0m 0s (remain 1m 44s) Loss: 2.6161(2.6161) Grad: 17.4126 LR: 0.001000  \n",
            "Epoch: [1][50/197] Elapsed 0m 10s (remain 0m 31s) Loss: 1.0048(1.1074) Grad: 3.1146 LR: 0.001000  \n",
            "Epoch: [1][100/197] Elapsed 0m 21s (remain 0m 20s) Loss: 0.8954(1.0375) Grad: 2.4880 LR: 0.001000  \n",
            "Epoch: [1][150/197] Elapsed 0m 31s (remain 0m 9s) Loss: 0.9770(1.0232) Grad: 12.4385 LR: 0.001000  \n",
            "Epoch: [1][196/197] Elapsed 0m 41s (remain 0m 0s) Loss: 1.2523(1.0178) Grad: 7.2484 LR: 0.001000  \n",
            "EVAL: [0/49] Elapsed 0m 0s (remain 0m 14s) Loss: 0.9000(0.9000) \n"
          ],
          "name": "stdout"
        },
        {
          "output_type": "stream",
          "text": [
            "Epoch 1 - avg_train_loss: 1.0178  avg_val_loss: 0.9647  time: 44s\n",
            "Epoch 1 - Score: 0.9692164929240472\n",
            "Epoch 1 - Save Best Score: 0.9692 Model\n"
          ],
          "name": "stderr"
        },
        {
          "output_type": "stream",
          "text": [
            "EVAL: [48/49] Elapsed 0m 3s (remain 0m 0s) Loss: 1.1411(0.9647) \n",
            "Epoch: [2][0/197] Elapsed 0m 0s (remain 2m 28s) Loss: 0.6983(0.6983) Grad: 4.6087 LR: 0.000994  \n",
            "Epoch: [2][50/197] Elapsed 0m 11s (remain 0m 31s) Loss: 0.9648(0.9493) Grad: 3.8057 LR: 0.000994  \n",
            "Epoch: [2][100/197] Elapsed 0m 21s (remain 0m 20s) Loss: 1.0809(0.9426) Grad: 7.8732 LR: 0.000994  \n",
            "Epoch: [2][150/197] Elapsed 0m 31s (remain 0m 9s) Loss: 0.9159(0.9382) Grad: 5.1819 LR: 0.000994  \n",
            "Epoch: [2][196/197] Elapsed 0m 41s (remain 0m 0s) Loss: 0.8646(0.9353) Grad: 5.4834 LR: 0.000994  \n",
            "EVAL: [0/49] Elapsed 0m 0s (remain 0m 22s) Loss: 0.9142(0.9142) \n"
          ],
          "name": "stdout"
        },
        {
          "output_type": "stream",
          "text": [
            "Epoch 2 - avg_train_loss: 0.9353  avg_val_loss: 0.9294  time: 45s\n",
            "Epoch 2 - Score: 0.9347216669419152\n",
            "Epoch 2 - Save Best Score: 0.9347 Model\n"
          ],
          "name": "stderr"
        },
        {
          "output_type": "stream",
          "text": [
            "EVAL: [48/49] Elapsed 0m 3s (remain 0m 0s) Loss: 0.9994(0.9294) \n",
            "Epoch: [3][0/197] Elapsed 0m 0s (remain 2m 39s) Loss: 0.8368(0.8368) Grad: 3.5774 LR: 0.000978  \n",
            "Epoch: [3][50/197] Elapsed 0m 11s (remain 0m 32s) Loss: 0.8660(0.8796) Grad: 3.1332 LR: 0.000978  \n",
            "Epoch: [3][100/197] Elapsed 0m 21s (remain 0m 20s) Loss: 0.8789(0.8985) Grad: 6.3038 LR: 0.000978  \n",
            "Epoch: [3][150/197] Elapsed 0m 31s (remain 0m 9s) Loss: 1.0073(0.8930) Grad: 2.8298 LR: 0.000978  \n",
            "Epoch: [3][196/197] Elapsed 0m 41s (remain 0m 0s) Loss: 0.9479(0.8993) Grad: 1.7621 LR: 0.000978  \n",
            "EVAL: [0/49] Elapsed 0m 0s (remain 0m 15s) Loss: 0.9150(0.9150) \n"
          ],
          "name": "stdout"
        },
        {
          "output_type": "stream",
          "text": [
            "Epoch 3 - avg_train_loss: 0.8993  avg_val_loss: 1.1005  time: 45s\n",
            "Epoch 3 - Score: 0.9889513728940207\n"
          ],
          "name": "stderr"
        },
        {
          "output_type": "stream",
          "text": [
            "EVAL: [48/49] Elapsed 0m 3s (remain 0m 0s) Loss: 0.9832(1.1005) \n",
            "Epoch: [4][0/197] Elapsed 0m 0s (remain 1m 54s) Loss: 0.9559(0.9559) Grad: 7.9274 LR: 0.000951  \n",
            "Epoch: [4][50/197] Elapsed 0m 10s (remain 0m 31s) Loss: 0.9805(0.9010) Grad: 10.1117 LR: 0.000951  \n",
            "Epoch: [4][100/197] Elapsed 0m 21s (remain 0m 20s) Loss: 1.0298(0.9048) Grad: 3.8983 LR: 0.000951  \n",
            "Epoch: [4][150/197] Elapsed 0m 31s (remain 0m 9s) Loss: 0.8547(0.8920) Grad: 3.8213 LR: 0.000951  \n",
            "Epoch: [4][196/197] Elapsed 0m 41s (remain 0m 0s) Loss: 0.8001(0.8958) Grad: 0.7354 LR: 0.000951  \n",
            "EVAL: [0/49] Elapsed 0m 0s (remain 0m 15s) Loss: 0.8952(0.8952) \n"
          ],
          "name": "stdout"
        },
        {
          "output_type": "stream",
          "text": [
            "Epoch 4 - avg_train_loss: 0.8958  avg_val_loss: 0.9273  time: 44s\n",
            "Epoch 4 - Score: 0.9300816623058286\n",
            "Epoch 4 - Save Best Score: 0.9301 Model\n"
          ],
          "name": "stderr"
        },
        {
          "output_type": "stream",
          "text": [
            "EVAL: [48/49] Elapsed 0m 3s (remain 0m 0s) Loss: 0.9255(0.9273) \n",
            "Epoch: [5][0/197] Elapsed 0m 0s (remain 2m 29s) Loss: 0.7483(0.7483) Grad: 3.8770 LR: 0.000914  \n",
            "Epoch: [5][50/197] Elapsed 0m 11s (remain 0m 31s) Loss: 1.0364(0.8668) Grad: 1.9307 LR: 0.000914  \n",
            "Epoch: [5][100/197] Elapsed 0m 21s (remain 0m 20s) Loss: 0.8335(0.8722) Grad: 2.9402 LR: 0.000914  \n",
            "Epoch: [5][150/197] Elapsed 0m 31s (remain 0m 9s) Loss: 1.0690(0.8703) Grad: 5.2415 LR: 0.000914  \n",
            "Epoch: [5][196/197] Elapsed 0m 41s (remain 0m 0s) Loss: 0.7521(0.8778) Grad: 2.3499 LR: 0.000914  \n",
            "EVAL: [0/49] Elapsed 0m 0s (remain 0m 16s) Loss: 0.9670(0.9670) \n"
          ],
          "name": "stdout"
        },
        {
          "output_type": "stream",
          "text": [
            "Epoch 5 - avg_train_loss: 0.8778  avg_val_loss: 0.8634  time: 45s\n",
            "Epoch 5 - Score: 0.8769044130267429\n",
            "Epoch 5 - Save Best Score: 0.8769 Model\n"
          ],
          "name": "stderr"
        },
        {
          "output_type": "stream",
          "text": [
            "EVAL: [48/49] Elapsed 0m 3s (remain 0m 0s) Loss: 0.8538(0.8634) \n",
            "Epoch: [6][0/197] Elapsed 0m 0s (remain 2m 47s) Loss: 0.8333(0.8333) Grad: 3.8398 LR: 0.000868  \n",
            "Epoch: [6][50/197] Elapsed 0m 11s (remain 0m 32s) Loss: 0.8114(0.8670) Grad: 5.4966 LR: 0.000868  \n",
            "Epoch: [6][100/197] Elapsed 0m 21s (remain 0m 20s) Loss: 0.7910(0.8849) Grad: 3.6703 LR: 0.000868  \n",
            "Epoch: [6][150/197] Elapsed 0m 31s (remain 0m 9s) Loss: 0.9668(0.8846) Grad: 7.5141 LR: 0.000868  \n",
            "Epoch: [6][196/197] Elapsed 0m 41s (remain 0m 0s) Loss: 0.8830(0.8826) Grad: 2.3651 LR: 0.000868  \n",
            "EVAL: [0/49] Elapsed 0m 0s (remain 0m 15s) Loss: 0.7718(0.7718) \n"
          ],
          "name": "stdout"
        },
        {
          "output_type": "stream",
          "text": [
            "Epoch 6 - avg_train_loss: 0.8826  avg_val_loss: 1.0531  time: 45s\n",
            "Epoch 6 - Score: 1.0007104228164314\n"
          ],
          "name": "stderr"
        },
        {
          "output_type": "stream",
          "text": [
            "EVAL: [48/49] Elapsed 0m 3s (remain 0m 0s) Loss: 1.0677(1.0531) \n",
            "Epoch: [7][0/197] Elapsed 0m 0s (remain 1m 40s) Loss: 1.1665(1.1665) Grad: 4.6028 LR: 0.000815  \n",
            "Epoch: [7][50/197] Elapsed 0m 10s (remain 0m 31s) Loss: 0.8443(0.8850) Grad: 6.8784 LR: 0.000815  \n",
            "Epoch: [7][100/197] Elapsed 0m 21s (remain 0m 20s) Loss: 1.0212(0.8692) Grad: 5.4986 LR: 0.000815  \n",
            "Epoch: [7][150/197] Elapsed 0m 31s (remain 0m 9s) Loss: 1.2979(0.8699) Grad: 5.4621 LR: 0.000815  \n",
            "Epoch: [7][196/197] Elapsed 0m 41s (remain 0m 0s) Loss: 1.0412(0.8763) Grad: 8.8619 LR: 0.000815  \n",
            "EVAL: [0/49] Elapsed 0m 0s (remain 0m 16s) Loss: 0.9969(0.9969) \n"
          ],
          "name": "stdout"
        },
        {
          "output_type": "stream",
          "text": [
            "Epoch 7 - avg_train_loss: 0.8763  avg_val_loss: 1.1731  time: 45s\n",
            "Epoch 7 - Score: 1.1571653603467114\n"
          ],
          "name": "stderr"
        },
        {
          "output_type": "stream",
          "text": [
            "EVAL: [48/49] Elapsed 0m 3s (remain 0m 0s) Loss: 1.1072(1.1731) \n",
            "Epoch: [8][0/197] Elapsed 0m 0s (remain 2m 7s) Loss: 0.9189(0.9189) Grad: 6.4659 LR: 0.000754  \n",
            "Epoch: [8][50/197] Elapsed 0m 11s (remain 0m 31s) Loss: 0.6986(0.8377) Grad: 3.1092 LR: 0.000754  \n",
            "Epoch: [8][100/197] Elapsed 0m 21s (remain 0m 20s) Loss: 0.7378(0.8463) Grad: 3.9385 LR: 0.000754  \n",
            "Epoch: [8][150/197] Elapsed 0m 31s (remain 0m 9s) Loss: 0.9278(0.8468) Grad: 3.9261 LR: 0.000754  \n",
            "Epoch: [8][196/197] Elapsed 0m 41s (remain 0m 0s) Loss: 0.6163(0.8457) Grad: 3.0734 LR: 0.000754  \n",
            "EVAL: [0/49] Elapsed 0m 0s (remain 0m 14s) Loss: 0.8727(0.8727) \n"
          ],
          "name": "stdout"
        },
        {
          "output_type": "stream",
          "text": [
            "Epoch 8 - avg_train_loss: 0.8457  avg_val_loss: 0.8153  time: 44s\n",
            "Epoch 8 - Score: 0.8335695744621614\n",
            "Epoch 8 - Save Best Score: 0.8336 Model\n"
          ],
          "name": "stderr"
        },
        {
          "output_type": "stream",
          "text": [
            "EVAL: [48/49] Elapsed 0m 3s (remain 0m 0s) Loss: 0.8776(0.8153) \n",
            "Epoch: [9][0/197] Elapsed 0m 0s (remain 2m 30s) Loss: 0.6458(0.6458) Grad: 2.2043 LR: 0.000689  \n",
            "Epoch: [9][50/197] Elapsed 0m 11s (remain 0m 31s) Loss: 1.0076(0.8260) Grad: 2.9137 LR: 0.000689  \n",
            "Epoch: [9][100/197] Elapsed 0m 21s (remain 0m 20s) Loss: 0.6560(0.8368) Grad: 1.7125 LR: 0.000689  \n",
            "Epoch: [9][150/197] Elapsed 0m 31s (remain 0m 9s) Loss: 0.8534(0.8410) Grad: 1.5451 LR: 0.000689  \n",
            "Epoch: [9][196/197] Elapsed 0m 41s (remain 0m 0s) Loss: 1.0421(0.8357) Grad: 2.5180 LR: 0.000689  \n",
            "EVAL: [0/49] Elapsed 0m 0s (remain 0m 18s) Loss: 0.8903(0.8903) \n"
          ],
          "name": "stdout"
        },
        {
          "output_type": "stream",
          "text": [
            "Epoch 9 - avg_train_loss: 0.8357  avg_val_loss: 0.8013  time: 45s\n",
            "Epoch 9 - Score: 0.824919387108082\n",
            "Epoch 9 - Save Best Score: 0.8249 Model\n"
          ],
          "name": "stderr"
        },
        {
          "output_type": "stream",
          "text": [
            "EVAL: [48/49] Elapsed 0m 3s (remain 0m 0s) Loss: 0.9954(0.8013) \n",
            "Epoch: [10][0/197] Elapsed 0m 0s (remain 2m 21s) Loss: 0.8083(0.8083) Grad: 2.1313 LR: 0.000620  \n",
            "Epoch: [10][50/197] Elapsed 0m 11s (remain 0m 31s) Loss: 0.9127(0.8291) Grad: 4.7393 LR: 0.000620  \n",
            "Epoch: [10][100/197] Elapsed 0m 21s (remain 0m 20s) Loss: 0.6925(0.8395) Grad: 4.8279 LR: 0.000620  \n",
            "Epoch: [10][150/197] Elapsed 0m 31s (remain 0m 9s) Loss: 0.7615(0.8199) Grad: 3.1946 LR: 0.000620  \n",
            "Epoch: [10][196/197] Elapsed 0m 41s (remain 0m 0s) Loss: 0.5901(0.8260) Grad: 3.3745 LR: 0.000620  \n",
            "EVAL: [0/49] Elapsed 0m 0s (remain 0m 17s) Loss: 0.9054(0.9054) \n"
          ],
          "name": "stdout"
        },
        {
          "output_type": "stream",
          "text": [
            "Epoch 10 - avg_train_loss: 0.8260  avg_val_loss: 0.8388  time: 45s\n",
            "Epoch 10 - Score: 0.8558381096999501\n"
          ],
          "name": "stderr"
        },
        {
          "output_type": "stream",
          "text": [
            "EVAL: [48/49] Elapsed 0m 3s (remain 0m 0s) Loss: 0.9329(0.8388) \n",
            "Epoch: [11][0/197] Elapsed 0m 0s (remain 1m 42s) Loss: 0.9437(0.9437) Grad: 3.7401 LR: 0.000550  \n",
            "Epoch: [11][50/197] Elapsed 0m 10s (remain 0m 31s) Loss: 0.8053(0.8269) Grad: 4.4305 LR: 0.000550  \n",
            "Epoch: [11][100/197] Elapsed 0m 21s (remain 0m 20s) Loss: 1.0731(0.8276) Grad: 2.4152 LR: 0.000550  \n",
            "Epoch: [11][150/197] Elapsed 0m 31s (remain 0m 9s) Loss: 0.6566(0.8136) Grad: 1.3936 LR: 0.000550  \n",
            "Epoch: [11][196/197] Elapsed 0m 41s (remain 0m 0s) Loss: 0.9455(0.8224) Grad: 3.3080 LR: 0.000550  \n",
            "EVAL: [0/49] Elapsed 0m 0s (remain 0m 14s) Loss: 0.8341(0.8341) \n"
          ],
          "name": "stdout"
        },
        {
          "output_type": "stream",
          "text": [
            "Epoch 11 - avg_train_loss: 0.8224  avg_val_loss: 0.7859  time: 44s\n",
            "Epoch 11 - Score: 0.804892280656611\n",
            "Epoch 11 - Save Best Score: 0.8049 Model\n"
          ],
          "name": "stderr"
        },
        {
          "output_type": "stream",
          "text": [
            "EVAL: [48/49] Elapsed 0m 3s (remain 0m 0s) Loss: 0.8932(0.7859) \n",
            "Epoch: [12][0/197] Elapsed 0m 0s (remain 2m 24s) Loss: 0.8954(0.8954) Grad: 5.1812 LR: 0.000480  \n",
            "Epoch: [12][50/197] Elapsed 0m 11s (remain 0m 31s) Loss: 1.1079(0.7973) Grad: 2.1592 LR: 0.000480  \n",
            "Epoch: [12][100/197] Elapsed 0m 21s (remain 0m 20s) Loss: 0.8399(0.8032) Grad: 4.4540 LR: 0.000480  \n",
            "Epoch: [12][150/197] Elapsed 0m 31s (remain 0m 9s) Loss: 1.0626(0.8072) Grad: 2.1594 LR: 0.000480  \n",
            "Epoch: [12][196/197] Elapsed 0m 41s (remain 0m 0s) Loss: 0.8551(0.8135) Grad: 7.5671 LR: 0.000480  \n",
            "EVAL: [0/49] Elapsed 0m 0s (remain 0m 20s) Loss: 0.8033(0.8033) \n"
          ],
          "name": "stdout"
        },
        {
          "output_type": "stream",
          "text": [
            "Epoch 12 - avg_train_loss: 0.8135  avg_val_loss: 0.8637  time: 45s\n",
            "Epoch 12 - Score: 0.857982598303012\n"
          ],
          "name": "stderr"
        },
        {
          "output_type": "stream",
          "text": [
            "EVAL: [48/49] Elapsed 0m 3s (remain 0m 0s) Loss: 0.9397(0.8637) \n",
            "Epoch: [13][0/197] Elapsed 0m 0s (remain 1m 47s) Loss: 0.9724(0.9724) Grad: 5.7034 LR: 0.000411  \n",
            "Epoch: [13][50/197] Elapsed 0m 10s (remain 0m 31s) Loss: 0.7067(0.8110) Grad: 1.4425 LR: 0.000411  \n",
            "Epoch: [13][100/197] Elapsed 0m 21s (remain 0m 20s) Loss: 0.4997(0.7938) Grad: 2.1187 LR: 0.000411  \n",
            "Epoch: [13][150/197] Elapsed 0m 31s (remain 0m 9s) Loss: 0.7258(0.7991) Grad: 1.6861 LR: 0.000411  \n",
            "Epoch: [13][196/197] Elapsed 0m 40s (remain 0m 0s) Loss: 0.7252(0.8029) Grad: 2.4419 LR: 0.000411  \n",
            "EVAL: [0/49] Elapsed 0m 0s (remain 0m 14s) Loss: 0.8130(0.8130) \n"
          ],
          "name": "stdout"
        },
        {
          "output_type": "stream",
          "text": [
            "Epoch 13 - avg_train_loss: 0.8029  avg_val_loss: 0.7648  time: 44s\n",
            "Epoch 13 - Score: 0.7940496028914201\n",
            "Epoch 13 - Save Best Score: 0.7940 Model\n"
          ],
          "name": "stderr"
        },
        {
          "output_type": "stream",
          "text": [
            "EVAL: [48/49] Elapsed 0m 3s (remain 0m 0s) Loss: 0.9452(0.7648) \n",
            "Epoch: [14][0/197] Elapsed 0m 0s (remain 2m 49s) Loss: 0.8879(0.8879) Grad: 4.4059 LR: 0.000346  \n",
            "Epoch: [14][50/197] Elapsed 0m 11s (remain 0m 32s) Loss: 0.6641(0.7688) Grad: 3.3685 LR: 0.000346  \n",
            "Epoch: [14][100/197] Elapsed 0m 21s (remain 0m 20s) Loss: 1.2114(0.7808) Grad: 5.2332 LR: 0.000346  \n",
            "Epoch: [14][150/197] Elapsed 0m 31s (remain 0m 9s) Loss: 0.5936(0.7829) Grad: 4.6199 LR: 0.000346  \n",
            "Epoch: [14][196/197] Elapsed 0m 41s (remain 0m 0s) Loss: 0.9846(0.7918) Grad: 2.7172 LR: 0.000346  \n",
            "EVAL: [0/49] Elapsed 0m 0s (remain 0m 16s) Loss: 0.7604(0.7604) \n"
          ],
          "name": "stdout"
        },
        {
          "output_type": "stream",
          "text": [
            "Epoch 14 - avg_train_loss: 0.7918  avg_val_loss: 0.8001  time: 45s\n",
            "Epoch 14 - Score: 0.837405310127547\n"
          ],
          "name": "stderr"
        },
        {
          "output_type": "stream",
          "text": [
            "EVAL: [48/49] Elapsed 0m 3s (remain 0m 0s) Loss: 0.8561(0.8001) \n",
            "Epoch: [15][0/197] Elapsed 0m 0s (remain 1m 45s) Loss: 0.3661(0.3661) Grad: 1.9766 LR: 0.000285  \n",
            "Epoch: [15][50/197] Elapsed 0m 10s (remain 0m 31s) Loss: 0.8363(0.7651) Grad: 4.8396 LR: 0.000285  \n",
            "Epoch: [15][100/197] Elapsed 0m 21s (remain 0m 20s) Loss: 0.5920(0.7672) Grad: 2.1190 LR: 0.000285  \n",
            "Epoch: [15][150/197] Elapsed 0m 31s (remain 0m 9s) Loss: 0.7421(0.7762) Grad: 2.8546 LR: 0.000285  \n",
            "Epoch: [15][196/197] Elapsed 0m 40s (remain 0m 0s) Loss: 1.0014(0.7810) Grad: 3.3038 LR: 0.000285  \n",
            "EVAL: [0/49] Elapsed 0m 0s (remain 0m 16s) Loss: 0.8294(0.8294) \n"
          ],
          "name": "stdout"
        },
        {
          "output_type": "stream",
          "text": [
            "Epoch 15 - avg_train_loss: 0.7810  avg_val_loss: 0.7598  time: 44s\n",
            "Epoch 15 - Score: 0.7978019367299282\n"
          ],
          "name": "stderr"
        },
        {
          "output_type": "stream",
          "text": [
            "EVAL: [48/49] Elapsed 0m 3s (remain 0m 0s) Loss: 0.9746(0.7598) \n",
            "Epoch: [16][0/197] Elapsed 0m 0s (remain 1m 53s) Loss: 0.5265(0.5265) Grad: 2.5957 LR: 0.000232  \n",
            "Epoch: [16][50/197] Elapsed 0m 10s (remain 0m 31s) Loss: 0.8096(0.7900) Grad: 4.1374 LR: 0.000232  \n",
            "Epoch: [16][100/197] Elapsed 0m 21s (remain 0m 20s) Loss: 0.6292(0.7799) Grad: 3.1496 LR: 0.000232  \n",
            "Epoch: [16][150/197] Elapsed 0m 31s (remain 0m 9s) Loss: 0.7686(0.7804) Grad: 4.6741 LR: 0.000232  \n",
            "Epoch: [16][196/197] Elapsed 0m 41s (remain 0m 0s) Loss: 0.5296(0.7706) Grad: 2.9101 LR: 0.000232  \n",
            "EVAL: [0/49] Elapsed 0m 0s (remain 0m 19s) Loss: 0.7806(0.7806) \n"
          ],
          "name": "stdout"
        },
        {
          "output_type": "stream",
          "text": [
            "Epoch 16 - avg_train_loss: 0.7706  avg_val_loss: 0.7551  time: 44s\n",
            "Epoch 16 - Score: 0.7929314676850218\n",
            "Epoch 16 - Save Best Score: 0.7929 Model\n"
          ],
          "name": "stderr"
        },
        {
          "output_type": "stream",
          "text": [
            "EVAL: [48/49] Elapsed 0m 3s (remain 0m 0s) Loss: 0.9173(0.7551) \n",
            "Epoch: [17][0/197] Elapsed 0m 0s (remain 2m 33s) Loss: 0.5544(0.5544) Grad: 2.9987 LR: 0.000186  \n",
            "Epoch: [17][50/197] Elapsed 0m 11s (remain 0m 31s) Loss: 0.6709(0.7403) Grad: 1.7689 LR: 0.000186  \n",
            "Epoch: [17][100/197] Elapsed 0m 21s (remain 0m 20s) Loss: 1.0089(0.7441) Grad: 2.7278 LR: 0.000186  \n",
            "Epoch: [17][150/197] Elapsed 0m 31s (remain 0m 9s) Loss: 0.7123(0.7477) Grad: 2.9651 LR: 0.000186  \n",
            "Epoch: [17][196/197] Elapsed 0m 41s (remain 0m 0s) Loss: 1.0158(0.7601) Grad: 1.5028 LR: 0.000186  \n",
            "EVAL: [0/49] Elapsed 0m 0s (remain 0m 16s) Loss: 0.8696(0.8696) \n"
          ],
          "name": "stdout"
        },
        {
          "output_type": "stream",
          "text": [
            "Epoch 17 - avg_train_loss: 0.7601  avg_val_loss: 0.7566  time: 45s\n",
            "Epoch 17 - Score: 0.7963327998413083\n"
          ],
          "name": "stderr"
        },
        {
          "output_type": "stream",
          "text": [
            "EVAL: [48/49] Elapsed 0m 3s (remain 0m 0s) Loss: 0.9598(0.7566) \n",
            "Epoch: [18][0/197] Elapsed 0m 0s (remain 1m 45s) Loss: 0.8163(0.8163) Grad: 2.0729 LR: 0.000149  \n",
            "Epoch: [18][50/197] Elapsed 0m 10s (remain 0m 31s) Loss: 0.6263(0.7438) Grad: 2.5402 LR: 0.000149  \n",
            "Epoch: [18][100/197] Elapsed 0m 21s (remain 0m 20s) Loss: 0.7095(0.7555) Grad: 2.8044 LR: 0.000149  \n",
            "Epoch: [18][150/197] Elapsed 0m 31s (remain 0m 9s) Loss: 0.7357(0.7470) Grad: 3.4118 LR: 0.000149  \n",
            "Epoch: [18][196/197] Elapsed 0m 40s (remain 0m 0s) Loss: 0.7080(0.7518) Grad: 4.0838 LR: 0.000149  \n",
            "EVAL: [0/49] Elapsed 0m 0s (remain 0m 16s) Loss: 0.8064(0.8064) \n"
          ],
          "name": "stdout"
        },
        {
          "output_type": "stream",
          "text": [
            "Epoch 18 - avg_train_loss: 0.7518  avg_val_loss: 0.7553  time: 44s\n",
            "Epoch 18 - Score: 0.7981980611031875\n"
          ],
          "name": "stderr"
        },
        {
          "output_type": "stream",
          "text": [
            "EVAL: [48/49] Elapsed 0m 3s (remain 0m 0s) Loss: 0.9985(0.7553) \n",
            "Epoch: [19][0/197] Elapsed 0m 0s (remain 1m 50s) Loss: 0.6090(0.6090) Grad: 2.8133 LR: 0.000122  \n",
            "Epoch: [19][50/197] Elapsed 0m 10s (remain 0m 31s) Loss: 0.6381(0.7173) Grad: 1.7673 LR: 0.000122  \n",
            "Epoch: [19][100/197] Elapsed 0m 21s (remain 0m 20s) Loss: 0.5203(0.7318) Grad: 2.8222 LR: 0.000122  \n",
            "Epoch: [19][150/197] Elapsed 0m 31s (remain 0m 9s) Loss: 0.7347(0.7405) Grad: 3.5966 LR: 0.000122  \n",
            "Epoch: [19][196/197] Elapsed 0m 41s (remain 0m 0s) Loss: 0.7912(0.7441) Grad: 3.7923 LR: 0.000122  \n",
            "EVAL: [0/49] Elapsed 0m 0s (remain 0m 15s) Loss: 0.7805(0.7805) \n"
          ],
          "name": "stdout"
        },
        {
          "output_type": "stream",
          "text": [
            "Epoch 19 - avg_train_loss: 0.7441  avg_val_loss: 0.7385  time: 44s\n",
            "Epoch 19 - Score: 0.7731665003162405\n",
            "Epoch 19 - Save Best Score: 0.7732 Model\n"
          ],
          "name": "stderr"
        },
        {
          "output_type": "stream",
          "text": [
            "EVAL: [48/49] Elapsed 0m 3s (remain 0m 0s) Loss: 0.8898(0.7385) \n",
            "Epoch: [20][0/197] Elapsed 0m 0s (remain 2m 38s) Loss: 0.6021(0.6021) Grad: 3.3373 LR: 0.000106  \n",
            "Epoch: [20][50/197] Elapsed 0m 11s (remain 0m 31s) Loss: 0.8438(0.7412) Grad: 2.5947 LR: 0.000106  \n",
            "Epoch: [20][100/197] Elapsed 0m 21s (remain 0m 20s) Loss: 0.8190(0.7394) Grad: 2.9046 LR: 0.000106  \n",
            "Epoch: [20][150/197] Elapsed 0m 31s (remain 0m 9s) Loss: 0.7556(0.7336) Grad: 4.5156 LR: 0.000106  \n",
            "Epoch: [20][196/197] Elapsed 0m 41s (remain 0m 0s) Loss: 0.6935(0.7362) Grad: 3.6767 LR: 0.000106  \n",
            "EVAL: [0/49] Elapsed 0m 0s (remain 0m 20s) Loss: 0.8086(0.8086) \n"
          ],
          "name": "stdout"
        },
        {
          "output_type": "stream",
          "text": [
            "Epoch 20 - avg_train_loss: 0.7362  avg_val_loss: 0.7452  time: 45s\n",
            "Epoch 20 - Score: 0.7873259274749568\n"
          ],
          "name": "stderr"
        },
        {
          "output_type": "stream",
          "text": [
            "EVAL: [48/49] Elapsed 0m 3s (remain 0m 0s) Loss: 0.9481(0.7452) \n"
          ],
          "name": "stdout"
        },
        {
          "output_type": "stream",
          "text": [
            "========== fold: 3 result ==========\n",
            "Score: 0.77317\n",
            "========== fold: 4 training ==========\n"
          ],
          "name": "stderr"
        },
        {
          "output_type": "stream",
          "text": [
            "Epoch: [1][0/196] Elapsed 0m 0s (remain 1m 56s) Loss: 2.2489(2.2489) Grad: 17.2301 LR: 0.001000  \n",
            "Epoch: [1][50/196] Elapsed 0m 10s (remain 0m 31s) Loss: 1.0037(1.2303) Grad: 5.2855 LR: 0.001000  \n",
            "Epoch: [1][100/196] Elapsed 0m 21s (remain 0m 19s) Loss: 1.1994(1.1153) Grad: 8.4175 LR: 0.001000  \n",
            "Epoch: [1][150/196] Elapsed 0m 31s (remain 0m 9s) Loss: 0.9633(1.0680) Grad: 3.4289 LR: 0.001000  \n",
            "Epoch: [1][195/196] Elapsed 0m 40s (remain 0m 0s) Loss: 1.0468(1.0336) Grad: 5.9253 LR: 0.001000  \n",
            "EVAL: [0/50] Elapsed 0m 0s (remain 0m 16s) Loss: 0.6510(0.6510) \n"
          ],
          "name": "stdout"
        },
        {
          "output_type": "stream",
          "text": [
            "Epoch 1 - avg_train_loss: 1.0336  avg_val_loss: 0.9131  time: 44s\n",
            "Epoch 1 - Score: 0.9254785180638972\n",
            "Epoch 1 - Save Best Score: 0.9255 Model\n"
          ],
          "name": "stderr"
        },
        {
          "output_type": "stream",
          "text": [
            "EVAL: [49/50] Elapsed 0m 3s (remain 0m 0s) Loss: 1.0382(0.9131) \n",
            "Epoch: [2][0/196] Elapsed 0m 0s (remain 2m 39s) Loss: 1.0171(1.0171) Grad: 2.2965 LR: 0.000994  \n",
            "Epoch: [2][50/196] Elapsed 0m 11s (remain 0m 31s) Loss: 0.8445(0.9304) Grad: 1.8610 LR: 0.000994  \n",
            "Epoch: [2][100/196] Elapsed 0m 21s (remain 0m 20s) Loss: 1.1332(0.9320) Grad: 7.2906 LR: 0.000994  \n",
            "Epoch: [2][150/196] Elapsed 0m 31s (remain 0m 9s) Loss: 0.9668(0.9379) Grad: 3.1568 LR: 0.000994  \n",
            "Epoch: [2][195/196] Elapsed 0m 41s (remain 0m 0s) Loss: 0.9603(0.9266) Grad: 1.1433 LR: 0.000994  \n",
            "EVAL: [0/50] Elapsed 0m 0s (remain 0m 21s) Loss: 0.6434(0.6434) \n"
          ],
          "name": "stdout"
        },
        {
          "output_type": "stream",
          "text": [
            "Epoch 2 - avg_train_loss: 0.9266  avg_val_loss: 0.9273  time: 45s\n",
            "Epoch 2 - Score: 0.9472746709518962\n"
          ],
          "name": "stderr"
        },
        {
          "output_type": "stream",
          "text": [
            "EVAL: [49/50] Elapsed 0m 3s (remain 0m 0s) Loss: 0.8525(0.9273) \n",
            "Epoch: [3][0/196] Elapsed 0m 0s (remain 1m 48s) Loss: 0.9521(0.9521) Grad: 1.4540 LR: 0.000978  \n",
            "Epoch: [3][50/196] Elapsed 0m 10s (remain 0m 30s) Loss: 1.0528(0.8954) Grad: 3.3873 LR: 0.000978  \n",
            "Epoch: [3][100/196] Elapsed 0m 21s (remain 0m 19s) Loss: 0.9846(0.8890) Grad: 4.8360 LR: 0.000978  \n",
            "Epoch: [3][150/196] Elapsed 0m 31s (remain 0m 9s) Loss: 0.9380(0.9033) Grad: 3.7855 LR: 0.000978  \n",
            "Epoch: [3][195/196] Elapsed 0m 40s (remain 0m 0s) Loss: 0.8448(0.9095) Grad: 4.3854 LR: 0.000978  \n",
            "EVAL: [0/50] Elapsed 0m 0s (remain 0m 19s) Loss: 0.5658(0.5658) \n"
          ],
          "name": "stdout"
        },
        {
          "output_type": "stream",
          "text": [
            "Epoch 3 - avg_train_loss: 0.9095  avg_val_loss: 0.8258  time: 44s\n",
            "Epoch 3 - Score: 0.858249509415144\n",
            "Epoch 3 - Save Best Score: 0.8582 Model\n"
          ],
          "name": "stderr"
        },
        {
          "output_type": "stream",
          "text": [
            "EVAL: [49/50] Elapsed 0m 3s (remain 0m 0s) Loss: 0.8408(0.8258) \n",
            "Epoch: [4][0/196] Elapsed 0m 0s (remain 2m 32s) Loss: 0.8068(0.8068) Grad: 4.6360 LR: 0.000951  \n",
            "Epoch: [4][50/196] Elapsed 0m 11s (remain 0m 31s) Loss: 0.8401(0.8857) Grad: 5.8785 LR: 0.000951  \n",
            "Epoch: [4][100/196] Elapsed 0m 21s (remain 0m 20s) Loss: 0.9318(0.9020) Grad: 4.8840 LR: 0.000951  \n",
            "Epoch: [4][150/196] Elapsed 0m 31s (remain 0m 9s) Loss: 0.8892(0.9022) Grad: 0.7715 LR: 0.000951  \n",
            "Epoch: [4][195/196] Elapsed 0m 41s (remain 0m 0s) Loss: 1.1468(0.8939) Grad: 4.2112 LR: 0.000951  \n",
            "EVAL: [0/50] Elapsed 0m 0s (remain 0m 20s) Loss: 0.6974(0.6974) \n"
          ],
          "name": "stdout"
        },
        {
          "output_type": "stream",
          "text": [
            "Epoch 4 - avg_train_loss: 0.8939  avg_val_loss: 0.8892  time: 45s\n",
            "Epoch 4 - Score: 0.8988509545859942\n"
          ],
          "name": "stderr"
        },
        {
          "output_type": "stream",
          "text": [
            "EVAL: [49/50] Elapsed 0m 3s (remain 0m 0s) Loss: 0.9126(0.8892) \n",
            "Epoch: [5][0/196] Elapsed 0m 0s (remain 1m 47s) Loss: 1.0519(1.0519) Grad: 4.5260 LR: 0.000914  \n",
            "Epoch: [5][50/196] Elapsed 0m 10s (remain 0m 30s) Loss: 1.2618(0.9083) Grad: 5.6663 LR: 0.000914  \n",
            "Epoch: [5][100/196] Elapsed 0m 21s (remain 0m 19s) Loss: 0.9310(0.9008) Grad: 2.9369 LR: 0.000914  \n",
            "Epoch: [5][150/196] Elapsed 0m 31s (remain 0m 9s) Loss: 0.8551(0.9000) Grad: 4.1816 LR: 0.000914  \n",
            "Epoch: [5][195/196] Elapsed 0m 40s (remain 0m 0s) Loss: 1.0063(0.8879) Grad: 1.5669 LR: 0.000914  \n",
            "EVAL: [0/50] Elapsed 0m 0s (remain 0m 14s) Loss: 0.5777(0.5777) \n"
          ],
          "name": "stdout"
        },
        {
          "output_type": "stream",
          "text": [
            "Epoch 5 - avg_train_loss: 0.8879  avg_val_loss: 0.8717  time: 44s\n",
            "Epoch 5 - Score: 0.8887609856170835\n"
          ],
          "name": "stderr"
        },
        {
          "output_type": "stream",
          "text": [
            "EVAL: [49/50] Elapsed 0m 3s (remain 0m 0s) Loss: 0.9281(0.8717) \n",
            "Epoch: [6][0/196] Elapsed 0m 0s (remain 2m 11s) Loss: 0.8017(0.8017) Grad: 6.0851 LR: 0.000868  \n",
            "Epoch: [6][50/196] Elapsed 0m 11s (remain 0m 31s) Loss: 0.8953(0.8920) Grad: 5.2796 LR: 0.000868  \n",
            "Epoch: [6][100/196] Elapsed 0m 21s (remain 0m 20s) Loss: 0.7151(0.8821) Grad: 3.2127 LR: 0.000868  \n",
            "Epoch: [6][150/196] Elapsed 0m 31s (remain 0m 9s) Loss: 0.7904(0.8868) Grad: 3.0212 LR: 0.000868  \n",
            "Epoch: [6][195/196] Elapsed 0m 40s (remain 0m 0s) Loss: 0.7097(0.8843) Grad: 2.5844 LR: 0.000868  \n",
            "EVAL: [0/50] Elapsed 0m 0s (remain 0m 15s) Loss: 0.7774(0.7774) \n"
          ],
          "name": "stdout"
        },
        {
          "output_type": "stream",
          "text": [
            "Epoch 6 - avg_train_loss: 0.8843  avg_val_loss: 0.9086  time: 44s\n",
            "Epoch 6 - Score: 0.9243303739265685\n"
          ],
          "name": "stderr"
        },
        {
          "output_type": "stream",
          "text": [
            "EVAL: [49/50] Elapsed 0m 3s (remain 0m 0s) Loss: 0.7815(0.9086) \n",
            "Epoch: [7][0/196] Elapsed 0m 0s (remain 1m 53s) Loss: 1.0344(1.0344) Grad: 1.6607 LR: 0.000815  \n",
            "Epoch: [7][50/196] Elapsed 0m 10s (remain 0m 31s) Loss: 0.5544(0.8985) Grad: 1.8148 LR: 0.000815  \n",
            "Epoch: [7][100/196] Elapsed 0m 21s (remain 0m 20s) Loss: 1.2448(0.8876) Grad: 4.8468 LR: 0.000815  \n",
            "Epoch: [7][150/196] Elapsed 0m 31s (remain 0m 9s) Loss: 1.1345(0.8854) Grad: 7.0033 LR: 0.000815  \n",
            "Epoch: [7][195/196] Elapsed 0m 40s (remain 0m 0s) Loss: 0.7457(0.8820) Grad: 2.2416 LR: 0.000815  \n",
            "EVAL: [0/50] Elapsed 0m 0s (remain 0m 14s) Loss: 0.5843(0.5843) \n"
          ],
          "name": "stdout"
        },
        {
          "output_type": "stream",
          "text": [
            "Epoch 7 - avg_train_loss: 0.8820  avg_val_loss: 0.8199  time: 44s\n",
            "Epoch 7 - Score: 0.8507442389655123\n",
            "Epoch 7 - Save Best Score: 0.8507 Model\n"
          ],
          "name": "stderr"
        },
        {
          "output_type": "stream",
          "text": [
            "EVAL: [49/50] Elapsed 0m 3s (remain 0m 0s) Loss: 1.0613(0.8199) \n",
            "Epoch: [8][0/196] Elapsed 0m 0s (remain 2m 53s) Loss: 1.0689(1.0689) Grad: 1.7982 LR: 0.000754  \n",
            "Epoch: [8][50/196] Elapsed 0m 11s (remain 0m 31s) Loss: 0.8029(0.8778) Grad: 2.3950 LR: 0.000754  \n",
            "Epoch: [8][100/196] Elapsed 0m 21s (remain 0m 20s) Loss: 0.6384(0.8642) Grad: 3.8907 LR: 0.000754  \n",
            "Epoch: [8][150/196] Elapsed 0m 31s (remain 0m 9s) Loss: 0.8650(0.8647) Grad: 1.6083 LR: 0.000754  \n",
            "Epoch: [8][195/196] Elapsed 0m 41s (remain 0m 0s) Loss: 0.8066(0.8586) Grad: 1.3395 LR: 0.000754  \n",
            "EVAL: [0/50] Elapsed 0m 0s (remain 0m 18s) Loss: 0.5227(0.5227) \n"
          ],
          "name": "stdout"
        },
        {
          "output_type": "stream",
          "text": [
            "Epoch 8 - avg_train_loss: 0.8586  avg_val_loss: 0.9317  time: 45s\n",
            "Epoch 8 - Score: 0.9472549843635546\n"
          ],
          "name": "stderr"
        },
        {
          "output_type": "stream",
          "text": [
            "EVAL: [49/50] Elapsed 0m 3s (remain 0m 0s) Loss: 1.0282(0.9317) \n",
            "Epoch: [9][0/196] Elapsed 0m 0s (remain 1m 58s) Loss: 0.6077(0.6077) Grad: 1.4443 LR: 0.000689  \n",
            "Epoch: [9][50/196] Elapsed 0m 10s (remain 0m 31s) Loss: 0.7140(0.8395) Grad: 3.7315 LR: 0.000689  \n",
            "Epoch: [9][100/196] Elapsed 0m 21s (remain 0m 20s) Loss: 0.9386(0.8523) Grad: 2.1460 LR: 0.000689  \n",
            "Epoch: [9][150/196] Elapsed 0m 31s (remain 0m 9s) Loss: 0.9564(0.8583) Grad: 3.9100 LR: 0.000689  \n",
            "Epoch: [9][195/196] Elapsed 0m 40s (remain 0m 0s) Loss: 0.8145(0.8499) Grad: 4.8582 LR: 0.000689  \n",
            "EVAL: [0/50] Elapsed 0m 0s (remain 0m 19s) Loss: 0.9946(0.9946) \n"
          ],
          "name": "stdout"
        },
        {
          "output_type": "stream",
          "text": [
            "Epoch 9 - avg_train_loss: 0.8499  avg_val_loss: 1.1850  time: 44s\n",
            "Epoch 9 - Score: 1.1903574347485508\n"
          ],
          "name": "stderr"
        },
        {
          "output_type": "stream",
          "text": [
            "EVAL: [49/50] Elapsed 0m 3s (remain 0m 0s) Loss: 1.3317(1.1850) \n",
            "Epoch: [10][0/196] Elapsed 0m 0s (remain 2m 11s) Loss: 0.8389(0.8389) Grad: 7.1764 LR: 0.000620  \n",
            "Epoch: [10][50/196] Elapsed 0m 10s (remain 0m 31s) Loss: 0.9931(0.8426) Grad: 2.2746 LR: 0.000620  \n",
            "Epoch: [10][100/196] Elapsed 0m 21s (remain 0m 20s) Loss: 0.8434(0.8587) Grad: 1.6984 LR: 0.000620  \n",
            "Epoch: [10][150/196] Elapsed 0m 31s (remain 0m 9s) Loss: 0.7104(0.8394) Grad: 1.2533 LR: 0.000620  \n",
            "Epoch: [10][195/196] Elapsed 0m 40s (remain 0m 0s) Loss: 0.9441(0.8518) Grad: 4.4206 LR: 0.000620  \n",
            "EVAL: [0/50] Elapsed 0m 0s (remain 0m 21s) Loss: 1.0616(1.0616) \n"
          ],
          "name": "stdout"
        },
        {
          "output_type": "stream",
          "text": [
            "Epoch 10 - avg_train_loss: 0.8518  avg_val_loss: 1.2160  time: 44s\n",
            "Epoch 10 - Score: 1.212408812039154\n"
          ],
          "name": "stderr"
        },
        {
          "output_type": "stream",
          "text": [
            "EVAL: [49/50] Elapsed 0m 3s (remain 0m 0s) Loss: 1.4502(1.2160) \n",
            "Epoch: [11][0/196] Elapsed 0m 0s (remain 1m 44s) Loss: 0.7915(0.7915) Grad: 2.1112 LR: 0.000550  \n",
            "Epoch: [11][50/196] Elapsed 0m 10s (remain 0m 31s) Loss: 0.7043(0.8321) Grad: 2.4651 LR: 0.000550  \n",
            "Epoch: [11][100/196] Elapsed 0m 21s (remain 0m 20s) Loss: 0.7641(0.8331) Grad: 2.7985 LR: 0.000550  \n",
            "Epoch: [11][150/196] Elapsed 0m 31s (remain 0m 9s) Loss: 0.5548(0.8508) Grad: 2.3916 LR: 0.000550  \n",
            "Epoch: [11][195/196] Elapsed 0m 40s (remain 0m 0s) Loss: 0.9028(0.8434) Grad: 6.1810 LR: 0.000550  \n",
            "EVAL: [0/50] Elapsed 0m 0s (remain 0m 16s) Loss: 0.5616(0.5616) \n"
          ],
          "name": "stdout"
        },
        {
          "output_type": "stream",
          "text": [
            "Epoch 11 - avg_train_loss: 0.8434  avg_val_loss: 0.8212  time: 44s\n",
            "Epoch 11 - Score: 0.8482763170992412\n",
            "Epoch 11 - Save Best Score: 0.8483 Model\n"
          ],
          "name": "stderr"
        },
        {
          "output_type": "stream",
          "text": [
            "EVAL: [49/50] Elapsed 0m 3s (remain 0m 0s) Loss: 0.9486(0.8212) \n",
            "Epoch: [12][0/196] Elapsed 0m 0s (remain 2m 54s) Loss: 0.7695(0.7695) Grad: 2.3174 LR: 0.000480  \n",
            "Epoch: [12][50/196] Elapsed 0m 11s (remain 0m 31s) Loss: 0.8837(0.8142) Grad: 3.5256 LR: 0.000480  \n",
            "Epoch: [12][100/196] Elapsed 0m 21s (remain 0m 20s) Loss: 0.9845(0.8220) Grad: 3.3076 LR: 0.000480  \n",
            "Epoch: [12][150/196] Elapsed 0m 31s (remain 0m 9s) Loss: 1.0003(0.8384) Grad: 1.8246 LR: 0.000480  \n",
            "Epoch: [12][195/196] Elapsed 0m 41s (remain 0m 0s) Loss: 0.8579(0.8395) Grad: 1.6031 LR: 0.000480  \n",
            "EVAL: [0/50] Elapsed 0m 0s (remain 0m 20s) Loss: 0.4993(0.4993) \n"
          ],
          "name": "stdout"
        },
        {
          "output_type": "stream",
          "text": [
            "Epoch 12 - avg_train_loss: 0.8395  avg_val_loss: 0.7782  time: 45s\n",
            "Epoch 12 - Score: 0.8151273710085872\n",
            "Epoch 12 - Save Best Score: 0.8151 Model\n"
          ],
          "name": "stderr"
        },
        {
          "output_type": "stream",
          "text": [
            "EVAL: [49/50] Elapsed 0m 3s (remain 0m 0s) Loss: 0.8778(0.7782) \n",
            "Epoch: [13][0/196] Elapsed 0m 0s (remain 2m 40s) Loss: 0.6686(0.6686) Grad: 2.3131 LR: 0.000411  \n",
            "Epoch: [13][50/196] Elapsed 0m 11s (remain 0m 31s) Loss: 0.7621(0.8119) Grad: 2.3533 LR: 0.000411  \n",
            "Epoch: [13][100/196] Elapsed 0m 21s (remain 0m 20s) Loss: 0.5570(0.8306) Grad: 3.5486 LR: 0.000411  \n",
            "Epoch: [13][150/196] Elapsed 0m 31s (remain 0m 9s) Loss: 0.5542(0.8249) Grad: 1.8775 LR: 0.000411  \n",
            "Epoch: [13][195/196] Elapsed 0m 41s (remain 0m 0s) Loss: 1.2419(0.8220) Grad: 7.5347 LR: 0.000411  \n",
            "EVAL: [0/50] Elapsed 0m 0s (remain 0m 17s) Loss: 0.6049(0.6049) \n"
          ],
          "name": "stdout"
        },
        {
          "output_type": "stream",
          "text": [
            "Epoch 13 - avg_train_loss: 0.8220  avg_val_loss: 0.8446  time: 45s\n",
            "Epoch 13 - Score: 0.8840351970387096\n"
          ],
          "name": "stderr"
        },
        {
          "output_type": "stream",
          "text": [
            "EVAL: [49/50] Elapsed 0m 3s (remain 0m 0s) Loss: 0.9251(0.8446) \n",
            "Epoch: [14][0/196] Elapsed 0m 0s (remain 1m 50s) Loss: 0.8608(0.8608) Grad: 4.3354 LR: 0.000346  \n",
            "Epoch: [14][50/196] Elapsed 0m 10s (remain 0m 31s) Loss: 1.0448(0.8284) Grad: 2.2282 LR: 0.000346  \n",
            "Epoch: [14][100/196] Elapsed 0m 21s (remain 0m 19s) Loss: 0.7026(0.8099) Grad: 2.8263 LR: 0.000346  \n",
            "Epoch: [14][150/196] Elapsed 0m 31s (remain 0m 9s) Loss: 0.7966(0.8207) Grad: 1.2804 LR: 0.000346  \n",
            "Epoch: [14][195/196] Elapsed 0m 40s (remain 0m 0s) Loss: 0.7179(0.8157) Grad: 2.5511 LR: 0.000346  \n",
            "EVAL: [0/50] Elapsed 0m 0s (remain 0m 19s) Loss: 0.5499(0.5499) \n"
          ],
          "name": "stdout"
        },
        {
          "output_type": "stream",
          "text": [
            "Epoch 14 - avg_train_loss: 0.8157  avg_val_loss: 0.7549  time: 44s\n",
            "Epoch 14 - Score: 0.8043738580028779\n",
            "Epoch 14 - Save Best Score: 0.8044 Model\n"
          ],
          "name": "stderr"
        },
        {
          "output_type": "stream",
          "text": [
            "EVAL: [49/50] Elapsed 0m 3s (remain 0m 0s) Loss: 0.7670(0.7549) \n",
            "Epoch: [15][0/196] Elapsed 0m 0s (remain 2m 25s) Loss: 0.9622(0.9622) Grad: 1.7319 LR: 0.000285  \n",
            "Epoch: [15][50/196] Elapsed 0m 11s (remain 0m 31s) Loss: 0.9834(0.8213) Grad: 3.9787 LR: 0.000285  \n",
            "Epoch: [15][100/196] Elapsed 0m 21s (remain 0m 20s) Loss: 0.7622(0.8241) Grad: 4.5231 LR: 0.000285  \n",
            "Epoch: [15][150/196] Elapsed 0m 31s (remain 0m 9s) Loss: 0.5308(0.8150) Grad: 2.6012 LR: 0.000285  \n",
            "Epoch: [15][195/196] Elapsed 0m 41s (remain 0m 0s) Loss: 0.4201(0.8084) Grad: 2.1683 LR: 0.000285  \n",
            "EVAL: [0/50] Elapsed 0m 0s (remain 0m 16s) Loss: 0.5518(0.5518) \n"
          ],
          "name": "stdout"
        },
        {
          "output_type": "stream",
          "text": [
            "Epoch 15 - avg_train_loss: 0.8084  avg_val_loss: 0.7489  time: 45s\n",
            "Epoch 15 - Score: 0.7942800012493287\n",
            "Epoch 15 - Save Best Score: 0.7943 Model\n"
          ],
          "name": "stderr"
        },
        {
          "output_type": "stream",
          "text": [
            "EVAL: [49/50] Elapsed 0m 3s (remain 0m 0s) Loss: 0.8088(0.7489) \n",
            "Epoch: [16][0/196] Elapsed 0m 0s (remain 2m 30s) Loss: 0.7590(0.7590) Grad: 4.9997 LR: 0.000232  \n",
            "Epoch: [16][50/196] Elapsed 0m 11s (remain 0m 31s) Loss: 0.8497(0.7920) Grad: 6.0852 LR: 0.000232  \n",
            "Epoch: [16][100/196] Elapsed 0m 21s (remain 0m 20s) Loss: 0.7953(0.8044) Grad: 1.6329 LR: 0.000232  \n",
            "Epoch: [16][150/196] Elapsed 0m 31s (remain 0m 9s) Loss: 0.8198(0.7969) Grad: 6.9226 LR: 0.000232  \n",
            "Epoch: [16][195/196] Elapsed 0m 41s (remain 0m 0s) Loss: 0.8624(0.7961) Grad: 5.3564 LR: 0.000232  \n",
            "EVAL: [0/50] Elapsed 0m 0s (remain 0m 15s) Loss: 0.5816(0.5816) \n"
          ],
          "name": "stdout"
        },
        {
          "output_type": "stream",
          "text": [
            "Epoch 16 - avg_train_loss: 0.7961  avg_val_loss: 0.7682  time: 45s\n",
            "Epoch 16 - Score: 0.8119491388189284\n"
          ],
          "name": "stderr"
        },
        {
          "output_type": "stream",
          "text": [
            "EVAL: [49/50] Elapsed 0m 3s (remain 0m 0s) Loss: 0.7421(0.7682) \n",
            "Epoch: [17][0/196] Elapsed 0m 0s (remain 1m 53s) Loss: 0.8475(0.8475) Grad: 1.7623 LR: 0.000186  \n",
            "Epoch: [17][50/196] Elapsed 0m 10s (remain 0m 31s) Loss: 1.0507(0.7889) Grad: 2.7308 LR: 0.000186  \n",
            "Epoch: [17][100/196] Elapsed 0m 21s (remain 0m 20s) Loss: 0.4860(0.7830) Grad: 3.3840 LR: 0.000186  \n",
            "Epoch: [17][150/196] Elapsed 0m 31s (remain 0m 9s) Loss: 0.6919(0.7772) Grad: 1.6344 LR: 0.000186  \n",
            "Epoch: [17][195/196] Elapsed 0m 40s (remain 0m 0s) Loss: 0.8390(0.7824) Grad: 3.1272 LR: 0.000186  \n",
            "EVAL: [0/50] Elapsed 0m 0s (remain 0m 19s) Loss: 0.6400(0.6400) \n"
          ],
          "name": "stdout"
        },
        {
          "output_type": "stream",
          "text": [
            "Epoch 17 - avg_train_loss: 0.7824  avg_val_loss: 0.7711  time: 44s\n",
            "Epoch 17 - Score: 0.8125548814462085\n"
          ],
          "name": "stderr"
        },
        {
          "output_type": "stream",
          "text": [
            "EVAL: [49/50] Elapsed 0m 3s (remain 0m 0s) Loss: 0.7238(0.7711) \n",
            "Epoch: [18][0/196] Elapsed 0m 0s (remain 1m 46s) Loss: 0.8392(0.8392) Grad: 2.4767 LR: 0.000149  \n",
            "Epoch: [18][50/196] Elapsed 0m 10s (remain 0m 30s) Loss: 0.6992(0.7903) Grad: 2.7498 LR: 0.000149  \n",
            "Epoch: [18][100/196] Elapsed 0m 21s (remain 0m 19s) Loss: 0.6098(0.7599) Grad: 4.4813 LR: 0.000149  \n",
            "Epoch: [18][150/196] Elapsed 0m 31s (remain 0m 9s) Loss: 0.8049(0.7632) Grad: 3.0183 LR: 0.000149  \n",
            "Epoch: [18][195/196] Elapsed 0m 40s (remain 0m 0s) Loss: 0.8190(0.7687) Grad: 4.1065 LR: 0.000149  \n",
            "EVAL: [0/50] Elapsed 0m 0s (remain 0m 16s) Loss: 0.5539(0.5539) \n"
          ],
          "name": "stdout"
        },
        {
          "output_type": "stream",
          "text": [
            "Epoch 18 - avg_train_loss: 0.7687  avg_val_loss: 0.7527  time: 44s\n",
            "Epoch 18 - Score: 0.7912679985389651\n",
            "Epoch 18 - Save Best Score: 0.7913 Model\n"
          ],
          "name": "stderr"
        },
        {
          "output_type": "stream",
          "text": [
            "EVAL: [49/50] Elapsed 0m 3s (remain 0m 0s) Loss: 0.8542(0.7527) \n",
            "Epoch: [19][0/196] Elapsed 0m 0s (remain 2m 34s) Loss: 0.7669(0.7669) Grad: 4.5352 LR: 0.000122  \n",
            "Epoch: [19][50/196] Elapsed 0m 11s (remain 0m 31s) Loss: 0.6644(0.7208) Grad: 3.7457 LR: 0.000122  \n",
            "Epoch: [19][100/196] Elapsed 0m 21s (remain 0m 20s) Loss: 0.6306(0.7441) Grad: 2.6645 LR: 0.000122  \n",
            "Epoch: [19][150/196] Elapsed 0m 31s (remain 0m 9s) Loss: 0.9317(0.7583) Grad: 6.0905 LR: 0.000122  \n",
            "Epoch: [19][195/196] Elapsed 0m 41s (remain 0m 0s) Loss: 0.7788(0.7629) Grad: 4.7016 LR: 0.000122  \n",
            "EVAL: [0/50] Elapsed 0m 0s (remain 0m 15s) Loss: 0.5420(0.5420) \n"
          ],
          "name": "stdout"
        },
        {
          "output_type": "stream",
          "text": [
            "Epoch 19 - avg_train_loss: 0.7629  avg_val_loss: 0.7430  time: 44s\n",
            "Epoch 19 - Score: 0.7878681606993624\n",
            "Epoch 19 - Save Best Score: 0.7879 Model\n"
          ],
          "name": "stderr"
        },
        {
          "output_type": "stream",
          "text": [
            "EVAL: [49/50] Elapsed 0m 3s (remain 0m 0s) Loss: 0.8764(0.7430) \n",
            "Epoch: [20][0/196] Elapsed 0m 0s (remain 2m 30s) Loss: 0.5978(0.5978) Grad: 3.5446 LR: 0.000106  \n",
            "Epoch: [20][50/196] Elapsed 0m 11s (remain 0m 31s) Loss: 0.4611(0.7205) Grad: 4.6662 LR: 0.000106  \n",
            "Epoch: [20][100/196] Elapsed 0m 21s (remain 0m 20s) Loss: 0.8082(0.7472) Grad: 3.2894 LR: 0.000106  \n",
            "Epoch: [20][150/196] Elapsed 0m 31s (remain 0m 9s) Loss: 0.8547(0.7556) Grad: 6.3679 LR: 0.000106  \n",
            "Epoch: [20][195/196] Elapsed 0m 41s (remain 0m 0s) Loss: 0.7305(0.7548) Grad: 3.2981 LR: 0.000106  \n",
            "EVAL: [0/50] Elapsed 0m 0s (remain 0m 20s) Loss: 0.5560(0.5560) \n"
          ],
          "name": "stdout"
        },
        {
          "output_type": "stream",
          "text": [
            "Epoch 20 - avg_train_loss: 0.7548  avg_val_loss: 0.7466  time: 45s\n",
            "Epoch 20 - Score: 0.7980806936007436\n"
          ],
          "name": "stderr"
        },
        {
          "output_type": "stream",
          "text": [
            "EVAL: [49/50] Elapsed 0m 3s (remain 0m 0s) Loss: 0.8248(0.7466) \n"
          ],
          "name": "stdout"
        },
        {
          "output_type": "stream",
          "text": [
            "========== fold: 4 result ==========\n",
            "Score: 0.78787\n",
            "========== CV ==========\n",
            "Score: 0.81549\n"
          ],
          "name": "stderr"
        }
      ]
    },
    {
      "cell_type": "code",
      "metadata": {
        "colab": {
          "base_uri": "https://localhost:8080/",
          "height": 1000,
          "referenced_widgets": [
            "a885f216a7e2489a8b2bc8232d175c4b",
            "ebb9b93a5d7647c299cfa9fcaf73df26",
            "90d644eaeda04397be10a821dbbc1c1d",
            "21cd02f19f244ebeb5e24beeac669882",
            "812c595c883e45dba3f883e4510afe5a",
            "8b2be64865d5495bb4c3d7bb97f6361f",
            "55f9ae622b1646b9a429e38899a71ec7",
            "ef5a07a985b54c3f8a3df62f8af1f8e5"
          ]
        },
        "id": "CPHezhr_NHYR",
        "outputId": "7b9a8a24-ece3-4838-d01e-831f6eeeb6ff"
      },
      "source": [
        "wandb.finish()"
      ],
      "execution_count": 45,
      "outputs": [
        {
          "output_type": "display_data",
          "data": {
            "text/html": [
              "<br/>Waiting for W&B process to finish, PID 635<br/>Program ended successfully."
            ],
            "text/plain": [
              "<IPython.core.display.HTML object>"
            ]
          },
          "metadata": {
            "tags": []
          }
        },
        {
          "output_type": "display_data",
          "data": {
            "application/vnd.jupyter.widget-view+json": {
              "model_id": "a885f216a7e2489a8b2bc8232d175c4b",
              "version_minor": 0,
              "version_major": 2
            },
            "text/plain": [
              "VBox(children=(Label(value=' 647.98MB of 647.98MB uploaded (0.33MB deduped)\\r'), FloatProgress(value=1.0, max=…"
            ]
          },
          "metadata": {
            "tags": []
          }
        },
        {
          "output_type": "display_data",
          "data": {
            "text/html": [
              "Find user logs for this run at: <code>/content/wandb/run-20210715_002830-2xxmh7x4/logs/debug.log</code>"
            ],
            "text/plain": [
              "<IPython.core.display.HTML object>"
            ]
          },
          "metadata": {
            "tags": []
          }
        },
        {
          "output_type": "display_data",
          "data": {
            "text/html": [
              "Find internal logs for this run at: <code>/content/wandb/run-20210715_002830-2xxmh7x4/logs/debug-internal.log</code>"
            ],
            "text/plain": [
              "<IPython.core.display.HTML object>"
            ]
          },
          "metadata": {
            "tags": []
          }
        },
        {
          "output_type": "display_data",
          "data": {
            "text/html": [
              "<h3>Run summary:</h3><br/><style>\n",
              "    table.wandb td:nth-child(1) { padding: 0 10px; text-align: right }\n",
              "    </style><table class=\"wandb\">\n",
              "<tr><td>epoch</td><td>20</td></tr><tr><td>loss/train_fold0</td><td>0.77124</td></tr><tr><td>loss/val_fold0</td><td>0.84847</td></tr><tr><td>score/fold0</td><td>0.88337</td></tr><tr><td>_runtime</td><td>4530</td></tr><tr><td>_timestamp</td><td>1626313440</td></tr><tr><td>_step</td><td>99</td></tr><tr><td>CV_fold0</td><td>0.86607</td></tr><tr><td>loss/train_fold1</td><td>0.70817</td></tr><tr><td>loss/val_fold1</td><td>0.83695</td></tr><tr><td>score/fold1</td><td>0.89656</td></tr><tr><td>CV_fold1</td><td>0.83832</td></tr><tr><td>loss/train_fold2</td><td>0.74037</td></tr><tr><td>loss/val_fold2</td><td>0.82514</td></tr><tr><td>score/fold2</td><td>0.81901</td></tr><tr><td>CV_fold2</td><td>0.80843</td></tr><tr><td>loss/train_fold3</td><td>0.73623</td></tr><tr><td>loss/val_fold3</td><td>0.74519</td></tr><tr><td>score/fold3</td><td>0.78733</td></tr><tr><td>CV_fold3</td><td>0.77317</td></tr><tr><td>loss/train_fold4</td><td>0.75482</td></tr><tr><td>loss/val_fold4</td><td>0.7466</td></tr><tr><td>score/fold4</td><td>0.79808</td></tr><tr><td>CV_fold4</td><td>0.78787</td></tr><tr><td>CV</td><td>0.81549</td></tr></table>"
            ],
            "text/plain": [
              "<IPython.core.display.HTML object>"
            ]
          },
          "metadata": {
            "tags": []
          }
        },
        {
          "output_type": "display_data",
          "data": {
            "text/html": [
              "<h3>Run history:</h3><br/><style>\n",
              "    table.wandb td:nth-child(1) { padding: 0 10px; text-align: right }\n",
              "    </style><table class=\"wandb\">\n",
              "<tr><td>epoch</td><td>▁▂▃▄▅▅▇▇▁▂▃▄▅▆▇█▁▂▃▄▅▆▇█▁▂▃▄▅▆▇█▁▂▃▄▅▆▇█</td></tr><tr><td>loss/train_fold0</td><td>█▆▅▄▄▄▄▄▃▃▃▃▂▂▂▂▂▂▁▁</td></tr><tr><td>loss/val_fold0</td><td>▇▅▃▄▃▂█▆▄▃▅▇▂▂▁▃▂▁▁▁</td></tr><tr><td>score/fold0</td><td>▇▅▃▄▄▂█▅▅▄▅▇▂▂▁▃▂▂▂▂</td></tr><tr><td>_runtime</td><td>▁▁▁▁▂▂▂▂▂▃▃▃▃▃▃▄▄▄▄▄▅▅▅▅▅▅▆▆▆▆▆▇▇▇▇▇▇███</td></tr><tr><td>_timestamp</td><td>▁▁▁▁▂▂▂▂▂▃▃▃▃▃▃▄▄▄▄▄▅▅▅▅▅▅▆▆▆▆▆▇▇▇▇▇▇███</td></tr><tr><td>_step</td><td>▁▁▁▁▂▂▂▂▂▃▃▃▃▃▃▄▄▄▄▄▅▅▅▅▅▅▆▆▆▆▆▇▇▇▇▇▇███</td></tr><tr><td>loss/train_fold1</td><td>█▆▅▅▅▄▄▄▄▃▃▃▃▃▂▂▂▁▁▁</td></tr><tr><td>loss/val_fold1</td><td>▃▃█▂▂▃▂▂▂▂▂▂▂▁▁▁▂▁▁▁</td></tr><tr><td>score/fold1</td><td>▃▃█▂▂▂▂▂▂▂▂▂▂▁▂▁▃▁▁▂</td></tr><tr><td>loss/train_fold2</td><td>█▅▅▅▄▄▄▄▃▃▃▃▂▂▂▂▂▁▁▁</td></tr><tr><td>loss/val_fold2</td><td>▇▄█▅▃▃▄▃▃▂▃▁▂▂▂▁▂▁▂▁</td></tr><tr><td>score/fold2</td><td>▇▄█▅▃▃▄▃▃▂▃▁▂▃▂▁▂▁▂▁</td></tr><tr><td>loss/train_fold3</td><td>█▆▅▅▅▅▄▄▃▃▃▃▃▂▂▂▂▁▁▁</td></tr><tr><td>loss/val_fold3</td><td>▅▄▇▄▃▆█▂▂▃▂▃▁▂▁▁▁▁▁▁</td></tr><tr><td>score/fold3</td><td>▅▄▅▄▃▅█▂▂▃▂▃▁▂▁▁▁▁▁▁</td></tr><tr><td>loss/train_fold4</td><td>█▅▅▄▄▄▄▄▃▃▃▃▃▃▂▂▂▁▁▁</td></tr><tr><td>loss/val_fold4</td><td>▄▄▂▃▃▃▂▄██▂▂▃▁▁▁▁▁▁▁</td></tr><tr><td>score/fold4</td><td>▃▄▂▃▃▃▂▄██▂▁▃▁▁▁▁▁▁▁</td></tr></table><br/>"
            ],
            "text/plain": [
              "<IPython.core.display.HTML object>"
            ]
          },
          "metadata": {
            "tags": []
          }
        },
        {
          "output_type": "display_data",
          "data": {
            "text/html": [
              "Synced 5 W&B file(s), 0 media file(s), 22 artifact file(s) and 7 other file(s)"
            ],
            "text/plain": [
              "<IPython.core.display.HTML object>"
            ]
          },
          "metadata": {
            "tags": []
          }
        },
        {
          "output_type": "display_data",
          "data": {
            "text/html": [
              "\n",
              "                    <br/>Synced <strong style=\"color:#cdcd00\">hearty-sun-46</strong>: <a href=\"https://wandb.ai/imokuri/atma11/runs/2xxmh7x4\" target=\"_blank\">https://wandb.ai/imokuri/atma11/runs/2xxmh7x4</a><br/>\n",
              "                "
            ],
            "text/plain": [
              "<IPython.core.display.HTML object>"
            ]
          },
          "metadata": {
            "tags": []
          }
        }
      ]
    },
    {
      "cell_type": "markdown",
      "metadata": {
        "id": "-scfhV4ueW4K"
      },
      "source": [
        "## Public LB"
      ]
    },
    {
      "cell_type": "code",
      "metadata": {
        "id": "jRNsH2CvA1He"
      },
      "source": [
        "RUN_ID = \"None\"\n",
        "LB_SCORE = None\n",
        "\n",
        "WANDB_ENTITY = \"imokuri\"\n",
        "WANDB_PROJECT = \"atma11\""
      ],
      "execution_count": 46,
      "outputs": []
    },
    {
      "cell_type": "code",
      "metadata": {
        "id": "AS7aRYF_eh7z"
      },
      "source": [
        "if RUN_ID is not None and LB_SCORE is not None:\n",
        "    import wandb\n",
        "    api = wandb.Api()\n",
        "\n",
        "    run = api.run(f\"{WANDB_ENTITY}/{WANDB_PROJECT}/{RUN_ID}\")\n",
        "    run.summary[\"LB\"] = LB_SCORE\n",
        "    run.summary.update()\n"
      ],
      "execution_count": 47,
      "outputs": []
    },
    {
      "cell_type": "code",
      "metadata": {
        "id": "-gEHUGpXei3-"
      },
      "source": [
        ""
      ],
      "execution_count": 47,
      "outputs": []
    }
  ]
}