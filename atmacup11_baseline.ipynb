{
  "nbformat": 4,
  "nbformat_minor": 0,
  "metadata": {
    "kernelspec": {
      "language": "python",
      "display_name": "Python 3",
      "name": "python3"
    },
    "language_info": {
      "pygments_lexer": "ipython3",
      "nbconvert_exporter": "python",
      "version": "3.6.4",
      "file_extension": ".py",
      "codemirror_mode": {
        "name": "ipython",
        "version": 3
      },
      "name": "python",
      "mimetype": "text/x-python"
    },
    "colab": {
      "name": "atmacup11-baseline.ipynb",
      "provenance": [],
      "collapsed_sections": [],
      "toc_visible": true,
      "include_colab_link": true
    },
    "accelerator": "GPU",
    "widgets": {
      "application/vnd.jupyter.widget-state+json": {
        "dac532bad17a4ca3a066d75458949086": {
          "model_module": "@jupyter-widgets/controls",
          "model_name": "VBoxModel",
          "state": {
            "_view_name": "VBoxView",
            "_dom_classes": [],
            "_model_name": "VBoxModel",
            "_view_module": "@jupyter-widgets/controls",
            "_model_module_version": "1.5.0",
            "_view_count": null,
            "_view_module_version": "1.5.0",
            "box_style": "",
            "layout": "IPY_MODEL_a63bf52fd6ef4ef9a6fa29e99b8cd3fe",
            "_model_module": "@jupyter-widgets/controls",
            "children": [
              "IPY_MODEL_06e3abe80ac9495da97e1369e2ca2efa",
              "IPY_MODEL_4282b64e904244fb914d7911ded8c18d"
            ]
          }
        },
        "a63bf52fd6ef4ef9a6fa29e99b8cd3fe": {
          "model_module": "@jupyter-widgets/base",
          "model_name": "LayoutModel",
          "state": {
            "_view_name": "LayoutView",
            "grid_template_rows": null,
            "right": null,
            "justify_content": null,
            "_view_module": "@jupyter-widgets/base",
            "overflow": null,
            "_model_module_version": "1.2.0",
            "_view_count": null,
            "flex_flow": null,
            "width": null,
            "min_width": null,
            "border": null,
            "align_items": null,
            "bottom": null,
            "_model_module": "@jupyter-widgets/base",
            "top": null,
            "grid_column": null,
            "overflow_y": null,
            "overflow_x": null,
            "grid_auto_flow": null,
            "grid_area": null,
            "grid_template_columns": null,
            "flex": null,
            "_model_name": "LayoutModel",
            "justify_items": null,
            "grid_row": null,
            "max_height": null,
            "align_content": null,
            "visibility": null,
            "align_self": null,
            "height": null,
            "min_height": null,
            "padding": null,
            "grid_auto_rows": null,
            "grid_gap": null,
            "max_width": null,
            "order": null,
            "_view_module_version": "1.2.0",
            "grid_template_areas": null,
            "object_position": null,
            "object_fit": null,
            "grid_auto_columns": null,
            "margin": null,
            "display": null,
            "left": null
          }
        },
        "06e3abe80ac9495da97e1369e2ca2efa": {
          "model_module": "@jupyter-widgets/controls",
          "model_name": "LabelModel",
          "state": {
            "_view_name": "LabelView",
            "style": "IPY_MODEL_e364cba3c3ba49a19893b6267162b03b",
            "_dom_classes": [],
            "description": "",
            "_model_name": "LabelModel",
            "placeholder": "​",
            "_view_module": "@jupyter-widgets/controls",
            "_model_module_version": "1.5.0",
            "value": " 4.89MB of 4.89MB uploaded (0.25MB deduped)\r",
            "_view_count": null,
            "_view_module_version": "1.5.0",
            "description_tooltip": null,
            "_model_module": "@jupyter-widgets/controls",
            "layout": "IPY_MODEL_3c8e84fb9a5345068e500c309875f90b"
          }
        },
        "4282b64e904244fb914d7911ded8c18d": {
          "model_module": "@jupyter-widgets/controls",
          "model_name": "FloatProgressModel",
          "state": {
            "_view_name": "ProgressView",
            "style": "IPY_MODEL_489a797deea24024b1fdf1293413a5de",
            "_dom_classes": [],
            "description": "",
            "_model_name": "FloatProgressModel",
            "bar_style": "",
            "max": 1,
            "_view_module": "@jupyter-widgets/controls",
            "_model_module_version": "1.5.0",
            "value": 1,
            "_view_count": null,
            "_view_module_version": "1.5.0",
            "orientation": "horizontal",
            "min": 0,
            "description_tooltip": null,
            "_model_module": "@jupyter-widgets/controls",
            "layout": "IPY_MODEL_ecbe402040dc487d9af9d7e79d6948bf"
          }
        },
        "e364cba3c3ba49a19893b6267162b03b": {
          "model_module": "@jupyter-widgets/controls",
          "model_name": "DescriptionStyleModel",
          "state": {
            "_view_name": "StyleView",
            "_model_name": "DescriptionStyleModel",
            "description_width": "",
            "_view_module": "@jupyter-widgets/base",
            "_model_module_version": "1.5.0",
            "_view_count": null,
            "_view_module_version": "1.2.0",
            "_model_module": "@jupyter-widgets/controls"
          }
        },
        "3c8e84fb9a5345068e500c309875f90b": {
          "model_module": "@jupyter-widgets/base",
          "model_name": "LayoutModel",
          "state": {
            "_view_name": "LayoutView",
            "grid_template_rows": null,
            "right": null,
            "justify_content": null,
            "_view_module": "@jupyter-widgets/base",
            "overflow": null,
            "_model_module_version": "1.2.0",
            "_view_count": null,
            "flex_flow": null,
            "width": null,
            "min_width": null,
            "border": null,
            "align_items": null,
            "bottom": null,
            "_model_module": "@jupyter-widgets/base",
            "top": null,
            "grid_column": null,
            "overflow_y": null,
            "overflow_x": null,
            "grid_auto_flow": null,
            "grid_area": null,
            "grid_template_columns": null,
            "flex": null,
            "_model_name": "LayoutModel",
            "justify_items": null,
            "grid_row": null,
            "max_height": null,
            "align_content": null,
            "visibility": null,
            "align_self": null,
            "height": null,
            "min_height": null,
            "padding": null,
            "grid_auto_rows": null,
            "grid_gap": null,
            "max_width": null,
            "order": null,
            "_view_module_version": "1.2.0",
            "grid_template_areas": null,
            "object_position": null,
            "object_fit": null,
            "grid_auto_columns": null,
            "margin": null,
            "display": null,
            "left": null
          }
        },
        "489a797deea24024b1fdf1293413a5de": {
          "model_module": "@jupyter-widgets/controls",
          "model_name": "ProgressStyleModel",
          "state": {
            "_view_name": "StyleView",
            "_model_name": "ProgressStyleModel",
            "description_width": "",
            "_view_module": "@jupyter-widgets/base",
            "_model_module_version": "1.5.0",
            "_view_count": null,
            "_view_module_version": "1.2.0",
            "bar_color": null,
            "_model_module": "@jupyter-widgets/controls"
          }
        },
        "ecbe402040dc487d9af9d7e79d6948bf": {
          "model_module": "@jupyter-widgets/base",
          "model_name": "LayoutModel",
          "state": {
            "_view_name": "LayoutView",
            "grid_template_rows": null,
            "right": null,
            "justify_content": null,
            "_view_module": "@jupyter-widgets/base",
            "overflow": null,
            "_model_module_version": "1.2.0",
            "_view_count": null,
            "flex_flow": null,
            "width": null,
            "min_width": null,
            "border": null,
            "align_items": null,
            "bottom": null,
            "_model_module": "@jupyter-widgets/base",
            "top": null,
            "grid_column": null,
            "overflow_y": null,
            "overflow_x": null,
            "grid_auto_flow": null,
            "grid_area": null,
            "grid_template_columns": null,
            "flex": null,
            "_model_name": "LayoutModel",
            "justify_items": null,
            "grid_row": null,
            "max_height": null,
            "align_content": null,
            "visibility": null,
            "align_self": null,
            "height": null,
            "min_height": null,
            "padding": null,
            "grid_auto_rows": null,
            "grid_gap": null,
            "max_width": null,
            "order": null,
            "_view_module_version": "1.2.0",
            "grid_template_areas": null,
            "object_position": null,
            "object_fit": null,
            "grid_auto_columns": null,
            "margin": null,
            "display": null,
            "left": null
          }
        }
      }
    }
  },
  "cells": [
    {
      "cell_type": "markdown",
      "metadata": {
        "id": "view-in-github",
        "colab_type": "text"
      },
      "source": [
        "<a href=\"https://colab.research.google.com/github/IMOKURI/atmacup11/blob/main/atmacup11_baseline.ipynb\" target=\"_parent\"><img src=\"https://colab.research.google.com/assets/colab-badge.svg\" alt=\"Open In Colab\"/></a>"
      ]
    },
    {
      "cell_type": "markdown",
      "metadata": {
        "id": "5e4660c1",
        "papermill": {
          "duration": 0.041567,
          "end_time": "2021-07-13T14:02:49.51373",
          "exception": false,
          "start_time": "2021-07-13T14:02:49.472163",
          "status": "completed"
        },
        "tags": []
      },
      "source": [
        "# About this notebook ...\n",
        "\n",
        "- Competition site: [atma cup #11](https://www.guruguru.science/competitions/17/)\n",
        "- [WandB training logs](https://wandb.ai/imokuri/atma11)\n",
        "\n",
        "\n",
        "\n",
        "\n",
        "\n"
      ]
    },
    {
      "cell_type": "markdown",
      "metadata": {
        "id": "68842c71",
        "papermill": {
          "duration": 0.042135,
          "end_time": "2021-07-13T14:02:49.597498",
          "exception": false,
          "start_time": "2021-07-13T14:02:49.555363",
          "status": "completed"
        },
        "tags": []
      },
      "source": [
        "## Prepare for Colab"
      ]
    },
    {
      "cell_type": "code",
      "metadata": {
        "execution": {
          "iopub.execute_input": "2021-07-13T14:02:49.688827Z",
          "iopub.status.busy": "2021-07-13T14:02:49.688324Z",
          "iopub.status.idle": "2021-07-13T14:02:50.380204Z",
          "shell.execute_reply": "2021-07-13T14:02:50.379342Z",
          "shell.execute_reply.started": "2021-07-13T13:57:11.542823Z"
        },
        "id": "14137a0f",
        "papermill": {
          "duration": 0.742908,
          "end_time": "2021-07-13T14:02:50.380444",
          "exception": false,
          "start_time": "2021-07-13T14:02:49.637536",
          "status": "completed"
        },
        "tags": [],
        "colab": {
          "base_uri": "https://localhost:8080/"
        },
        "outputId": "7c4bb1f2-2c66-4dc7-ebd5-05bb6c7d7ac1"
      },
      "source": [
        "!nvidia-smi"
      ],
      "execution_count": 1,
      "outputs": [
        {
          "output_type": "stream",
          "text": [
            "Wed Jul 14 13:59:06 2021       \n",
            "+-----------------------------------------------------------------------------+\n",
            "| NVIDIA-SMI 470.42.01    Driver Version: 460.32.03    CUDA Version: 11.2     |\n",
            "|-------------------------------+----------------------+----------------------+\n",
            "| GPU  Name        Persistence-M| Bus-Id        Disp.A | Volatile Uncorr. ECC |\n",
            "| Fan  Temp  Perf  Pwr:Usage/Cap|         Memory-Usage | GPU-Util  Compute M. |\n",
            "|                               |                      |               MIG M. |\n",
            "|===============================+======================+======================|\n",
            "|   0  Tesla P100-PCIE...  Off  | 00000000:00:04.0 Off |                    0 |\n",
            "| N/A   50C    P0    28W / 250W |      0MiB / 16280MiB |      0%      Default |\n",
            "|                               |                      |                  N/A |\n",
            "+-------------------------------+----------------------+----------------------+\n",
            "                                                                               \n",
            "+-----------------------------------------------------------------------------+\n",
            "| Processes:                                                                  |\n",
            "|  GPU   GI   CI        PID   Type   Process name                  GPU Memory |\n",
            "|        ID   ID                                                   Usage      |\n",
            "|=============================================================================|\n",
            "|  No running processes found                                                 |\n",
            "+-----------------------------------------------------------------------------+\n"
          ],
          "name": "stdout"
        }
      ]
    },
    {
      "cell_type": "code",
      "metadata": {
        "execution": {
          "iopub.execute_input": "2021-07-13T14:02:50.512086Z",
          "iopub.status.busy": "2021-07-13T14:02:50.508335Z",
          "iopub.status.idle": "2021-07-13T14:03:27.045096Z",
          "shell.execute_reply": "2021-07-13T14:03:27.044587Z",
          "shell.execute_reply.started": "2021-07-13T13:57:12.243113Z"
        },
        "id": "4871daf1",
        "papermill": {
          "duration": 36.60649,
          "end_time": "2021-07-13T14:03:27.045231",
          "exception": false,
          "start_time": "2021-07-13T14:02:50.438741",
          "status": "completed"
        },
        "tags": [],
        "colab": {
          "base_uri": "https://localhost:8080/"
        },
        "outputId": "9b8f3710-f6dc-4d53-c904-f73108cf9101"
      },
      "source": [
        "import os\n",
        "import sys\n",
        "\n",
        "if os.path.exists('init.txt'):\n",
        "    print(\"Already initialized.\")\n",
        "\n",
        "else:\n",
        "    if 'google.colab' in sys.modules:\n",
        "        from google.colab import drive\n",
        "        drive.mount('/gdrive')\n",
        "\n",
        "        !cp /gdrive/MyDrive/Datasets/dataset_atmaCup11.zip .\n",
        "\n",
        "        !unzip dataset_atmaCup11.zip\n",
        "        !mkdir -p photos\n",
        "        !unzip photos.zip -d photos\n",
        "        !mv 'atmaCup#11_sample_submission.csv' atmaCup11_sample_submission.csv\n",
        "\n",
        "    # for StratifiedGroupKFold\n",
        "    !pip uninstall -y scikit-learn\n",
        "    !pip install --pre --extra-index https://pypi.anaconda.org/scipy-wheels-nightly/simple scikit-learn\n",
        "\n",
        "    !pip install -q wandb\n",
        "    !pip install -Uq timm\n",
        "    !pip install -Uq albumentations\n",
        "\n",
        "    !touch init.txt"
      ],
      "execution_count": 2,
      "outputs": [
        {
          "output_type": "stream",
          "text": [
            "Already initialized.\n"
          ],
          "name": "stdout"
        }
      ]
    },
    {
      "cell_type": "markdown",
      "metadata": {
        "id": "c39b7222",
        "papermill": {
          "duration": 0.052959,
          "end_time": "2021-07-13T14:03:27.151686",
          "exception": false,
          "start_time": "2021-07-13T14:03:27.098727",
          "status": "completed"
        },
        "tags": []
      },
      "source": [
        "## Library"
      ]
    },
    {
      "cell_type": "code",
      "metadata": {
        "execution": {
          "iopub.execute_input": "2021-07-13T14:03:27.264678Z",
          "iopub.status.busy": "2021-07-13T14:03:27.263822Z",
          "iopub.status.idle": "2021-07-13T14:03:31.307165Z",
          "shell.execute_reply": "2021-07-13T14:03:31.30666Z",
          "shell.execute_reply.started": "2021-07-13T13:57:51.357197Z"
        },
        "id": "f63096cb",
        "papermill": {
          "duration": 4.103057,
          "end_time": "2021-07-13T14:03:31.307301",
          "exception": false,
          "start_time": "2021-07-13T14:03:27.204244",
          "status": "completed"
        },
        "tags": []
      },
      "source": [
        "import glob\n",
        "import json\n",
        "import math\n",
        "import os\n",
        "import random\n",
        "import time\n",
        "import warnings\n",
        "from contextlib import contextmanager\n",
        "\n",
        "import albumentations as A\n",
        "import cv2\n",
        "import numpy as np\n",
        "import pandas as pd\n",
        "import scipy as sp\n",
        "import seaborn as sns\n",
        "import timm\n",
        "import torch\n",
        "import torch.nn as nn\n",
        "import torch.nn.functional as F\n",
        "import wandb\n",
        "from albumentations.pytorch import ToTensorV2\n",
        "from PIL import Image\n",
        "from matplotlib import pyplot as plt\n",
        "from sklearn.metrics import mean_squared_error\n",
        "from sklearn.model_selection import StratifiedGroupKFold\n",
        "from torch.optim import SGD, Adam\n",
        "from torch.optim.lr_scheduler import CosineAnnealingLR, CosineAnnealingWarmRestarts, ReduceLROnPlateau\n",
        "from torch.utils.data import DataLoader, Dataset\n",
        "from tqdm.notebook import tqdm"
      ],
      "execution_count": 3,
      "outputs": []
    },
    {
      "cell_type": "code",
      "metadata": {
        "execution": {
          "iopub.execute_input": "2021-07-13T14:03:31.422386Z",
          "iopub.status.busy": "2021-07-13T14:03:31.421579Z",
          "iopub.status.idle": "2021-07-13T14:03:31.424477Z",
          "shell.execute_reply": "2021-07-13T14:03:31.42405Z",
          "shell.execute_reply.started": "2021-07-13T13:57:55.318652Z"
        },
        "id": "c830faec",
        "papermill": {
          "duration": 0.061866,
          "end_time": "2021-07-13T14:03:31.424612",
          "exception": false,
          "start_time": "2021-07-13T14:03:31.362746",
          "status": "completed"
        },
        "tags": []
      },
      "source": [
        "warnings.filterwarnings(\"ignore\")"
      ],
      "execution_count": 4,
      "outputs": []
    },
    {
      "cell_type": "code",
      "metadata": {
        "execution": {
          "iopub.execute_input": "2021-07-13T14:03:54.244857Z",
          "iopub.status.busy": "2021-07-13T14:03:54.244067Z",
          "iopub.status.idle": "2021-07-13T14:03:54.248587Z",
          "shell.execute_reply": "2021-07-13T14:03:54.248165Z",
          "shell.execute_reply.started": "2021-07-13T13:58:08.534238Z"
        },
        "id": "16eb8ed5",
        "papermill": {
          "duration": 0.110502,
          "end_time": "2021-07-13T14:03:54.248712",
          "exception": false,
          "start_time": "2021-07-13T14:03:54.13821",
          "status": "completed"
        },
        "tags": []
      },
      "source": [
        "device = torch.device(\"cuda\" if torch.cuda.is_available() else \"cpu\")"
      ],
      "execution_count": 5,
      "outputs": []
    },
    {
      "cell_type": "code",
      "metadata": {
        "execution": {
          "iopub.execute_input": "2021-07-13T14:03:31.53922Z",
          "iopub.status.busy": "2021-07-13T14:03:31.534302Z",
          "iopub.status.idle": "2021-07-13T14:03:33.944775Z",
          "shell.execute_reply": "2021-07-13T14:03:33.944271Z",
          "shell.execute_reply.started": "2021-07-13T13:57:55.325495Z"
        },
        "id": "7cc53e8c",
        "papermill": {
          "duration": 2.46726,
          "end_time": "2021-07-13T14:03:33.944897",
          "exception": false,
          "start_time": "2021-07-13T14:03:31.477637",
          "status": "completed"
        },
        "tags": [],
        "colab": {
          "base_uri": "https://localhost:8080/"
        },
        "outputId": "c3cd6ca8-60b3-4221-a47c-3be80ffc65de"
      },
      "source": [
        "!wandb login 99be4cf161ada45b19189d933d9bae42e9928398"
      ],
      "execution_count": 6,
      "outputs": [
        {
          "output_type": "stream",
          "text": [
            "\u001b[34m\u001b[1mwandb\u001b[0m: Appending key for api.wandb.ai to your netrc file: /root/.netrc\n"
          ],
          "name": "stdout"
        }
      ]
    },
    {
      "cell_type": "code",
      "metadata": {
        "id": "fB5QkUQJq_6U"
      },
      "source": [
        "wandb_job_type = \"\"\n",
        "wandb_notes = \"\"\n",
        "wandb_tags = []"
      ],
      "execution_count": 7,
      "outputs": []
    },
    {
      "cell_type": "markdown",
      "metadata": {
        "id": "71d9ccbd",
        "papermill": {
          "duration": 0.053483,
          "end_time": "2021-07-13T14:03:34.052717",
          "exception": false,
          "start_time": "2021-07-13T14:03:33.999234",
          "status": "completed"
        },
        "tags": []
      },
      "source": [
        "## Load Data"
      ]
    },
    {
      "cell_type": "code",
      "metadata": {
        "execution": {
          "iopub.execute_input": "2021-07-13T14:03:34.164558Z",
          "iopub.status.busy": "2021-07-13T14:03:34.163735Z",
          "iopub.status.idle": "2021-07-13T14:03:34.166567Z",
          "shell.execute_reply": "2021-07-13T14:03:34.166155Z",
          "shell.execute_reply.started": "2021-07-13T13:57:57.898438Z"
        },
        "id": "4a62a05f",
        "papermill": {
          "duration": 0.060805,
          "end_time": "2021-07-13T14:03:34.166677",
          "exception": false,
          "start_time": "2021-07-13T14:03:34.105872",
          "status": "completed"
        },
        "tags": []
      },
      "source": [
        "DATA_DIR = \"../input/atmacup11/\"\n",
        "BASE_DIR = \"../input/atmacup11/photos/\"\n",
        "OUTPUT_DIR = \"./\"\n",
        "\n",
        "if 'google.colab' in sys.modules:\n",
        "    DATA_DIR = \"./\"\n",
        "    BASE_DIR = \"./photos/\"\n",
        "\n",
        "if not os.path.exists(OUTPUT_DIR):\n",
        "    os.makedirs(OUTPUT_DIR)"
      ],
      "execution_count": 8,
      "outputs": []
    },
    {
      "cell_type": "code",
      "metadata": {
        "execution": {
          "iopub.execute_input": "2021-07-13T14:03:34.276471Z",
          "iopub.status.busy": "2021-07-13T14:03:34.275915Z",
          "iopub.status.idle": "2021-07-13T14:03:35.207624Z",
          "shell.execute_reply": "2021-07-13T14:03:35.206789Z",
          "shell.execute_reply.started": "2021-07-13T13:57:57.907309Z"
        },
        "id": "221bcbeb",
        "papermill": {
          "duration": 0.988144,
          "end_time": "2021-07-13T14:03:35.207762",
          "exception": false,
          "start_time": "2021-07-13T14:03:34.219618",
          "status": "completed"
        },
        "tags": [],
        "colab": {
          "base_uri": "https://localhost:8080/"
        },
        "outputId": "6953b407-f713-40b5-a992-0e36ca63525a"
      },
      "source": [
        "paths = [path for path in glob.glob(BASE_DIR + \"*.jpg\")]\n",
        "print(len(paths))"
      ],
      "execution_count": 9,
      "outputs": [
        {
          "output_type": "stream",
          "text": [
            "9856\n"
          ],
          "name": "stdout"
        }
      ]
    },
    {
      "cell_type": "code",
      "metadata": {
        "execution": {
          "iopub.execute_input": "2021-07-13T14:03:35.320418Z",
          "iopub.status.busy": "2021-07-13T14:03:35.319829Z",
          "iopub.status.idle": "2021-07-13T14:03:35.429367Z",
          "shell.execute_reply": "2021-07-13T14:03:35.428824Z",
          "shell.execute_reply.started": "2021-07-13T13:57:58.182025Z"
        },
        "id": "26350797",
        "papermill": {
          "duration": 0.168137,
          "end_time": "2021-07-13T14:03:35.429499",
          "exception": false,
          "start_time": "2021-07-13T14:03:35.261362",
          "status": "completed"
        },
        "tags": []
      },
      "source": [
        "train = pd.read_csv(DATA_DIR + \"train.csv\")\n",
        "test = pd.read_csv(DATA_DIR + \"test.csv\")\n",
        "sub = pd.read_csv(DATA_DIR + \"atmaCup11_sample_submission.csv\")\n",
        "material = pd.read_csv(DATA_DIR + \"materials.csv\")\n",
        "technique = pd.read_csv(DATA_DIR + \"techniques.csv\")"
      ],
      "execution_count": 10,
      "outputs": []
    },
    {
      "cell_type": "code",
      "metadata": {
        "execution": {
          "iopub.execute_input": "2021-07-13T14:03:35.547052Z",
          "iopub.status.busy": "2021-07-13T14:03:35.546186Z",
          "iopub.status.idle": "2021-07-13T14:03:35.564282Z",
          "shell.execute_reply": "2021-07-13T14:03:35.563559Z",
          "shell.execute_reply.started": "2021-07-13T13:57:58.281218Z"
        },
        "id": "49252b08",
        "papermill": {
          "duration": 0.081017,
          "end_time": "2021-07-13T14:03:35.564402",
          "exception": false,
          "start_time": "2021-07-13T14:03:35.483385",
          "status": "completed"
        },
        "tags": []
      },
      "source": [
        "# https://www.guruguru.science/competitions/17/discussions/000d76a9-fc4b-443e-95f2-5c066c0f3108/\n",
        "train[\"sorting_date_target\"] = train[\"sorting_date\"] / 100.0 - 15.51"
      ],
      "execution_count": 11,
      "outputs": []
    },
    {
      "cell_type": "code",
      "metadata": {
        "execution": {
          "iopub.execute_input": "2021-07-13T14:03:35.693514Z",
          "iopub.status.busy": "2021-07-13T14:03:35.692674Z",
          "iopub.status.idle": "2021-07-13T14:03:35.729704Z",
          "shell.execute_reply": "2021-07-13T14:03:35.730157Z",
          "shell.execute_reply.started": "2021-07-13T13:57:58.316962Z"
        },
        "id": "18097672",
        "papermill": {
          "duration": 0.112287,
          "end_time": "2021-07-13T14:03:35.730312",
          "exception": false,
          "start_time": "2021-07-13T14:03:35.618025",
          "status": "completed"
        },
        "tags": [],
        "colab": {
          "base_uri": "https://localhost:8080/",
          "height": 1000
        },
        "outputId": "ce4381a8-9b8d-4ee4-8ca4-cd76eb65c151"
      },
      "source": [
        "for ds in [train, test, sub]:\n",
        "    print(f\"=\" * 80)\n",
        "    ds.info()\n",
        "    display(ds.head())"
      ],
      "execution_count": 12,
      "outputs": [
        {
          "output_type": "stream",
          "text": [
            "================================================================================\n",
            "<class 'pandas.core.frame.DataFrame'>\n",
            "RangeIndex: 3937 entries, 0 to 3936\n",
            "Data columns (total 5 columns):\n",
            " #   Column               Non-Null Count  Dtype  \n",
            "---  ------               --------------  -----  \n",
            " 0   object_id            3937 non-null   object \n",
            " 1   sorting_date         3937 non-null   int64  \n",
            " 2   art_series_id        3937 non-null   object \n",
            " 3   target               3937 non-null   int64  \n",
            " 4   sorting_date_target  3937 non-null   float64\n",
            "dtypes: float64(1), int64(2), object(2)\n",
            "memory usage: 153.9+ KB\n"
          ],
          "name": "stdout"
        },
        {
          "output_type": "display_data",
          "data": {
            "text/html": [
              "<div>\n",
              "<style scoped>\n",
              "    .dataframe tbody tr th:only-of-type {\n",
              "        vertical-align: middle;\n",
              "    }\n",
              "\n",
              "    .dataframe tbody tr th {\n",
              "        vertical-align: top;\n",
              "    }\n",
              "\n",
              "    .dataframe thead th {\n",
              "        text-align: right;\n",
              "    }\n",
              "</style>\n",
              "<table border=\"1\" class=\"dataframe\">\n",
              "  <thead>\n",
              "    <tr style=\"text-align: right;\">\n",
              "      <th></th>\n",
              "      <th>object_id</th>\n",
              "      <th>sorting_date</th>\n",
              "      <th>art_series_id</th>\n",
              "      <th>target</th>\n",
              "      <th>sorting_date_target</th>\n",
              "    </tr>\n",
              "  </thead>\n",
              "  <tbody>\n",
              "    <tr>\n",
              "      <th>0</th>\n",
              "      <td>002bff09b09998d0be65</td>\n",
              "      <td>1631</td>\n",
              "      <td>509357f67692a6a45626</td>\n",
              "      <td>1</td>\n",
              "      <td>0.80</td>\n",
              "    </tr>\n",
              "    <tr>\n",
              "      <th>1</th>\n",
              "      <td>00309fb1ef05416f9c1f</td>\n",
              "      <td>1900</td>\n",
              "      <td>7987b47bbe5dc3039179</td>\n",
              "      <td>3</td>\n",
              "      <td>3.49</td>\n",
              "    </tr>\n",
              "    <tr>\n",
              "      <th>2</th>\n",
              "      <td>003a1562e97f79ba96dc</td>\n",
              "      <td>1834</td>\n",
              "      <td>ded7c3c9636708e5b14c</td>\n",
              "      <td>3</td>\n",
              "      <td>2.83</td>\n",
              "    </tr>\n",
              "    <tr>\n",
              "      <th>3</th>\n",
              "      <td>004890880e8e7431147b</td>\n",
              "      <td>1743</td>\n",
              "      <td>582ac2d7f0cef195b605</td>\n",
              "      <td>2</td>\n",
              "      <td>1.92</td>\n",
              "    </tr>\n",
              "    <tr>\n",
              "      <th>4</th>\n",
              "      <td>00718c32602425f504c1</td>\n",
              "      <td>1885</td>\n",
              "      <td>64c907f0c08dce4fb8e8</td>\n",
              "      <td>3</td>\n",
              "      <td>3.34</td>\n",
              "    </tr>\n",
              "  </tbody>\n",
              "</table>\n",
              "</div>"
            ],
            "text/plain": [
              "              object_id  sorting_date  ... target  sorting_date_target\n",
              "0  002bff09b09998d0be65          1631  ...      1                 0.80\n",
              "1  00309fb1ef05416f9c1f          1900  ...      3                 3.49\n",
              "2  003a1562e97f79ba96dc          1834  ...      3                 2.83\n",
              "3  004890880e8e7431147b          1743  ...      2                 1.92\n",
              "4  00718c32602425f504c1          1885  ...      3                 3.34\n",
              "\n",
              "[5 rows x 5 columns]"
            ]
          },
          "metadata": {
            "tags": []
          }
        },
        {
          "output_type": "stream",
          "text": [
            "================================================================================\n",
            "<class 'pandas.core.frame.DataFrame'>\n",
            "RangeIndex: 5919 entries, 0 to 5918\n",
            "Data columns (total 1 columns):\n",
            " #   Column     Non-Null Count  Dtype \n",
            "---  ------     --------------  ----- \n",
            " 0   object_id  5919 non-null   object\n",
            "dtypes: object(1)\n",
            "memory usage: 46.4+ KB\n"
          ],
          "name": "stdout"
        },
        {
          "output_type": "display_data",
          "data": {
            "text/html": [
              "<div>\n",
              "<style scoped>\n",
              "    .dataframe tbody tr th:only-of-type {\n",
              "        vertical-align: middle;\n",
              "    }\n",
              "\n",
              "    .dataframe tbody tr th {\n",
              "        vertical-align: top;\n",
              "    }\n",
              "\n",
              "    .dataframe thead th {\n",
              "        text-align: right;\n",
              "    }\n",
              "</style>\n",
              "<table border=\"1\" class=\"dataframe\">\n",
              "  <thead>\n",
              "    <tr style=\"text-align: right;\">\n",
              "      <th></th>\n",
              "      <th>object_id</th>\n",
              "    </tr>\n",
              "  </thead>\n",
              "  <tbody>\n",
              "    <tr>\n",
              "      <th>0</th>\n",
              "      <td>0009e50b94be36ccad39</td>\n",
              "    </tr>\n",
              "    <tr>\n",
              "      <th>1</th>\n",
              "      <td>000bd5e82eb22f199f44</td>\n",
              "    </tr>\n",
              "    <tr>\n",
              "      <th>2</th>\n",
              "      <td>0015f44de1854f617516</td>\n",
              "    </tr>\n",
              "    <tr>\n",
              "      <th>3</th>\n",
              "      <td>00388a678879ba1efa27</td>\n",
              "    </tr>\n",
              "    <tr>\n",
              "      <th>4</th>\n",
              "      <td>005e1e7c6496902d23f3</td>\n",
              "    </tr>\n",
              "  </tbody>\n",
              "</table>\n",
              "</div>"
            ],
            "text/plain": [
              "              object_id\n",
              "0  0009e50b94be36ccad39\n",
              "1  000bd5e82eb22f199f44\n",
              "2  0015f44de1854f617516\n",
              "3  00388a678879ba1efa27\n",
              "4  005e1e7c6496902d23f3"
            ]
          },
          "metadata": {
            "tags": []
          }
        },
        {
          "output_type": "stream",
          "text": [
            "================================================================================\n",
            "<class 'pandas.core.frame.DataFrame'>\n",
            "RangeIndex: 5919 entries, 0 to 5918\n",
            "Data columns (total 1 columns):\n",
            " #   Column  Non-Null Count  Dtype\n",
            "---  ------  --------------  -----\n",
            " 0   target  5919 non-null   int64\n",
            "dtypes: int64(1)\n",
            "memory usage: 46.4 KB\n"
          ],
          "name": "stdout"
        },
        {
          "output_type": "display_data",
          "data": {
            "text/html": [
              "<div>\n",
              "<style scoped>\n",
              "    .dataframe tbody tr th:only-of-type {\n",
              "        vertical-align: middle;\n",
              "    }\n",
              "\n",
              "    .dataframe tbody tr th {\n",
              "        vertical-align: top;\n",
              "    }\n",
              "\n",
              "    .dataframe thead th {\n",
              "        text-align: right;\n",
              "    }\n",
              "</style>\n",
              "<table border=\"1\" class=\"dataframe\">\n",
              "  <thead>\n",
              "    <tr style=\"text-align: right;\">\n",
              "      <th></th>\n",
              "      <th>target</th>\n",
              "    </tr>\n",
              "  </thead>\n",
              "  <tbody>\n",
              "    <tr>\n",
              "      <th>0</th>\n",
              "      <td>3</td>\n",
              "    </tr>\n",
              "    <tr>\n",
              "      <th>1</th>\n",
              "      <td>1</td>\n",
              "    </tr>\n",
              "    <tr>\n",
              "      <th>2</th>\n",
              "      <td>3</td>\n",
              "    </tr>\n",
              "    <tr>\n",
              "      <th>3</th>\n",
              "      <td>3</td>\n",
              "    </tr>\n",
              "    <tr>\n",
              "      <th>4</th>\n",
              "      <td>0</td>\n",
              "    </tr>\n",
              "  </tbody>\n",
              "</table>\n",
              "</div>"
            ],
            "text/plain": [
              "   target\n",
              "0       3\n",
              "1       1\n",
              "2       3\n",
              "3       3\n",
              "4       0"
            ]
          },
          "metadata": {
            "tags": []
          }
        }
      ]
    },
    {
      "cell_type": "code",
      "metadata": {
        "execution": {
          "iopub.execute_input": "2021-07-13T14:03:35.863409Z",
          "iopub.status.busy": "2021-07-13T14:03:35.862616Z",
          "iopub.status.idle": "2021-07-13T14:03:36.026732Z",
          "shell.execute_reply": "2021-07-13T14:03:36.027163Z",
          "shell.execute_reply.started": "2021-07-13T13:57:58.455807Z"
        },
        "id": "c9da5e5e",
        "papermill": {
          "duration": 0.240949,
          "end_time": "2021-07-13T14:03:36.02731",
          "exception": false,
          "start_time": "2021-07-13T14:03:35.786361",
          "status": "completed"
        },
        "tags": [],
        "colab": {
          "base_uri": "https://localhost:8080/",
          "height": 296
        },
        "outputId": "09ce9ace-2b06-4d97-c126-9754f9d73b5d"
      },
      "source": [
        "sns.distplot(train[\"target\"], kde=False)"
      ],
      "execution_count": 13,
      "outputs": [
        {
          "output_type": "execute_result",
          "data": {
            "text/plain": [
              "<matplotlib.axes._subplots.AxesSubplot at 0x7fed434b5dd0>"
            ]
          },
          "metadata": {
            "tags": []
          },
          "execution_count": 13
        },
        {
          "output_type": "display_data",
          "data": {
            "image/png": "[encoded data removed]",
            "text/plain": [
              "<Figure size 432x288 with 1 Axes>"
            ]
          },
          "metadata": {
            "tags": [],
            "needs_background": "light"
          }
        }
      ]
    },
    {
      "cell_type": "code",
      "metadata": {
        "execution": {
          "iopub.execute_input": "2021-07-13T14:03:36.212402Z",
          "iopub.status.busy": "2021-07-13T14:03:36.211493Z",
          "iopub.status.idle": "2021-07-13T14:03:36.537222Z",
          "shell.execute_reply": "2021-07-13T14:03:36.538081Z",
          "shell.execute_reply.started": "2021-07-13T13:57:58.845858Z"
        },
        "id": "3f5772d0",
        "papermill": {
          "duration": 0.446634,
          "end_time": "2021-07-13T14:03:36.538289",
          "exception": false,
          "start_time": "2021-07-13T14:03:36.091655",
          "status": "completed"
        },
        "tags": [],
        "colab": {
          "base_uri": "https://localhost:8080/",
          "height": 297
        },
        "outputId": "012786b3-9f96-41ba-f8d5-2bfd8709daf8"
      },
      "source": [
        "sns.distplot(train[\"sorting_date_target\"], kde=False)"
      ],
      "execution_count": 14,
      "outputs": [
        {
          "output_type": "execute_result",
          "data": {
            "text/plain": [
              "<matplotlib.axes._subplots.AxesSubplot at 0x7fed42f670d0>"
            ]
          },
          "metadata": {
            "tags": []
          },
          "execution_count": 14
        },
        {
          "output_type": "display_data",
          "data": {
            "image/png": "[encoded data removed]",
            "text/plain": [
              "<Figure size 432x288 with 1 Axes>"
            ]
          },
          "metadata": {
            "tags": [],
            "needs_background": "light"
          }
        }
      ]
    },
    {
      "cell_type": "code",
      "metadata": {
        "execution": {
          "iopub.execute_input": "2021-07-13T14:03:36.732829Z",
          "iopub.status.busy": "2021-07-13T14:03:36.732035Z",
          "iopub.status.idle": "2021-07-13T14:03:36.739299Z",
          "shell.execute_reply": "2021-07-13T14:03:36.738856Z",
          "shell.execute_reply.started": "2021-07-13T13:57:59.082355Z"
        },
        "id": "19b95d4e",
        "papermill": {
          "duration": 0.101947,
          "end_time": "2021-07-13T14:03:36.739417",
          "exception": false,
          "start_time": "2021-07-13T14:03:36.63747",
          "status": "completed"
        },
        "tags": [],
        "colab": {
          "base_uri": "https://localhost:8080/"
        },
        "outputId": "31dee937-a677-47ae-d2c1-8dd298881ff6"
      },
      "source": [
        "train[\"art_series_id\"].value_counts()"
      ],
      "execution_count": 15,
      "outputs": [
        {
          "output_type": "execute_result",
          "data": {
            "text/plain": [
              "607c22f5e66e8d50a298    9\n",
              "6fb734ceff36fe2184b5    7\n",
              "78db88c5ca6d7f6f4ac6    6\n",
              "9f6b6e88a57613d73742    4\n",
              "f8b88aff7f66a106ba3f    4\n",
              "                       ..\n",
              "a28bd50ffff5affad742    1\n",
              "4b58505af4cf8f632bcd    1\n",
              "3586b7c8e6567fd62ef4    1\n",
              "51912d9677ec24826a3a    1\n",
              "2488b8f822b16c952b4c    1\n",
              "Name: art_series_id, Length: 3784, dtype: int64"
            ]
          },
          "metadata": {
            "tags": []
          },
          "execution_count": 15
        }
      ]
    },
    {
      "cell_type": "markdown",
      "metadata": {
        "id": "b7ef06f8",
        "papermill": {
          "duration": 0.057546,
          "end_time": "2021-07-13T14:03:36.854804",
          "exception": false,
          "start_time": "2021-07-13T14:03:36.797258",
          "status": "completed"
        },
        "tags": []
      },
      "source": [
        "## Config"
      ]
    },
    {
      "cell_type": "code",
      "metadata": {
        "execution": {
          "iopub.execute_input": "2021-07-13T14:03:37.46477Z",
          "iopub.status.busy": "2021-07-13T14:03:37.463498Z",
          "iopub.status.idle": "2021-07-13T14:03:37.465646Z",
          "shell.execute_reply": "2021-07-13T14:03:37.466461Z",
          "shell.execute_reply.started": "2021-07-13T13:57:59.141326Z"
        },
        "id": "c0177571",
        "papermill": {
          "duration": 0.064126,
          "end_time": "2021-07-13T14:03:37.466583",
          "exception": false,
          "start_time": "2021-07-13T14:03:37.402457",
          "status": "completed"
        },
        "tags": []
      },
      "source": [
        "class Config:\n",
        "    wandb_entity = \"imokuri\"\n",
        "    wandb_project = \"atma11\"\n",
        "    print_freq = 50\n",
        "\n",
        "    train = False\n",
        "    validate = True\n",
        "    inference = True\n",
        "\n",
        "    debug = False\n",
        "    multi_gpu = False\n",
        "    apex = False\n"
      ],
      "execution_count": 16,
      "outputs": []
    },
    {
      "cell_type": "code",
      "metadata": {
        "execution": {
          "iopub.execute_input": "2021-07-13T14:03:37.587697Z",
          "iopub.status.busy": "2021-07-13T14:03:37.586356Z",
          "iopub.status.idle": "2021-07-13T14:03:37.588649Z",
          "shell.execute_reply": "2021-07-13T14:03:37.589157Z",
          "shell.execute_reply.started": "2021-07-13T13:57:59.152921Z"
        },
        "id": "0a195fe0",
        "papermill": {
          "duration": 0.065165,
          "end_time": "2021-07-13T14:03:37.589292",
          "exception": false,
          "start_time": "2021-07-13T14:03:37.524127",
          "status": "completed"
        },
        "tags": []
      },
      "source": [
        "if Config.train:\n",
        "    wandb_job_type = \"training\"\n",
        "\n",
        "elif Config.inference:\n",
        "    wandb_job_type = \"inference\"\n",
        "\n",
        "elif Config.validate:\n",
        "    wandb_job_type = \"validation\""
      ],
      "execution_count": 17,
      "outputs": []
    },
    {
      "cell_type": "code",
      "metadata": {
        "execution": {
          "iopub.execute_input": "2021-07-13T14:03:54.078379Z",
          "iopub.status.busy": "2021-07-13T14:03:54.077527Z",
          "iopub.status.idle": "2021-07-13T14:03:54.07969Z",
          "shell.execute_reply": "2021-07-13T14:03:54.080124Z",
          "shell.execute_reply.started": "2021-07-13T13:58:08.523771Z"
        },
        "id": "ccb61787",
        "papermill": {
          "duration": 0.065226,
          "end_time": "2021-07-13T14:03:54.080259",
          "exception": false,
          "start_time": "2021-07-13T14:03:54.015033",
          "status": "completed"
        },
        "tags": []
      },
      "source": [
        "if Config.apex:\n",
        "    from apex import amp"
      ],
      "execution_count": 18,
      "outputs": []
    },
    {
      "cell_type": "code",
      "metadata": {
        "id": "fWDHvHvNxoD3"
      },
      "source": [
        "seed = random.randrange(10000)\n",
        "# seed = 440"
      ],
      "execution_count": 19,
      "outputs": []
    },
    {
      "cell_type": "code",
      "metadata": {
        "execution": {
          "iopub.execute_input": "2021-07-13T14:03:37.220404Z",
          "iopub.status.busy": "2021-07-13T14:03:37.218802Z",
          "iopub.status.idle": "2021-07-13T14:03:37.221109Z",
          "shell.execute_reply": "2021-07-13T14:03:37.221508Z",
          "shell.execute_reply.started": "2021-07-13T13:57:59.118596Z"
        },
        "id": "daf057a9",
        "papermill": {
          "duration": 0.067267,
          "end_time": "2021-07-13T14:03:37.221653",
          "exception": false,
          "start_time": "2021-07-13T14:03:37.154386",
          "status": "completed"
        },
        "tags": []
      },
      "source": [
        "config_defaults = {\n",
        "    \"seed\": seed,\n",
        "    \"size\": 256,\n",
        "    \"n_class\": 1,\n",
        "    \"n_fold\": 5,\n",
        "    \"gradient_accumulation_steps\": 1,\n",
        "    \"max_grad_norm\": 1000,\n",
        "    \"num_workers\": 4,\n",
        "    \"batch_size\": 16,\n",
        "    \"epochs\": 20,\n",
        "    \"scheduler\": \"CosineAnnealingWarmRestarts\",\n",
        "    \"criterion\": \"RMSELoss\",\n",
        "    \"lr\": 1e-3,\n",
        "    \"min_lr\": 1e-4,\n",
        "    \"weight_decay\": 1e-6,\n",
        "    \"model_name\": \"seresnext26d_32x4d\",\n",
        "    \"inference_runs\": [\n",
        "        \"3r29llv1\", # 36\n",
        "        \"2r8nooek\", # 33\n",
        "        \"1t1k9jk5\", # 34\n",
        "        \"viccx8lc\", # 35\n",
        "    ],\n",
        "    \"no_aug\": True,\n",
        "}\n"
      ],
      "execution_count": 20,
      "outputs": []
    },
    {
      "cell_type": "code",
      "metadata": {
        "execution": {
          "iopub.execute_input": "2021-07-13T14:03:37.343742Z",
          "iopub.status.busy": "2021-07-13T14:03:37.342509Z",
          "iopub.status.idle": "2021-07-13T14:03:37.344858Z",
          "shell.execute_reply": "2021-07-13T14:03:37.34528Z",
          "shell.execute_reply.started": "2021-07-13T13:57:59.129581Z"
        },
        "id": "b5a710ed",
        "papermill": {
          "duration": 0.066068,
          "end_time": "2021-07-13T14:03:37.345408",
          "exception": false,
          "start_time": "2021-07-13T14:03:37.27934",
          "status": "completed"
        },
        "tags": []
      },
      "source": [
        "if config_defaults[\"scheduler\"] == \"CosineAnnealingWarmRestarts\":\n",
        "    config_defaults[\"T_0\"] = config_defaults[\"epochs\"]\n",
        "\n",
        "elif config_defaults[\"scheduler\"] == \"CosineAnnealingLR\":\n",
        "    config_defaults[\"T_max\"] = config_defaults[\"epochs\"]\n",
        "\n",
        "elif config_defaults[\"scheduler\"] == \"ReduceLROnPlateau\":\n",
        "    config_defaults[\"factor\"] = 0.2\n",
        "    config_defaults[\"patience\"] = 4\n",
        "    config_defaults[\"eps\"] = 1e-6\n"
      ],
      "execution_count": 21,
      "outputs": []
    },
    {
      "cell_type": "code",
      "metadata": {
        "execution": {
          "iopub.execute_input": "2021-07-13T14:03:46.139991Z",
          "iopub.status.busy": "2021-07-13T14:03:46.139194Z",
          "iopub.status.idle": "2021-07-13T14:03:46.14131Z",
          "shell.execute_reply": "2021-07-13T14:03:46.141711Z",
          "shell.execute_reply.started": "2021-07-13T13:58:07.74421Z"
        },
        "id": "fd440361",
        "papermill": {
          "duration": 0.066312,
          "end_time": "2021-07-13T14:03:46.141832",
          "exception": false,
          "start_time": "2021-07-13T14:03:46.07552",
          "status": "completed"
        },
        "tags": []
      },
      "source": [
        "if Config.debug:\n",
        "    config_defaults[\"epochs\"] = 1"
      ],
      "execution_count": 22,
      "outputs": []
    },
    {
      "cell_type": "code",
      "metadata": {
        "execution": {
          "iopub.execute_input": "2021-07-13T14:03:46.265056Z",
          "iopub.status.busy": "2021-07-13T14:03:46.26439Z",
          "iopub.status.idle": "2021-07-13T14:03:53.705061Z",
          "shell.execute_reply": "2021-07-13T14:03:53.704593Z",
          "shell.execute_reply.started": "2021-07-13T13:58:07.750675Z"
        },
        "id": "a6a78770",
        "papermill": {
          "duration": 7.504877,
          "end_time": "2021-07-13T14:03:53.705194",
          "exception": false,
          "start_time": "2021-07-13T14:03:46.200317",
          "status": "completed"
        },
        "tags": [],
        "colab": {
          "base_uri": "https://localhost:8080/",
          "height": 136
        },
        "outputId": "915e8aa5-9217-45a2-c777-c12708f7a15a"
      },
      "source": [
        "if Config.debug:\n",
        "    wandb.init(project=Config.wandb_project, config=config_defaults, mode=\"disabled\")\n",
        "else:\n",
        "    wandb.init(project=Config.wandb_project, config=config_defaults, notes=wandb_notes, tags=wandb_tags, job_type=wandb_job_type, save_code=True)"
      ],
      "execution_count": 23,
      "outputs": [
        {
          "output_type": "stream",
          "text": [
            "\u001b[34m\u001b[1mwandb\u001b[0m: Currently logged in as: \u001b[33mimokuri\u001b[0m (use `wandb login --relogin` to force relogin)\n"
          ],
          "name": "stderr"
        },
        {
          "output_type": "display_data",
          "data": {
            "text/html": [
              "\n",
              "                Tracking run with wandb version 0.10.33<br/>\n",
              "                Syncing run <strong style=\"color:#cdcd00\">legendary-field-45</strong> to <a href=\"https://wandb.ai\" target=\"_blank\">Weights & Biases</a> <a href=\"https://docs.wandb.com/integrations/jupyter.html\" target=\"_blank\">(Documentation)</a>.<br/>\n",
              "                Project page: <a href=\"https://wandb.ai/imokuri/atma11\" target=\"_blank\">https://wandb.ai/imokuri/atma11</a><br/>\n",
              "                Run page: <a href=\"https://wandb.ai/imokuri/atma11/runs/3c1ydy2b\" target=\"_blank\">https://wandb.ai/imokuri/atma11/runs/3c1ydy2b</a><br/>\n",
              "                Run data is saved locally in <code>/content/wandb/run-20210714_135913-3c1ydy2b</code><br/><br/>\n",
              "            "
            ],
            "text/plain": [
              "<IPython.core.display.HTML object>"
            ]
          },
          "metadata": {
            "tags": []
          }
        }
      ]
    },
    {
      "cell_type": "code",
      "metadata": {
        "execution": {
          "iopub.execute_input": "2021-07-13T14:03:53.828458Z",
          "iopub.status.busy": "2021-07-13T14:03:53.827616Z",
          "iopub.status.idle": "2021-07-13T14:03:53.829731Z",
          "shell.execute_reply": "2021-07-13T14:03:53.830154Z",
          "shell.execute_reply.started": "2021-07-13T13:58:08.499415Z"
        },
        "id": "2408ee43",
        "papermill": {
          "duration": 0.066332,
          "end_time": "2021-07-13T14:03:53.830286",
          "exception": false,
          "start_time": "2021-07-13T14:03:53.763954",
          "status": "completed"
        },
        "tags": []
      },
      "source": [
        "config = wandb.config"
      ],
      "execution_count": 24,
      "outputs": []
    },
    {
      "cell_type": "markdown",
      "metadata": {
        "id": "XeZesLBHnfl5"
      },
      "source": [
        "## Load Models"
      ]
    },
    {
      "cell_type": "code",
      "metadata": {
        "id": "wOdN4h2grTzx",
        "colab": {
          "base_uri": "https://localhost:8080/"
        },
        "outputId": "0163bac8-d3dc-4d78-fd0a-11f6e69ea7ac"
      },
      "source": [
        "if Config.validate or Config.inference:\n",
        "    api = wandb.Api()\n",
        "    inference_models = []\n",
        "\n",
        "    for n, run_id in enumerate(config.inference_runs):\n",
        "        if not os.path.exists(run_id):\n",
        "            os.makedirs(run_id)\n",
        "\n",
        "        run_path = f\"{Config.wandb_entity}/{Config.wandb_project}/{run_id}\"\n",
        "        run = api.run(run_path)\n",
        "\n",
        "        try:\n",
        "            for file in run.files():\n",
        "                file.download(run_id)\n",
        "        except wandb.CommError:\n",
        "            # Already downloaded.\n",
        "            pass\n",
        "\n",
        "        inference_model = {}\n",
        "        inference_model[\"run_id\"] = run_id\n",
        "        inference_model[\"model_name\"] = run.config[\"model_name\"]\n",
        "        \n",
        "        for fold in range(config.n_fold):\n",
        "            model_preds = torch.load(f\"{run_id}/{inference_model['model_name']}_fold{fold}_best.pth\")\n",
        "            inference_model[f\"state_fold{fold}\"] = model_preds[\"model\"]\n",
        "            inference_model[f\"preds_fold{fold}\"] = model_preds[\"preds\"]\n",
        "\n",
        "        oof = pd.read_csv(f\"{run_id}/oof_df.csv\")[[\"object_id\", \"preds\"]]\n",
        "        oof.columns = [\"object_id\", f\"preds{n}\"]\n",
        "        train = pd.merge(train, oof, on=\"object_id\", )\n",
        "\n",
        "        inference_models.append(inference_model)\n",
        "    \n",
        "    print(train.columns)\n",
        "    print({m['run_id']: m['model_name'] for m in inference_models})"
      ],
      "execution_count": 25,
      "outputs": [
        {
          "output_type": "stream",
          "text": [
            "Index(['object_id', 'sorting_date', 'art_series_id', 'target',\n",
            "       'sorting_date_target', 'preds0', 'preds1', 'preds2', 'preds3'],\n",
            "      dtype='object')\n",
            "{'3r29llv1': 'resnet34d', '2r8nooek': 'resnet18d', '1t1k9jk5': 'tf_efficientnetv2_b0', 'viccx8lc': 'efficientnet_b0'}\n"
          ],
          "name": "stdout"
        }
      ]
    },
    {
      "cell_type": "code",
      "metadata": {
        "execution": {
          "iopub.execute_input": "2021-07-13T14:03:53.954538Z",
          "iopub.status.busy": "2021-07-13T14:03:53.953653Z",
          "iopub.status.idle": "2021-07-13T14:03:53.95575Z",
          "shell.execute_reply": "2021-07-13T14:03:53.956217Z",
          "shell.execute_reply.started": "2021-07-13T13:58:08.506718Z"
        },
        "id": "ba31d893",
        "papermill": {
          "duration": 0.067451,
          "end_time": "2021-07-13T14:03:53.956352",
          "exception": false,
          "start_time": "2021-07-13T14:03:53.888901",
          "status": "completed"
        },
        "tags": []
      },
      "source": [
        "if Config.debug:\n",
        "    train = train.sample(n=1000, random_state=config.seed).reset_index(drop=True)\n",
        "    test = test.sample(n=1000, random_state=config.seed).reset_index(drop=True)\n",
        "    sub = sub.sample(n=1000, random_state=config.seed).reset_index(drop=True)"
      ],
      "execution_count": 26,
      "outputs": []
    },
    {
      "cell_type": "markdown",
      "metadata": {
        "id": "7d423ea8",
        "papermill": {
          "duration": 0.059969,
          "end_time": "2021-07-13T14:03:54.367872",
          "exception": false,
          "start_time": "2021-07-13T14:03:54.307903",
          "status": "completed"
        },
        "tags": []
      },
      "source": [
        "## Utils"
      ]
    },
    {
      "cell_type": "code",
      "metadata": {
        "execution": {
          "iopub.execute_input": "2021-07-13T14:03:54.496057Z",
          "iopub.status.busy": "2021-07-13T14:03:54.495404Z",
          "iopub.status.idle": "2021-07-13T14:03:54.501796Z",
          "shell.execute_reply": "2021-07-13T14:03:54.50133Z",
          "shell.execute_reply.started": "2021-07-13T13:58:08.588546Z"
        },
        "id": "5985d91d",
        "papermill": {
          "duration": 0.074529,
          "end_time": "2021-07-13T14:03:54.501913",
          "exception": false,
          "start_time": "2021-07-13T14:03:54.427384",
          "status": "completed"
        },
        "tags": []
      },
      "source": [
        "@contextmanager\n",
        "def timer(name):\n",
        "    t0 = time.time()\n",
        "    LOGGER.info(f\"[{name}] start\")\n",
        "    yield\n",
        "    LOGGER.info(f\"[{name}] done in {time.time() - t0:.0f} s.\")\n",
        "\n",
        "\n",
        "def init_logger(log_file=OUTPUT_DIR + \"train.log\"):\n",
        "    from logging import INFO, FileHandler, Formatter, StreamHandler, getLogger\n",
        "\n",
        "    logger = getLogger(__name__)\n",
        "    logger.setLevel(INFO)\n",
        "    handler1 = StreamHandler()\n",
        "    handler1.setFormatter(Formatter(\"%(message)s\"))\n",
        "    handler2 = FileHandler(filename=log_file)\n",
        "    handler2.setFormatter(Formatter(\"%(message)s\"))\n",
        "    logger.addHandler(handler1)\n",
        "    logger.addHandler(handler2)\n",
        "    return logger\n",
        "\n",
        "\n",
        "LOGGER = init_logger()\n",
        "\n",
        "\n",
        "def seed_torch(seed=42):\n",
        "    random.seed(seed)\n",
        "    os.environ[\"PYTHONHASHSEED\"] = str(seed)\n",
        "    np.random.seed(seed)\n",
        "    torch.manual_seed(seed)\n",
        "    torch.cuda.manual_seed(seed)\n",
        "    torch.backends.cudnn.deterministic = True\n",
        "\n",
        "\n",
        "seed_torch(seed=config.seed)\n"
      ],
      "execution_count": 27,
      "outputs": []
    },
    {
      "cell_type": "markdown",
      "metadata": {
        "id": "7d35d3bc",
        "papermill": {
          "duration": 0.05863,
          "end_time": "2021-07-13T14:03:54.619002",
          "exception": false,
          "start_time": "2021-07-13T14:03:54.560372",
          "status": "completed"
        },
        "tags": []
      },
      "source": [
        "## CV Split"
      ]
    },
    {
      "cell_type": "code",
      "metadata": {
        "execution": {
          "iopub.execute_input": "2021-07-13T14:03:54.744394Z",
          "iopub.status.busy": "2021-07-13T14:03:54.74354Z",
          "iopub.status.idle": "2021-07-13T14:03:56.61709Z",
          "shell.execute_reply": "2021-07-13T14:03:56.61794Z",
          "shell.execute_reply.started": "2021-07-13T13:58:08.605413Z"
        },
        "id": "7a604e6e",
        "papermill": {
          "duration": 1.940521,
          "end_time": "2021-07-13T14:03:56.618208",
          "exception": false,
          "start_time": "2021-07-13T14:03:54.677687",
          "status": "completed"
        },
        "tags": [],
        "colab": {
          "base_uri": "https://localhost:8080/"
        },
        "outputId": "0c5430df-ff49-444e-d357-4901bf1f24ab"
      },
      "source": [
        "folds = train.copy()\n",
        "Fold = StratifiedGroupKFold(n_splits=config.n_fold, shuffle=True, random_state=config.seed)\n",
        "for n, (train_index, val_index) in enumerate(Fold.split(folds, folds[\"target\"], folds[\"art_series_id\"])):\n",
        "    folds.loc[val_index, \"fold\"] = int(n)\n",
        "folds[\"fold\"] = folds[\"fold\"].astype(np.uint8)\n",
        "print(folds.groupby([\"fold\", \"target\"]).size())\n"
      ],
      "execution_count": 28,
      "outputs": [
        {
          "output_type": "stream",
          "text": [
            "fold  target\n",
            "0     0         106\n",
            "      1         179\n",
            "      2         284\n",
            "      3         213\n",
            "1     0          96\n",
            "      1         159\n",
            "      2         323\n",
            "      3         206\n",
            "2     0          88\n",
            "      1         163\n",
            "      2         316\n",
            "      3         224\n",
            "3     0          85\n",
            "      1         209\n",
            "      2         292\n",
            "      3         201\n",
            "4     0         100\n",
            "      1         186\n",
            "      2         296\n",
            "      3         211\n",
            "dtype: int64\n"
          ],
          "name": "stdout"
        }
      ]
    },
    {
      "cell_type": "markdown",
      "metadata": {
        "id": "596efb85",
        "papermill": {
          "duration": 0.099201,
          "end_time": "2021-07-13T14:03:56.811611",
          "exception": false,
          "start_time": "2021-07-13T14:03:56.71241",
          "status": "completed"
        },
        "tags": []
      },
      "source": [
        "## Dataset"
      ]
    },
    {
      "cell_type": "code",
      "metadata": {
        "execution": {
          "iopub.execute_input": "2021-07-13T14:03:57.003353Z",
          "iopub.status.busy": "2021-07-13T14:03:57.002444Z",
          "iopub.status.idle": "2021-07-13T14:03:57.004892Z",
          "shell.execute_reply": "2021-07-13T14:03:57.005664Z",
          "shell.execute_reply.started": "2021-07-13T13:58:09.040436Z"
        },
        "id": "c2721636",
        "papermill": {
          "duration": 0.104913,
          "end_time": "2021-07-13T14:03:57.005848",
          "exception": false,
          "start_time": "2021-07-13T14:03:56.900935",
          "status": "completed"
        },
        "tags": []
      },
      "source": [
        "class TrainDataset(Dataset):\n",
        "    def __init__(self, df, transform=None):\n",
        "        self.df = df\n",
        "        self.file_names = df[\"object_id\"].values\n",
        "        self.labels = df[\"sorting_date_target\"].values\n",
        "        self.transform = transform\n",
        "\n",
        "    def __len__(self):\n",
        "        return len(self.df)\n",
        "\n",
        "    def __getitem__(self, idx):\n",
        "        file_name = self.file_names[idx]\n",
        "        file_path = f\"{BASE_DIR}/{file_name}.jpg\"\n",
        "        image = cv2.imread(file_path)\n",
        "        image = cv2.cvtColor(image, cv2.COLOR_BGR2RGB)\n",
        "        if self.transform:\n",
        "            augmented = self.transform(image=image)\n",
        "            image = augmented[\"image\"]\n",
        "        label = torch.tensor(self.labels[idx]).float()\n",
        "        return image, label\n",
        "\n",
        "\n",
        "class TestDataset(Dataset):\n",
        "    def __init__(self, df, transform=None):\n",
        "        self.df = df\n",
        "        self.file_names = df[\"object_id\"].values\n",
        "        self.transform = transform\n",
        "\n",
        "    def __len__(self):\n",
        "        return len(self.df)\n",
        "\n",
        "    def __getitem__(self, idx):\n",
        "        file_name = self.file_names[idx]\n",
        "        file_path = f\"{BASE_DIR}/{file_name}.jpg\"\n",
        "        image = cv2.imread(file_path)\n",
        "        image = cv2.cvtColor(image, cv2.COLOR_BGR2RGB)\n",
        "        if self.transform:\n",
        "            augmented = self.transform(image=image)\n",
        "            image = augmented[\"image\"]\n",
        "        return image\n"
      ],
      "execution_count": 29,
      "outputs": []
    },
    {
      "cell_type": "code",
      "metadata": {
        "execution": {
          "iopub.execute_input": "2021-07-13T14:03:57.151261Z",
          "iopub.status.busy": "2021-07-13T14:03:57.150077Z",
          "iopub.status.idle": "2021-07-13T14:03:57.368831Z",
          "shell.execute_reply": "2021-07-13T14:03:57.368422Z",
          "shell.execute_reply.started": "2021-07-13T13:58:09.05394Z"
        },
        "id": "e56a1c49",
        "papermill": {
          "duration": 0.295182,
          "end_time": "2021-07-13T14:03:57.368949",
          "exception": false,
          "start_time": "2021-07-13T14:03:57.073767",
          "status": "completed"
        },
        "tags": [],
        "colab": {
          "base_uri": "https://localhost:8080/",
          "height": 227
        },
        "outputId": "2976e281-21a6-4aae-8a3c-2abe73176978"
      },
      "source": [
        "# Test\n",
        "\n",
        "train_ds = TrainDataset(train, transform=None)\n",
        "\n",
        "for i in range(1):\n",
        "    image, label = train_ds[i]\n",
        "    plt.imshow(image)\n",
        "    plt.title(f\"label: {label}\")\n",
        "    plt.show()\n"
      ],
      "execution_count": 30,
      "outputs": [
        {
          "output_type": "display_data",
          "data": {
            "image/png": "[encoded data removed]",
            "text/plain": [
              "<Figure size 432x288 with 1 Axes>"
            ]
          },
          "metadata": {
            "tags": [],
            "needs_background": "light"
          }
        }
      ]
    },
    {
      "cell_type": "markdown",
      "metadata": {
        "id": "87073957",
        "papermill": {
          "duration": 0.066676,
          "end_time": "2021-07-13T14:03:57.497449",
          "exception": false,
          "start_time": "2021-07-13T14:03:57.430773",
          "status": "completed"
        },
        "tags": []
      },
      "source": [
        "## Transform"
      ]
    },
    {
      "cell_type": "code",
      "metadata": {
        "execution": {
          "iopub.execute_input": "2021-07-13T14:03:57.780622Z",
          "iopub.status.busy": "2021-07-13T14:03:57.779642Z",
          "iopub.status.idle": "2021-07-13T14:03:57.787509Z",
          "shell.execute_reply": "2021-07-13T14:03:57.78862Z",
          "shell.execute_reply.started": "2021-07-13T13:58:09.261547Z"
        },
        "id": "36ad5139",
        "papermill": {
          "duration": 0.211988,
          "end_time": "2021-07-13T14:03:57.788846",
          "exception": false,
          "start_time": "2021-07-13T14:03:57.576858",
          "status": "completed"
        },
        "tags": []
      },
      "source": [
        "def get_transforms(*, data):\n",
        "\n",
        "    if data == \"train\":\n",
        "        return A.Compose(\n",
        "            [\n",
        "                # A.Resize(config.size, config.size),\n",
        "                A.RandomResizedCrop(config.size, config.size, scale=(0.5, 1.0)),\n",
        "                A.Transpose(p=0.5),\n",
        "                A.HorizontalFlip(p=0.5),\n",
        "                A.VerticalFlip(p=0.5),\n",
        "                A.ShiftScaleRotate(p=0.5),\n",
        "                A.HueSaturationValue(hue_shift_limit=0.2, sat_shift_limit=0.2, val_shift_limit=0.2, p=0.5),\n",
        "                A.RandomBrightnessContrast(brightness_limit=(-0.1, 0.1), contrast_limit=(-0.1, 0.1), p=0.5),\n",
        "                A.CoarseDropout(p=0.5),\n",
        "                A.Cutout(p=0.5),\n",
        "                A.Normalize(\n",
        "                    mean=[0.485, 0.456, 0.406],\n",
        "                    std=[0.229, 0.224, 0.225],\n",
        "                ),\n",
        "                ToTensorV2(),\n",
        "            ]\n",
        "        )\n",
        "\n",
        "    elif data == \"weak_train\":\n",
        "        return A.Compose(\n",
        "            [\n",
        "                # A.Resize(config.size, config.size),\n",
        "                A.RandomResizedCrop(config.size, config.size, scale=(0.5, 1.0)),\n",
        "                A.Transpose(p=0.5),\n",
        "                A.HorizontalFlip(p=0.5),\n",
        "                A.VerticalFlip(p=0.5),\n",
        "                A.ShiftScaleRotate(p=0.5),\n",
        "                # A.HueSaturationValue(hue_shift_limit=0.2, sat_shift_limit=0.2, val_shift_limit=0.2, p=0.5),\n",
        "                # A.RandomBrightnessContrast(brightness_limit=(-0.1, 0.1), contrast_limit=(-0.1, 0.1), p=0.5),\n",
        "                # A.CoarseDropout(p=0.5),\n",
        "                # A.Cutout(p=0.5),\n",
        "                A.Normalize(\n",
        "                    mean=[0.485, 0.456, 0.406],\n",
        "                    std=[0.229, 0.224, 0.225],\n",
        "                ),\n",
        "                ToTensorV2(),\n",
        "            ]\n",
        "        )\n",
        "\n",
        "    elif data == \"valid\":\n",
        "        return A.Compose(\n",
        "            [\n",
        "                A.Resize(config.size, config.size),\n",
        "                # A.CenterCrop(config.size, config.size),\n",
        "                A.Normalize(\n",
        "                    mean=[0.485, 0.456, 0.406],\n",
        "                    std=[0.229, 0.224, 0.225],\n",
        "                ),\n",
        "                ToTensorV2(),\n",
        "            ]\n",
        "        )\n"
      ],
      "execution_count": 31,
      "outputs": []
    },
    {
      "cell_type": "code",
      "metadata": {
        "execution": {
          "iopub.execute_input": "2021-07-13T14:03:58.008355Z",
          "iopub.status.busy": "2021-07-13T14:03:58.007386Z",
          "iopub.status.idle": "2021-07-13T14:03:58.213924Z",
          "shell.execute_reply": "2021-07-13T14:03:58.214877Z",
          "shell.execute_reply.started": "2021-07-13T13:58:09.276511Z"
        },
        "id": "413218d8",
        "papermill": {
          "duration": 0.291354,
          "end_time": "2021-07-13T14:03:58.215212",
          "exception": false,
          "start_time": "2021-07-13T14:03:57.923858",
          "status": "completed"
        },
        "tags": [],
        "colab": {
          "base_uri": "https://localhost:8080/",
          "height": 281
        },
        "outputId": "06cc524c-1c4b-42d8-a574-af89972f6014"
      },
      "source": [
        "# Test\n",
        "\n",
        "train_ds = TrainDataset(train, transform=get_transforms(data=\"train\"))\n",
        "\n",
        "for i in range(1):\n",
        "    image, label = train_ds[i]\n",
        "    plt.imshow(image[0])\n",
        "    plt.title(f\"label: {label}\")\n",
        "    plt.show()\n"
      ],
      "execution_count": 32,
      "outputs": [
        {
          "output_type": "display_data",
          "data": {
            "image/png": "[encoded data removed]",
            "text/plain": [
              "<Figure size 432x288 with 1 Axes>"
            ]
          },
          "metadata": {
            "tags": [],
            "needs_background": "light"
          }
        }
      ]
    },
    {
      "cell_type": "markdown",
      "metadata": {
        "id": "d681dabf",
        "papermill": {
          "duration": 0.109972,
          "end_time": "2021-07-13T14:03:58.466162",
          "exception": false,
          "start_time": "2021-07-13T14:03:58.35619",
          "status": "completed"
        },
        "tags": []
      },
      "source": [
        "## Model"
      ]
    },
    {
      "cell_type": "code",
      "metadata": {
        "execution": {
          "iopub.execute_input": "2021-07-13T14:03:58.688372Z",
          "iopub.status.busy": "2021-07-13T14:03:58.684733Z",
          "iopub.status.idle": "2021-07-13T14:03:58.692806Z",
          "shell.execute_reply": "2021-07-13T14:03:58.693706Z",
          "shell.execute_reply.started": "2021-07-13T13:58:09.452311Z"
        },
        "id": "229d18e7",
        "papermill": {
          "duration": 0.124177,
          "end_time": "2021-07-13T14:03:58.693902",
          "exception": false,
          "start_time": "2021-07-13T14:03:58.569725",
          "status": "completed"
        },
        "tags": []
      },
      "source": [
        "class Atma11Net(nn.Module):\n",
        "    def __init__(self, model_name=\"resnext50_32x4d\", pretrained=False):\n",
        "        super().__init__()\n",
        "        self.model_name = model_name\n",
        "        self.model = timm.create_model(model_name, pretrained=pretrained)\n",
        "\n",
        "        if \"res\" in model_name:\n",
        "            n_features = self.model.fc.in_features\n",
        "            self.model.fc = nn.Linear(n_features, config.n_class)\n",
        "\n",
        "        elif \"efficientnet\" in model_name:\n",
        "            n_features = self.model.classifier.in_features\n",
        "            self.model.classifier = nn.Linear(n_features, config.n_class)\n",
        "\n",
        "        elif model_name.startswith(\"vit_\"):\n",
        "            n_features = self.model.head.in_features\n",
        "            self.model.head = nn.Linear(n_features, config.n_class)\n",
        "            \n",
        "        elif \"nfnet\" in model_name:\n",
        "            n_features = self.model.head.fc.in_features\n",
        "            self.model.head.fc = nn.Linear(n_features, config.n_class)\n",
        "\n",
        "    def forward(self, x):\n",
        "        x = self.model(x).view(x.size(0))\n",
        "        return x\n"
      ],
      "execution_count": 33,
      "outputs": []
    },
    {
      "cell_type": "code",
      "metadata": {
        "execution": {
          "iopub.execute_input": "2021-07-13T14:03:58.85094Z",
          "iopub.status.busy": "2021-07-13T14:03:58.850156Z",
          "iopub.status.idle": "2021-07-13T14:04:06.237751Z",
          "shell.execute_reply": "2021-07-13T14:04:06.237304Z",
          "shell.execute_reply.started": "2021-07-13T13:58:09.464065Z"
        },
        "id": "0a3978b1",
        "papermill": {
          "duration": 7.462234,
          "end_time": "2021-07-13T14:04:06.237867",
          "exception": false,
          "start_time": "2021-07-13T14:03:58.775633",
          "status": "completed"
        },
        "tags": [],
        "colab": {
          "base_uri": "https://localhost:8080/"
        },
        "outputId": "a519a4b9-a9b9-4ed6-f60b-682c7c60336f"
      },
      "source": [
        "# Test\n",
        "\n",
        "model = Atma11Net(model_name=config.model_name, pretrained=False)\n",
        "print(model)\n",
        "\n",
        "train_dataset = TrainDataset(train, transform=get_transforms(data=\"train\"))\n",
        "train_loader = DataLoader(train_dataset, batch_size=4, shuffle=True, num_workers=4, pin_memory=True, drop_last=True)\n",
        "\n",
        "for image, label in train_loader:\n",
        "    output = model(image)\n",
        "    print(output)\n",
        "    break\n"
      ],
      "execution_count": 34,
      "outputs": [
        {
          "output_type": "stream",
          "text": [
            "Atma11Net(\n",
            "  (model): ResNet(\n",
            "    (conv1): Sequential(\n",
            "      (0): Conv2d(3, 32, kernel_size=(3, 3), stride=(2, 2), padding=(1, 1), bias=False)\n",
            "      (1): BatchNorm2d(32, eps=1e-05, momentum=0.1, affine=True, track_running_stats=True)\n",
            "      (2): ReLU(inplace=True)\n",
            "      (3): Conv2d(32, 32, kernel_size=(3, 3), stride=(1, 1), padding=(1, 1), bias=False)\n",
            "      (4): BatchNorm2d(32, eps=1e-05, momentum=0.1, affine=True, track_running_stats=True)\n",
            "      (5): ReLU(inplace=True)\n",
            "      (6): Conv2d(32, 64, kernel_size=(3, 3), stride=(1, 1), padding=(1, 1), bias=False)\n",
            "    )\n",
            "    (bn1): BatchNorm2d(64, eps=1e-05, momentum=0.1, affine=True, track_running_stats=True)\n",
            "    (act1): ReLU(inplace=True)\n",
            "    (maxpool): MaxPool2d(kernel_size=3, stride=2, padding=1, dilation=1, ceil_mode=False)\n",
            "    (layer1): Sequential(\n",
            "      (0): Bottleneck(\n",
            "        (conv1): Conv2d(64, 128, kernel_size=(1, 1), stride=(1, 1), bias=False)\n",
            "        (bn1): BatchNorm2d(128, eps=1e-05, momentum=0.1, affine=True, track_running_stats=True)\n",
            "        (act1): ReLU(inplace=True)\n",
            "        (conv2): Conv2d(128, 128, kernel_size=(3, 3), stride=(1, 1), padding=(1, 1), groups=32, bias=False)\n",
            "        (bn2): BatchNorm2d(128, eps=1e-05, momentum=0.1, affine=True, track_running_stats=True)\n",
            "        (act2): ReLU(inplace=True)\n",
            "        (conv3): Conv2d(128, 256, kernel_size=(1, 1), stride=(1, 1), bias=False)\n",
            "        (bn3): BatchNorm2d(256, eps=1e-05, momentum=0.1, affine=True, track_running_stats=True)\n",
            "        (se): SEModule(\n",
            "          (fc1): Conv2d(256, 16, kernel_size=(1, 1), stride=(1, 1))\n",
            "          (bn): Identity()\n",
            "          (act): ReLU(inplace=True)\n",
            "          (fc2): Conv2d(16, 256, kernel_size=(1, 1), stride=(1, 1))\n",
            "          (gate): Sigmoid()\n",
            "        )\n",
            "        (act3): ReLU(inplace=True)\n",
            "        (downsample): Sequential(\n",
            "          (0): Identity()\n",
            "          (1): Conv2d(64, 256, kernel_size=(1, 1), stride=(1, 1), bias=False)\n",
            "          (2): BatchNorm2d(256, eps=1e-05, momentum=0.1, affine=True, track_running_stats=True)\n",
            "        )\n",
            "      )\n",
            "      (1): Bottleneck(\n",
            "        (conv1): Conv2d(256, 128, kernel_size=(1, 1), stride=(1, 1), bias=False)\n",
            "        (bn1): BatchNorm2d(128, eps=1e-05, momentum=0.1, affine=True, track_running_stats=True)\n",
            "        (act1): ReLU(inplace=True)\n",
            "        (conv2): Conv2d(128, 128, kernel_size=(3, 3), stride=(1, 1), padding=(1, 1), groups=32, bias=False)\n",
            "        (bn2): BatchNorm2d(128, eps=1e-05, momentum=0.1, affine=True, track_running_stats=True)\n",
            "        (act2): ReLU(inplace=True)\n",
            "        (conv3): Conv2d(128, 256, kernel_size=(1, 1), stride=(1, 1), bias=False)\n",
            "        (bn3): BatchNorm2d(256, eps=1e-05, momentum=0.1, affine=True, track_running_stats=True)\n",
            "        (se): SEModule(\n",
            "          (fc1): Conv2d(256, 16, kernel_size=(1, 1), stride=(1, 1))\n",
            "          (bn): Identity()\n",
            "          (act): ReLU(inplace=True)\n",
            "          (fc2): Conv2d(16, 256, kernel_size=(1, 1), stride=(1, 1))\n",
            "          (gate): Sigmoid()\n",
            "        )\n",
            "        (act3): ReLU(inplace=True)\n",
            "      )\n",
            "    )\n",
            "    (layer2): Sequential(\n",
            "      (0): Bottleneck(\n",
            "        (conv1): Conv2d(256, 256, kernel_size=(1, 1), stride=(1, 1), bias=False)\n",
            "        (bn1): BatchNorm2d(256, eps=1e-05, momentum=0.1, affine=True, track_running_stats=True)\n",
            "        (act1): ReLU(inplace=True)\n",
            "        (conv2): Conv2d(256, 256, kernel_size=(3, 3), stride=(2, 2), padding=(1, 1), groups=32, bias=False)\n",
            "        (bn2): BatchNorm2d(256, eps=1e-05, momentum=0.1, affine=True, track_running_stats=True)\n",
            "        (act2): ReLU(inplace=True)\n",
            "        (conv3): Conv2d(256, 512, kernel_size=(1, 1), stride=(1, 1), bias=False)\n",
            "        (bn3): BatchNorm2d(512, eps=1e-05, momentum=0.1, affine=True, track_running_stats=True)\n",
            "        (se): SEModule(\n",
            "          (fc1): Conv2d(512, 32, kernel_size=(1, 1), stride=(1, 1))\n",
            "          (bn): Identity()\n",
            "          (act): ReLU(inplace=True)\n",
            "          (fc2): Conv2d(32, 512, kernel_size=(1, 1), stride=(1, 1))\n",
            "          (gate): Sigmoid()\n",
            "        )\n",
            "        (act3): ReLU(inplace=True)\n",
            "        (downsample): Sequential(\n",
            "          (0): AvgPool2d(kernel_size=2, stride=2, padding=0)\n",
            "          (1): Conv2d(256, 512, kernel_size=(1, 1), stride=(1, 1), bias=False)\n",
            "          (2): BatchNorm2d(512, eps=1e-05, momentum=0.1, affine=True, track_running_stats=True)\n",
            "        )\n",
            "      )\n",
            "      (1): Bottleneck(\n",
            "        (conv1): Conv2d(512, 256, kernel_size=(1, 1), stride=(1, 1), bias=False)\n",
            "        (bn1): BatchNorm2d(256, eps=1e-05, momentum=0.1, affine=True, track_running_stats=True)\n",
            "        (act1): ReLU(inplace=True)\n",
            "        (conv2): Conv2d(256, 256, kernel_size=(3, 3), stride=(1, 1), padding=(1, 1), groups=32, bias=False)\n",
            "        (bn2): BatchNorm2d(256, eps=1e-05, momentum=0.1, affine=True, track_running_stats=True)\n",
            "        (act2): ReLU(inplace=True)\n",
            "        (conv3): Conv2d(256, 512, kernel_size=(1, 1), stride=(1, 1), bias=False)\n",
            "        (bn3): BatchNorm2d(512, eps=1e-05, momentum=0.1, affine=True, track_running_stats=True)\n",
            "        (se): SEModule(\n",
            "          (fc1): Conv2d(512, 32, kernel_size=(1, 1), stride=(1, 1))\n",
            "          (bn): Identity()\n",
            "          (act): ReLU(inplace=True)\n",
            "          (fc2): Conv2d(32, 512, kernel_size=(1, 1), stride=(1, 1))\n",
            "          (gate): Sigmoid()\n",
            "        )\n",
            "        (act3): ReLU(inplace=True)\n",
            "      )\n",
            "    )\n",
            "    (layer3): Sequential(\n",
            "      (0): Bottleneck(\n",
            "        (conv1): Conv2d(512, 512, kernel_size=(1, 1), stride=(1, 1), bias=False)\n",
            "        (bn1): BatchNorm2d(512, eps=1e-05, momentum=0.1, affine=True, track_running_stats=True)\n",
            "        (act1): ReLU(inplace=True)\n",
            "        (conv2): Conv2d(512, 512, kernel_size=(3, 3), stride=(2, 2), padding=(1, 1), groups=32, bias=False)\n",
            "        (bn2): BatchNorm2d(512, eps=1e-05, momentum=0.1, affine=True, track_running_stats=True)\n",
            "        (act2): ReLU(inplace=True)\n",
            "        (conv3): Conv2d(512, 1024, kernel_size=(1, 1), stride=(1, 1), bias=False)\n",
            "        (bn3): BatchNorm2d(1024, eps=1e-05, momentum=0.1, affine=True, track_running_stats=True)\n",
            "        (se): SEModule(\n",
            "          (fc1): Conv2d(1024, 64, kernel_size=(1, 1), stride=(1, 1))\n",
            "          (bn): Identity()\n",
            "          (act): ReLU(inplace=True)\n",
            "          (fc2): Conv2d(64, 1024, kernel_size=(1, 1), stride=(1, 1))\n",
            "          (gate): Sigmoid()\n",
            "        )\n",
            "        (act3): ReLU(inplace=True)\n",
            "        (downsample): Sequential(\n",
            "          (0): AvgPool2d(kernel_size=2, stride=2, padding=0)\n",
            "          (1): Conv2d(512, 1024, kernel_size=(1, 1), stride=(1, 1), bias=False)\n",
            "          (2): BatchNorm2d(1024, eps=1e-05, momentum=0.1, affine=True, track_running_stats=True)\n",
            "        )\n",
            "      )\n",
            "      (1): Bottleneck(\n",
            "        (conv1): Conv2d(1024, 512, kernel_size=(1, 1), stride=(1, 1), bias=False)\n",
            "        (bn1): BatchNorm2d(512, eps=1e-05, momentum=0.1, affine=True, track_running_stats=True)\n",
            "        (act1): ReLU(inplace=True)\n",
            "        (conv2): Conv2d(512, 512, kernel_size=(3, 3), stride=(1, 1), padding=(1, 1), groups=32, bias=False)\n",
            "        (bn2): BatchNorm2d(512, eps=1e-05, momentum=0.1, affine=True, track_running_stats=True)\n",
            "        (act2): ReLU(inplace=True)\n",
            "        (conv3): Conv2d(512, 1024, kernel_size=(1, 1), stride=(1, 1), bias=False)\n",
            "        (bn3): BatchNorm2d(1024, eps=1e-05, momentum=0.1, affine=True, track_running_stats=True)\n",
            "        (se): SEModule(\n",
            "          (fc1): Conv2d(1024, 64, kernel_size=(1, 1), stride=(1, 1))\n",
            "          (bn): Identity()\n",
            "          (act): ReLU(inplace=True)\n",
            "          (fc2): Conv2d(64, 1024, kernel_size=(1, 1), stride=(1, 1))\n",
            "          (gate): Sigmoid()\n",
            "        )\n",
            "        (act3): ReLU(inplace=True)\n",
            "      )\n",
            "    )\n",
            "    (layer4): Sequential(\n",
            "      (0): Bottleneck(\n",
            "        (conv1): Conv2d(1024, 1024, kernel_size=(1, 1), stride=(1, 1), bias=False)\n",
            "        (bn1): BatchNorm2d(1024, eps=1e-05, momentum=0.1, affine=True, track_running_stats=True)\n",
            "        (act1): ReLU(inplace=True)\n",
            "        (conv2): Conv2d(1024, 1024, kernel_size=(3, 3), stride=(2, 2), padding=(1, 1), groups=32, bias=False)\n",
            "        (bn2): BatchNorm2d(1024, eps=1e-05, momentum=0.1, affine=True, track_running_stats=True)\n",
            "        (act2): ReLU(inplace=True)\n",
            "        (conv3): Conv2d(1024, 2048, kernel_size=(1, 1), stride=(1, 1), bias=False)\n",
            "        (bn3): BatchNorm2d(2048, eps=1e-05, momentum=0.1, affine=True, track_running_stats=True)\n",
            "        (se): SEModule(\n",
            "          (fc1): Conv2d(2048, 128, kernel_size=(1, 1), stride=(1, 1))\n",
            "          (bn): Identity()\n",
            "          (act): ReLU(inplace=True)\n",
            "          (fc2): Conv2d(128, 2048, kernel_size=(1, 1), stride=(1, 1))\n",
            "          (gate): Sigmoid()\n",
            "        )\n",
            "        (act3): ReLU(inplace=True)\n",
            "        (downsample): Sequential(\n",
            "          (0): AvgPool2d(kernel_size=2, stride=2, padding=0)\n",
            "          (1): Conv2d(1024, 2048, kernel_size=(1, 1), stride=(1, 1), bias=False)\n",
            "          (2): BatchNorm2d(2048, eps=1e-05, momentum=0.1, affine=True, track_running_stats=True)\n",
            "        )\n",
            "      )\n",
            "      (1): Bottleneck(\n",
            "        (conv1): Conv2d(2048, 1024, kernel_size=(1, 1), stride=(1, 1), bias=False)\n",
            "        (bn1): BatchNorm2d(1024, eps=1e-05, momentum=0.1, affine=True, track_running_stats=True)\n",
            "        (act1): ReLU(inplace=True)\n",
            "        (conv2): Conv2d(1024, 1024, kernel_size=(3, 3), stride=(1, 1), padding=(1, 1), groups=32, bias=False)\n",
            "        (bn2): BatchNorm2d(1024, eps=1e-05, momentum=0.1, affine=True, track_running_stats=True)\n",
            "        (act2): ReLU(inplace=True)\n",
            "        (conv3): Conv2d(1024, 2048, kernel_size=(1, 1), stride=(1, 1), bias=False)\n",
            "        (bn3): BatchNorm2d(2048, eps=1e-05, momentum=0.1, affine=True, track_running_stats=True)\n",
            "        (se): SEModule(\n",
            "          (fc1): Conv2d(2048, 128, kernel_size=(1, 1), stride=(1, 1))\n",
            "          (bn): Identity()\n",
            "          (act): ReLU(inplace=True)\n",
            "          (fc2): Conv2d(128, 2048, kernel_size=(1, 1), stride=(1, 1))\n",
            "          (gate): Sigmoid()\n",
            "        )\n",
            "        (act3): ReLU(inplace=True)\n",
            "      )\n",
            "    )\n",
            "    (global_pool): SelectAdaptivePool2d (pool_type=avg, flatten=Flatten(start_dim=1, end_dim=-1))\n",
            "    (fc): Linear(in_features=2048, out_features=1, bias=True)\n",
            "  )\n",
            ")\n",
            "tensor([-0.2254, -0.3827, -0.3184, -0.4558], grad_fn=<ViewBackward>)\n"
          ],
          "name": "stdout"
        }
      ]
    },
    {
      "cell_type": "markdown",
      "metadata": {
        "id": "de50761e",
        "papermill": {
          "duration": 0.066272,
          "end_time": "2021-07-13T14:04:06.370182",
          "exception": false,
          "start_time": "2021-07-13T14:04:06.30391",
          "status": "completed"
        },
        "tags": []
      },
      "source": [
        "## Loss"
      ]
    },
    {
      "cell_type": "code",
      "metadata": {
        "execution": {
          "iopub.execute_input": "2021-07-13T14:04:06.506517Z",
          "iopub.status.busy": "2021-07-13T14:04:06.505659Z",
          "iopub.status.idle": "2021-07-13T14:04:06.508105Z",
          "shell.execute_reply": "2021-07-13T14:04:06.508753Z",
          "shell.execute_reply.started": "2021-07-13T13:58:16.000305Z"
        },
        "id": "47fcae06",
        "papermill": {
          "duration": 0.074524,
          "end_time": "2021-07-13T14:04:06.508947",
          "exception": false,
          "start_time": "2021-07-13T14:04:06.434423",
          "status": "completed"
        },
        "tags": []
      },
      "source": [
        "class RMSELoss(nn.Module):\n",
        "    def __init__(self, eps=1e-6):\n",
        "        super().__init__()\n",
        "        self.mse = nn.MSELoss()\n",
        "        self.eps = eps\n",
        "        \n",
        "    def forward(self, yhat, y):\n",
        "        loss = torch.sqrt(self.mse(yhat, y) + self.eps)\n",
        "        return loss\n"
      ],
      "execution_count": 35,
      "outputs": []
    },
    {
      "cell_type": "markdown",
      "metadata": {
        "id": "93661540",
        "papermill": {
          "duration": 0.06393,
          "end_time": "2021-07-13T14:04:06.640719",
          "exception": false,
          "start_time": "2021-07-13T14:04:06.576789",
          "status": "completed"
        },
        "tags": []
      },
      "source": [
        "## Scoring"
      ]
    },
    {
      "cell_type": "code",
      "metadata": {
        "execution": {
          "iopub.execute_input": "2021-07-13T14:04:06.773801Z",
          "iopub.status.busy": "2021-07-13T14:04:06.772929Z",
          "iopub.status.idle": "2021-07-13T14:04:06.775764Z",
          "shell.execute_reply": "2021-07-13T14:04:06.775184Z",
          "shell.execute_reply.started": "2021-07-13T13:58:16.007366Z"
        },
        "id": "19d9d03c",
        "papermill": {
          "duration": 0.071807,
          "end_time": "2021-07-13T14:04:06.775918",
          "exception": false,
          "start_time": "2021-07-13T14:04:06.704111",
          "status": "completed"
        },
        "tags": []
      },
      "source": [
        "def get_score(y_true, y_pred):\n",
        "    return np.sqrt(mean_squared_error(y_true, y_pred))"
      ],
      "execution_count": 36,
      "outputs": []
    },
    {
      "cell_type": "code",
      "metadata": {
        "execution": {
          "iopub.execute_input": "2021-07-13T14:04:06.916663Z",
          "iopub.status.busy": "2021-07-13T14:04:06.915692Z",
          "iopub.status.idle": "2021-07-13T14:04:06.921773Z",
          "shell.execute_reply": "2021-07-13T14:04:06.9224Z",
          "shell.execute_reply.started": "2021-07-13T13:58:16.018187Z"
        },
        "id": "a1b92d4f",
        "papermill": {
          "duration": 0.078352,
          "end_time": "2021-07-13T14:04:06.922598",
          "exception": false,
          "start_time": "2021-07-13T14:04:06.844246",
          "status": "completed"
        },
        "tags": []
      },
      "source": [
        "def get_result(result_df, fold=config.n_fold):\n",
        "    preds = result_df[\"preds\"].values\n",
        "    labels = result_df[\"target\"].values\n",
        "    score = get_score(labels, preds)\n",
        "    LOGGER.info(f\"Score: {score:<.5f}\")\n",
        "    # wandb.log({\"fold\": fold, \"CV\": score})\n",
        "    if fold == config.n_fold:\n",
        "        wandb.run.summary[f\"CV\"] = score\n",
        "    else:\n",
        "        wandb.run.summary[f\"CV_fold{fold}\"] = score\n"
      ],
      "execution_count": 37,
      "outputs": []
    },
    {
      "cell_type": "markdown",
      "metadata": {
        "id": "1bf498df",
        "papermill": {
          "duration": 0.063127,
          "end_time": "2021-07-13T14:04:07.050766",
          "exception": false,
          "start_time": "2021-07-13T14:04:06.987639",
          "status": "completed"
        },
        "tags": []
      },
      "source": [
        "## Helper functions"
      ]
    },
    {
      "cell_type": "code",
      "metadata": {
        "execution": {
          "iopub.execute_input": "2021-07-13T14:04:07.187804Z",
          "iopub.status.busy": "2021-07-13T14:04:07.186918Z",
          "iopub.status.idle": "2021-07-13T14:04:07.189224Z",
          "shell.execute_reply": "2021-07-13T14:04:07.189859Z",
          "shell.execute_reply.started": "2021-07-13T13:58:16.028074Z"
        },
        "id": "c5b0e152",
        "papermill": {
          "duration": 0.075151,
          "end_time": "2021-07-13T14:04:07.19007",
          "exception": false,
          "start_time": "2021-07-13T14:04:07.114919",
          "status": "completed"
        },
        "tags": []
      },
      "source": [
        "class AverageMeter(object):\n",
        "    \"\"\"Computes and stores the average and current value\"\"\"\n",
        "\n",
        "    def __init__(self):\n",
        "        self.reset()\n",
        "\n",
        "    def reset(self):\n",
        "        self.val = 0\n",
        "        self.avg = 0\n",
        "        self.sum = 0\n",
        "        self.count = 0\n",
        "\n",
        "    def update(self, val, n=1):\n",
        "        self.val = val\n",
        "        self.sum += val * n\n",
        "        self.count += n\n",
        "        self.avg = self.sum / self.count\n",
        "\n",
        "\n",
        "def asMinutes(s):\n",
        "    m = math.floor(s / 60)\n",
        "    s -= m * 60\n",
        "    return \"%dm %ds\" % (m, s)\n",
        "\n",
        "\n",
        "def timeSince(since, percent):\n",
        "    now = time.time()\n",
        "    s = now - since\n",
        "    es = s / (percent)\n",
        "    rs = es - s\n",
        "    return \"%s (remain %s)\" % (asMinutes(s), asMinutes(rs))"
      ],
      "execution_count": 38,
      "outputs": []
    },
    {
      "cell_type": "code",
      "metadata": {
        "execution": {
          "iopub.execute_input": "2021-07-13T14:04:07.335245Z",
          "iopub.status.busy": "2021-07-13T14:04:07.334332Z",
          "iopub.status.idle": "2021-07-13T14:04:07.33701Z",
          "shell.execute_reply": "2021-07-13T14:04:07.337716Z",
          "shell.execute_reply.started": "2021-07-13T13:58:16.039208Z"
        },
        "id": "99a3bfb5",
        "papermill": {
          "duration": 0.080333,
          "end_time": "2021-07-13T14:04:07.337907",
          "exception": false,
          "start_time": "2021-07-13T14:04:07.257574",
          "status": "completed"
        },
        "tags": []
      },
      "source": [
        "def train_fn(train_loader, model, criterion, optimizer, epoch, scheduler, device):\n",
        "    batch_time = AverageMeter()\n",
        "    data_time = AverageMeter()\n",
        "    losses = AverageMeter()\n",
        "    scores = AverageMeter()\n",
        "\n",
        "    # switch to train mode\n",
        "    model.train()\n",
        "    start = end = time.time()\n",
        "    global_step = 0\n",
        "\n",
        "    for step, (images, labels) in enumerate(train_loader):\n",
        "        # measure data loading time\n",
        "        data_time.update(time.time() - end)\n",
        "        images = images.to(device)\n",
        "        labels = labels.to(device)\n",
        "        batch_size = labels.size(0)\n",
        "\n",
        "        y_preds = model(images.float())\n",
        "\n",
        "        loss = criterion(y_preds, labels)\n",
        "\n",
        "        # record loss\n",
        "        losses.update(loss.item(), batch_size)\n",
        "        if config.gradient_accumulation_steps > 1:\n",
        "            loss = loss / config.gradient_accumulation_steps\n",
        "        if Config.apex:\n",
        "            with amp.scale_loss(loss, optimizer) as scaled_loss:\n",
        "                scaled_loss.backward()\n",
        "        else:\n",
        "            loss.backward()\n",
        "\n",
        "        grad_norm = torch.nn.utils.clip_grad_norm_(model.parameters(), config.max_grad_norm)\n",
        "\n",
        "        if (step + 1) % config.gradient_accumulation_steps == 0:\n",
        "            optimizer.step()\n",
        "            optimizer.zero_grad()\n",
        "            global_step += 1\n",
        "\n",
        "        # measure elapsed time\n",
        "        batch_time.update(time.time() - end)\n",
        "        end = time.time()\n",
        "\n",
        "        if step % Config.print_freq == 0 or step == (len(train_loader) - 1):\n",
        "            print(\n",
        "                f\"Epoch: [{epoch + 1}][{step}/{len(train_loader)}] \"\n",
        "                f\"Elapsed {timeSince(start, float(step + 1) / len(train_loader)):s} \"\n",
        "                f\"Loss: {losses.val:.4f}({losses.avg:.4f}) \"\n",
        "                f\"Grad: {grad_norm:.4f} \"\n",
        "                f\"LR: {scheduler.get_last_lr()[0]:.6f}  \"\n",
        "            )\n",
        "\n",
        "    return losses.avg"
      ],
      "execution_count": 39,
      "outputs": []
    },
    {
      "cell_type": "code",
      "metadata": {
        "execution": {
          "iopub.execute_input": "2021-07-13T14:04:07.484668Z",
          "iopub.status.busy": "2021-07-13T14:04:07.483771Z",
          "iopub.status.idle": "2021-07-13T14:04:07.494658Z",
          "shell.execute_reply": "2021-07-13T14:04:07.490453Z",
          "shell.execute_reply.started": "2021-07-13T13:58:16.054607Z"
        },
        "id": "186c441d",
        "papermill": {
          "duration": 0.087732,
          "end_time": "2021-07-13T14:04:07.494825",
          "exception": false,
          "start_time": "2021-07-13T14:04:07.407093",
          "status": "completed"
        },
        "tags": []
      },
      "source": [
        "def valid_fn(valid_loader, model, criterion, device):\n",
        "    batch_time = AverageMeter()\n",
        "    data_time = AverageMeter()\n",
        "    losses = AverageMeter()\n",
        "    scores = AverageMeter()\n",
        "\n",
        "    # switch to evaluation mode\n",
        "    model.eval()\n",
        "    preds = []\n",
        "    start = end = time.time()\n",
        "\n",
        "    for step, (images, labels) in enumerate(valid_loader):\n",
        "        # measure data loading time\n",
        "        data_time.update(time.time() - end)\n",
        "        images = images.to(device)\n",
        "        labels = labels.to(device)\n",
        "        batch_size = labels.size(0)\n",
        "\n",
        "        # compute loss\n",
        "        with torch.no_grad():\n",
        "            y_preds = model(images)\n",
        "\n",
        "        loss = criterion(y_preds, labels)\n",
        "        losses.update(loss.item(), batch_size)\n",
        "\n",
        "        # record accuracy\n",
        "        # preds.append(y_preds.softmax(1).to(\"cpu\").numpy())\n",
        "        preds.append(y_preds.to(\"cpu\").numpy())\n",
        "        if config.gradient_accumulation_steps > 1:\n",
        "            loss = loss / config.gradient_accumulation_steps\n",
        "\n",
        "        # measure elapsed time\n",
        "        batch_time.update(time.time() - end)\n",
        "        end = time.time()\n",
        "\n",
        "        if step % Config.print_freq == 0 or step == (len(valid_loader) - 1):\n",
        "            print(\n",
        "                f\"EVAL: [{step}/{len(valid_loader)}] \"\n",
        "                f\"Elapsed {timeSince(start, float(step + 1) / len(valid_loader)):s} \"\n",
        "                f\"Loss: {losses.val:.4f}({losses.avg:.4f}) \"\n",
        "            )\n",
        "    predictions = np.clip(np.concatenate(preds), 0, 3)\n",
        "    return losses.avg, predictions"
      ],
      "execution_count": 40,
      "outputs": []
    },
    {
      "cell_type": "code",
      "metadata": {
        "execution": {
          "iopub.execute_input": "2021-07-13T14:04:07.634152Z",
          "iopub.status.busy": "2021-07-13T14:04:07.633248Z",
          "iopub.status.idle": "2021-07-13T14:04:07.635358Z",
          "shell.execute_reply": "2021-07-13T14:04:07.636029Z",
          "shell.execute_reply.started": "2021-07-13T13:58:16.069317Z"
        },
        "id": "db7cdfc9",
        "papermill": {
          "duration": 0.076205,
          "end_time": "2021-07-13T14:04:07.636228",
          "exception": false,
          "start_time": "2021-07-13T14:04:07.560023",
          "status": "completed"
        },
        "tags": []
      },
      "source": [
        "def inference(test_loader):\n",
        "    predictions = []\n",
        "    for model_item in inference_models:\n",
        "        for fold in range(config.n_fold):\n",
        "            LOGGER.info(f\"========== ID: {model_item['run_id']} model: {model_item['model_name']} fold: {fold} inference ==========\")\n",
        "            model = Atma11Net(model_item[\"model_name\"])\n",
        "            model.to(device)\n",
        "            model.load_state_dict(model_item[f\"state_fold{fold}\"])\n",
        "            model.eval()\n",
        "            preds = []\n",
        "            for i, (images) in enumerate(test_loader):\n",
        "                images = images.to(device)\n",
        "                with torch.no_grad():\n",
        "                    y_preds = model(images)\n",
        "                # avg_preds.append(y_preds.softmax(1).to(\"cpu\").numpy())\n",
        "                preds.append(y_preds.to(\"cpu\").numpy())\n",
        "            preds = np.concatenate(preds)\n",
        "            predictions.append(preds)\n",
        "    predictions = np.clip(np.mean(predictions, axis=0), 0, 3)\n",
        "    return predictions\n"
      ],
      "execution_count": 41,
      "outputs": []
    },
    {
      "cell_type": "markdown",
      "metadata": {
        "id": "df9663c1",
        "papermill": {
          "duration": 0.065223,
          "end_time": "2021-07-13T14:04:07.769943",
          "exception": false,
          "start_time": "2021-07-13T14:04:07.70472",
          "status": "completed"
        },
        "tags": []
      },
      "source": [
        "## Train loop"
      ]
    },
    {
      "cell_type": "code",
      "metadata": {
        "execution": {
          "iopub.execute_input": "2021-07-13T14:04:07.93487Z",
          "iopub.status.busy": "2021-07-13T14:04:07.933739Z",
          "iopub.status.idle": "2021-07-13T14:04:07.942028Z",
          "shell.execute_reply": "2021-07-13T14:04:07.942658Z",
          "shell.execute_reply.started": "2021-07-13T13:58:16.081244Z"
        },
        "id": "357969e6",
        "papermill": {
          "duration": 0.102766,
          "end_time": "2021-07-13T14:04:07.94284",
          "exception": false,
          "start_time": "2021-07-13T14:04:07.840074",
          "status": "completed"
        },
        "tags": []
      },
      "source": [
        "def train_loop(folds, fold):\n",
        "\n",
        "    LOGGER.info(f\"========== fold: {fold} training ==========\")\n",
        "\n",
        "    # ====================================================\n",
        "    # Data Loader\n",
        "    # ====================================================\n",
        "    trn_idx = folds[folds[\"fold\"] != fold].index\n",
        "    val_idx = folds[folds[\"fold\"] == fold].index\n",
        "\n",
        "    train_folds = folds.loc[trn_idx].reset_index(drop=True)\n",
        "    valid_folds = folds.loc[val_idx].reset_index(drop=True)\n",
        "\n",
        "    train_dataset = TrainDataset(train_folds, transform=get_transforms(data=\"train\"))\n",
        "    train_dataset_weak_aug = TrainDataset(train_folds, transform=get_transforms(data=\"weak_train\"))\n",
        "    train_dataset_no_aug = TrainDataset(train_folds, transform=get_transforms(data=\"valid\"))\n",
        "    valid_dataset = TrainDataset(valid_folds, transform=get_transforms(data=\"valid\"))\n",
        "\n",
        "    train_loader = DataLoader(\n",
        "        train_dataset,\n",
        "        batch_size=config.batch_size,\n",
        "        shuffle=True,\n",
        "        num_workers=config.num_workers,\n",
        "        pin_memory=True,\n",
        "        drop_last=True,\n",
        "    )\n",
        "    train_loader_weak_aug = DataLoader(\n",
        "        train_dataset_weak_aug,\n",
        "        batch_size=config.batch_size,\n",
        "        shuffle=True,\n",
        "        num_workers=config.num_workers,\n",
        "        pin_memory=True,\n",
        "        drop_last=True,\n",
        "    )\n",
        "    train_loader_no_aug = DataLoader(\n",
        "        train_dataset_no_aug,\n",
        "        batch_size=config.batch_size,\n",
        "        shuffle=True,\n",
        "        num_workers=config.num_workers,\n",
        "        pin_memory=True,\n",
        "        drop_last=True,\n",
        "    )\n",
        "    valid_loader = DataLoader(\n",
        "        valid_dataset,\n",
        "        batch_size=config.batch_size,\n",
        "        shuffle=False,\n",
        "        num_workers=config.num_workers,\n",
        "        pin_memory=True,\n",
        "        drop_last=False,\n",
        "    )\n",
        "\n",
        "    # ====================================================\n",
        "    # Scheduler\n",
        "    # ====================================================\n",
        "    def get_scheduler(optimizer):\n",
        "        if config.scheduler == \"ReduceLROnPlateau\":\n",
        "            scheduler = ReduceLROnPlateau(\n",
        "                optimizer, mode=\"min\", factor=config.factor, patience=config.patience, verbose=True, eps=config.eps\n",
        "            )\n",
        "        elif config.scheduler == \"CosineAnnealingLR\":\n",
        "            scheduler = CosineAnnealingLR(optimizer, T_max=config.T_max, eta_min=config.min_lr, last_epoch=-1)\n",
        "        elif config.scheduler == \"CosineAnnealingWarmRestarts\":\n",
        "            scheduler = CosineAnnealingWarmRestarts(\n",
        "                optimizer, T_0=config.T_0, T_mult=1, eta_min=config.min_lr, last_epoch=-1\n",
        "            )\n",
        "        return scheduler\n",
        "\n",
        "    # ====================================================\n",
        "    # Model & Optimizer\n",
        "    # ====================================================\n",
        "    model = Atma11Net(config.model_name)\n",
        "    model.to(device)\n",
        "\n",
        "    # Use multi GPU\n",
        "    if device == torch.device(\"cuda\") and not Config.apex and Config.multi_gpu:\n",
        "        model = torch.nn.DataParallel(model)  # make parallel\n",
        "        # torch.backends.cudnn.benchmark=True\n",
        "\n",
        "    optimizer = Adam(model.parameters(), lr=config.lr, weight_decay=config.weight_decay, amsgrad=False)\n",
        "    scheduler = get_scheduler(optimizer)\n",
        "\n",
        "    # ====================================================\n",
        "    # Apex\n",
        "    # ====================================================\n",
        "    if Config.apex:\n",
        "        model, optimizer = amp.initialize(model, optimizer, opt_level=\"O1\", verbosity=0)\n",
        "\n",
        "    # ====================================================\n",
        "    # Criterion\n",
        "    # ====================================================\n",
        "    def get_criterion():\n",
        "        if config.criterion == \"CrossEntropyLoss\":\n",
        "            criterion = nn.CrossEntropyLoss()\n",
        "        elif config.criterion == \"RMSELoss\":\n",
        "            criterion = RMSELoss()\n",
        "        return criterion\n",
        "\n",
        "    criterion = get_criterion()\n",
        "\n",
        "    # ====================================================\n",
        "    # Loop\n",
        "    # ====================================================\n",
        "    best_score = np.inf\n",
        "    best_loss = np.inf\n",
        "\n",
        "    # if not Config.multi_gpu:\n",
        "    #     wandb.watch(model, log_freq=Config.print_freq)\n",
        "\n",
        "    for epoch in range(config.epochs):\n",
        "\n",
        "        start_time = time.time()\n",
        "\n",
        "        # train\n",
        "        if config.no_aug or epoch <= 1 or epoch >= config.epochs - 2:\n",
        "            avg_loss = train_fn(train_loader_no_aug, model, criterion, optimizer, epoch, scheduler, device)\n",
        "        elif epoch >= config.epochs - 5:\n",
        "            avg_loss = train_fn(train_loader_weak_aug, model, criterion, optimizer, epoch, scheduler, device)\n",
        "        else:\n",
        "            avg_loss = train_fn(train_loader, model, criterion, optimizer, epoch, scheduler, device)\n",
        "\n",
        "        # eval\n",
        "        avg_val_loss, preds = valid_fn(valid_loader, model, criterion, device)\n",
        "        valid_labels = valid_folds[\"target\"].values\n",
        "\n",
        "        if isinstance(scheduler, ReduceLROnPlateau):\n",
        "            scheduler.step(avg_val_loss)\n",
        "        elif isinstance(scheduler, CosineAnnealingLR):\n",
        "            scheduler.step()\n",
        "        elif isinstance(scheduler, CosineAnnealingWarmRestarts):\n",
        "            scheduler.step()\n",
        "\n",
        "        # scoring\n",
        "        # score = get_score(valid_labels, preds.argmax(1))\n",
        "        score = get_score(valid_labels, preds)\n",
        "\n",
        "        elapsed = time.time() - start_time\n",
        "\n",
        "        LOGGER.info(\n",
        "            f\"Epoch {epoch+1} - avg_train_loss: {avg_loss:.4f}  avg_val_loss: {avg_val_loss:.4f}  time: {elapsed:.0f}s\"\n",
        "        )\n",
        "        LOGGER.info(f\"Epoch {epoch+1} - Score: {score}\")\n",
        "\n",
        "        wandb.log(\n",
        "            {\n",
        "                \"epoch\": epoch + 1,\n",
        "                f\"loss/train_fold{fold}\": avg_loss,\n",
        "                f\"loss/val_fold{fold}\": avg_val_loss,\n",
        "                f\"score/fold{fold}\": score,\n",
        "            }\n",
        "        )\n",
        "\n",
        "        if score < best_score:\n",
        "            best_score = score\n",
        "            LOGGER.info(f\"Epoch {epoch+1} - Save Best Score: {best_score:.4f} Model\")\n",
        "            torch.save(\n",
        "                {\"model\": model.state_dict(), \"preds\": preds}, OUTPUT_DIR + f\"{config.model_name}_fold{fold}_best.pth\"\n",
        "            )\n",
        "            wandb.save(OUTPUT_DIR + f\"{config.model_name}_fold{fold}_best.pth\")\n",
        "\n",
        "        # if epoch == config.epochs - 1:\n",
        "        #     LOGGER.info(f\"Epoch {epoch+1} - Save final model\")\n",
        "        #     torch.save(\n",
        "        #         {\"model\": model.state_dict(), \"preds\": preds}, OUTPUT_DIR + f\"{config.model_name}_fold{fold}_final.pth\"\n",
        "        #     )\n",
        "\n",
        "    check_point = torch.load(OUTPUT_DIR + f\"{config.model_name}_fold{fold}_best.pth\")\n",
        "\n",
        "    valid_folds[[str(c) for c in range(config.n_class)]] = check_point[\"preds\"]\n",
        "    valid_folds[\"preds\"] = check_point[\"preds\"]  # .argmax(1)\n",
        "\n",
        "    return valid_folds"
      ],
      "execution_count": 42,
      "outputs": []
    },
    {
      "cell_type": "markdown",
      "metadata": {
        "id": "97b42fa3",
        "papermill": {
          "duration": 0.066876,
          "end_time": "2021-07-13T14:04:08.228336",
          "exception": false,
          "start_time": "2021-07-13T14:04:08.16146",
          "status": "completed"
        },
        "tags": []
      },
      "source": [
        "## Main\n"
      ]
    },
    {
      "cell_type": "code",
      "metadata": {
        "execution": {
          "iopub.execute_input": "2021-07-13T14:04:08.370518Z",
          "iopub.status.busy": "2021-07-13T14:04:08.369075Z",
          "iopub.status.idle": "2021-07-13T14:04:08.372617Z",
          "shell.execute_reply": "2021-07-13T14:04:08.371995Z",
          "shell.execute_reply.started": "2021-07-13T13:58:16.125664Z"
        },
        "id": "5baf150d",
        "papermill": {
          "duration": 0.079984,
          "end_time": "2021-07-13T14:04:08.372767",
          "exception": false,
          "start_time": "2021-07-13T14:04:08.292783",
          "status": "completed"
        },
        "tags": []
      },
      "source": [
        "def main():\n",
        "    if Config.train:\n",
        "        oof_df = pd.DataFrame()\n",
        "        for fold in range(config.n_fold):\n",
        "            _oof_df = train_loop(folds, fold)\n",
        "            oof_df = pd.concat([oof_df, _oof_df])\n",
        "            LOGGER.info(f\"========== fold: {fold} result ==========\")\n",
        "            get_result(_oof_df, fold)\n",
        "            \n",
        "        # CV result\n",
        "        LOGGER.info(f\"========== CV ==========\")\n",
        "        get_result(oof_df)\n",
        "        \n",
        "        # save result\n",
        "        oof_df.to_csv(OUTPUT_DIR + \"oof_df.csv\", index=False)\n",
        "        wandb.save(OUTPUT_DIR + \"oof_df.csv\")\n",
        "        \n",
        "    if Config.validate:\n",
        "        probs = []\n",
        "\n",
        "        for n, model_item in enumerate(inference_models):\n",
        "            probs.append(train[f\"preds{n}\"].values)\n",
        "        preds = np.mean(probs, axis=0)\n",
        "\n",
        "        train[\"preds\"] = np.clip(preds, 0, 3)\n",
        "\n",
        "        # CV result\n",
        "        LOGGER.info(f\"========== CV ==========\")\n",
        "        get_result(train)\n",
        "        \n",
        "        # save result\n",
        "        train.to_csv(OUTPUT_DIR + \"validation_df.csv\", index=False)\n",
        "        wandb.save(OUTPUT_DIR + \"validation_df.csv\")\n",
        "\n",
        "    if Config.inference:\n",
        "        test_dataset = TestDataset(test, transform=get_transforms(data=\"valid\"))\n",
        "        test_loader = DataLoader(\n",
        "            test_dataset, batch_size=config.batch_size, shuffle=False, num_workers=config.num_workers, pin_memory=True\n",
        "        )\n",
        "        predictions = inference(test_loader)\n",
        "\n",
        "        # submission\n",
        "        sub[\"target\"] = predictions  # .argmax(1)\n",
        "        sub.to_csv(OUTPUT_DIR + \"submission.csv\", index=False)\n",
        "        wandb.save(OUTPUT_DIR + \"submission.csv\")\n"
      ],
      "execution_count": 43,
      "outputs": []
    },
    {
      "cell_type": "code",
      "metadata": {
        "execution": {
          "iopub.execute_input": "2021-07-13T14:04:08.515457Z",
          "iopub.status.busy": "2021-07-13T14:04:08.514623Z",
          "iopub.status.idle": "2021-07-13T14:15:36.642579Z",
          "shell.execute_reply": "2021-07-13T14:15:36.643656Z",
          "shell.execute_reply.started": "2021-07-13T13:58:16.140064Z"
        },
        "id": "726e744f",
        "papermill": {
          "duration": 688.200662,
          "end_time": "2021-07-13T14:15:36.643885",
          "exception": false,
          "start_time": "2021-07-13T14:04:08.443223",
          "status": "completed"
        },
        "tags": [],
        "colab": {
          "base_uri": "https://localhost:8080/"
        },
        "outputId": "7765acd7-0920-44a3-f85b-cda418371402"
      },
      "source": [
        "if __name__ == \"__main__\":\n",
        "    main()\n"
      ],
      "execution_count": 44,
      "outputs": [
        {
          "output_type": "stream",
          "text": [
            "========== CV ==========\n",
            "Score: 0.76999\n",
            "========== ID: 3r29llv1 model: resnet34d fold: 0 inference ==========\n",
            "========== ID: 3r29llv1 model: resnet34d fold: 1 inference ==========\n",
            "========== ID: 3r29llv1 model: resnet34d fold: 2 inference ==========\n",
            "========== ID: 3r29llv1 model: resnet34d fold: 3 inference ==========\n",
            "========== ID: 3r29llv1 model: resnet34d fold: 4 inference ==========\n",
            "========== ID: 2r8nooek model: resnet18d fold: 0 inference ==========\n",
            "========== ID: 2r8nooek model: resnet18d fold: 1 inference ==========\n",
            "========== ID: 2r8nooek model: resnet18d fold: 2 inference ==========\n",
            "========== ID: 2r8nooek model: resnet18d fold: 3 inference ==========\n",
            "========== ID: 2r8nooek model: resnet18d fold: 4 inference ==========\n",
            "========== ID: 1t1k9jk5 model: tf_efficientnetv2_b0 fold: 0 inference ==========\n",
            "========== ID: 1t1k9jk5 model: tf_efficientnetv2_b0 fold: 1 inference ==========\n",
            "========== ID: 1t1k9jk5 model: tf_efficientnetv2_b0 fold: 2 inference ==========\n",
            "========== ID: 1t1k9jk5 model: tf_efficientnetv2_b0 fold: 3 inference ==========\n",
            "========== ID: 1t1k9jk5 model: tf_efficientnetv2_b0 fold: 4 inference ==========\n",
            "========== ID: viccx8lc model: efficientnet_b0 fold: 0 inference ==========\n",
            "========== ID: viccx8lc model: efficientnet_b0 fold: 1 inference ==========\n",
            "========== ID: viccx8lc model: efficientnet_b0 fold: 2 inference ==========\n",
            "========== ID: viccx8lc model: efficientnet_b0 fold: 3 inference ==========\n",
            "========== ID: viccx8lc model: efficientnet_b0 fold: 4 inference ==========\n"
          ],
          "name": "stderr"
        }
      ]
    },
    {
      "cell_type": "code",
      "metadata": {
        "colab": {
          "base_uri": "https://localhost:8080/",
          "height": 233,
          "referenced_widgets": [
            "dac532bad17a4ca3a066d75458949086",
            "a63bf52fd6ef4ef9a6fa29e99b8cd3fe",
            "06e3abe80ac9495da97e1369e2ca2efa",
            "4282b64e904244fb914d7911ded8c18d",
            "e364cba3c3ba49a19893b6267162b03b",
            "3c8e84fb9a5345068e500c309875f90b",
            "489a797deea24024b1fdf1293413a5de",
            "ecbe402040dc487d9af9d7e79d6948bf"
          ]
        },
        "id": "CPHezhr_NHYR",
        "outputId": "3a522ca7-907a-4fec-dc20-0953f5570a5c"
      },
      "source": [
        "wandb.finish()"
      ],
      "execution_count": 45,
      "outputs": [
        {
          "output_type": "display_data",
          "data": {
            "text/html": [
              "<br/>Waiting for W&B process to finish, PID 13068<br/>Program ended successfully."
            ],
            "text/plain": [
              "<IPython.core.display.HTML object>"
            ]
          },
          "metadata": {
            "tags": []
          }
        },
        {
          "output_type": "display_data",
          "data": {
            "application/vnd.jupyter.widget-view+json": {
              "model_id": "dac532bad17a4ca3a066d75458949086",
              "version_minor": 0,
              "version_major": 2
            },
            "text/plain": [
              "VBox(children=(Label(value=' 4.69MB of 4.69MB uploaded (0.25MB deduped)\\r'), FloatProgress(value=1.0, max=1.0)…"
            ]
          },
          "metadata": {
            "tags": []
          }
        },
        {
          "output_type": "display_data",
          "data": {
            "text/html": [
              "Find user logs for this run at: <code>/content/wandb/run-20210714_135913-3c1ydy2b/logs/debug.log</code>"
            ],
            "text/plain": [
              "<IPython.core.display.HTML object>"
            ]
          },
          "metadata": {
            "tags": []
          }
        },
        {
          "output_type": "display_data",
          "data": {
            "text/html": [
              "Find internal logs for this run at: <code>/content/wandb/run-20210714_135913-3c1ydy2b/logs/debug-internal.log</code>"
            ],
            "text/plain": [
              "<IPython.core.display.HTML object>"
            ]
          },
          "metadata": {
            "tags": []
          }
        },
        {
          "output_type": "display_data",
          "data": {
            "text/html": [
              "<h3>Run summary:</h3><br/><style>\n",
              "    table.wandb td:nth-child(1) { padding: 0 10px; text-align: right }\n",
              "    </style><table class=\"wandb\">\n",
              "<tr><td>CV</td><td>0.76999</td></tr></table>"
            ],
            "text/plain": [
              "<IPython.core.display.HTML object>"
            ]
          },
          "metadata": {
            "tags": []
          }
        },
        {
          "output_type": "display_data",
          "data": {
            "text/html": [
              "Synced 5 W&B file(s), 0 media file(s), 22 artifact file(s) and 3 other file(s)"
            ],
            "text/plain": [
              "<IPython.core.display.HTML object>"
            ]
          },
          "metadata": {
            "tags": []
          }
        },
        {
          "output_type": "display_data",
          "data": {
            "text/html": [
              "\n",
              "                    <br/>Synced <strong style=\"color:#cdcd00\">legendary-field-45</strong>: <a href=\"https://wandb.ai/imokuri/atma11/runs/3c1ydy2b\" target=\"_blank\">https://wandb.ai/imokuri/atma11/runs/3c1ydy2b</a><br/>\n",
              "                "
            ],
            "text/plain": [
              "<IPython.core.display.HTML object>"
            ]
          },
          "metadata": {
            "tags": []
          }
        }
      ]
    },
    {
      "cell_type": "markdown",
      "metadata": {
        "id": "-scfhV4ueW4K"
      },
      "source": [
        "## Public LB"
      ]
    },
    {
      "cell_type": "code",
      "metadata": {
        "id": "jRNsH2CvA1He"
      },
      "source": [
        "RUN_ID = None\n",
        "LB_SCORE = None\n",
        "\n",
        "WANDB_ENTITY = \"imokuri\"\n",
        "WANDB_PROJECT = \"atma11\""
      ],
      "execution_count": 46,
      "outputs": []
    },
    {
      "cell_type": "code",
      "metadata": {
        "id": "AS7aRYF_eh7z"
      },
      "source": [
        "if RUN_ID is not None and LB_SCORE is not None:\n",
        "    import wandb\n",
        "    api = wandb.Api()\n",
        "\n",
        "    run = api.run(f\"{WANDB_ENTITY}/{WANDB_PROJECT}/{RUN_ID}\")\n",
        "    run.summary[\"LB\"] = LB_SCORE\n",
        "    run.summary.update()\n"
      ],
      "execution_count": 47,
      "outputs": []
    },
    {
      "cell_type": "code",
      "metadata": {
        "id": "-gEHUGpXei3-"
      },
      "source": [
        ""
      ],
      "execution_count": 47,
      "outputs": []
    }
  ]
}