{
  "nbformat": 4,
  "nbformat_minor": 5,
  "metadata": {
    "kernelspec": {
      "display_name": "Python 3",
      "language": "python",
      "name": "python3"
    },
    "language_info": {
      "codemirror_mode": {
        "name": "ipython",
        "version": 3
      },
      "file_extension": ".py",
      "mimetype": "text/x-python",
      "name": "python",
      "nbconvert_exporter": "python",
      "pygments_lexer": "ipython3",
      "version": "3.7.10"
    },
    "papermill": {
      "default_parameters": {},
      "duration": 777.951474,
      "end_time": "2021-07-13T14:15:40.578788",
      "environment_variables": {},
      "exception": null,
      "input_path": "__notebook__.ipynb",
      "output_path": "__notebook__.ipynb",
      "parameters": {},
      "start_time": "2021-07-13T14:02:42.627314",
      "version": "2.3.3"
    },
    "colab": {
      "name": "atmacup11-baseline.ipynb",
      "provenance": [],
      "collapsed_sections": [],
      "toc_visible": true,
      "include_colab_link": true
    }
  },
  "cells": [
    {
      "cell_type": "markdown",
      "metadata": {
        "id": "view-in-github",
        "colab_type": "text"
      },
      "source": [
        "<a href=\"https://colab.research.google.com/github/IMOKURI/atmacup11/blob/main/atmacup11_baseline.ipynb\" target=\"_parent\"><img src=\"https://colab.research.google.com/assets/colab-badge.svg\" alt=\"Open In Colab\"/></a>"
      ]
    },
    {
      "cell_type": "markdown",
      "metadata": {
        "id": "5e4660c1",
        "papermill": {
          "duration": 0.041567,
          "end_time": "2021-07-13T14:02:49.513730",
          "exception": false,
          "start_time": "2021-07-13T14:02:49.472163",
          "status": "completed"
        },
        "tags": []
      },
      "source": [
        "# About this notebook ...\n",
        "\n",
        "- Competition site: [atma cup #11](https://www.guruguru.science/competitions/17/)\n",
        "- [WandB training logs](https://wandb.ai/imokuri/atma11)\n",
        "\n",
        "\n",
        "\n",
        "\n",
        "\n"
      ],
      "id": "5e4660c1"
    },
    {
      "cell_type": "markdown",
      "metadata": {
        "id": "68842c71",
        "papermill": {
          "duration": 0.042135,
          "end_time": "2021-07-13T14:02:49.597498",
          "exception": false,
          "start_time": "2021-07-13T14:02:49.555363",
          "status": "completed"
        },
        "tags": []
      },
      "source": [
        "## Prepare for Colab"
      ],
      "id": "68842c71"
    },
    {
      "cell_type": "code",
      "metadata": {
        "execution": {
          "iopub.execute_input": "2021-07-13T14:02:49.688827Z",
          "iopub.status.busy": "2021-07-13T14:02:49.688324Z",
          "iopub.status.idle": "2021-07-13T14:02:50.380204Z",
          "shell.execute_reply": "2021-07-13T14:02:50.379342Z",
          "shell.execute_reply.started": "2021-07-13T13:57:11.542823Z"
        },
        "id": "14137a0f",
        "papermill": {
          "duration": 0.742908,
          "end_time": "2021-07-13T14:02:50.380444",
          "exception": false,
          "start_time": "2021-07-13T14:02:49.637536",
          "status": "completed"
        },
        "tags": [],
        "colab": {
          "base_uri": "https://localhost:8080/"
        },
        "outputId": "29a7275f-0ca9-4bf9-e455-8620e229f8cc"
      },
      "source": [
        "!nvidia-smi"
      ],
      "id": "14137a0f",
      "execution_count": 1,
      "outputs": [
        {
          "output_type": "stream",
          "text": [
            "Wed Jul 14 05:01:37 2021       \n",
            "+-----------------------------------------------------------------------------+\n",
            "| NVIDIA-SMI 470.42.01    Driver Version: 460.32.03    CUDA Version: 11.2     |\n",
            "|-------------------------------+----------------------+----------------------+\n",
            "| GPU  Name        Persistence-M| Bus-Id        Disp.A | Volatile Uncorr. ECC |\n",
            "| Fan  Temp  Perf  Pwr:Usage/Cap|         Memory-Usage | GPU-Util  Compute M. |\n",
            "|                               |                      |               MIG M. |\n",
            "|===============================+======================+======================|\n",
            "|   0  Tesla T4            Off  | 00000000:00:04.0 Off |                    0 |\n",
            "| N/A   58C    P8    11W /  70W |      0MiB / 15109MiB |      0%      Default |\n",
            "|                               |                      |                  N/A |\n",
            "+-------------------------------+----------------------+----------------------+\n",
            "                                                                               \n",
            "+-----------------------------------------------------------------------------+\n",
            "| Processes:                                                                  |\n",
            "|  GPU   GI   CI        PID   Type   Process name                  GPU Memory |\n",
            "|        ID   ID                                                   Usage      |\n",
            "|=============================================================================|\n",
            "|  No running processes found                                                 |\n",
            "+-----------------------------------------------------------------------------+\n"
          ],
          "name": "stdout"
        }
      ]
    },
    {
      "cell_type": "code",
      "metadata": {
        "execution": {
          "iopub.execute_input": "2021-07-13T14:02:50.512086Z",
          "iopub.status.busy": "2021-07-13T14:02:50.508335Z",
          "iopub.status.idle": "2021-07-13T14:03:27.045096Z",
          "shell.execute_reply": "2021-07-13T14:03:27.044587Z",
          "shell.execute_reply.started": "2021-07-13T13:57:12.243113Z"
        },
        "id": "4871daf1",
        "papermill": {
          "duration": 36.60649,
          "end_time": "2021-07-13T14:03:27.045231",
          "exception": false,
          "start_time": "2021-07-13T14:02:50.438741",
          "status": "completed"
        },
        "tags": [],
        "colab": {
          "base_uri": "https://localhost:8080/"
        },
        "outputId": "1e009dd6-c92f-485a-f025-dd898130100e"
      },
      "source": [
        "import os\n",
        "import sys\n",
        "\n",
        "if os.path.exists('init.txt'):\n",
        "    print(\"Already initialized.\")\n",
        "\n",
        "else:\n",
        "    if 'google.colab' in sys.modules:\n",
        "        from google.colab import drive\n",
        "        drive.mount('/gdrive')\n",
        "\n",
        "        !cp /gdrive/MyDrive/Datasets/dataset_atmaCup11.zip .\n",
        "\n",
        "        !unzip dataset_atmaCup11.zip\n",
        "        !mkdir -p photos\n",
        "        !unzip photos.zip -d photos\n",
        "        !mv 'atmaCup#11_sample_submission.csv' atmaCup11_sample_submission.csv\n",
        "\n",
        "    # for StratifiedGroupKFold\n",
        "    !pip uninstall -y scikit-learn\n",
        "    !pip install --pre --extra-index https://pypi.anaconda.org/scipy-wheels-nightly/simple scikit-learn\n",
        "\n",
        "    !pip install -q wandb\n",
        "    !pip install -Uq timm\n",
        "    !pip install -Uq albumentations\n",
        "\n",
        "    !touch init.txt"
      ],
      "id": "4871daf1",
      "execution_count": 2,
      "outputs": [
        {
          "output_type": "stream",
          "text": [
            "Already initialized.\n"
          ],
          "name": "stdout"
        }
      ]
    },
    {
      "cell_type": "markdown",
      "metadata": {
        "id": "c39b7222",
        "papermill": {
          "duration": 0.052959,
          "end_time": "2021-07-13T14:03:27.151686",
          "exception": false,
          "start_time": "2021-07-13T14:03:27.098727",
          "status": "completed"
        },
        "tags": []
      },
      "source": [
        "## Library"
      ],
      "id": "c39b7222"
    },
    {
      "cell_type": "code",
      "metadata": {
        "execution": {
          "iopub.execute_input": "2021-07-13T14:03:27.264678Z",
          "iopub.status.busy": "2021-07-13T14:03:27.263822Z",
          "iopub.status.idle": "2021-07-13T14:03:31.307165Z",
          "shell.execute_reply": "2021-07-13T14:03:31.306660Z",
          "shell.execute_reply.started": "2021-07-13T13:57:51.357197Z"
        },
        "id": "f63096cb",
        "papermill": {
          "duration": 4.103057,
          "end_time": "2021-07-13T14:03:31.307301",
          "exception": false,
          "start_time": "2021-07-13T14:03:27.204244",
          "status": "completed"
        },
        "tags": []
      },
      "source": [
        "import glob\n",
        "import json\n",
        "import math\n",
        "import os\n",
        "import random\n",
        "import time\n",
        "import warnings\n",
        "from contextlib import contextmanager\n",
        "\n",
        "import albumentations as A\n",
        "import cv2\n",
        "import numpy as np\n",
        "import pandas as pd\n",
        "import scipy as sp\n",
        "import seaborn as sns\n",
        "import timm\n",
        "import torch\n",
        "import torch.nn as nn\n",
        "import torch.nn.functional as F\n",
        "import wandb\n",
        "from albumentations.pytorch import ToTensorV2\n",
        "from PIL import Image\n",
        "from matplotlib import pyplot as plt\n",
        "from sklearn.metrics import mean_squared_error\n",
        "from sklearn.model_selection import StratifiedGroupKFold\n",
        "from torch.optim import SGD, Adam\n",
        "from torch.optim.lr_scheduler import CosineAnnealingLR, CosineAnnealingWarmRestarts, ReduceLROnPlateau\n",
        "from torch.utils.data import DataLoader, Dataset\n",
        "from tqdm.notebook import tqdm"
      ],
      "id": "f63096cb",
      "execution_count": 3,
      "outputs": []
    },
    {
      "cell_type": "code",
      "metadata": {
        "execution": {
          "iopub.execute_input": "2021-07-13T14:03:31.422386Z",
          "iopub.status.busy": "2021-07-13T14:03:31.421579Z",
          "iopub.status.idle": "2021-07-13T14:03:31.424477Z",
          "shell.execute_reply": "2021-07-13T14:03:31.424050Z",
          "shell.execute_reply.started": "2021-07-13T13:57:55.318652Z"
        },
        "id": "c830faec",
        "papermill": {
          "duration": 0.061866,
          "end_time": "2021-07-13T14:03:31.424612",
          "exception": false,
          "start_time": "2021-07-13T14:03:31.362746",
          "status": "completed"
        },
        "tags": []
      },
      "source": [
        "warnings.filterwarnings(\"ignore\")"
      ],
      "id": "c830faec",
      "execution_count": 4,
      "outputs": []
    },
    {
      "cell_type": "code",
      "metadata": {
        "execution": {
          "iopub.execute_input": "2021-07-13T14:03:54.244857Z",
          "iopub.status.busy": "2021-07-13T14:03:54.244067Z",
          "iopub.status.idle": "2021-07-13T14:03:54.248587Z",
          "shell.execute_reply": "2021-07-13T14:03:54.248165Z",
          "shell.execute_reply.started": "2021-07-13T13:58:08.534238Z"
        },
        "id": "16eb8ed5",
        "papermill": {
          "duration": 0.110502,
          "end_time": "2021-07-13T14:03:54.248712",
          "exception": false,
          "start_time": "2021-07-13T14:03:54.138210",
          "status": "completed"
        },
        "tags": []
      },
      "source": [
        "device = torch.device(\"cuda\" if torch.cuda.is_available() else \"cpu\")"
      ],
      "id": "16eb8ed5",
      "execution_count": 5,
      "outputs": []
    },
    {
      "cell_type": "code",
      "metadata": {
        "execution": {
          "iopub.execute_input": "2021-07-13T14:03:31.539220Z",
          "iopub.status.busy": "2021-07-13T14:03:31.534302Z",
          "iopub.status.idle": "2021-07-13T14:03:33.944775Z",
          "shell.execute_reply": "2021-07-13T14:03:33.944271Z",
          "shell.execute_reply.started": "2021-07-13T13:57:55.325495Z"
        },
        "id": "7cc53e8c",
        "papermill": {
          "duration": 2.46726,
          "end_time": "2021-07-13T14:03:33.944897",
          "exception": false,
          "start_time": "2021-07-13T14:03:31.477637",
          "status": "completed"
        },
        "tags": [],
        "colab": {
          "base_uri": "https://localhost:8080/"
        },
        "outputId": "f905445a-9561-4bea-cb2b-48292b36d005"
      },
      "source": [
        "!wandb login"
      ],
      "id": "7cc53e8c",
      "execution_count": 6,
      "outputs": [
        {
          "output_type": "stream",
          "text": [
            "\u001b[34m\u001b[1mwandb\u001b[0m: Currently logged in as: \u001b[33mimokuri\u001b[0m (use `wandb login --relogin` to force relogin)\n"
          ],
          "name": "stdout"
        }
      ]
    },
    {
      "cell_type": "code",
      "metadata": {
        "id": "fB5QkUQJq_6U"
      },
      "source": [
        "wandb_job_type = \"\"\n",
        "wandb_notes = \"\"\n",
        "wandb_tags = []"
      ],
      "id": "fB5QkUQJq_6U",
      "execution_count": 7,
      "outputs": []
    },
    {
      "cell_type": "markdown",
      "metadata": {
        "id": "71d9ccbd",
        "papermill": {
          "duration": 0.053483,
          "end_time": "2021-07-13T14:03:34.052717",
          "exception": false,
          "start_time": "2021-07-13T14:03:33.999234",
          "status": "completed"
        },
        "tags": []
      },
      "source": [
        "## Load Data"
      ],
      "id": "71d9ccbd"
    },
    {
      "cell_type": "code",
      "metadata": {
        "execution": {
          "iopub.execute_input": "2021-07-13T14:03:34.164558Z",
          "iopub.status.busy": "2021-07-13T14:03:34.163735Z",
          "iopub.status.idle": "2021-07-13T14:03:34.166567Z",
          "shell.execute_reply": "2021-07-13T14:03:34.166155Z",
          "shell.execute_reply.started": "2021-07-13T13:57:57.898438Z"
        },
        "id": "4a62a05f",
        "papermill": {
          "duration": 0.060805,
          "end_time": "2021-07-13T14:03:34.166677",
          "exception": false,
          "start_time": "2021-07-13T14:03:34.105872",
          "status": "completed"
        },
        "tags": []
      },
      "source": [
        "DATA_DIR = \"../input/atmacup11/\"\n",
        "BASE_DIR = \"../input/atmacup11/photos/\"\n",
        "OUTPUT_DIR = \"./\"\n",
        "\n",
        "if 'google.colab' in sys.modules:\n",
        "    DATA_DIR = \"./\"\n",
        "    BASE_DIR = \"./photos/\"\n",
        "\n",
        "if not os.path.exists(OUTPUT_DIR):\n",
        "    os.makedirs(OUTPUT_DIR)"
      ],
      "id": "4a62a05f",
      "execution_count": 8,
      "outputs": []
    },
    {
      "cell_type": "code",
      "metadata": {
        "execution": {
          "iopub.execute_input": "2021-07-13T14:03:34.276471Z",
          "iopub.status.busy": "2021-07-13T14:03:34.275915Z",
          "iopub.status.idle": "2021-07-13T14:03:35.207624Z",
          "shell.execute_reply": "2021-07-13T14:03:35.206789Z",
          "shell.execute_reply.started": "2021-07-13T13:57:57.907309Z"
        },
        "id": "221bcbeb",
        "papermill": {
          "duration": 0.988144,
          "end_time": "2021-07-13T14:03:35.207762",
          "exception": false,
          "start_time": "2021-07-13T14:03:34.219618",
          "status": "completed"
        },
        "tags": [],
        "colab": {
          "base_uri": "https://localhost:8080/"
        },
        "outputId": "d0a3c2cc-d66c-4079-922a-6a7ce7078a13"
      },
      "source": [
        "paths = [path for path in glob.glob(BASE_DIR + \"*.jpg\")]\n",
        "print(len(paths))"
      ],
      "id": "221bcbeb",
      "execution_count": 9,
      "outputs": [
        {
          "output_type": "stream",
          "text": [
            "9856\n"
          ],
          "name": "stdout"
        }
      ]
    },
    {
      "cell_type": "code",
      "metadata": {
        "execution": {
          "iopub.execute_input": "2021-07-13T14:03:35.320418Z",
          "iopub.status.busy": "2021-07-13T14:03:35.319829Z",
          "iopub.status.idle": "2021-07-13T14:03:35.429367Z",
          "shell.execute_reply": "2021-07-13T14:03:35.428824Z",
          "shell.execute_reply.started": "2021-07-13T13:57:58.182025Z"
        },
        "id": "26350797",
        "papermill": {
          "duration": 0.168137,
          "end_time": "2021-07-13T14:03:35.429499",
          "exception": false,
          "start_time": "2021-07-13T14:03:35.261362",
          "status": "completed"
        },
        "tags": []
      },
      "source": [
        "train = pd.read_csv(DATA_DIR + \"train.csv\")\n",
        "test = pd.read_csv(DATA_DIR + \"test.csv\")\n",
        "sub = pd.read_csv(DATA_DIR + \"atmaCup11_sample_submission.csv\")\n",
        "material = pd.read_csv(DATA_DIR + \"materials.csv\")\n",
        "technique = pd.read_csv(DATA_DIR + \"techniques.csv\")"
      ],
      "id": "26350797",
      "execution_count": 10,
      "outputs": []
    },
    {
      "cell_type": "code",
      "metadata": {
        "execution": {
          "iopub.execute_input": "2021-07-13T14:03:35.547052Z",
          "iopub.status.busy": "2021-07-13T14:03:35.546186Z",
          "iopub.status.idle": "2021-07-13T14:03:35.564282Z",
          "shell.execute_reply": "2021-07-13T14:03:35.563559Z",
          "shell.execute_reply.started": "2021-07-13T13:57:58.281218Z"
        },
        "id": "49252b08",
        "papermill": {
          "duration": 0.081017,
          "end_time": "2021-07-13T14:03:35.564402",
          "exception": false,
          "start_time": "2021-07-13T14:03:35.483385",
          "status": "completed"
        },
        "tags": []
      },
      "source": [
        "# https://www.guruguru.science/competitions/17/discussions/000d76a9-fc4b-443e-95f2-5c066c0f3108/\n",
        "train[\"sorting_date_target\"] = train[\"sorting_date\"] / 100.0 - 15.51"
      ],
      "id": "49252b08",
      "execution_count": 11,
      "outputs": []
    },
    {
      "cell_type": "code",
      "metadata": {
        "execution": {
          "iopub.execute_input": "2021-07-13T14:03:35.693514Z",
          "iopub.status.busy": "2021-07-13T14:03:35.692674Z",
          "iopub.status.idle": "2021-07-13T14:03:35.729704Z",
          "shell.execute_reply": "2021-07-13T14:03:35.730157Z",
          "shell.execute_reply.started": "2021-07-13T13:57:58.316962Z"
        },
        "id": "18097672",
        "papermill": {
          "duration": 0.112287,
          "end_time": "2021-07-13T14:03:35.730312",
          "exception": false,
          "start_time": "2021-07-13T14:03:35.618025",
          "status": "completed"
        },
        "tags": [],
        "colab": {
          "base_uri": "https://localhost:8080/",
          "height": 1000
        },
        "outputId": "7de268fc-b16b-4a04-f531-c653d9044d19"
      },
      "source": [
        "for ds in [train, test, sub]:\n",
        "    print(f\"=\" * 80)\n",
        "    ds.info()\n",
        "    display(ds.head())"
      ],
      "id": "18097672",
      "execution_count": 12,
      "outputs": [
        {
          "output_type": "stream",
          "text": [
            "================================================================================\n",
            "<class 'pandas.core.frame.DataFrame'>\n",
            "RangeIndex: 3937 entries, 0 to 3936\n",
            "Data columns (total 5 columns):\n",
            " #   Column               Non-Null Count  Dtype  \n",
            "---  ------               --------------  -----  \n",
            " 0   object_id            3937 non-null   object \n",
            " 1   sorting_date         3937 non-null   int64  \n",
            " 2   art_series_id        3937 non-null   object \n",
            " 3   target               3937 non-null   int64  \n",
            " 4   sorting_date_target  3937 non-null   float64\n",
            "dtypes: float64(1), int64(2), object(2)\n",
            "memory usage: 153.9+ KB\n"
          ],
          "name": "stdout"
        },
        {
          "output_type": "display_data",
          "data": {
            "text/html": [
              "<div>\n",
              "<style scoped>\n",
              "    .dataframe tbody tr th:only-of-type {\n",
              "        vertical-align: middle;\n",
              "    }\n",
              "\n",
              "    .dataframe tbody tr th {\n",
              "        vertical-align: top;\n",
              "    }\n",
              "\n",
              "    .dataframe thead th {\n",
              "        text-align: right;\n",
              "    }\n",
              "</style>\n",
              "<table border=\"1\" class=\"dataframe\">\n",
              "  <thead>\n",
              "    <tr style=\"text-align: right;\">\n",
              "      <th></th>\n",
              "      <th>object_id</th>\n",
              "      <th>sorting_date</th>\n",
              "      <th>art_series_id</th>\n",
              "      <th>target</th>\n",
              "      <th>sorting_date_target</th>\n",
              "    </tr>\n",
              "  </thead>\n",
              "  <tbody>\n",
              "    <tr>\n",
              "      <th>0</th>\n",
              "      <td>002bff09b09998d0be65</td>\n",
              "      <td>1631</td>\n",
              "      <td>509357f67692a6a45626</td>\n",
              "      <td>1</td>\n",
              "      <td>0.80</td>\n",
              "    </tr>\n",
              "    <tr>\n",
              "      <th>1</th>\n",
              "      <td>00309fb1ef05416f9c1f</td>\n",
              "      <td>1900</td>\n",
              "      <td>7987b47bbe5dc3039179</td>\n",
              "      <td>3</td>\n",
              "      <td>3.49</td>\n",
              "    </tr>\n",
              "    <tr>\n",
              "      <th>2</th>\n",
              "      <td>003a1562e97f79ba96dc</td>\n",
              "      <td>1834</td>\n",
              "      <td>ded7c3c9636708e5b14c</td>\n",
              "      <td>3</td>\n",
              "      <td>2.83</td>\n",
              "    </tr>\n",
              "    <tr>\n",
              "      <th>3</th>\n",
              "      <td>004890880e8e7431147b</td>\n",
              "      <td>1743</td>\n",
              "      <td>582ac2d7f0cef195b605</td>\n",
              "      <td>2</td>\n",
              "      <td>1.92</td>\n",
              "    </tr>\n",
              "    <tr>\n",
              "      <th>4</th>\n",
              "      <td>00718c32602425f504c1</td>\n",
              "      <td>1885</td>\n",
              "      <td>64c907f0c08dce4fb8e8</td>\n",
              "      <td>3</td>\n",
              "      <td>3.34</td>\n",
              "    </tr>\n",
              "  </tbody>\n",
              "</table>\n",
              "</div>"
            ],
            "text/plain": [
              "              object_id  sorting_date  ... target  sorting_date_target\n",
              "0  002bff09b09998d0be65          1631  ...      1                 0.80\n",
              "1  00309fb1ef05416f9c1f          1900  ...      3                 3.49\n",
              "2  003a1562e97f79ba96dc          1834  ...      3                 2.83\n",
              "3  004890880e8e7431147b          1743  ...      2                 1.92\n",
              "4  00718c32602425f504c1          1885  ...      3                 3.34\n",
              "\n",
              "[5 rows x 5 columns]"
            ]
          },
          "metadata": {
            "tags": []
          }
        },
        {
          "output_type": "stream",
          "text": [
            "================================================================================\n",
            "<class 'pandas.core.frame.DataFrame'>\n",
            "RangeIndex: 5919 entries, 0 to 5918\n",
            "Data columns (total 1 columns):\n",
            " #   Column     Non-Null Count  Dtype \n",
            "---  ------     --------------  ----- \n",
            " 0   object_id  5919 non-null   object\n",
            "dtypes: object(1)\n",
            "memory usage: 46.4+ KB\n"
          ],
          "name": "stdout"
        },
        {
          "output_type": "display_data",
          "data": {
            "text/html": [
              "<div>\n",
              "<style scoped>\n",
              "    .dataframe tbody tr th:only-of-type {\n",
              "        vertical-align: middle;\n",
              "    }\n",
              "\n",
              "    .dataframe tbody tr th {\n",
              "        vertical-align: top;\n",
              "    }\n",
              "\n",
              "    .dataframe thead th {\n",
              "        text-align: right;\n",
              "    }\n",
              "</style>\n",
              "<table border=\"1\" class=\"dataframe\">\n",
              "  <thead>\n",
              "    <tr style=\"text-align: right;\">\n",
              "      <th></th>\n",
              "      <th>object_id</th>\n",
              "    </tr>\n",
              "  </thead>\n",
              "  <tbody>\n",
              "    <tr>\n",
              "      <th>0</th>\n",
              "      <td>0009e50b94be36ccad39</td>\n",
              "    </tr>\n",
              "    <tr>\n",
              "      <th>1</th>\n",
              "      <td>000bd5e82eb22f199f44</td>\n",
              "    </tr>\n",
              "    <tr>\n",
              "      <th>2</th>\n",
              "      <td>0015f44de1854f617516</td>\n",
              "    </tr>\n",
              "    <tr>\n",
              "      <th>3</th>\n",
              "      <td>00388a678879ba1efa27</td>\n",
              "    </tr>\n",
              "    <tr>\n",
              "      <th>4</th>\n",
              "      <td>005e1e7c6496902d23f3</td>\n",
              "    </tr>\n",
              "  </tbody>\n",
              "</table>\n",
              "</div>"
            ],
            "text/plain": [
              "              object_id\n",
              "0  0009e50b94be36ccad39\n",
              "1  000bd5e82eb22f199f44\n",
              "2  0015f44de1854f617516\n",
              "3  00388a678879ba1efa27\n",
              "4  005e1e7c6496902d23f3"
            ]
          },
          "metadata": {
            "tags": []
          }
        },
        {
          "output_type": "stream",
          "text": [
            "================================================================================\n",
            "<class 'pandas.core.frame.DataFrame'>\n",
            "RangeIndex: 5919 entries, 0 to 5918\n",
            "Data columns (total 1 columns):\n",
            " #   Column  Non-Null Count  Dtype\n",
            "---  ------  --------------  -----\n",
            " 0   target  5919 non-null   int64\n",
            "dtypes: int64(1)\n",
            "memory usage: 46.4 KB\n"
          ],
          "name": "stdout"
        },
        {
          "output_type": "display_data",
          "data": {
            "text/html": [
              "<div>\n",
              "<style scoped>\n",
              "    .dataframe tbody tr th:only-of-type {\n",
              "        vertical-align: middle;\n",
              "    }\n",
              "\n",
              "    .dataframe tbody tr th {\n",
              "        vertical-align: top;\n",
              "    }\n",
              "\n",
              "    .dataframe thead th {\n",
              "        text-align: right;\n",
              "    }\n",
              "</style>\n",
              "<table border=\"1\" class=\"dataframe\">\n",
              "  <thead>\n",
              "    <tr style=\"text-align: right;\">\n",
              "      <th></th>\n",
              "      <th>target</th>\n",
              "    </tr>\n",
              "  </thead>\n",
              "  <tbody>\n",
              "    <tr>\n",
              "      <th>0</th>\n",
              "      <td>3</td>\n",
              "    </tr>\n",
              "    <tr>\n",
              "      <th>1</th>\n",
              "      <td>1</td>\n",
              "    </tr>\n",
              "    <tr>\n",
              "      <th>2</th>\n",
              "      <td>3</td>\n",
              "    </tr>\n",
              "    <tr>\n",
              "      <th>3</th>\n",
              "      <td>3</td>\n",
              "    </tr>\n",
              "    <tr>\n",
              "      <th>4</th>\n",
              "      <td>0</td>\n",
              "    </tr>\n",
              "  </tbody>\n",
              "</table>\n",
              "</div>"
            ],
            "text/plain": [
              "   target\n",
              "0       3\n",
              "1       1\n",
              "2       3\n",
              "3       3\n",
              "4       0"
            ]
          },
          "metadata": {
            "tags": []
          }
        }
      ]
    },
    {
      "cell_type": "code",
      "metadata": {
        "execution": {
          "iopub.execute_input": "2021-07-13T14:03:35.863409Z",
          "iopub.status.busy": "2021-07-13T14:03:35.862616Z",
          "iopub.status.idle": "2021-07-13T14:03:36.026732Z",
          "shell.execute_reply": "2021-07-13T14:03:36.027163Z",
          "shell.execute_reply.started": "2021-07-13T13:57:58.455807Z"
        },
        "id": "c9da5e5e",
        "papermill": {
          "duration": 0.240949,
          "end_time": "2021-07-13T14:03:36.027310",
          "exception": false,
          "start_time": "2021-07-13T14:03:35.786361",
          "status": "completed"
        },
        "tags": [],
        "colab": {
          "base_uri": "https://localhost:8080/",
          "height": 296
        },
        "outputId": "9b27e7c0-aebd-4fa3-fa7f-d24f49b36d5e"
      },
      "source": [
        "sns.distplot(train[\"target\"], kde=False)"
      ],
      "id": "c9da5e5e",
      "execution_count": 13,
      "outputs": [
        {
          "output_type": "execute_result",
          "data": {
            "text/plain": [
              "<matplotlib.axes._subplots.AxesSubplot at 0x7f6a655fae50>"
            ]
          },
          "metadata": {
            "tags": []
          },
          "execution_count": 13
        },
        {
          "output_type": "display_data",
          "data": {
            "image/png": "[encoded data removed]",
            "text/plain": [
              "<Figure size 432x288 with 1 Axes>"
            ]
          },
          "metadata": {
            "tags": [],
            "needs_background": "light"
          }
        }
      ]
    },
    {
      "cell_type": "code",
      "metadata": {
        "execution": {
          "iopub.execute_input": "2021-07-13T14:03:36.212402Z",
          "iopub.status.busy": "2021-07-13T14:03:36.211493Z",
          "iopub.status.idle": "2021-07-13T14:03:36.537222Z",
          "shell.execute_reply": "2021-07-13T14:03:36.538081Z",
          "shell.execute_reply.started": "2021-07-13T13:57:58.845858Z"
        },
        "id": "3f5772d0",
        "papermill": {
          "duration": 0.446634,
          "end_time": "2021-07-13T14:03:36.538289",
          "exception": false,
          "start_time": "2021-07-13T14:03:36.091655",
          "status": "completed"
        },
        "tags": [],
        "colab": {
          "base_uri": "https://localhost:8080/",
          "height": 297
        },
        "outputId": "261a1bac-297f-4675-8ef4-7b872c8e8e42"
      },
      "source": [
        "sns.distplot(train[\"sorting_date_target\"], kde=False)"
      ],
      "id": "3f5772d0",
      "execution_count": 14,
      "outputs": [
        {
          "output_type": "execute_result",
          "data": {
            "text/plain": [
              "<matplotlib.axes._subplots.AxesSubplot at 0x7f6a655d8d50>"
            ]
          },
          "metadata": {
            "tags": []
          },
          "execution_count": 14
        },
        {
          "output_type": "display_data",
          "data": {
            "image/png": "[encoded data removed]",
            "text/plain": [
              "<Figure size 432x288 with 1 Axes>"
            ]
          },
          "metadata": {
            "tags": [],
            "needs_background": "light"
          }
        }
      ]
    },
    {
      "cell_type": "code",
      "metadata": {
        "execution": {
          "iopub.execute_input": "2021-07-13T14:03:36.732829Z",
          "iopub.status.busy": "2021-07-13T14:03:36.732035Z",
          "iopub.status.idle": "2021-07-13T14:03:36.739299Z",
          "shell.execute_reply": "2021-07-13T14:03:36.738856Z",
          "shell.execute_reply.started": "2021-07-13T13:57:59.082355Z"
        },
        "id": "19b95d4e",
        "papermill": {
          "duration": 0.101947,
          "end_time": "2021-07-13T14:03:36.739417",
          "exception": false,
          "start_time": "2021-07-13T14:03:36.637470",
          "status": "completed"
        },
        "tags": [],
        "colab": {
          "base_uri": "https://localhost:8080/"
        },
        "outputId": "b96708c6-a326-4912-ceff-45feb7017235"
      },
      "source": [
        "train[\"art_series_id\"].value_counts()"
      ],
      "id": "19b95d4e",
      "execution_count": 15,
      "outputs": [
        {
          "output_type": "execute_result",
          "data": {
            "text/plain": [
              "607c22f5e66e8d50a298    9\n",
              "6fb734ceff36fe2184b5    7\n",
              "78db88c5ca6d7f6f4ac6    6\n",
              "600db76c79a01bc40eb1    4\n",
              "f8b88aff7f66a106ba3f    4\n",
              "                       ..\n",
              "7d0123151e8e118c8d11    1\n",
              "1cdf3fe614a2d6a8a037    1\n",
              "573b1f045aacd7d3eed1    1\n",
              "d0bbaebd86f8a86fd12f    1\n",
              "e0f24ebaede72e67021c    1\n",
              "Name: art_series_id, Length: 3784, dtype: int64"
            ]
          },
          "metadata": {
            "tags": []
          },
          "execution_count": 15
        }
      ]
    },
    {
      "cell_type": "markdown",
      "metadata": {
        "id": "b7ef06f8",
        "papermill": {
          "duration": 0.057546,
          "end_time": "2021-07-13T14:03:36.854804",
          "exception": false,
          "start_time": "2021-07-13T14:03:36.797258",
          "status": "completed"
        },
        "tags": []
      },
      "source": [
        "## Config"
      ],
      "id": "b7ef06f8"
    },
    {
      "cell_type": "code",
      "metadata": {
        "execution": {
          "iopub.execute_input": "2021-07-13T14:03:37.464770Z",
          "iopub.status.busy": "2021-07-13T14:03:37.463498Z",
          "iopub.status.idle": "2021-07-13T14:03:37.465646Z",
          "shell.execute_reply": "2021-07-13T14:03:37.466461Z",
          "shell.execute_reply.started": "2021-07-13T13:57:59.141326Z"
        },
        "id": "c0177571",
        "papermill": {
          "duration": 0.064126,
          "end_time": "2021-07-13T14:03:37.466583",
          "exception": false,
          "start_time": "2021-07-13T14:03:37.402457",
          "status": "completed"
        },
        "tags": []
      },
      "source": [
        "class Config:\n",
        "    wandb_entity = \"imokuri\"\n",
        "    wandb_project = \"atma11\"\n",
        "    print_freq = 50\n",
        "\n",
        "    train = True\n",
        "    validate = False\n",
        "    inference = False\n",
        "\n",
        "    debug = False\n",
        "    multi_gpu = False\n",
        "    apex = False\n"
      ],
      "id": "c0177571",
      "execution_count": 16,
      "outputs": []
    },
    {
      "cell_type": "code",
      "metadata": {
        "execution": {
          "iopub.execute_input": "2021-07-13T14:03:37.587697Z",
          "iopub.status.busy": "2021-07-13T14:03:37.586356Z",
          "iopub.status.idle": "2021-07-13T14:03:37.588649Z",
          "shell.execute_reply": "2021-07-13T14:03:37.589157Z",
          "shell.execute_reply.started": "2021-07-13T13:57:59.152921Z"
        },
        "id": "0a195fe0",
        "papermill": {
          "duration": 0.065165,
          "end_time": "2021-07-13T14:03:37.589292",
          "exception": false,
          "start_time": "2021-07-13T14:03:37.524127",
          "status": "completed"
        },
        "tags": []
      },
      "source": [
        "if Config.train:\n",
        "    wandb_job_type = \"training\"\n",
        "\n",
        "elif Config.inference:\n",
        "    wandb_job_type = \"inference\"\n",
        "\n",
        "elif Config.validate:\n",
        "    wandb_job_type = \"validation\""
      ],
      "id": "0a195fe0",
      "execution_count": 17,
      "outputs": []
    },
    {
      "cell_type": "code",
      "metadata": {
        "execution": {
          "iopub.execute_input": "2021-07-13T14:03:54.078379Z",
          "iopub.status.busy": "2021-07-13T14:03:54.077527Z",
          "iopub.status.idle": "2021-07-13T14:03:54.079690Z",
          "shell.execute_reply": "2021-07-13T14:03:54.080124Z",
          "shell.execute_reply.started": "2021-07-13T13:58:08.523771Z"
        },
        "id": "ccb61787",
        "papermill": {
          "duration": 0.065226,
          "end_time": "2021-07-13T14:03:54.080259",
          "exception": false,
          "start_time": "2021-07-13T14:03:54.015033",
          "status": "completed"
        },
        "tags": []
      },
      "source": [
        "if Config.apex:\n",
        "    from apex import amp"
      ],
      "id": "ccb61787",
      "execution_count": 18,
      "outputs": []
    },
    {
      "cell_type": "code",
      "metadata": {
        "execution": {
          "iopub.execute_input": "2021-07-13T14:03:37.220404Z",
          "iopub.status.busy": "2021-07-13T14:03:37.218802Z",
          "iopub.status.idle": "2021-07-13T14:03:37.221109Z",
          "shell.execute_reply": "2021-07-13T14:03:37.221508Z",
          "shell.execute_reply.started": "2021-07-13T13:57:59.118596Z"
        },
        "id": "daf057a9",
        "papermill": {
          "duration": 0.067267,
          "end_time": "2021-07-13T14:03:37.221653",
          "exception": false,
          "start_time": "2021-07-13T14:03:37.154386",
          "status": "completed"
        },
        "tags": []
      },
      "source": [
        "config_defaults = {\n",
        "    \"seed\": 440,\n",
        "    \"size\": 256,\n",
        "    \"n_class\": 1,\n",
        "    \"n_fold\": 5,\n",
        "    \"gradient_accumulation_steps\": 1,\n",
        "    \"max_grad_norm\": 1000,\n",
        "    \"num_workers\": 4,\n",
        "    \"batch_size\": 16,\n",
        "    \"epochs\": 20,\n",
        "    \"scheduler\": \"CosineAnnealingWarmRestarts\",\n",
        "    \"criterion\": \"RMSELoss\",\n",
        "    \"lr\": 1e-3,\n",
        "    \"min_lr\": 1e-4,\n",
        "    \"weight_decay\": 1e-6,\n",
        "    \"model_name\": \"efficientnet_b1\",\n",
        "    \"inference_runs\": [\n",
        "        \"i44ysfyk\", # 28\n",
        "    ],\n",
        "    \"no_aug\": False,\n",
        "}\n"
      ],
      "id": "daf057a9",
      "execution_count": 19,
      "outputs": []
    },
    {
      "cell_type": "code",
      "metadata": {
        "execution": {
          "iopub.execute_input": "2021-07-13T14:03:37.343742Z",
          "iopub.status.busy": "2021-07-13T14:03:37.342509Z",
          "iopub.status.idle": "2021-07-13T14:03:37.344858Z",
          "shell.execute_reply": "2021-07-13T14:03:37.345280Z",
          "shell.execute_reply.started": "2021-07-13T13:57:59.129581Z"
        },
        "id": "b5a710ed",
        "papermill": {
          "duration": 0.066068,
          "end_time": "2021-07-13T14:03:37.345408",
          "exception": false,
          "start_time": "2021-07-13T14:03:37.279340",
          "status": "completed"
        },
        "tags": []
      },
      "source": [
        "if config_defaults[\"scheduler\"] == \"CosineAnnealingWarmRestarts\":\n",
        "    config_defaults[\"T_0\"] = config_defaults[\"epochs\"]\n",
        "\n",
        "elif config_defaults[\"scheduler\"] == \"CosineAnnealingLR\":\n",
        "    config_defaults[\"T_max\"] = config_defaults[\"epochs\"]\n",
        "\n",
        "elif config_defaults[\"scheduler\"] == \"ReduceLROnPlateau\":\n",
        "    config_defaults[\"factor\"] = 0.2\n",
        "    config_defaults[\"patience\"] = 4\n",
        "    config_defaults[\"eps\"] = 1e-6\n"
      ],
      "id": "b5a710ed",
      "execution_count": 20,
      "outputs": []
    },
    {
      "cell_type": "code",
      "metadata": {
        "execution": {
          "iopub.execute_input": "2021-07-13T14:03:46.139991Z",
          "iopub.status.busy": "2021-07-13T14:03:46.139194Z",
          "iopub.status.idle": "2021-07-13T14:03:46.141310Z",
          "shell.execute_reply": "2021-07-13T14:03:46.141711Z",
          "shell.execute_reply.started": "2021-07-13T13:58:07.744210Z"
        },
        "id": "fd440361",
        "papermill": {
          "duration": 0.066312,
          "end_time": "2021-07-13T14:03:46.141832",
          "exception": false,
          "start_time": "2021-07-13T14:03:46.075520",
          "status": "completed"
        },
        "tags": []
      },
      "source": [
        "if Config.debug:\n",
        "    config_defaults[\"epochs\"] = 1"
      ],
      "id": "fd440361",
      "execution_count": 21,
      "outputs": []
    },
    {
      "cell_type": "code",
      "metadata": {
        "execution": {
          "iopub.execute_input": "2021-07-13T14:03:46.265056Z",
          "iopub.status.busy": "2021-07-13T14:03:46.264390Z",
          "iopub.status.idle": "2021-07-13T14:03:53.705061Z",
          "shell.execute_reply": "2021-07-13T14:03:53.704593Z",
          "shell.execute_reply.started": "2021-07-13T13:58:07.750675Z"
        },
        "id": "a6a78770",
        "papermill": {
          "duration": 7.504877,
          "end_time": "2021-07-13T14:03:53.705194",
          "exception": false,
          "start_time": "2021-07-13T14:03:46.200317",
          "status": "completed"
        },
        "tags": [],
        "colab": {
          "base_uri": "https://localhost:8080/",
          "height": 136
        },
        "outputId": "ac7674ee-d0b2-4ea4-e4d2-fa4093593ca5"
      },
      "source": [
        "if Config.debug:\n",
        "    wandb.init(project=Config.wandb_project, config=config_defaults, mode=\"disabled\")\n",
        "else:\n",
        "    wandb.init(project=Config.wandb_project, config=config_defaults, notes=wandb_notes, tags=wandb_tags, job_type=wandb_job_type, save_code=True)"
      ],
      "id": "a6a78770",
      "execution_count": 22,
      "outputs": [
        {
          "output_type": "stream",
          "text": [
            "\u001b[34m\u001b[1mwandb\u001b[0m: Currently logged in as: \u001b[33mimokuri\u001b[0m (use `wandb login --relogin` to force relogin)\n"
          ],
          "name": "stderr"
        },
        {
          "output_type": "display_data",
          "data": {
            "text/html": [
              "\n",
              "                Tracking run with wandb version 0.10.33<br/>\n",
              "                Syncing run <strong style=\"color:#cdcd00\">snowy-brook-30</strong> to <a href=\"https://wandb.ai\" target=\"_blank\">Weights & Biases</a> <a href=\"https://docs.wandb.com/integrations/jupyter.html\" target=\"_blank\">(Documentation)</a>.<br/>\n",
              "                Project page: <a href=\"https://wandb.ai/imokuri/atma11\" target=\"_blank\">https://wandb.ai/imokuri/atma11</a><br/>\n",
              "                Run page: <a href=\"https://wandb.ai/imokuri/atma11/runs/36e05nq7\" target=\"_blank\">https://wandb.ai/imokuri/atma11/runs/36e05nq7</a><br/>\n",
              "                Run data is saved locally in <code>/content/wandb/run-20210714_050142-36e05nq7</code><br/><br/>\n",
              "            "
            ],
            "text/plain": [
              "<IPython.core.display.HTML object>"
            ]
          },
          "metadata": {
            "tags": []
          }
        }
      ]
    },
    {
      "cell_type": "code",
      "metadata": {
        "execution": {
          "iopub.execute_input": "2021-07-13T14:03:53.828458Z",
          "iopub.status.busy": "2021-07-13T14:03:53.827616Z",
          "iopub.status.idle": "2021-07-13T14:03:53.829731Z",
          "shell.execute_reply": "2021-07-13T14:03:53.830154Z",
          "shell.execute_reply.started": "2021-07-13T13:58:08.499415Z"
        },
        "id": "2408ee43",
        "papermill": {
          "duration": 0.066332,
          "end_time": "2021-07-13T14:03:53.830286",
          "exception": false,
          "start_time": "2021-07-13T14:03:53.763954",
          "status": "completed"
        },
        "tags": []
      },
      "source": [
        "config = wandb.config"
      ],
      "id": "2408ee43",
      "execution_count": 23,
      "outputs": []
    },
    {
      "cell_type": "markdown",
      "metadata": {
        "id": "XeZesLBHnfl5"
      },
      "source": [
        "## Load Models"
      ],
      "id": "XeZesLBHnfl5"
    },
    {
      "cell_type": "code",
      "metadata": {
        "id": "wOdN4h2grTzx"
      },
      "source": [
        "if Config.validate or Config.inference:\n",
        "    api = wandb.Api()\n",
        "    inference_models = []\n",
        "\n",
        "    for n, run_id in enumerate(config.inference_runs):\n",
        "        if not os.path.exists(run_id):\n",
        "            os.makedirs(run_id)\n",
        "\n",
        "        run_path = f\"{Config.wandb_entity}/{Config.wandb_project}/{run_id}\"\n",
        "        run = api.run(run_path)\n",
        "\n",
        "        try:\n",
        "            for file in run.files():\n",
        "                file.download(run_id)\n",
        "        except wandb.CommError:\n",
        "            # Already downloaded.\n",
        "            pass\n",
        "\n",
        "        inference_model = {}\n",
        "        inference_model[\"run_id\"] = run_id\n",
        "        inference_model[\"model_name\"] = run.config[\"model_name\"]\n",
        "        \n",
        "        for fold in range(config.n_fold):\n",
        "            model_preds = torch.load(f\"{run_id}/{inference_model['model_name']}_fold{fold}_best.pth\")\n",
        "            inference_model[f\"state_fold{fold}\"] = model_preds[\"model\"]\n",
        "            inference_model[f\"preds_fold{fold}\"] = model_preds[\"preds\"]\n",
        "\n",
        "        oof = pd.read_csv(f\"{run_id}/oof_df.csv\")[[\"object_id\", \"preds\"]]\n",
        "        oof.columns = [\"object_id\", f\"preds{n}\"]\n",
        "        train = pd.merge(train, oof, on=\"object_id\", )\n",
        "\n",
        "        inference_models.append(inference_model)\n",
        "    \n",
        "    print(train.columns)\n",
        "    print({m['run_id']: m['model_name'] for m in inference_models})"
      ],
      "id": "wOdN4h2grTzx",
      "execution_count": 24,
      "outputs": []
    },
    {
      "cell_type": "code",
      "metadata": {
        "execution": {
          "iopub.execute_input": "2021-07-13T14:03:53.954538Z",
          "iopub.status.busy": "2021-07-13T14:03:53.953653Z",
          "iopub.status.idle": "2021-07-13T14:03:53.955750Z",
          "shell.execute_reply": "2021-07-13T14:03:53.956217Z",
          "shell.execute_reply.started": "2021-07-13T13:58:08.506718Z"
        },
        "id": "ba31d893",
        "papermill": {
          "duration": 0.067451,
          "end_time": "2021-07-13T14:03:53.956352",
          "exception": false,
          "start_time": "2021-07-13T14:03:53.888901",
          "status": "completed"
        },
        "tags": []
      },
      "source": [
        "if Config.debug:\n",
        "    train = train.sample(n=1000, random_state=config.seed).reset_index(drop=True)\n",
        "    test = test.sample(n=1000, random_state=config.seed).reset_index(drop=True)\n",
        "    sub = sub.sample(n=1000, random_state=config.seed).reset_index(drop=True)"
      ],
      "id": "ba31d893",
      "execution_count": 25,
      "outputs": []
    },
    {
      "cell_type": "markdown",
      "metadata": {
        "id": "7d423ea8",
        "papermill": {
          "duration": 0.059969,
          "end_time": "2021-07-13T14:03:54.367872",
          "exception": false,
          "start_time": "2021-07-13T14:03:54.307903",
          "status": "completed"
        },
        "tags": []
      },
      "source": [
        "## Utils"
      ],
      "id": "7d423ea8"
    },
    {
      "cell_type": "code",
      "metadata": {
        "execution": {
          "iopub.execute_input": "2021-07-13T14:03:54.496057Z",
          "iopub.status.busy": "2021-07-13T14:03:54.495404Z",
          "iopub.status.idle": "2021-07-13T14:03:54.501796Z",
          "shell.execute_reply": "2021-07-13T14:03:54.501330Z",
          "shell.execute_reply.started": "2021-07-13T13:58:08.588546Z"
        },
        "id": "5985d91d",
        "papermill": {
          "duration": 0.074529,
          "end_time": "2021-07-13T14:03:54.501913",
          "exception": false,
          "start_time": "2021-07-13T14:03:54.427384",
          "status": "completed"
        },
        "tags": []
      },
      "source": [
        "@contextmanager\n",
        "def timer(name):\n",
        "    t0 = time.time()\n",
        "    LOGGER.info(f\"[{name}] start\")\n",
        "    yield\n",
        "    LOGGER.info(f\"[{name}] done in {time.time() - t0:.0f} s.\")\n",
        "\n",
        "\n",
        "def init_logger(log_file=OUTPUT_DIR + \"train.log\"):\n",
        "    from logging import INFO, FileHandler, Formatter, StreamHandler, getLogger\n",
        "\n",
        "    logger = getLogger(__name__)\n",
        "    logger.setLevel(INFO)\n",
        "    handler1 = StreamHandler()\n",
        "    handler1.setFormatter(Formatter(\"%(message)s\"))\n",
        "    handler2 = FileHandler(filename=log_file)\n",
        "    handler2.setFormatter(Formatter(\"%(message)s\"))\n",
        "    logger.addHandler(handler1)\n",
        "    logger.addHandler(handler2)\n",
        "    return logger\n",
        "\n",
        "\n",
        "LOGGER = init_logger()\n",
        "\n",
        "\n",
        "def seed_torch(seed=42):\n",
        "    random.seed(seed)\n",
        "    os.environ[\"PYTHONHASHSEED\"] = str(seed)\n",
        "    np.random.seed(seed)\n",
        "    torch.manual_seed(seed)\n",
        "    torch.cuda.manual_seed(seed)\n",
        "    torch.backends.cudnn.deterministic = True\n",
        "\n",
        "\n",
        "seed_torch(seed=config.seed)\n"
      ],
      "id": "5985d91d",
      "execution_count": 26,
      "outputs": []
    },
    {
      "cell_type": "markdown",
      "metadata": {
        "id": "7d35d3bc",
        "papermill": {
          "duration": 0.05863,
          "end_time": "2021-07-13T14:03:54.619002",
          "exception": false,
          "start_time": "2021-07-13T14:03:54.560372",
          "status": "completed"
        },
        "tags": []
      },
      "source": [
        "## CV Split"
      ],
      "id": "7d35d3bc"
    },
    {
      "cell_type": "code",
      "metadata": {
        "execution": {
          "iopub.execute_input": "2021-07-13T14:03:54.744394Z",
          "iopub.status.busy": "2021-07-13T14:03:54.743540Z",
          "iopub.status.idle": "2021-07-13T14:03:56.617090Z",
          "shell.execute_reply": "2021-07-13T14:03:56.617940Z",
          "shell.execute_reply.started": "2021-07-13T13:58:08.605413Z"
        },
        "id": "7a604e6e",
        "papermill": {
          "duration": 1.940521,
          "end_time": "2021-07-13T14:03:56.618208",
          "exception": false,
          "start_time": "2021-07-13T14:03:54.677687",
          "status": "completed"
        },
        "tags": [],
        "colab": {
          "base_uri": "https://localhost:8080/"
        },
        "outputId": "552efed3-5366-4d64-b691-ebbe2e507ae3"
      },
      "source": [
        "folds = train.copy()\n",
        "Fold = StratifiedGroupKFold(n_splits=config.n_fold, shuffle=True, random_state=config.seed)\n",
        "for n, (train_index, val_index) in enumerate(Fold.split(folds, folds[\"target\"], folds[\"art_series_id\"])):\n",
        "    folds.loc[val_index, \"fold\"] = int(n)\n",
        "folds[\"fold\"] = folds[\"fold\"].astype(np.uint8)\n",
        "print(folds.groupby([\"fold\", \"target\"]).size())\n"
      ],
      "id": "7a604e6e",
      "execution_count": 27,
      "outputs": [
        {
          "output_type": "stream",
          "text": [
            "fold  target\n",
            "0     0          93\n",
            "      1         211\n",
            "      2         274\n",
            "      3         212\n",
            "1     0          89\n",
            "      1         196\n",
            "      2         301\n",
            "      3         202\n",
            "2     0          96\n",
            "      1         151\n",
            "      2         320\n",
            "      3         217\n",
            "3     0          96\n",
            "      1         176\n",
            "      2         296\n",
            "      3         215\n",
            "4     0         101\n",
            "      1         162\n",
            "      2         320\n",
            "      3         209\n",
            "dtype: int64\n"
          ],
          "name": "stdout"
        }
      ]
    },
    {
      "cell_type": "markdown",
      "metadata": {
        "id": "596efb85",
        "papermill": {
          "duration": 0.099201,
          "end_time": "2021-07-13T14:03:56.811611",
          "exception": false,
          "start_time": "2021-07-13T14:03:56.712410",
          "status": "completed"
        },
        "tags": []
      },
      "source": [
        "## Dataset"
      ],
      "id": "596efb85"
    },
    {
      "cell_type": "code",
      "metadata": {
        "execution": {
          "iopub.execute_input": "2021-07-13T14:03:57.003353Z",
          "iopub.status.busy": "2021-07-13T14:03:57.002444Z",
          "iopub.status.idle": "2021-07-13T14:03:57.004892Z",
          "shell.execute_reply": "2021-07-13T14:03:57.005664Z",
          "shell.execute_reply.started": "2021-07-13T13:58:09.040436Z"
        },
        "id": "c2721636",
        "papermill": {
          "duration": 0.104913,
          "end_time": "2021-07-13T14:03:57.005848",
          "exception": false,
          "start_time": "2021-07-13T14:03:56.900935",
          "status": "completed"
        },
        "tags": []
      },
      "source": [
        "class TrainDataset(Dataset):\n",
        "    def __init__(self, df, transform=None):\n",
        "        self.df = df\n",
        "        self.file_names = df[\"object_id\"].values\n",
        "        self.labels = df[\"sorting_date_target\"].values\n",
        "        self.transform = transform\n",
        "\n",
        "    def __len__(self):\n",
        "        return len(self.df)\n",
        "\n",
        "    def __getitem__(self, idx):\n",
        "        file_name = self.file_names[idx]\n",
        "        file_path = f\"{BASE_DIR}/{file_name}.jpg\"\n",
        "        image = cv2.imread(file_path)\n",
        "        image = cv2.cvtColor(image, cv2.COLOR_BGR2RGB)\n",
        "        if self.transform:\n",
        "            augmented = self.transform(image=image)\n",
        "            image = augmented[\"image\"]\n",
        "        label = torch.tensor(self.labels[idx]).float()\n",
        "        return image, label\n",
        "\n",
        "\n",
        "class TestDataset(Dataset):\n",
        "    def __init__(self, df, transform=None):\n",
        "        self.df = df\n",
        "        self.file_names = df[\"object_id\"].values\n",
        "        self.transform = transform\n",
        "\n",
        "    def __len__(self):\n",
        "        return len(self.df)\n",
        "\n",
        "    def __getitem__(self, idx):\n",
        "        file_name = self.file_names[idx]\n",
        "        file_path = f\"{BASE_DIR}/{file_name}.jpg\"\n",
        "        image = cv2.imread(file_path)\n",
        "        image = cv2.cvtColor(image, cv2.COLOR_BGR2RGB)\n",
        "        if self.transform:\n",
        "            augmented = self.transform(image=image)\n",
        "            image = augmented[\"image\"]\n",
        "        return image\n"
      ],
      "id": "c2721636",
      "execution_count": 28,
      "outputs": []
    },
    {
      "cell_type": "code",
      "metadata": {
        "execution": {
          "iopub.execute_input": "2021-07-13T14:03:57.151261Z",
          "iopub.status.busy": "2021-07-13T14:03:57.150077Z",
          "iopub.status.idle": "2021-07-13T14:03:57.368831Z",
          "shell.execute_reply": "2021-07-13T14:03:57.368422Z",
          "shell.execute_reply.started": "2021-07-13T13:58:09.053940Z"
        },
        "id": "e56a1c49",
        "papermill": {
          "duration": 0.295182,
          "end_time": "2021-07-13T14:03:57.368949",
          "exception": false,
          "start_time": "2021-07-13T14:03:57.073767",
          "status": "completed"
        },
        "tags": [],
        "colab": {
          "base_uri": "https://localhost:8080/",
          "height": 227
        },
        "outputId": "19942259-afcd-4bad-cd3e-78aed4b272ab"
      },
      "source": [
        "# Test\n",
        "\n",
        "train_ds = TrainDataset(train, transform=None)\n",
        "\n",
        "for i in range(1):\n",
        "    image, label = train_ds[i]\n",
        "    plt.imshow(image)\n",
        "    plt.title(f\"label: {label}\")\n",
        "    plt.show()\n"
      ],
      "id": "e56a1c49",
      "execution_count": 29,
      "outputs": [
        {
          "output_type": "display_data",
          "data": {
            "image/png": "[encoded data removed]",
            "text/plain": [
              "<Figure size 432x288 with 1 Axes>"
            ]
          },
          "metadata": {
            "tags": [],
            "needs_background": "light"
          }
        }
      ]
    },
    {
      "cell_type": "markdown",
      "metadata": {
        "id": "87073957",
        "papermill": {
          "duration": 0.066676,
          "end_time": "2021-07-13T14:03:57.497449",
          "exception": false,
          "start_time": "2021-07-13T14:03:57.430773",
          "status": "completed"
        },
        "tags": []
      },
      "source": [
        "## Transform"
      ],
      "id": "87073957"
    },
    {
      "cell_type": "code",
      "metadata": {
        "execution": {
          "iopub.execute_input": "2021-07-13T14:03:57.780622Z",
          "iopub.status.busy": "2021-07-13T14:03:57.779642Z",
          "iopub.status.idle": "2021-07-13T14:03:57.787509Z",
          "shell.execute_reply": "2021-07-13T14:03:57.788620Z",
          "shell.execute_reply.started": "2021-07-13T13:58:09.261547Z"
        },
        "id": "36ad5139",
        "papermill": {
          "duration": 0.211988,
          "end_time": "2021-07-13T14:03:57.788846",
          "exception": false,
          "start_time": "2021-07-13T14:03:57.576858",
          "status": "completed"
        },
        "tags": []
      },
      "source": [
        "def get_transforms(*, data):\n",
        "\n",
        "    if data == \"train\":\n",
        "        return A.Compose(\n",
        "            [\n",
        "                # A.Resize(config.size, config.size),\n",
        "                A.RandomResizedCrop(config.size, config.size, scale=(0.5, 1.0)),\n",
        "                A.Transpose(p=0.5),\n",
        "                A.HorizontalFlip(p=0.5),\n",
        "                A.VerticalFlip(p=0.5),\n",
        "                A.ShiftScaleRotate(p=0.5),\n",
        "                A.HueSaturationValue(hue_shift_limit=0.2, sat_shift_limit=0.2, val_shift_limit=0.2, p=0.5),\n",
        "                A.RandomBrightnessContrast(brightness_limit=(-0.1, 0.1), contrast_limit=(-0.1, 0.1), p=0.5),\n",
        "                A.CoarseDropout(p=0.5),\n",
        "                A.Cutout(p=0.5),\n",
        "                A.Normalize(\n",
        "                    mean=[0.485, 0.456, 0.406],\n",
        "                    std=[0.229, 0.224, 0.225],\n",
        "                ),\n",
        "                ToTensorV2(),\n",
        "            ]\n",
        "        )\n",
        "\n",
        "    elif data == \"weak_train\":\n",
        "        return A.Compose(\n",
        "            [\n",
        "                # A.Resize(config.size, config.size),\n",
        "                A.RandomResizedCrop(config.size, config.size, scale=(0.5, 1.0)),\n",
        "                A.Transpose(p=0.5),\n",
        "                A.HorizontalFlip(p=0.5),\n",
        "                A.VerticalFlip(p=0.5),\n",
        "                A.ShiftScaleRotate(p=0.5),\n",
        "                # A.HueSaturationValue(hue_shift_limit=0.2, sat_shift_limit=0.2, val_shift_limit=0.2, p=0.5),\n",
        "                # A.RandomBrightnessContrast(brightness_limit=(-0.1, 0.1), contrast_limit=(-0.1, 0.1), p=0.5),\n",
        "                # A.CoarseDropout(p=0.5),\n",
        "                # A.Cutout(p=0.5),\n",
        "                A.Normalize(\n",
        "                    mean=[0.485, 0.456, 0.406],\n",
        "                    std=[0.229, 0.224, 0.225],\n",
        "                ),\n",
        "                ToTensorV2(),\n",
        "            ]\n",
        "        )\n",
        "\n",
        "    elif data == \"valid\":\n",
        "        return A.Compose(\n",
        "            [\n",
        "                A.Resize(config.size, config.size),\n",
        "                # A.CenterCrop(config.size, config.size),\n",
        "                A.Normalize(\n",
        "                    mean=[0.485, 0.456, 0.406],\n",
        "                    std=[0.229, 0.224, 0.225],\n",
        "                ),\n",
        "                ToTensorV2(),\n",
        "            ]\n",
        "        )\n"
      ],
      "id": "36ad5139",
      "execution_count": 30,
      "outputs": []
    },
    {
      "cell_type": "code",
      "metadata": {
        "execution": {
          "iopub.execute_input": "2021-07-13T14:03:58.008355Z",
          "iopub.status.busy": "2021-07-13T14:03:58.007386Z",
          "iopub.status.idle": "2021-07-13T14:03:58.213924Z",
          "shell.execute_reply": "2021-07-13T14:03:58.214877Z",
          "shell.execute_reply.started": "2021-07-13T13:58:09.276511Z"
        },
        "id": "413218d8",
        "papermill": {
          "duration": 0.291354,
          "end_time": "2021-07-13T14:03:58.215212",
          "exception": false,
          "start_time": "2021-07-13T14:03:57.923858",
          "status": "completed"
        },
        "tags": [],
        "colab": {
          "base_uri": "https://localhost:8080/",
          "height": 281
        },
        "outputId": "bba24bba-ae80-4e49-dbfd-9234bba70a13"
      },
      "source": [
        "# Test\n",
        "\n",
        "train_ds = TrainDataset(train, transform=get_transforms(data=\"train\"))\n",
        "\n",
        "for i in range(1):\n",
        "    image, label = train_ds[i]\n",
        "    plt.imshow(image[0])\n",
        "    plt.title(f\"label: {label}\")\n",
        "    plt.show()\n"
      ],
      "id": "413218d8",
      "execution_count": 31,
      "outputs": [
        {
          "output_type": "display_data",
          "data": {
            "image/png": "[encoded data removed]",
            "text/plain": [
              "<Figure size 432x288 with 1 Axes>"
            ]
          },
          "metadata": {
            "tags": [],
            "needs_background": "light"
          }
        }
      ]
    },
    {
      "cell_type": "markdown",
      "metadata": {
        "id": "d681dabf",
        "papermill": {
          "duration": 0.109972,
          "end_time": "2021-07-13T14:03:58.466162",
          "exception": false,
          "start_time": "2021-07-13T14:03:58.356190",
          "status": "completed"
        },
        "tags": []
      },
      "source": [
        "## Model"
      ],
      "id": "d681dabf"
    },
    {
      "cell_type": "code",
      "metadata": {
        "execution": {
          "iopub.execute_input": "2021-07-13T14:03:58.688372Z",
          "iopub.status.busy": "2021-07-13T14:03:58.684733Z",
          "iopub.status.idle": "2021-07-13T14:03:58.692806Z",
          "shell.execute_reply": "2021-07-13T14:03:58.693706Z",
          "shell.execute_reply.started": "2021-07-13T13:58:09.452311Z"
        },
        "id": "229d18e7",
        "papermill": {
          "duration": 0.124177,
          "end_time": "2021-07-13T14:03:58.693902",
          "exception": false,
          "start_time": "2021-07-13T14:03:58.569725",
          "status": "completed"
        },
        "tags": []
      },
      "source": [
        "class Atma11Net(nn.Module):\n",
        "    def __init__(self, model_name=\"resnext50_32x4d\", pretrained=False):\n",
        "        super().__init__()\n",
        "        self.model_name = model_name\n",
        "        self.model = timm.create_model(model_name, pretrained=pretrained)\n",
        "\n",
        "        if \"res\" in model_name:\n",
        "            n_features = self.model.fc.in_features\n",
        "            self.model.fc = nn.Linear(n_features, config.n_class)\n",
        "\n",
        "        elif \"efficientnet\" in model_name:\n",
        "            n_features = self.model.classifier.in_features\n",
        "            self.model.classifier = nn.Linear(n_features, config.n_class)\n",
        "\n",
        "        elif model_name.startswith(\"vit_\"):\n",
        "            n_features = self.model.head.in_features\n",
        "            self.model.head = nn.Linear(n_features, config.n_class)\n",
        "            \n",
        "        elif \"nfnet\" in model_name:\n",
        "            n_features = self.model.head.fc.in_features\n",
        "            self.model.head.fc = nn.Linear(n_features, config.n_class)\n",
        "\n",
        "    def forward(self, x):\n",
        "        x = self.model(x).view(x.size(0))\n",
        "        return x\n"
      ],
      "id": "229d18e7",
      "execution_count": 32,
      "outputs": []
    },
    {
      "cell_type": "code",
      "metadata": {
        "execution": {
          "iopub.execute_input": "2021-07-13T14:03:58.850940Z",
          "iopub.status.busy": "2021-07-13T14:03:58.850156Z",
          "iopub.status.idle": "2021-07-13T14:04:06.237751Z",
          "shell.execute_reply": "2021-07-13T14:04:06.237304Z",
          "shell.execute_reply.started": "2021-07-13T13:58:09.464065Z"
        },
        "id": "0a3978b1",
        "papermill": {
          "duration": 7.462234,
          "end_time": "2021-07-13T14:04:06.237867",
          "exception": false,
          "start_time": "2021-07-13T14:03:58.775633",
          "status": "completed"
        },
        "tags": [],
        "colab": {
          "base_uri": "https://localhost:8080/"
        },
        "outputId": "59bb1345-9dc7-4d9f-8eaa-210a3b8c582a"
      },
      "source": [
        "# Test\n",
        "\n",
        "model = Atma11Net(model_name=config.model_name, pretrained=False)\n",
        "print(model)\n",
        "\n",
        "train_dataset = TrainDataset(train, transform=get_transforms(data=\"train\"))\n",
        "train_loader = DataLoader(train_dataset, batch_size=4, shuffle=True, num_workers=4, pin_memory=True, drop_last=True)\n",
        "\n",
        "for image, label in train_loader:\n",
        "    output = model(image)\n",
        "    print(output)\n",
        "    break\n"
      ],
      "id": "0a3978b1",
      "execution_count": 33,
      "outputs": [
        {
          "output_type": "stream",
          "text": [
            "Atma11Net(\n",
            "  (model): EfficientNet(\n",
            "    (conv_stem): Conv2d(3, 32, kernel_size=(3, 3), stride=(2, 2), padding=(1, 1), bias=False)\n",
            "    (bn1): BatchNorm2d(32, eps=1e-05, momentum=0.1, affine=True, track_running_stats=True)\n",
            "    (act1): SiLU(inplace=True)\n",
            "    (blocks): Sequential(\n",
            "      (0): Sequential(\n",
            "        (0): DepthwiseSeparableConv(\n",
            "          (conv_dw): Conv2d(32, 32, kernel_size=(3, 3), stride=(1, 1), padding=(1, 1), groups=32, bias=False)\n",
            "          (bn1): BatchNorm2d(32, eps=1e-05, momentum=0.1, affine=True, track_running_stats=True)\n",
            "          (act1): SiLU(inplace=True)\n",
            "          (se): SqueezeExcite(\n",
            "            (conv_reduce): Conv2d(32, 8, kernel_size=(1, 1), stride=(1, 1))\n",
            "            (act1): SiLU(inplace=True)\n",
            "            (conv_expand): Conv2d(8, 32, kernel_size=(1, 1), stride=(1, 1))\n",
            "            (gate): Sigmoid()\n",
            "          )\n",
            "          (conv_pw): Conv2d(32, 16, kernel_size=(1, 1), stride=(1, 1), bias=False)\n",
            "          (bn2): BatchNorm2d(16, eps=1e-05, momentum=0.1, affine=True, track_running_stats=True)\n",
            "          (act2): Identity()\n",
            "        )\n",
            "        (1): DepthwiseSeparableConv(\n",
            "          (conv_dw): Conv2d(16, 16, kernel_size=(3, 3), stride=(1, 1), padding=(1, 1), groups=16, bias=False)\n",
            "          (bn1): BatchNorm2d(16, eps=1e-05, momentum=0.1, affine=True, track_running_stats=True)\n",
            "          (act1): SiLU(inplace=True)\n",
            "          (se): SqueezeExcite(\n",
            "            (conv_reduce): Conv2d(16, 4, kernel_size=(1, 1), stride=(1, 1))\n",
            "            (act1): SiLU(inplace=True)\n",
            "            (conv_expand): Conv2d(4, 16, kernel_size=(1, 1), stride=(1, 1))\n",
            "            (gate): Sigmoid()\n",
            "          )\n",
            "          (conv_pw): Conv2d(16, 16, kernel_size=(1, 1), stride=(1, 1), bias=False)\n",
            "          (bn2): BatchNorm2d(16, eps=1e-05, momentum=0.1, affine=True, track_running_stats=True)\n",
            "          (act2): Identity()\n",
            "        )\n",
            "      )\n",
            "      (1): Sequential(\n",
            "        (0): InvertedResidual(\n",
            "          (conv_pw): Conv2d(16, 96, kernel_size=(1, 1), stride=(1, 1), bias=False)\n",
            "          (bn1): BatchNorm2d(96, eps=1e-05, momentum=0.1, affine=True, track_running_stats=True)\n",
            "          (act1): SiLU(inplace=True)\n",
            "          (conv_dw): Conv2d(96, 96, kernel_size=(3, 3), stride=(2, 2), padding=(1, 1), groups=96, bias=False)\n",
            "          (bn2): BatchNorm2d(96, eps=1e-05, momentum=0.1, affine=True, track_running_stats=True)\n",
            "          (act2): SiLU(inplace=True)\n",
            "          (se): SqueezeExcite(\n",
            "            (conv_reduce): Conv2d(96, 4, kernel_size=(1, 1), stride=(1, 1))\n",
            "            (act1): SiLU(inplace=True)\n",
            "            (conv_expand): Conv2d(4, 96, kernel_size=(1, 1), stride=(1, 1))\n",
            "            (gate): Sigmoid()\n",
            "          )\n",
            "          (conv_pwl): Conv2d(96, 24, kernel_size=(1, 1), stride=(1, 1), bias=False)\n",
            "          (bn3): BatchNorm2d(24, eps=1e-05, momentum=0.1, affine=True, track_running_stats=True)\n",
            "        )\n",
            "        (1): InvertedResidual(\n",
            "          (conv_pw): Conv2d(24, 144, kernel_size=(1, 1), stride=(1, 1), bias=False)\n",
            "          (bn1): BatchNorm2d(144, eps=1e-05, momentum=0.1, affine=True, track_running_stats=True)\n",
            "          (act1): SiLU(inplace=True)\n",
            "          (conv_dw): Conv2d(144, 144, kernel_size=(3, 3), stride=(1, 1), padding=(1, 1), groups=144, bias=False)\n",
            "          (bn2): BatchNorm2d(144, eps=1e-05, momentum=0.1, affine=True, track_running_stats=True)\n",
            "          (act2): SiLU(inplace=True)\n",
            "          (se): SqueezeExcite(\n",
            "            (conv_reduce): Conv2d(144, 6, kernel_size=(1, 1), stride=(1, 1))\n",
            "            (act1): SiLU(inplace=True)\n",
            "            (conv_expand): Conv2d(6, 144, kernel_size=(1, 1), stride=(1, 1))\n",
            "            (gate): Sigmoid()\n",
            "          )\n",
            "          (conv_pwl): Conv2d(144, 24, kernel_size=(1, 1), stride=(1, 1), bias=False)\n",
            "          (bn3): BatchNorm2d(24, eps=1e-05, momentum=0.1, affine=True, track_running_stats=True)\n",
            "        )\n",
            "        (2): InvertedResidual(\n",
            "          (conv_pw): Conv2d(24, 144, kernel_size=(1, 1), stride=(1, 1), bias=False)\n",
            "          (bn1): BatchNorm2d(144, eps=1e-05, momentum=0.1, affine=True, track_running_stats=True)\n",
            "          (act1): SiLU(inplace=True)\n",
            "          (conv_dw): Conv2d(144, 144, kernel_size=(3, 3), stride=(1, 1), padding=(1, 1), groups=144, bias=False)\n",
            "          (bn2): BatchNorm2d(144, eps=1e-05, momentum=0.1, affine=True, track_running_stats=True)\n",
            "          (act2): SiLU(inplace=True)\n",
            "          (se): SqueezeExcite(\n",
            "            (conv_reduce): Conv2d(144, 6, kernel_size=(1, 1), stride=(1, 1))\n",
            "            (act1): SiLU(inplace=True)\n",
            "            (conv_expand): Conv2d(6, 144, kernel_size=(1, 1), stride=(1, 1))\n",
            "            (gate): Sigmoid()\n",
            "          )\n",
            "          (conv_pwl): Conv2d(144, 24, kernel_size=(1, 1), stride=(1, 1), bias=False)\n",
            "          (bn3): BatchNorm2d(24, eps=1e-05, momentum=0.1, affine=True, track_running_stats=True)\n",
            "        )\n",
            "      )\n",
            "      (2): Sequential(\n",
            "        (0): InvertedResidual(\n",
            "          (conv_pw): Conv2d(24, 144, kernel_size=(1, 1), stride=(1, 1), bias=False)\n",
            "          (bn1): BatchNorm2d(144, eps=1e-05, momentum=0.1, affine=True, track_running_stats=True)\n",
            "          (act1): SiLU(inplace=True)\n",
            "          (conv_dw): Conv2d(144, 144, kernel_size=(5, 5), stride=(2, 2), padding=(2, 2), groups=144, bias=False)\n",
            "          (bn2): BatchNorm2d(144, eps=1e-05, momentum=0.1, affine=True, track_running_stats=True)\n",
            "          (act2): SiLU(inplace=True)\n",
            "          (se): SqueezeExcite(\n",
            "            (conv_reduce): Conv2d(144, 6, kernel_size=(1, 1), stride=(1, 1))\n",
            "            (act1): SiLU(inplace=True)\n",
            "            (conv_expand): Conv2d(6, 144, kernel_size=(1, 1), stride=(1, 1))\n",
            "            (gate): Sigmoid()\n",
            "          )\n",
            "          (conv_pwl): Conv2d(144, 40, kernel_size=(1, 1), stride=(1, 1), bias=False)\n",
            "          (bn3): BatchNorm2d(40, eps=1e-05, momentum=0.1, affine=True, track_running_stats=True)\n",
            "        )\n",
            "        (1): InvertedResidual(\n",
            "          (conv_pw): Conv2d(40, 240, kernel_size=(1, 1), stride=(1, 1), bias=False)\n",
            "          (bn1): BatchNorm2d(240, eps=1e-05, momentum=0.1, affine=True, track_running_stats=True)\n",
            "          (act1): SiLU(inplace=True)\n",
            "          (conv_dw): Conv2d(240, 240, kernel_size=(5, 5), stride=(1, 1), padding=(2, 2), groups=240, bias=False)\n",
            "          (bn2): BatchNorm2d(240, eps=1e-05, momentum=0.1, affine=True, track_running_stats=True)\n",
            "          (act2): SiLU(inplace=True)\n",
            "          (se): SqueezeExcite(\n",
            "            (conv_reduce): Conv2d(240, 10, kernel_size=(1, 1), stride=(1, 1))\n",
            "            (act1): SiLU(inplace=True)\n",
            "            (conv_expand): Conv2d(10, 240, kernel_size=(1, 1), stride=(1, 1))\n",
            "            (gate): Sigmoid()\n",
            "          )\n",
            "          (conv_pwl): Conv2d(240, 40, kernel_size=(1, 1), stride=(1, 1), bias=False)\n",
            "          (bn3): BatchNorm2d(40, eps=1e-05, momentum=0.1, affine=True, track_running_stats=True)\n",
            "        )\n",
            "        (2): InvertedResidual(\n",
            "          (conv_pw): Conv2d(40, 240, kernel_size=(1, 1), stride=(1, 1), bias=False)\n",
            "          (bn1): BatchNorm2d(240, eps=1e-05, momentum=0.1, affine=True, track_running_stats=True)\n",
            "          (act1): SiLU(inplace=True)\n",
            "          (conv_dw): Conv2d(240, 240, kernel_size=(5, 5), stride=(1, 1), padding=(2, 2), groups=240, bias=False)\n",
            "          (bn2): BatchNorm2d(240, eps=1e-05, momentum=0.1, affine=True, track_running_stats=True)\n",
            "          (act2): SiLU(inplace=True)\n",
            "          (se): SqueezeExcite(\n",
            "            (conv_reduce): Conv2d(240, 10, kernel_size=(1, 1), stride=(1, 1))\n",
            "            (act1): SiLU(inplace=True)\n",
            "            (conv_expand): Conv2d(10, 240, kernel_size=(1, 1), stride=(1, 1))\n",
            "            (gate): Sigmoid()\n",
            "          )\n",
            "          (conv_pwl): Conv2d(240, 40, kernel_size=(1, 1), stride=(1, 1), bias=False)\n",
            "          (bn3): BatchNorm2d(40, eps=1e-05, momentum=0.1, affine=True, track_running_stats=True)\n",
            "        )\n",
            "      )\n",
            "      (3): Sequential(\n",
            "        (0): InvertedResidual(\n",
            "          (conv_pw): Conv2d(40, 240, kernel_size=(1, 1), stride=(1, 1), bias=False)\n",
            "          (bn1): BatchNorm2d(240, eps=1e-05, momentum=0.1, affine=True, track_running_stats=True)\n",
            "          (act1): SiLU(inplace=True)\n",
            "          (conv_dw): Conv2d(240, 240, kernel_size=(3, 3), stride=(2, 2), padding=(1, 1), groups=240, bias=False)\n",
            "          (bn2): BatchNorm2d(240, eps=1e-05, momentum=0.1, affine=True, track_running_stats=True)\n",
            "          (act2): SiLU(inplace=True)\n",
            "          (se): SqueezeExcite(\n",
            "            (conv_reduce): Conv2d(240, 10, kernel_size=(1, 1), stride=(1, 1))\n",
            "            (act1): SiLU(inplace=True)\n",
            "            (conv_expand): Conv2d(10, 240, kernel_size=(1, 1), stride=(1, 1))\n",
            "            (gate): Sigmoid()\n",
            "          )\n",
            "          (conv_pwl): Conv2d(240, 80, kernel_size=(1, 1), stride=(1, 1), bias=False)\n",
            "          (bn3): BatchNorm2d(80, eps=1e-05, momentum=0.1, affine=True, track_running_stats=True)\n",
            "        )\n",
            "        (1): InvertedResidual(\n",
            "          (conv_pw): Conv2d(80, 480, kernel_size=(1, 1), stride=(1, 1), bias=False)\n",
            "          (bn1): BatchNorm2d(480, eps=1e-05, momentum=0.1, affine=True, track_running_stats=True)\n",
            "          (act1): SiLU(inplace=True)\n",
            "          (conv_dw): Conv2d(480, 480, kernel_size=(3, 3), stride=(1, 1), padding=(1, 1), groups=480, bias=False)\n",
            "          (bn2): BatchNorm2d(480, eps=1e-05, momentum=0.1, affine=True, track_running_stats=True)\n",
            "          (act2): SiLU(inplace=True)\n",
            "          (se): SqueezeExcite(\n",
            "            (conv_reduce): Conv2d(480, 20, kernel_size=(1, 1), stride=(1, 1))\n",
            "            (act1): SiLU(inplace=True)\n",
            "            (conv_expand): Conv2d(20, 480, kernel_size=(1, 1), stride=(1, 1))\n",
            "            (gate): Sigmoid()\n",
            "          )\n",
            "          (conv_pwl): Conv2d(480, 80, kernel_size=(1, 1), stride=(1, 1), bias=False)\n",
            "          (bn3): BatchNorm2d(80, eps=1e-05, momentum=0.1, affine=True, track_running_stats=True)\n",
            "        )\n",
            "        (2): InvertedResidual(\n",
            "          (conv_pw): Conv2d(80, 480, kernel_size=(1, 1), stride=(1, 1), bias=False)\n",
            "          (bn1): BatchNorm2d(480, eps=1e-05, momentum=0.1, affine=True, track_running_stats=True)\n",
            "          (act1): SiLU(inplace=True)\n",
            "          (conv_dw): Conv2d(480, 480, kernel_size=(3, 3), stride=(1, 1), padding=(1, 1), groups=480, bias=False)\n",
            "          (bn2): BatchNorm2d(480, eps=1e-05, momentum=0.1, affine=True, track_running_stats=True)\n",
            "          (act2): SiLU(inplace=True)\n",
            "          (se): SqueezeExcite(\n",
            "            (conv_reduce): Conv2d(480, 20, kernel_size=(1, 1), stride=(1, 1))\n",
            "            (act1): SiLU(inplace=True)\n",
            "            (conv_expand): Conv2d(20, 480, kernel_size=(1, 1), stride=(1, 1))\n",
            "            (gate): Sigmoid()\n",
            "          )\n",
            "          (conv_pwl): Conv2d(480, 80, kernel_size=(1, 1), stride=(1, 1), bias=False)\n",
            "          (bn3): BatchNorm2d(80, eps=1e-05, momentum=0.1, affine=True, track_running_stats=True)\n",
            "        )\n",
            "        (3): InvertedResidual(\n",
            "          (conv_pw): Conv2d(80, 480, kernel_size=(1, 1), stride=(1, 1), bias=False)\n",
            "          (bn1): BatchNorm2d(480, eps=1e-05, momentum=0.1, affine=True, track_running_stats=True)\n",
            "          (act1): SiLU(inplace=True)\n",
            "          (conv_dw): Conv2d(480, 480, kernel_size=(3, 3), stride=(1, 1), padding=(1, 1), groups=480, bias=False)\n",
            "          (bn2): BatchNorm2d(480, eps=1e-05, momentum=0.1, affine=True, track_running_stats=True)\n",
            "          (act2): SiLU(inplace=True)\n",
            "          (se): SqueezeExcite(\n",
            "            (conv_reduce): Conv2d(480, 20, kernel_size=(1, 1), stride=(1, 1))\n",
            "            (act1): SiLU(inplace=True)\n",
            "            (conv_expand): Conv2d(20, 480, kernel_size=(1, 1), stride=(1, 1))\n",
            "            (gate): Sigmoid()\n",
            "          )\n",
            "          (conv_pwl): Conv2d(480, 80, kernel_size=(1, 1), stride=(1, 1), bias=False)\n",
            "          (bn3): BatchNorm2d(80, eps=1e-05, momentum=0.1, affine=True, track_running_stats=True)\n",
            "        )\n",
            "      )\n",
            "      (4): Sequential(\n",
            "        (0): InvertedResidual(\n",
            "          (conv_pw): Conv2d(80, 480, kernel_size=(1, 1), stride=(1, 1), bias=False)\n",
            "          (bn1): BatchNorm2d(480, eps=1e-05, momentum=0.1, affine=True, track_running_stats=True)\n",
            "          (act1): SiLU(inplace=True)\n",
            "          (conv_dw): Conv2d(480, 480, kernel_size=(5, 5), stride=(1, 1), padding=(2, 2), groups=480, bias=False)\n",
            "          (bn2): BatchNorm2d(480, eps=1e-05, momentum=0.1, affine=True, track_running_stats=True)\n",
            "          (act2): SiLU(inplace=True)\n",
            "          (se): SqueezeExcite(\n",
            "            (conv_reduce): Conv2d(480, 20, kernel_size=(1, 1), stride=(1, 1))\n",
            "            (act1): SiLU(inplace=True)\n",
            "            (conv_expand): Conv2d(20, 480, kernel_size=(1, 1), stride=(1, 1))\n",
            "            (gate): Sigmoid()\n",
            "          )\n",
            "          (conv_pwl): Conv2d(480, 112, kernel_size=(1, 1), stride=(1, 1), bias=False)\n",
            "          (bn3): BatchNorm2d(112, eps=1e-05, momentum=0.1, affine=True, track_running_stats=True)\n",
            "        )\n",
            "        (1): InvertedResidual(\n",
            "          (conv_pw): Conv2d(112, 672, kernel_size=(1, 1), stride=(1, 1), bias=False)\n",
            "          (bn1): BatchNorm2d(672, eps=1e-05, momentum=0.1, affine=True, track_running_stats=True)\n",
            "          (act1): SiLU(inplace=True)\n",
            "          (conv_dw): Conv2d(672, 672, kernel_size=(5, 5), stride=(1, 1), padding=(2, 2), groups=672, bias=False)\n",
            "          (bn2): BatchNorm2d(672, eps=1e-05, momentum=0.1, affine=True, track_running_stats=True)\n",
            "          (act2): SiLU(inplace=True)\n",
            "          (se): SqueezeExcite(\n",
            "            (conv_reduce): Conv2d(672, 28, kernel_size=(1, 1), stride=(1, 1))\n",
            "            (act1): SiLU(inplace=True)\n",
            "            (conv_expand): Conv2d(28, 672, kernel_size=(1, 1), stride=(1, 1))\n",
            "            (gate): Sigmoid()\n",
            "          )\n",
            "          (conv_pwl): Conv2d(672, 112, kernel_size=(1, 1), stride=(1, 1), bias=False)\n",
            "          (bn3): BatchNorm2d(112, eps=1e-05, momentum=0.1, affine=True, track_running_stats=True)\n",
            "        )\n",
            "        (2): InvertedResidual(\n",
            "          (conv_pw): Conv2d(112, 672, kernel_size=(1, 1), stride=(1, 1), bias=False)\n",
            "          (bn1): BatchNorm2d(672, eps=1e-05, momentum=0.1, affine=True, track_running_stats=True)\n",
            "          (act1): SiLU(inplace=True)\n",
            "          (conv_dw): Conv2d(672, 672, kernel_size=(5, 5), stride=(1, 1), padding=(2, 2), groups=672, bias=False)\n",
            "          (bn2): BatchNorm2d(672, eps=1e-05, momentum=0.1, affine=True, track_running_stats=True)\n",
            "          (act2): SiLU(inplace=True)\n",
            "          (se): SqueezeExcite(\n",
            "            (conv_reduce): Conv2d(672, 28, kernel_size=(1, 1), stride=(1, 1))\n",
            "            (act1): SiLU(inplace=True)\n",
            "            (conv_expand): Conv2d(28, 672, kernel_size=(1, 1), stride=(1, 1))\n",
            "            (gate): Sigmoid()\n",
            "          )\n",
            "          (conv_pwl): Conv2d(672, 112, kernel_size=(1, 1), stride=(1, 1), bias=False)\n",
            "          (bn3): BatchNorm2d(112, eps=1e-05, momentum=0.1, affine=True, track_running_stats=True)\n",
            "        )\n",
            "        (3): InvertedResidual(\n",
            "          (conv_pw): Conv2d(112, 672, kernel_size=(1, 1), stride=(1, 1), bias=False)\n",
            "          (bn1): BatchNorm2d(672, eps=1e-05, momentum=0.1, affine=True, track_running_stats=True)\n",
            "          (act1): SiLU(inplace=True)\n",
            "          (conv_dw): Conv2d(672, 672, kernel_size=(5, 5), stride=(1, 1), padding=(2, 2), groups=672, bias=False)\n",
            "          (bn2): BatchNorm2d(672, eps=1e-05, momentum=0.1, affine=True, track_running_stats=True)\n",
            "          (act2): SiLU(inplace=True)\n",
            "          (se): SqueezeExcite(\n",
            "            (conv_reduce): Conv2d(672, 28, kernel_size=(1, 1), stride=(1, 1))\n",
            "            (act1): SiLU(inplace=True)\n",
            "            (conv_expand): Conv2d(28, 672, kernel_size=(1, 1), stride=(1, 1))\n",
            "            (gate): Sigmoid()\n",
            "          )\n",
            "          (conv_pwl): Conv2d(672, 112, kernel_size=(1, 1), stride=(1, 1), bias=False)\n",
            "          (bn3): BatchNorm2d(112, eps=1e-05, momentum=0.1, affine=True, track_running_stats=True)\n",
            "        )\n",
            "      )\n",
            "      (5): Sequential(\n",
            "        (0): InvertedResidual(\n",
            "          (conv_pw): Conv2d(112, 672, kernel_size=(1, 1), stride=(1, 1), bias=False)\n",
            "          (bn1): BatchNorm2d(672, eps=1e-05, momentum=0.1, affine=True, track_running_stats=True)\n",
            "          (act1): SiLU(inplace=True)\n",
            "          (conv_dw): Conv2d(672, 672, kernel_size=(5, 5), stride=(2, 2), padding=(2, 2), groups=672, bias=False)\n",
            "          (bn2): BatchNorm2d(672, eps=1e-05, momentum=0.1, affine=True, track_running_stats=True)\n",
            "          (act2): SiLU(inplace=True)\n",
            "          (se): SqueezeExcite(\n",
            "            (conv_reduce): Conv2d(672, 28, kernel_size=(1, 1), stride=(1, 1))\n",
            "            (act1): SiLU(inplace=True)\n",
            "            (conv_expand): Conv2d(28, 672, kernel_size=(1, 1), stride=(1, 1))\n",
            "            (gate): Sigmoid()\n",
            "          )\n",
            "          (conv_pwl): Conv2d(672, 192, kernel_size=(1, 1), stride=(1, 1), bias=False)\n",
            "          (bn3): BatchNorm2d(192, eps=1e-05, momentum=0.1, affine=True, track_running_stats=True)\n",
            "        )\n",
            "        (1): InvertedResidual(\n",
            "          (conv_pw): Conv2d(192, 1152, kernel_size=(1, 1), stride=(1, 1), bias=False)\n",
            "          (bn1): BatchNorm2d(1152, eps=1e-05, momentum=0.1, affine=True, track_running_stats=True)\n",
            "          (act1): SiLU(inplace=True)\n",
            "          (conv_dw): Conv2d(1152, 1152, kernel_size=(5, 5), stride=(1, 1), padding=(2, 2), groups=1152, bias=False)\n",
            "          (bn2): BatchNorm2d(1152, eps=1e-05, momentum=0.1, affine=True, track_running_stats=True)\n",
            "          (act2): SiLU(inplace=True)\n",
            "          (se): SqueezeExcite(\n",
            "            (conv_reduce): Conv2d(1152, 48, kernel_size=(1, 1), stride=(1, 1))\n",
            "            (act1): SiLU(inplace=True)\n",
            "            (conv_expand): Conv2d(48, 1152, kernel_size=(1, 1), stride=(1, 1))\n",
            "            (gate): Sigmoid()\n",
            "          )\n",
            "          (conv_pwl): Conv2d(1152, 192, kernel_size=(1, 1), stride=(1, 1), bias=False)\n",
            "          (bn3): BatchNorm2d(192, eps=1e-05, momentum=0.1, affine=True, track_running_stats=True)\n",
            "        )\n",
            "        (2): InvertedResidual(\n",
            "          (conv_pw): Conv2d(192, 1152, kernel_size=(1, 1), stride=(1, 1), bias=False)\n",
            "          (bn1): BatchNorm2d(1152, eps=1e-05, momentum=0.1, affine=True, track_running_stats=True)\n",
            "          (act1): SiLU(inplace=True)\n",
            "          (conv_dw): Conv2d(1152, 1152, kernel_size=(5, 5), stride=(1, 1), padding=(2, 2), groups=1152, bias=False)\n",
            "          (bn2): BatchNorm2d(1152, eps=1e-05, momentum=0.1, affine=True, track_running_stats=True)\n",
            "          (act2): SiLU(inplace=True)\n",
            "          (se): SqueezeExcite(\n",
            "            (conv_reduce): Conv2d(1152, 48, kernel_size=(1, 1), stride=(1, 1))\n",
            "            (act1): SiLU(inplace=True)\n",
            "            (conv_expand): Conv2d(48, 1152, kernel_size=(1, 1), stride=(1, 1))\n",
            "            (gate): Sigmoid()\n",
            "          )\n",
            "          (conv_pwl): Conv2d(1152, 192, kernel_size=(1, 1), stride=(1, 1), bias=False)\n",
            "          (bn3): BatchNorm2d(192, eps=1e-05, momentum=0.1, affine=True, track_running_stats=True)\n",
            "        )\n",
            "        (3): InvertedResidual(\n",
            "          (conv_pw): Conv2d(192, 1152, kernel_size=(1, 1), stride=(1, 1), bias=False)\n",
            "          (bn1): BatchNorm2d(1152, eps=1e-05, momentum=0.1, affine=True, track_running_stats=True)\n",
            "          (act1): SiLU(inplace=True)\n",
            "          (conv_dw): Conv2d(1152, 1152, kernel_size=(5, 5), stride=(1, 1), padding=(2, 2), groups=1152, bias=False)\n",
            "          (bn2): BatchNorm2d(1152, eps=1e-05, momentum=0.1, affine=True, track_running_stats=True)\n",
            "          (act2): SiLU(inplace=True)\n",
            "          (se): SqueezeExcite(\n",
            "            (conv_reduce): Conv2d(1152, 48, kernel_size=(1, 1), stride=(1, 1))\n",
            "            (act1): SiLU(inplace=True)\n",
            "            (conv_expand): Conv2d(48, 1152, kernel_size=(1, 1), stride=(1, 1))\n",
            "            (gate): Sigmoid()\n",
            "          )\n",
            "          (conv_pwl): Conv2d(1152, 192, kernel_size=(1, 1), stride=(1, 1), bias=False)\n",
            "          (bn3): BatchNorm2d(192, eps=1e-05, momentum=0.1, affine=True, track_running_stats=True)\n",
            "        )\n",
            "        (4): InvertedResidual(\n",
            "          (conv_pw): Conv2d(192, 1152, kernel_size=(1, 1), stride=(1, 1), bias=False)\n",
            "          (bn1): BatchNorm2d(1152, eps=1e-05, momentum=0.1, affine=True, track_running_stats=True)\n",
            "          (act1): SiLU(inplace=True)\n",
            "          (conv_dw): Conv2d(1152, 1152, kernel_size=(5, 5), stride=(1, 1), padding=(2, 2), groups=1152, bias=False)\n",
            "          (bn2): BatchNorm2d(1152, eps=1e-05, momentum=0.1, affine=True, track_running_stats=True)\n",
            "          (act2): SiLU(inplace=True)\n",
            "          (se): SqueezeExcite(\n",
            "            (conv_reduce): Conv2d(1152, 48, kernel_size=(1, 1), stride=(1, 1))\n",
            "            (act1): SiLU(inplace=True)\n",
            "            (conv_expand): Conv2d(48, 1152, kernel_size=(1, 1), stride=(1, 1))\n",
            "            (gate): Sigmoid()\n",
            "          )\n",
            "          (conv_pwl): Conv2d(1152, 192, kernel_size=(1, 1), stride=(1, 1), bias=False)\n",
            "          (bn3): BatchNorm2d(192, eps=1e-05, momentum=0.1, affine=True, track_running_stats=True)\n",
            "        )\n",
            "      )\n",
            "      (6): Sequential(\n",
            "        (0): InvertedResidual(\n",
            "          (conv_pw): Conv2d(192, 1152, kernel_size=(1, 1), stride=(1, 1), bias=False)\n",
            "          (bn1): BatchNorm2d(1152, eps=1e-05, momentum=0.1, affine=True, track_running_stats=True)\n",
            "          (act1): SiLU(inplace=True)\n",
            "          (conv_dw): Conv2d(1152, 1152, kernel_size=(3, 3), stride=(1, 1), padding=(1, 1), groups=1152, bias=False)\n",
            "          (bn2): BatchNorm2d(1152, eps=1e-05, momentum=0.1, affine=True, track_running_stats=True)\n",
            "          (act2): SiLU(inplace=True)\n",
            "          (se): SqueezeExcite(\n",
            "            (conv_reduce): Conv2d(1152, 48, kernel_size=(1, 1), stride=(1, 1))\n",
            "            (act1): SiLU(inplace=True)\n",
            "            (conv_expand): Conv2d(48, 1152, kernel_size=(1, 1), stride=(1, 1))\n",
            "            (gate): Sigmoid()\n",
            "          )\n",
            "          (conv_pwl): Conv2d(1152, 320, kernel_size=(1, 1), stride=(1, 1), bias=False)\n",
            "          (bn3): BatchNorm2d(320, eps=1e-05, momentum=0.1, affine=True, track_running_stats=True)\n",
            "        )\n",
            "        (1): InvertedResidual(\n",
            "          (conv_pw): Conv2d(320, 1920, kernel_size=(1, 1), stride=(1, 1), bias=False)\n",
            "          (bn1): BatchNorm2d(1920, eps=1e-05, momentum=0.1, affine=True, track_running_stats=True)\n",
            "          (act1): SiLU(inplace=True)\n",
            "          (conv_dw): Conv2d(1920, 1920, kernel_size=(3, 3), stride=(1, 1), padding=(1, 1), groups=1920, bias=False)\n",
            "          (bn2): BatchNorm2d(1920, eps=1e-05, momentum=0.1, affine=True, track_running_stats=True)\n",
            "          (act2): SiLU(inplace=True)\n",
            "          (se): SqueezeExcite(\n",
            "            (conv_reduce): Conv2d(1920, 80, kernel_size=(1, 1), stride=(1, 1))\n",
            "            (act1): SiLU(inplace=True)\n",
            "            (conv_expand): Conv2d(80, 1920, kernel_size=(1, 1), stride=(1, 1))\n",
            "            (gate): Sigmoid()\n",
            "          )\n",
            "          (conv_pwl): Conv2d(1920, 320, kernel_size=(1, 1), stride=(1, 1), bias=False)\n",
            "          (bn3): BatchNorm2d(320, eps=1e-05, momentum=0.1, affine=True, track_running_stats=True)\n",
            "        )\n",
            "      )\n",
            "    )\n",
            "    (conv_head): Conv2d(320, 1280, kernel_size=(1, 1), stride=(1, 1), bias=False)\n",
            "    (bn2): BatchNorm2d(1280, eps=1e-05, momentum=0.1, affine=True, track_running_stats=True)\n",
            "    (act2): SiLU(inplace=True)\n",
            "    (global_pool): SelectAdaptivePool2d (pool_type=avg, flatten=Flatten(start_dim=1, end_dim=-1))\n",
            "    (classifier): Linear(in_features=1280, out_features=1, bias=True)\n",
            "  )\n",
            ")\n",
            "tensor([-0.1206,  0.0805, -0.0385,  0.0696], grad_fn=<ViewBackward>)\n"
          ],
          "name": "stdout"
        }
      ]
    },
    {
      "cell_type": "markdown",
      "metadata": {
        "id": "de50761e",
        "papermill": {
          "duration": 0.066272,
          "end_time": "2021-07-13T14:04:06.370182",
          "exception": false,
          "start_time": "2021-07-13T14:04:06.303910",
          "status": "completed"
        },
        "tags": []
      },
      "source": [
        "## Loss"
      ],
      "id": "de50761e"
    },
    {
      "cell_type": "code",
      "metadata": {
        "execution": {
          "iopub.execute_input": "2021-07-13T14:04:06.506517Z",
          "iopub.status.busy": "2021-07-13T14:04:06.505659Z",
          "iopub.status.idle": "2021-07-13T14:04:06.508105Z",
          "shell.execute_reply": "2021-07-13T14:04:06.508753Z",
          "shell.execute_reply.started": "2021-07-13T13:58:16.000305Z"
        },
        "id": "47fcae06",
        "papermill": {
          "duration": 0.074524,
          "end_time": "2021-07-13T14:04:06.508947",
          "exception": false,
          "start_time": "2021-07-13T14:04:06.434423",
          "status": "completed"
        },
        "tags": []
      },
      "source": [
        "class RMSELoss(nn.Module):\n",
        "    def __init__(self, eps=1e-6):\n",
        "        super().__init__()\n",
        "        self.mse = nn.MSELoss()\n",
        "        self.eps = eps\n",
        "        \n",
        "    def forward(self, yhat, y):\n",
        "        loss = torch.sqrt(self.mse(yhat, y) + self.eps)\n",
        "        return loss\n"
      ],
      "id": "47fcae06",
      "execution_count": 34,
      "outputs": []
    },
    {
      "cell_type": "markdown",
      "metadata": {
        "id": "93661540",
        "papermill": {
          "duration": 0.06393,
          "end_time": "2021-07-13T14:04:06.640719",
          "exception": false,
          "start_time": "2021-07-13T14:04:06.576789",
          "status": "completed"
        },
        "tags": []
      },
      "source": [
        "## Scoring"
      ],
      "id": "93661540"
    },
    {
      "cell_type": "code",
      "metadata": {
        "execution": {
          "iopub.execute_input": "2021-07-13T14:04:06.773801Z",
          "iopub.status.busy": "2021-07-13T14:04:06.772929Z",
          "iopub.status.idle": "2021-07-13T14:04:06.775764Z",
          "shell.execute_reply": "2021-07-13T14:04:06.775184Z",
          "shell.execute_reply.started": "2021-07-13T13:58:16.007366Z"
        },
        "id": "19d9d03c",
        "papermill": {
          "duration": 0.071807,
          "end_time": "2021-07-13T14:04:06.775918",
          "exception": false,
          "start_time": "2021-07-13T14:04:06.704111",
          "status": "completed"
        },
        "tags": []
      },
      "source": [
        "def get_score(y_true, y_pred):\n",
        "    return np.sqrt(mean_squared_error(y_true, y_pred))"
      ],
      "id": "19d9d03c",
      "execution_count": 35,
      "outputs": []
    },
    {
      "cell_type": "code",
      "metadata": {
        "execution": {
          "iopub.execute_input": "2021-07-13T14:04:06.916663Z",
          "iopub.status.busy": "2021-07-13T14:04:06.915692Z",
          "iopub.status.idle": "2021-07-13T14:04:06.921773Z",
          "shell.execute_reply": "2021-07-13T14:04:06.922400Z",
          "shell.execute_reply.started": "2021-07-13T13:58:16.018187Z"
        },
        "id": "a1b92d4f",
        "papermill": {
          "duration": 0.078352,
          "end_time": "2021-07-13T14:04:06.922598",
          "exception": false,
          "start_time": "2021-07-13T14:04:06.844246",
          "status": "completed"
        },
        "tags": []
      },
      "source": [
        "def get_result(result_df, fold=config.n_fold):\n",
        "    preds = result_df[\"preds\"].values\n",
        "    labels = result_df[\"target\"].values\n",
        "    score = get_score(labels, preds)\n",
        "    LOGGER.info(f\"Score: {score:<.5f}\")\n",
        "    # wandb.log({\"fold\": fold, \"CV\": score})\n",
        "    if fold == config.n_fold:\n",
        "        wandb.run.summary[f\"CV\"] = score\n",
        "    else:\n",
        "        wandb.run.summary[f\"CV_fold{fold}\"] = score\n"
      ],
      "id": "a1b92d4f",
      "execution_count": 36,
      "outputs": []
    },
    {
      "cell_type": "markdown",
      "metadata": {
        "id": "1bf498df",
        "papermill": {
          "duration": 0.063127,
          "end_time": "2021-07-13T14:04:07.050766",
          "exception": false,
          "start_time": "2021-07-13T14:04:06.987639",
          "status": "completed"
        },
        "tags": []
      },
      "source": [
        "## Helper functions"
      ],
      "id": "1bf498df"
    },
    {
      "cell_type": "code",
      "metadata": {
        "execution": {
          "iopub.execute_input": "2021-07-13T14:04:07.187804Z",
          "iopub.status.busy": "2021-07-13T14:04:07.186918Z",
          "iopub.status.idle": "2021-07-13T14:04:07.189224Z",
          "shell.execute_reply": "2021-07-13T14:04:07.189859Z",
          "shell.execute_reply.started": "2021-07-13T13:58:16.028074Z"
        },
        "id": "c5b0e152",
        "papermill": {
          "duration": 0.075151,
          "end_time": "2021-07-13T14:04:07.190070",
          "exception": false,
          "start_time": "2021-07-13T14:04:07.114919",
          "status": "completed"
        },
        "tags": []
      },
      "source": [
        "class AverageMeter(object):\n",
        "    \"\"\"Computes and stores the average and current value\"\"\"\n",
        "\n",
        "    def __init__(self):\n",
        "        self.reset()\n",
        "\n",
        "    def reset(self):\n",
        "        self.val = 0\n",
        "        self.avg = 0\n",
        "        self.sum = 0\n",
        "        self.count = 0\n",
        "\n",
        "    def update(self, val, n=1):\n",
        "        self.val = val\n",
        "        self.sum += val * n\n",
        "        self.count += n\n",
        "        self.avg = self.sum / self.count\n",
        "\n",
        "\n",
        "def asMinutes(s):\n",
        "    m = math.floor(s / 60)\n",
        "    s -= m * 60\n",
        "    return \"%dm %ds\" % (m, s)\n",
        "\n",
        "\n",
        "def timeSince(since, percent):\n",
        "    now = time.time()\n",
        "    s = now - since\n",
        "    es = s / (percent)\n",
        "    rs = es - s\n",
        "    return \"%s (remain %s)\" % (asMinutes(s), asMinutes(rs))"
      ],
      "id": "c5b0e152",
      "execution_count": 37,
      "outputs": []
    },
    {
      "cell_type": "code",
      "metadata": {
        "execution": {
          "iopub.execute_input": "2021-07-13T14:04:07.335245Z",
          "iopub.status.busy": "2021-07-13T14:04:07.334332Z",
          "iopub.status.idle": "2021-07-13T14:04:07.337010Z",
          "shell.execute_reply": "2021-07-13T14:04:07.337716Z",
          "shell.execute_reply.started": "2021-07-13T13:58:16.039208Z"
        },
        "id": "99a3bfb5",
        "papermill": {
          "duration": 0.080333,
          "end_time": "2021-07-13T14:04:07.337907",
          "exception": false,
          "start_time": "2021-07-13T14:04:07.257574",
          "status": "completed"
        },
        "tags": []
      },
      "source": [
        "def train_fn(train_loader, model, criterion, optimizer, epoch, scheduler, device):\n",
        "    batch_time = AverageMeter()\n",
        "    data_time = AverageMeter()\n",
        "    losses = AverageMeter()\n",
        "    scores = AverageMeter()\n",
        "\n",
        "    # switch to train mode\n",
        "    model.train()\n",
        "    start = end = time.time()\n",
        "    global_step = 0\n",
        "\n",
        "    for step, (images, labels) in enumerate(train_loader):\n",
        "        # measure data loading time\n",
        "        data_time.update(time.time() - end)\n",
        "        images = images.to(device)\n",
        "        labels = labels.to(device)\n",
        "        batch_size = labels.size(0)\n",
        "\n",
        "        y_preds = model(images.float())\n",
        "\n",
        "        loss = criterion(y_preds, labels)\n",
        "\n",
        "        # record loss\n",
        "        losses.update(loss.item(), batch_size)\n",
        "        if config.gradient_accumulation_steps > 1:\n",
        "            loss = loss / config.gradient_accumulation_steps\n",
        "        if Config.apex:\n",
        "            with amp.scale_loss(loss, optimizer) as scaled_loss:\n",
        "                scaled_loss.backward()\n",
        "        else:\n",
        "            loss.backward()\n",
        "\n",
        "        grad_norm = torch.nn.utils.clip_grad_norm_(model.parameters(), config.max_grad_norm)\n",
        "\n",
        "        if (step + 1) % config.gradient_accumulation_steps == 0:\n",
        "            optimizer.step()\n",
        "            optimizer.zero_grad()\n",
        "            global_step += 1\n",
        "\n",
        "        # measure elapsed time\n",
        "        batch_time.update(time.time() - end)\n",
        "        end = time.time()\n",
        "\n",
        "        if step % Config.print_freq == 0 or step == (len(train_loader) - 1):\n",
        "            print(\n",
        "                f\"Epoch: [{epoch + 1}][{step}/{len(train_loader)}] \"\n",
        "                f\"Elapsed {timeSince(start, float(step + 1) / len(train_loader)):s} \"\n",
        "                f\"Loss: {losses.val:.4f}({losses.avg:.4f}) \"\n",
        "                f\"Grad: {grad_norm:.4f} \"\n",
        "                f\"LR: {scheduler.get_last_lr()[0]:.6f}  \"\n",
        "            )\n",
        "\n",
        "    return losses.avg"
      ],
      "id": "99a3bfb5",
      "execution_count": 38,
      "outputs": []
    },
    {
      "cell_type": "code",
      "metadata": {
        "execution": {
          "iopub.execute_input": "2021-07-13T14:04:07.484668Z",
          "iopub.status.busy": "2021-07-13T14:04:07.483771Z",
          "iopub.status.idle": "2021-07-13T14:04:07.494658Z",
          "shell.execute_reply": "2021-07-13T14:04:07.490453Z",
          "shell.execute_reply.started": "2021-07-13T13:58:16.054607Z"
        },
        "id": "186c441d",
        "papermill": {
          "duration": 0.087732,
          "end_time": "2021-07-13T14:04:07.494825",
          "exception": false,
          "start_time": "2021-07-13T14:04:07.407093",
          "status": "completed"
        },
        "tags": []
      },
      "source": [
        "def valid_fn(valid_loader, model, criterion, device):\n",
        "    batch_time = AverageMeter()\n",
        "    data_time = AverageMeter()\n",
        "    losses = AverageMeter()\n",
        "    scores = AverageMeter()\n",
        "\n",
        "    # switch to evaluation mode\n",
        "    model.eval()\n",
        "    preds = []\n",
        "    start = end = time.time()\n",
        "\n",
        "    for step, (images, labels) in enumerate(valid_loader):\n",
        "        # measure data loading time\n",
        "        data_time.update(time.time() - end)\n",
        "        images = images.to(device)\n",
        "        labels = labels.to(device)\n",
        "        batch_size = labels.size(0)\n",
        "\n",
        "        # compute loss\n",
        "        with torch.no_grad():\n",
        "            y_preds = model(images)\n",
        "\n",
        "        loss = criterion(y_preds, labels)\n",
        "        losses.update(loss.item(), batch_size)\n",
        "\n",
        "        # record accuracy\n",
        "        # preds.append(y_preds.softmax(1).to(\"cpu\").numpy())\n",
        "        preds.append(y_preds.to(\"cpu\").numpy())\n",
        "        if config.gradient_accumulation_steps > 1:\n",
        "            loss = loss / config.gradient_accumulation_steps\n",
        "\n",
        "        # measure elapsed time\n",
        "        batch_time.update(time.time() - end)\n",
        "        end = time.time()\n",
        "\n",
        "        if step % Config.print_freq == 0 or step == (len(valid_loader) - 1):\n",
        "            print(\n",
        "                f\"EVAL: [{step}/{len(valid_loader)}] \"\n",
        "                f\"Elapsed {timeSince(start, float(step + 1) / len(valid_loader)):s} \"\n",
        "                f\"Loss: {losses.val:.4f}({losses.avg:.4f}) \"\n",
        "            )\n",
        "    predictions = np.clip(np.concatenate(preds), 0, 3)\n",
        "    return losses.avg, predictions"
      ],
      "id": "186c441d",
      "execution_count": 39,
      "outputs": []
    },
    {
      "cell_type": "code",
      "metadata": {
        "execution": {
          "iopub.execute_input": "2021-07-13T14:04:07.634152Z",
          "iopub.status.busy": "2021-07-13T14:04:07.633248Z",
          "iopub.status.idle": "2021-07-13T14:04:07.635358Z",
          "shell.execute_reply": "2021-07-13T14:04:07.636029Z",
          "shell.execute_reply.started": "2021-07-13T13:58:16.069317Z"
        },
        "id": "db7cdfc9",
        "papermill": {
          "duration": 0.076205,
          "end_time": "2021-07-13T14:04:07.636228",
          "exception": false,
          "start_time": "2021-07-13T14:04:07.560023",
          "status": "completed"
        },
        "tags": []
      },
      "source": [
        "def inference(test_loader):\n",
        "    predictions = []\n",
        "    for model_item in inference_models:\n",
        "        for fold in range(config.n_fold):\n",
        "            LOGGER.info(f\"========== ID: {model_item['run_id']} model: {model_item['model_name']} fold: {fold} inference ==========\")\n",
        "            model = Atma11Net(model_item[\"model_name\"])\n",
        "            model.to(device)\n",
        "            model.load_state_dict(model_item[f\"state_fold{fold}\"])\n",
        "            model.eval()\n",
        "            preds = []\n",
        "            for i, (images) in enumerate(test_loader):\n",
        "                images = images.to(device)\n",
        "                with torch.no_grad():\n",
        "                    y_preds = model(images)\n",
        "                # avg_preds.append(y_preds.softmax(1).to(\"cpu\").numpy())\n",
        "                preds.append(y_preds.to(\"cpu\").numpy())\n",
        "            preds = np.concatenate(preds)\n",
        "            predictions.append(preds)\n",
        "    predictions = np.clip(np.mean(predictions, axis=0), 0, 3)\n",
        "    return predictions\n"
      ],
      "id": "db7cdfc9",
      "execution_count": 40,
      "outputs": []
    },
    {
      "cell_type": "markdown",
      "metadata": {
        "id": "df9663c1",
        "papermill": {
          "duration": 0.065223,
          "end_time": "2021-07-13T14:04:07.769943",
          "exception": false,
          "start_time": "2021-07-13T14:04:07.704720",
          "status": "completed"
        },
        "tags": []
      },
      "source": [
        "## Train loop"
      ],
      "id": "df9663c1"
    },
    {
      "cell_type": "code",
      "metadata": {
        "execution": {
          "iopub.execute_input": "2021-07-13T14:04:07.934870Z",
          "iopub.status.busy": "2021-07-13T14:04:07.933739Z",
          "iopub.status.idle": "2021-07-13T14:04:07.942028Z",
          "shell.execute_reply": "2021-07-13T14:04:07.942658Z",
          "shell.execute_reply.started": "2021-07-13T13:58:16.081244Z"
        },
        "id": "357969e6",
        "papermill": {
          "duration": 0.102766,
          "end_time": "2021-07-13T14:04:07.942840",
          "exception": false,
          "start_time": "2021-07-13T14:04:07.840074",
          "status": "completed"
        },
        "tags": []
      },
      "source": [
        "def train_loop(folds, fold):\n",
        "\n",
        "    LOGGER.info(f\"========== fold: {fold} training ==========\")\n",
        "\n",
        "    # ====================================================\n",
        "    # Data Loader\n",
        "    # ====================================================\n",
        "    trn_idx = folds[folds[\"fold\"] != fold].index\n",
        "    val_idx = folds[folds[\"fold\"] == fold].index\n",
        "\n",
        "    train_folds = folds.loc[trn_idx].reset_index(drop=True)\n",
        "    valid_folds = folds.loc[val_idx].reset_index(drop=True)\n",
        "\n",
        "    train_dataset = TrainDataset(train_folds, transform=get_transforms(data=\"train\"))\n",
        "    train_dataset_weak_aug = TrainDataset(train_folds, transform=get_transforms(data=\"weak_train\"))\n",
        "    train_dataset_no_aug = TrainDataset(train_folds, transform=get_transforms(data=\"valid\"))\n",
        "    valid_dataset = TrainDataset(valid_folds, transform=get_transforms(data=\"valid\"))\n",
        "\n",
        "    train_loader = DataLoader(\n",
        "        train_dataset,\n",
        "        batch_size=config.batch_size,\n",
        "        shuffle=True,\n",
        "        num_workers=config.num_workers,\n",
        "        pin_memory=True,\n",
        "        drop_last=True,\n",
        "    )\n",
        "    train_loader_weak_aug = DataLoader(\n",
        "        train_dataset_weak_aug,\n",
        "        batch_size=config.batch_size,\n",
        "        shuffle=True,\n",
        "        num_workers=config.num_workers,\n",
        "        pin_memory=True,\n",
        "        drop_last=True,\n",
        "    )\n",
        "    train_loader_no_aug = DataLoader(\n",
        "        train_dataset_no_aug,\n",
        "        batch_size=config.batch_size,\n",
        "        shuffle=True,\n",
        "        num_workers=config.num_workers,\n",
        "        pin_memory=True,\n",
        "        drop_last=True,\n",
        "    )\n",
        "    valid_loader = DataLoader(\n",
        "        valid_dataset,\n",
        "        batch_size=config.batch_size,\n",
        "        shuffle=False,\n",
        "        num_workers=config.num_workers,\n",
        "        pin_memory=True,\n",
        "        drop_last=False,\n",
        "    )\n",
        "\n",
        "    # ====================================================\n",
        "    # Scheduler\n",
        "    # ====================================================\n",
        "    def get_scheduler(optimizer):\n",
        "        if config.scheduler == \"ReduceLROnPlateau\":\n",
        "            scheduler = ReduceLROnPlateau(\n",
        "                optimizer, mode=\"min\", factor=config.factor, patience=config.patience, verbose=True, eps=config.eps\n",
        "            )\n",
        "        elif config.scheduler == \"CosineAnnealingLR\":\n",
        "            scheduler = CosineAnnealingLR(optimizer, T_max=config.T_max, eta_min=config.min_lr, last_epoch=-1)\n",
        "        elif config.scheduler == \"CosineAnnealingWarmRestarts\":\n",
        "            scheduler = CosineAnnealingWarmRestarts(\n",
        "                optimizer, T_0=config.T_0, T_mult=1, eta_min=config.min_lr, last_epoch=-1\n",
        "            )\n",
        "        return scheduler\n",
        "\n",
        "    # ====================================================\n",
        "    # Model & Optimizer\n",
        "    # ====================================================\n",
        "    model = Atma11Net(config.model_name)\n",
        "    model.to(device)\n",
        "\n",
        "    # Use multi GPU\n",
        "    if device == torch.device(\"cuda\") and not Config.apex and Config.multi_gpu:\n",
        "        model = torch.nn.DataParallel(model)  # make parallel\n",
        "        # torch.backends.cudnn.benchmark=True\n",
        "\n",
        "    optimizer = Adam(model.parameters(), lr=config.lr, weight_decay=config.weight_decay, amsgrad=False)\n",
        "    scheduler = get_scheduler(optimizer)\n",
        "\n",
        "    # ====================================================\n",
        "    # Apex\n",
        "    # ====================================================\n",
        "    if Config.apex:\n",
        "        model, optimizer = amp.initialize(model, optimizer, opt_level=\"O1\", verbosity=0)\n",
        "\n",
        "    # ====================================================\n",
        "    # Criterion\n",
        "    # ====================================================\n",
        "    def get_criterion():\n",
        "        if config.criterion == \"CrossEntropyLoss\":\n",
        "            criterion = nn.CrossEntropyLoss()\n",
        "        elif config.criterion == \"RMSELoss\":\n",
        "            criterion = RMSELoss()\n",
        "        return criterion\n",
        "\n",
        "    criterion = get_criterion()\n",
        "\n",
        "    # ====================================================\n",
        "    # Loop\n",
        "    # ====================================================\n",
        "    best_score = np.inf\n",
        "    best_loss = np.inf\n",
        "\n",
        "    # if not Config.multi_gpu:\n",
        "    #     wandb.watch(model, log_freq=Config.print_freq)\n",
        "\n",
        "    for epoch in range(config.epochs):\n",
        "\n",
        "        start_time = time.time()\n",
        "\n",
        "        # train\n",
        "        if config.no_aug or epoch <= 1 or epoch >= config.epochs - 2:\n",
        "            avg_loss = train_fn(train_loader_no_aug, model, criterion, optimizer, epoch, scheduler, device)\n",
        "        elif epoch >= config.epochs - 5:\n",
        "            avg_loss = train_fn(train_loader_weak_aug, model, criterion, optimizer, epoch, scheduler, device)\n",
        "        else:\n",
        "            avg_loss = train_fn(train_loader, model, criterion, optimizer, epoch, scheduler, device)\n",
        "\n",
        "        # eval\n",
        "        avg_val_loss, preds = valid_fn(valid_loader, model, criterion, device)\n",
        "        valid_labels = valid_folds[\"target\"].values\n",
        "\n",
        "        if isinstance(scheduler, ReduceLROnPlateau):\n",
        "            scheduler.step(avg_val_loss)\n",
        "        elif isinstance(scheduler, CosineAnnealingLR):\n",
        "            scheduler.step()\n",
        "        elif isinstance(scheduler, CosineAnnealingWarmRestarts):\n",
        "            scheduler.step()\n",
        "\n",
        "        # scoring\n",
        "        # score = get_score(valid_labels, preds.argmax(1))\n",
        "        score = get_score(valid_labels, preds)\n",
        "\n",
        "        elapsed = time.time() - start_time\n",
        "\n",
        "        LOGGER.info(\n",
        "            f\"Epoch {epoch+1} - avg_train_loss: {avg_loss:.4f}  avg_val_loss: {avg_val_loss:.4f}  time: {elapsed:.0f}s\"\n",
        "        )\n",
        "        LOGGER.info(f\"Epoch {epoch+1} - Score: {score}\")\n",
        "\n",
        "        wandb.log(\n",
        "            {\n",
        "                \"epoch\": epoch + 1,\n",
        "                f\"loss/train_fold{fold}\": avg_loss,\n",
        "                f\"loss/val_fold{fold}\": avg_val_loss,\n",
        "                f\"score/fold{fold}\": score,\n",
        "            }\n",
        "        )\n",
        "\n",
        "        if score < best_score:\n",
        "            best_score = score\n",
        "            LOGGER.info(f\"Epoch {epoch+1} - Save Best Score: {best_score:.4f} Model\")\n",
        "            torch.save(\n",
        "                {\"model\": model.state_dict(), \"preds\": preds}, OUTPUT_DIR + f\"{config.model_name}_fold{fold}_best.pth\"\n",
        "            )\n",
        "            wandb.save(OUTPUT_DIR + f\"{config.model_name}_fold{fold}_best.pth\")\n",
        "\n",
        "        # if epoch == config.epochs - 1:\n",
        "        #     LOGGER.info(f\"Epoch {epoch+1} - Save final model\")\n",
        "        #     torch.save(\n",
        "        #         {\"model\": model.state_dict(), \"preds\": preds}, OUTPUT_DIR + f\"{config.model_name}_fold{fold}_final.pth\"\n",
        "        #     )\n",
        "\n",
        "    check_point = torch.load(OUTPUT_DIR + f\"{config.model_name}_fold{fold}_best.pth\")\n",
        "\n",
        "    valid_folds[[str(c) for c in range(config.n_class)]] = check_point[\"preds\"]\n",
        "    valid_folds[\"preds\"] = check_point[\"preds\"]  # .argmax(1)\n",
        "\n",
        "    return valid_folds"
      ],
      "id": "357969e6",
      "execution_count": 41,
      "outputs": []
    },
    {
      "cell_type": "markdown",
      "metadata": {
        "id": "97b42fa3",
        "papermill": {
          "duration": 0.066876,
          "end_time": "2021-07-13T14:04:08.228336",
          "exception": false,
          "start_time": "2021-07-13T14:04:08.161460",
          "status": "completed"
        },
        "tags": []
      },
      "source": [
        "## Main\n"
      ],
      "id": "97b42fa3"
    },
    {
      "cell_type": "code",
      "metadata": {
        "execution": {
          "iopub.execute_input": "2021-07-13T14:04:08.370518Z",
          "iopub.status.busy": "2021-07-13T14:04:08.369075Z",
          "iopub.status.idle": "2021-07-13T14:04:08.372617Z",
          "shell.execute_reply": "2021-07-13T14:04:08.371995Z",
          "shell.execute_reply.started": "2021-07-13T13:58:16.125664Z"
        },
        "id": "5baf150d",
        "papermill": {
          "duration": 0.079984,
          "end_time": "2021-07-13T14:04:08.372767",
          "exception": false,
          "start_time": "2021-07-13T14:04:08.292783",
          "status": "completed"
        },
        "tags": []
      },
      "source": [
        "def main():\n",
        "    if Config.train:\n",
        "        oof_df = pd.DataFrame()\n",
        "        for fold in range(config.n_fold):\n",
        "            _oof_df = train_loop(folds, fold)\n",
        "            oof_df = pd.concat([oof_df, _oof_df])\n",
        "            LOGGER.info(f\"========== fold: {fold} result ==========\")\n",
        "            get_result(_oof_df, fold)\n",
        "            \n",
        "        # CV result\n",
        "        LOGGER.info(f\"========== CV ==========\")\n",
        "        get_result(oof_df)\n",
        "        \n",
        "        # save result\n",
        "        oof_df.to_csv(OUTPUT_DIR + \"oof_df.csv\", index=False)\n",
        "        wandb.save(OUTPUT_DIR + \"oof_df.csv\")\n",
        "        \n",
        "    if Config.validate:\n",
        "        probs = []\n",
        "\n",
        "        for n, model_item in enumerate(inference_models):\n",
        "            probs.append(train[f\"preds{n}\"].values)\n",
        "        preds = np.mean(probs, axis=0)\n",
        "\n",
        "        train[\"preds\"] = np.clip(preds, 0, 3)\n",
        "\n",
        "        # CV result\n",
        "        LOGGER.info(f\"========== CV ==========\")\n",
        "        get_result(train)\n",
        "        \n",
        "        # save result\n",
        "        train.to_csv(OUTPUT_DIR + \"validation_df.csv\", index=False)\n",
        "        wandb.save(OUTPUT_DIR + \"validation_df.csv\")\n",
        "\n",
        "    if Config.inference:\n",
        "        test_dataset = TestDataset(test, transform=get_transforms(data=\"valid\"))\n",
        "        test_loader = DataLoader(\n",
        "            test_dataset, batch_size=config.batch_size, shuffle=False, num_workers=config.num_workers, pin_memory=True\n",
        "        )\n",
        "        predictions = inference(test_loader)\n",
        "\n",
        "        # submission\n",
        "        sub[\"target\"] = predictions  # .argmax(1)\n",
        "        sub.to_csv(OUTPUT_DIR + \"submission.csv\", index=False)\n",
        "        wandb.save(OUTPUT_DIR + \"submission.csv\")"
      ],
      "id": "5baf150d",
      "execution_count": 42,
      "outputs": []
    },
    {
      "cell_type": "code",
      "metadata": {
        "execution": {
          "iopub.execute_input": "2021-07-13T14:04:08.515457Z",
          "iopub.status.busy": "2021-07-13T14:04:08.514623Z",
          "iopub.status.idle": "2021-07-13T14:15:36.642579Z",
          "shell.execute_reply": "2021-07-13T14:15:36.643656Z",
          "shell.execute_reply.started": "2021-07-13T13:58:16.140064Z"
        },
        "id": "726e744f",
        "papermill": {
          "duration": 688.200662,
          "end_time": "2021-07-13T14:15:36.643885",
          "exception": false,
          "start_time": "2021-07-13T14:04:08.443223",
          "status": "completed"
        },
        "tags": [],
        "colab": {
          "base_uri": "https://localhost:8080/"
        },
        "outputId": "5df69718-4f93-465a-960d-4f903b365fe2"
      },
      "source": [
        "if __name__ == \"__main__\":\n",
        "    main()"
      ],
      "id": "726e744f",
      "execution_count": null,
      "outputs": [
        {
          "output_type": "stream",
          "text": [
            "========== fold: 0 training ==========\n"
          ],
          "name": "stderr"
        },
        {
          "output_type": "stream",
          "text": [
            "Epoch: [1][0/196] Elapsed 0m 0s (remain 2m 35s) Loss: 2.4446(2.4446) Grad: 5.9277 LR: 0.001000  \n",
            "Epoch: [1][50/196] Elapsed 0m 9s (remain 0m 26s) Loss: 1.1404(1.1507) Grad: 15.0279 LR: 0.001000  \n",
            "Epoch: [1][100/196] Elapsed 0m 18s (remain 0m 16s) Loss: 1.0366(1.0567) Grad: 3.4354 LR: 0.001000  \n",
            "Epoch: [1][150/196] Elapsed 0m 26s (remain 0m 7s) Loss: 1.0110(1.0203) Grad: 4.7367 LR: 0.001000  \n",
            "Epoch: [1][195/196] Elapsed 0m 34s (remain 0m 0s) Loss: 1.2469(1.0020) Grad: 2.7433 LR: 0.001000  \n",
            "EVAL: [0/50] Elapsed 0m 0s (remain 0m 20s) Loss: 0.8320(0.8320) \n"
          ],
          "name": "stdout"
        },
        {
          "output_type": "stream",
          "text": [
            "Epoch 1 - avg_train_loss: 1.0020  avg_val_loss: 1.2140  time: 37s\n",
            "Epoch 1 - Score: 0.95167736016768\n",
            "Epoch 1 - Save Best Score: 0.9517 Model\n"
          ],
          "name": "stderr"
        },
        {
          "output_type": "stream",
          "text": [
            "EVAL: [49/50] Elapsed 0m 2s (remain 0m 0s) Loss: 0.6830(1.2140) \n",
            "Epoch: [2][0/196] Elapsed 0m 0s (remain 2m 5s) Loss: 1.2004(1.2004) Grad: 3.2817 LR: 0.000994  \n",
            "Epoch: [2][50/196] Elapsed 0m 9s (remain 0m 26s) Loss: 1.0333(0.9049) Grad: 3.8817 LR: 0.000994  \n",
            "Epoch: [2][100/196] Elapsed 0m 18s (remain 0m 17s) Loss: 0.9600(0.9129) Grad: 3.9863 LR: 0.000994  \n",
            "Epoch: [2][150/196] Elapsed 0m 26s (remain 0m 8s) Loss: 0.7872(0.9174) Grad: 2.8461 LR: 0.000994  \n",
            "Epoch: [2][195/196] Elapsed 0m 34s (remain 0m 0s) Loss: 0.7635(0.9099) Grad: 2.2341 LR: 0.000994  \n",
            "EVAL: [0/50] Elapsed 0m 0s (remain 0m 18s) Loss: 0.9600(0.9600) \n"
          ],
          "name": "stdout"
        },
        {
          "output_type": "stream",
          "text": [
            "Epoch 2 - avg_train_loss: 0.9099  avg_val_loss: 1.1128  time: 38s\n",
            "Epoch 2 - Score: 0.9591812527276571\n"
          ],
          "name": "stderr"
        },
        {
          "output_type": "stream",
          "text": [
            "EVAL: [49/50] Elapsed 0m 2s (remain 0m 0s) Loss: 0.7060(1.1128) \n",
            "Epoch: [3][0/196] Elapsed 0m 0s (remain 2m 11s) Loss: 1.0779(1.0779) Grad: 1.9837 LR: 0.000978  \n",
            "Epoch: [3][50/196] Elapsed 0m 9s (remain 0m 27s) Loss: 0.9715(0.9543) Grad: 2.1206 LR: 0.000978  \n",
            "Epoch: [3][100/196] Elapsed 0m 18s (remain 0m 17s) Loss: 0.7944(0.9664) Grad: 3.1822 LR: 0.000978  \n",
            "Epoch: [3][150/196] Elapsed 0m 27s (remain 0m 8s) Loss: 1.0998(0.9458) Grad: 2.6891 LR: 0.000978  \n",
            "Epoch: [3][195/196] Elapsed 0m 35s (remain 0m 0s) Loss: 0.8800(0.9442) Grad: 3.6125 LR: 0.000978  \n",
            "EVAL: [0/50] Elapsed 0m 0s (remain 0m 20s) Loss: 0.9668(0.9668) \n"
          ],
          "name": "stdout"
        },
        {
          "output_type": "stream",
          "text": [
            "Epoch 3 - avg_train_loss: 0.9442  avg_val_loss: 1.0779  time: 38s\n",
            "Epoch 3 - Score: 1.0080594134950875\n"
          ],
          "name": "stderr"
        },
        {
          "output_type": "stream",
          "text": [
            "EVAL: [49/50] Elapsed 0m 2s (remain 0m 0s) Loss: 0.9713(1.0779) \n",
            "Epoch: [4][0/196] Elapsed 0m 0s (remain 2m 20s) Loss: 1.0395(1.0395) Grad: 2.2341 LR: 0.000951  \n",
            "Epoch: [4][50/196] Elapsed 0m 9s (remain 0m 27s) Loss: 0.6794(0.9576) Grad: 2.1413 LR: 0.000951  \n",
            "Epoch: [4][100/196] Elapsed 0m 18s (remain 0m 17s) Loss: 0.9625(0.9458) Grad: 2.3716 LR: 0.000951  \n",
            "Epoch: [4][150/196] Elapsed 0m 27s (remain 0m 8s) Loss: 0.7996(0.9415) Grad: 3.3645 LR: 0.000951  \n",
            "Epoch: [4][195/196] Elapsed 0m 35s (remain 0m 0s) Loss: 0.8654(0.9293) Grad: 3.0192 LR: 0.000951  \n",
            "EVAL: [0/50] Elapsed 0m 0s (remain 0m 16s) Loss: 0.9249(0.9249) \n"
          ],
          "name": "stdout"
        },
        {
          "output_type": "stream",
          "text": [
            "Epoch 4 - avg_train_loss: 0.9293  avg_val_loss: 0.9202  time: 39s\n",
            "Epoch 4 - Score: 0.9196973738362109\n",
            "Epoch 4 - Save Best Score: 0.9197 Model\n"
          ],
          "name": "stderr"
        },
        {
          "output_type": "stream",
          "text": [
            "EVAL: [49/50] Elapsed 0m 2s (remain 0m 0s) Loss: 0.9254(0.9202) \n",
            "Epoch: [5][0/196] Elapsed 0m 0s (remain 2m 26s) Loss: 1.1795(1.1795) Grad: 3.1253 LR: 0.000914  \n",
            "Epoch: [5][50/196] Elapsed 0m 9s (remain 0m 27s) Loss: 0.6075(0.8853) Grad: 2.3793 LR: 0.000914  \n",
            "Epoch: [5][100/196] Elapsed 0m 18s (remain 0m 17s) Loss: 0.7600(0.8979) Grad: 1.1559 LR: 0.000914  \n",
            "Epoch: [5][150/196] Elapsed 0m 27s (remain 0m 8s) Loss: 0.8983(0.9070) Grad: 2.8513 LR: 0.000914  \n",
            "Epoch: [5][195/196] Elapsed 0m 35s (remain 0m 0s) Loss: 0.9700(0.9087) Grad: 1.6892 LR: 0.000914  \n",
            "EVAL: [0/50] Elapsed 0m 0s (remain 0m 20s) Loss: 0.7601(0.7601) \n"
          ],
          "name": "stdout"
        },
        {
          "output_type": "stream",
          "text": [
            "Epoch 5 - avg_train_loss: 0.9087  avg_val_loss: 0.8908  time: 39s\n",
            "Epoch 5 - Score: 0.8942100470751656\n",
            "Epoch 5 - Save Best Score: 0.8942 Model\n"
          ],
          "name": "stderr"
        },
        {
          "output_type": "stream",
          "text": [
            "EVAL: [49/50] Elapsed 0m 2s (remain 0m 0s) Loss: 1.0973(0.8908) \n",
            "Epoch: [6][0/196] Elapsed 0m 0s (remain 2m 29s) Loss: 0.8757(0.8757) Grad: 3.5139 LR: 0.000868  \n",
            "Epoch: [6][50/196] Elapsed 0m 9s (remain 0m 27s) Loss: 0.8526(0.8971) Grad: 2.6360 LR: 0.000868  \n",
            "Epoch: [6][100/196] Elapsed 0m 18s (remain 0m 17s) Loss: 0.8253(0.9033) Grad: 1.3858 LR: 0.000868  \n",
            "Epoch: [6][150/196] Elapsed 0m 27s (remain 0m 8s) Loss: 0.6581(0.9104) Grad: 1.2955 LR: 0.000868  \n",
            "Epoch: [6][195/196] Elapsed 0m 35s (remain 0m 0s) Loss: 0.6964(0.9073) Grad: 3.0936 LR: 0.000868  \n",
            "EVAL: [0/50] Elapsed 0m 0s (remain 0m 19s) Loss: 0.9115(0.9115) \n"
          ],
          "name": "stdout"
        },
        {
          "output_type": "stream",
          "text": [
            "Epoch 6 - avg_train_loss: 0.9073  avg_val_loss: 0.9460  time: 39s\n",
            "Epoch 6 - Score: 0.9602393577194063\n"
          ],
          "name": "stderr"
        },
        {
          "output_type": "stream",
          "text": [
            "EVAL: [49/50] Elapsed 0m 2s (remain 0m 0s) Loss: 1.0263(0.9460) \n",
            "Epoch: [7][0/196] Elapsed 0m 0s (remain 2m 23s) Loss: 1.3697(1.3697) Grad: 1.4559 LR: 0.000815  \n",
            "Epoch: [7][50/196] Elapsed 0m 9s (remain 0m 27s) Loss: 1.0998(0.8958) Grad: 1.9855 LR: 0.000815  \n",
            "Epoch: [7][100/196] Elapsed 0m 18s (remain 0m 17s) Loss: 0.8277(0.9017) Grad: 2.5933 LR: 0.000815  \n",
            "Epoch: [7][150/196] Elapsed 0m 27s (remain 0m 8s) Loss: 0.7408(0.9008) Grad: 1.8349 LR: 0.000815  \n",
            "Epoch: [7][195/196] Elapsed 0m 35s (remain 0m 0s) Loss: 1.0581(0.9013) Grad: 3.0266 LR: 0.000815  \n",
            "EVAL: [0/50] Elapsed 0m 0s (remain 0m 14s) Loss: 0.7089(0.7089) \n"
          ],
          "name": "stdout"
        },
        {
          "output_type": "stream",
          "text": [
            "Epoch 7 - avg_train_loss: 0.9013  avg_val_loss: 0.8822  time: 39s\n",
            "Epoch 7 - Score: 0.8942870954602065\n"
          ],
          "name": "stderr"
        },
        {
          "output_type": "stream",
          "text": [
            "EVAL: [49/50] Elapsed 0m 2s (remain 0m 0s) Loss: 0.9433(0.8822) \n",
            "Epoch: [8][0/196] Elapsed 0m 0s (remain 2m 8s) Loss: 0.9682(0.9682) Grad: 2.0334 LR: 0.000754  \n",
            "Epoch: [8][50/196] Elapsed 0m 9s (remain 0m 27s) Loss: 0.7644(0.8797) Grad: 2.2908 LR: 0.000754  \n",
            "Epoch: [8][100/196] Elapsed 0m 18s (remain 0m 17s) Loss: 1.3261(0.8876) Grad: 1.4894 LR: 0.000754  \n",
            "Epoch: [8][150/196] Elapsed 0m 27s (remain 0m 8s) Loss: 0.7247(0.8967) Grad: 2.1642 LR: 0.000754  \n",
            "Epoch: [8][195/196] Elapsed 0m 35s (remain 0m 0s) Loss: 1.0418(0.8931) Grad: 1.6036 LR: 0.000754  \n",
            "EVAL: [0/50] Elapsed 0m 0s (remain 0m 15s) Loss: 0.7505(0.7505) \n"
          ],
          "name": "stdout"
        },
        {
          "output_type": "stream",
          "text": [
            "Epoch 8 - avg_train_loss: 0.8931  avg_val_loss: 0.8755  time: 39s\n",
            "Epoch 8 - Score: 0.8864358417660134\n",
            "Epoch 8 - Save Best Score: 0.8864 Model\n"
          ],
          "name": "stderr"
        },
        {
          "output_type": "stream",
          "text": [
            "EVAL: [49/50] Elapsed 0m 2s (remain 0m 0s) Loss: 1.0596(0.8755) \n",
            "Epoch: [9][0/196] Elapsed 0m 0s (remain 2m 33s) Loss: 1.0050(1.0050) Grad: 3.0168 LR: 0.000689  \n",
            "Epoch: [9][50/196] Elapsed 0m 9s (remain 0m 27s) Loss: 0.9631(0.9100) Grad: 1.1180 LR: 0.000689  \n",
            "Epoch: [9][100/196] Elapsed 0m 18s (remain 0m 17s) Loss: 0.8443(0.9046) Grad: 2.0623 LR: 0.000689  \n",
            "Epoch: [9][150/196] Elapsed 0m 27s (remain 0m 8s) Loss: 0.8829(0.9018) Grad: 3.3459 LR: 0.000689  \n",
            "Epoch: [9][195/196] Elapsed 0m 35s (remain 0m 0s) Loss: 0.8954(0.8964) Grad: 2.6109 LR: 0.000689  \n",
            "EVAL: [0/50] Elapsed 0m 0s (remain 0m 15s) Loss: 0.7849(0.7849) \n"
          ],
          "name": "stdout"
        },
        {
          "output_type": "stream",
          "text": [
            "Epoch 9 - avg_train_loss: 0.8964  avg_val_loss: 0.8823  time: 39s\n",
            "Epoch 9 - Score: 0.8843107554133497\n",
            "Epoch 9 - Save Best Score: 0.8843 Model\n"
          ],
          "name": "stderr"
        },
        {
          "output_type": "stream",
          "text": [
            "EVAL: [49/50] Elapsed 0m 2s (remain 0m 0s) Loss: 1.0106(0.8823) \n",
            "Epoch: [10][0/196] Elapsed 0m 0s (remain 2m 33s) Loss: 0.7710(0.7710) Grad: 1.0557 LR: 0.000620  \n",
            "Epoch: [10][50/196] Elapsed 0m 9s (remain 0m 27s) Loss: 1.0899(0.8692) Grad: 2.1931 LR: 0.000620  \n",
            "Epoch: [10][100/196] Elapsed 0m 18s (remain 0m 17s) Loss: 0.7906(0.8632) Grad: 2.2703 LR: 0.000620  \n",
            "Epoch: [10][150/196] Elapsed 0m 27s (remain 0m 8s) Loss: 0.9645(0.8733) Grad: 3.0521 LR: 0.000620  \n",
            "Epoch: [10][195/196] Elapsed 0m 36s (remain 0m 0s) Loss: 0.6759(0.8760) Grad: 3.3735 LR: 0.000620  \n",
            "EVAL: [0/50] Elapsed 0m 0s (remain 0m 21s) Loss: 0.7286(0.7286) \n"
          ],
          "name": "stdout"
        },
        {
          "output_type": "stream",
          "text": [
            "Epoch 10 - avg_train_loss: 0.8760  avg_val_loss: 0.8670  time: 39s\n",
            "Epoch 10 - Score: 0.8833987345034429\n",
            "Epoch 10 - Save Best Score: 0.8834 Model\n"
          ],
          "name": "stderr"
        },
        {
          "output_type": "stream",
          "text": [
            "EVAL: [49/50] Elapsed 0m 2s (remain 0m 0s) Loss: 1.1017(0.8670) \n",
            "Epoch: [11][0/196] Elapsed 0m 0s (remain 2m 40s) Loss: 0.8787(0.8787) Grad: 1.8008 LR: 0.000550  \n",
            "Epoch: [11][50/196] Elapsed 0m 9s (remain 0m 27s) Loss: 0.8704(0.8968) Grad: 2.1564 LR: 0.000550  \n",
            "Epoch: [11][100/196] Elapsed 0m 18s (remain 0m 17s) Loss: 0.8201(0.8940) Grad: 2.5395 LR: 0.000550  \n",
            "Epoch: [11][150/196] Elapsed 0m 27s (remain 0m 8s) Loss: 1.0315(0.8824) Grad: 2.9196 LR: 0.000550  \n",
            "Epoch: [11][195/196] Elapsed 0m 35s (remain 0m 0s) Loss: 0.6450(0.8739) Grad: 2.0800 LR: 0.000550  \n",
            "EVAL: [0/50] Elapsed 0m 0s (remain 0m 14s) Loss: 0.7581(0.7581) \n"
          ],
          "name": "stdout"
        },
        {
          "output_type": "stream",
          "text": [
            "Epoch 11 - avg_train_loss: 0.8739  avg_val_loss: 0.8764  time: 39s\n",
            "Epoch 11 - Score: 0.8910628511824159\n"
          ],
          "name": "stderr"
        },
        {
          "output_type": "stream",
          "text": [
            "EVAL: [49/50] Elapsed 0m 2s (remain 0m 0s) Loss: 1.1437(0.8764) \n",
            "Epoch: [12][0/196] Elapsed 0m 0s (remain 2m 3s) Loss: 1.0743(1.0743) Grad: 2.7321 LR: 0.000480  \n",
            "Epoch: [12][50/196] Elapsed 0m 9s (remain 0m 27s) Loss: 1.1307(0.8469) Grad: 1.9271 LR: 0.000480  \n",
            "Epoch: [12][100/196] Elapsed 0m 18s (remain 0m 17s) Loss: 0.9660(0.8711) Grad: 2.3181 LR: 0.000480  \n",
            "Epoch: [12][150/196] Elapsed 0m 27s (remain 0m 8s) Loss: 0.8881(0.8661) Grad: 1.6818 LR: 0.000480  \n",
            "Epoch: [12][195/196] Elapsed 0m 36s (remain 0m 0s) Loss: 1.3247(0.8646) Grad: 2.6381 LR: 0.000480  \n",
            "EVAL: [0/50] Elapsed 0m 0s (remain 0m 18s) Loss: 0.7616(0.7616) \n"
          ],
          "name": "stdout"
        },
        {
          "output_type": "stream",
          "text": [
            "Epoch 12 - avg_train_loss: 0.8646  avg_val_loss: 0.8425  time: 39s\n",
            "Epoch 12 - Score: 0.851785606924334\n",
            "Epoch 12 - Save Best Score: 0.8518 Model\n"
          ],
          "name": "stderr"
        },
        {
          "output_type": "stream",
          "text": [
            "EVAL: [49/50] Elapsed 0m 2s (remain 0m 0s) Loss: 1.1442(0.8425) \n",
            "Epoch: [13][0/196] Elapsed 0m 0s (remain 2m 39s) Loss: 0.8022(0.8022) Grad: 3.7901 LR: 0.000411  \n",
            "Epoch: [13][50/196] Elapsed 0m 9s (remain 0m 28s) Loss: 0.6880(0.8634) Grad: 2.6131 LR: 0.000411  \n",
            "Epoch: [13][100/196] Elapsed 0m 19s (remain 0m 17s) Loss: 1.0483(0.8629) Grad: 1.4685 LR: 0.000411  \n",
            "Epoch: [13][150/196] Elapsed 0m 28s (remain 0m 8s) Loss: 0.7690(0.8692) Grad: 1.3666 LR: 0.000411  \n",
            "Epoch: [13][195/196] Elapsed 0m 36s (remain 0m 0s) Loss: 0.9222(0.8603) Grad: 1.7453 LR: 0.000411  \n",
            "EVAL: [0/50] Elapsed 0m 0s (remain 0m 19s) Loss: 0.7410(0.7410) \n"
          ],
          "name": "stdout"
        },
        {
          "output_type": "stream",
          "text": [
            "Epoch 13 - avg_train_loss: 0.8603  avg_val_loss: 0.8388  time: 39s\n",
            "Epoch 13 - Score: 0.8449340286504881\n",
            "Epoch 13 - Save Best Score: 0.8449 Model\n"
          ],
          "name": "stderr"
        },
        {
          "output_type": "stream",
          "text": [
            "EVAL: [49/50] Elapsed 0m 2s (remain 0m 0s) Loss: 1.0152(0.8388) \n",
            "Epoch: [14][0/196] Elapsed 0m 0s (remain 2m 25s) Loss: 0.7101(0.7101) Grad: 1.3921 LR: 0.000346  \n",
            "Epoch: [14][50/196] Elapsed 0m 9s (remain 0m 27s) Loss: 0.8849(0.8521) Grad: 2.9008 LR: 0.000346  \n",
            "Epoch: [14][100/196] Elapsed 0m 18s (remain 0m 17s) Loss: 0.7108(0.8520) Grad: 1.9420 LR: 0.000346  \n",
            "Epoch: [14][150/196] Elapsed 0m 27s (remain 0m 8s) Loss: 0.8797(0.8471) Grad: 3.1128 LR: 0.000346  \n",
            "Epoch: [14][195/196] Elapsed 0m 35s (remain 0m 0s) Loss: 0.7936(0.8502) Grad: 1.3233 LR: 0.000346  \n",
            "EVAL: [0/50] Elapsed 0m 0s (remain 0m 21s) Loss: 0.7115(0.7115) \n"
          ],
          "name": "stdout"
        },
        {
          "output_type": "stream",
          "text": [
            "Epoch 14 - avg_train_loss: 0.8502  avg_val_loss: 0.8526  time: 39s\n",
            "Epoch 14 - Score: 0.863650078786341\n"
          ],
          "name": "stderr"
        },
        {
          "output_type": "stream",
          "text": [
            "EVAL: [49/50] Elapsed 0m 2s (remain 0m 0s) Loss: 1.1707(0.8526) \n",
            "Epoch: [15][0/196] Elapsed 0m 0s (remain 2m 1s) Loss: 0.7057(0.7057) Grad: 1.5221 LR: 0.000285  \n",
            "Epoch: [15][50/196] Elapsed 0m 9s (remain 0m 27s) Loss: 0.9601(0.8288) Grad: 2.6494 LR: 0.000285  \n",
            "Epoch: [15][100/196] Elapsed 0m 18s (remain 0m 17s) Loss: 0.9023(0.8416) Grad: 2.5753 LR: 0.000285  \n",
            "Epoch: [15][150/196] Elapsed 0m 27s (remain 0m 8s) Loss: 1.1254(0.8510) Grad: 1.2821 LR: 0.000285  \n",
            "Epoch: [15][195/196] Elapsed 0m 35s (remain 0m 0s) Loss: 1.0541(0.8451) Grad: 1.5072 LR: 0.000285  \n",
            "EVAL: [0/50] Elapsed 0m 0s (remain 0m 20s) Loss: 0.7842(0.7842) \n"
          ],
          "name": "stdout"
        },
        {
          "output_type": "stream",
          "text": [
            "Epoch 15 - avg_train_loss: 0.8451  avg_val_loss: 0.8598  time: 39s\n",
            "Epoch 15 - Score: 0.8657387456455092\n"
          ],
          "name": "stderr"
        },
        {
          "output_type": "stream",
          "text": [
            "EVAL: [49/50] Elapsed 0m 2s (remain 0m 0s) Loss: 1.0415(0.8598) \n",
            "Epoch: [16][0/196] Elapsed 0m 0s (remain 2m 3s) Loss: 0.8508(0.8508) Grad: 1.8663 LR: 0.000232  \n",
            "Epoch: [16][50/196] Elapsed 0m 9s (remain 0m 27s) Loss: 0.8306(0.8273) Grad: 1.9030 LR: 0.000232  \n",
            "Epoch: [16][100/196] Elapsed 0m 18s (remain 0m 17s) Loss: 0.4417(0.8226) Grad: 1.6186 LR: 0.000232  \n",
            "Epoch: [16][150/196] Elapsed 0m 27s (remain 0m 8s) Loss: 1.0148(0.8197) Grad: 3.4245 LR: 0.000232  \n",
            "Epoch: [16][195/196] Elapsed 0m 35s (remain 0m 0s) Loss: 1.1295(0.8276) Grad: 1.7659 LR: 0.000232  \n",
            "EVAL: [0/50] Elapsed 0m 0s (remain 0m 16s) Loss: 0.6957(0.6957) \n"
          ],
          "name": "stdout"
        },
        {
          "output_type": "stream",
          "text": [
            "Epoch 16 - avg_train_loss: 0.8276  avg_val_loss: 0.8271  time: 39s\n",
            "Epoch 16 - Score: 0.8365165179669153\n",
            "Epoch 16 - Save Best Score: 0.8365 Model\n"
          ],
          "name": "stderr"
        },
        {
          "output_type": "stream",
          "text": [
            "EVAL: [49/50] Elapsed 0m 2s (remain 0m 0s) Loss: 1.1008(0.8271) \n",
            "Epoch: [17][0/196] Elapsed 0m 0s (remain 2m 22s) Loss: 1.1961(1.1961) Grad: 2.0395 LR: 0.000186  \n",
            "Epoch: [17][50/196] Elapsed 0m 9s (remain 0m 27s) Loss: 1.0469(0.8376) Grad: 2.6583 LR: 0.000186  \n",
            "Epoch: [17][100/196] Elapsed 0m 18s (remain 0m 17s) Loss: 0.9043(0.8244) Grad: 1.6235 LR: 0.000186  \n",
            "Epoch: [17][150/196] Elapsed 0m 27s (remain 0m 8s) Loss: 0.5448(0.8137) Grad: 1.4735 LR: 0.000186  \n",
            "Epoch: [17][195/196] Elapsed 0m 35s (remain 0m 0s) Loss: 0.8385(0.8216) Grad: 2.5287 LR: 0.000186  \n",
            "EVAL: [0/50] Elapsed 0m 0s (remain 0m 18s) Loss: 0.7036(0.7036) \n"
          ],
          "name": "stdout"
        },
        {
          "output_type": "stream",
          "text": [
            "Epoch 17 - avg_train_loss: 0.8216  avg_val_loss: 0.8347  time: 39s\n",
            "Epoch 17 - Score: 0.8385983440501673\n"
          ],
          "name": "stderr"
        },
        {
          "output_type": "stream",
          "text": [
            "EVAL: [49/50] Elapsed 0m 2s (remain 0m 0s) Loss: 1.1343(0.8347) \n",
            "Epoch: [18][0/196] Elapsed 0m 0s (remain 2m 1s) Loss: 0.8558(0.8558) Grad: 2.4350 LR: 0.000149  \n",
            "Epoch: [18][50/196] Elapsed 0m 9s (remain 0m 27s) Loss: 0.7193(0.8084) Grad: 1.9350 LR: 0.000149  \n",
            "Epoch: [18][100/196] Elapsed 0m 18s (remain 0m 17s) Loss: 0.7096(0.8122) Grad: 1.7801 LR: 0.000149  \n",
            "Epoch: [18][150/196] Elapsed 0m 27s (remain 0m 8s) Loss: 0.9539(0.8105) Grad: 2.6756 LR: 0.000149  \n",
            "Epoch: [18][195/196] Elapsed 0m 35s (remain 0m 0s) Loss: 0.8232(0.8052) Grad: 1.5764 LR: 0.000149  \n",
            "EVAL: [0/50] Elapsed 0m 0s (remain 0m 16s) Loss: 0.6726(0.6726) \n"
          ],
          "name": "stdout"
        },
        {
          "output_type": "stream",
          "text": [
            "Epoch 18 - avg_train_loss: 0.8052  avg_val_loss: 0.8345  time: 39s\n",
            "Epoch 18 - Score: 0.8506956183096636\n"
          ],
          "name": "stderr"
        },
        {
          "output_type": "stream",
          "text": [
            "EVAL: [49/50] Elapsed 0m 2s (remain 0m 0s) Loss: 1.2174(0.8345) \n",
            "Epoch: [19][0/196] Elapsed 0m 0s (remain 1m 49s) Loss: 0.5161(0.5161) Grad: 2.9714 LR: 0.000122  \n",
            "Epoch: [19][50/196] Elapsed 0m 9s (remain 0m 27s) Loss: 0.6562(0.7867) Grad: 2.4725 LR: 0.000122  \n",
            "Epoch: [19][100/196] Elapsed 0m 18s (remain 0m 17s) Loss: 0.7528(0.7978) Grad: 1.5665 LR: 0.000122  \n",
            "Epoch: [19][150/196] Elapsed 0m 27s (remain 0m 8s) Loss: 0.8245(0.7942) Grad: 1.5760 LR: 0.000122  \n",
            "Epoch: [19][195/196] Elapsed 0m 35s (remain 0m 0s) Loss: 1.0098(0.7869) Grad: 2.0653 LR: 0.000122  \n",
            "EVAL: [0/50] Elapsed 0m 0s (remain 0m 16s) Loss: 0.6584(0.6584) \n"
          ],
          "name": "stdout"
        },
        {
          "output_type": "stream",
          "text": [
            "Epoch 19 - avg_train_loss: 0.7869  avg_val_loss: 0.8086  time: 39s\n",
            "Epoch 19 - Score: 0.8284681188850543\n",
            "Epoch 19 - Save Best Score: 0.8285 Model\n"
          ],
          "name": "stderr"
        },
        {
          "output_type": "stream",
          "text": [
            "EVAL: [49/50] Elapsed 0m 2s (remain 0m 0s) Loss: 1.1667(0.8086) \n",
            "Epoch: [20][0/196] Elapsed 0m 0s (remain 2m 2s) Loss: 0.8506(0.8506) Grad: 3.6109 LR: 0.000106  \n",
            "Epoch: [20][50/196] Elapsed 0m 9s (remain 0m 27s) Loss: 0.7783(0.7628) Grad: 1.5683 LR: 0.000106  \n",
            "Epoch: [20][100/196] Elapsed 0m 18s (remain 0m 17s) Loss: 0.5891(0.7575) Grad: 2.3852 LR: 0.000106  \n",
            "Epoch: [20][150/196] Elapsed 0m 27s (remain 0m 8s) Loss: 0.8890(0.7496) Grad: 2.2184 LR: 0.000106  \n",
            "Epoch: [20][195/196] Elapsed 0m 35s (remain 0m 0s) Loss: 1.0676(0.7536) Grad: 2.8966 LR: 0.000106  \n",
            "EVAL: [0/50] Elapsed 0m 0s (remain 0m 19s) Loss: 0.5904(0.5904) \n"
          ],
          "name": "stdout"
        },
        {
          "output_type": "stream",
          "text": [
            "Epoch 20 - avg_train_loss: 0.7536  avg_val_loss: 0.8092  time: 39s\n",
            "Epoch 20 - Score: 0.837558186707557\n",
            "========== fold: 0 result ==========\n",
            "Score: 0.82847\n"
          ],
          "name": "stderr"
        },
        {
          "output_type": "stream",
          "text": [
            "EVAL: [49/50] Elapsed 0m 2s (remain 0m 0s) Loss: 1.2310(0.8092) \n"
          ],
          "name": "stdout"
        },
        {
          "output_type": "stream",
          "text": [
            "========== fold: 1 training ==========\n"
          ],
          "name": "stderr"
        },
        {
          "output_type": "stream",
          "text": [
            "Epoch: [1][0/196] Elapsed 0m 1s (remain 3m 25s) Loss: 1.8157(1.8157) Grad: 6.5848 LR: 0.001000  \n",
            "Epoch: [1][50/196] Elapsed 0m 10s (remain 0m 28s) Loss: 1.3067(1.1286) Grad: 9.2359 LR: 0.001000  \n",
            "Epoch: [1][100/196] Elapsed 0m 19s (remain 0m 18s) Loss: 0.9862(1.0417) Grad: 3.7951 LR: 0.001000  \n",
            "Epoch: [1][150/196] Elapsed 0m 28s (remain 0m 8s) Loss: 1.1689(1.0167) Grad: 3.7233 LR: 0.001000  \n",
            "Epoch: [1][195/196] Elapsed 0m 36s (remain 0m 0s) Loss: 0.9786(0.9975) Grad: 2.4739 LR: 0.001000  \n",
            "EVAL: [0/50] Elapsed 0m 0s (remain 0m 18s) Loss: 0.7348(0.7348) \n"
          ],
          "name": "stdout"
        },
        {
          "output_type": "stream",
          "text": [
            "Epoch 1 - avg_train_loss: 0.9975  avg_val_loss: 0.8650  time: 39s\n",
            "Epoch 1 - Score: 0.8750002081366544\n",
            "Epoch 1 - Save Best Score: 0.8750 Model\n"
          ],
          "name": "stderr"
        },
        {
          "output_type": "stream",
          "text": [
            "EVAL: [49/50] Elapsed 0m 2s (remain 0m 0s) Loss: 0.9958(0.8650) \n",
            "Epoch: [2][0/196] Elapsed 0m 0s (remain 2m 22s) Loss: 1.0025(1.0025) Grad: 2.3276 LR: 0.000994  \n",
            "Epoch: [2][50/196] Elapsed 0m 9s (remain 0m 27s) Loss: 0.8060(0.9223) Grad: 3.6249 LR: 0.000994  \n",
            "Epoch: [2][100/196] Elapsed 0m 18s (remain 0m 17s) Loss: 0.9145(0.9181) Grad: 3.8282 LR: 0.000994  \n",
            "Epoch: [2][150/196] Elapsed 0m 27s (remain 0m 8s) Loss: 1.0768(0.9051) Grad: 3.6106 LR: 0.000994  \n",
            "Epoch: [2][195/196] Elapsed 0m 36s (remain 0m 0s) Loss: 0.9697(0.9033) Grad: 4.6066 LR: 0.000994  \n",
            "EVAL: [0/50] Elapsed 0m 0s (remain 0m 22s) Loss: 0.8602(0.8602) \n"
          ],
          "name": "stdout"
        },
        {
          "output_type": "stream",
          "text": [
            "Epoch 2 - avg_train_loss: 0.9033  avg_val_loss: 0.8969  time: 39s\n",
            "Epoch 2 - Score: 0.8960401615883323\n"
          ],
          "name": "stderr"
        },
        {
          "output_type": "stream",
          "text": [
            "EVAL: [49/50] Elapsed 0m 2s (remain 0m 0s) Loss: 0.8449(0.8969) \n",
            "Epoch: [3][0/196] Elapsed 0m 0s (remain 2m 19s) Loss: 0.9775(0.9775) Grad: 4.2150 LR: 0.000978  \n",
            "Epoch: [3][50/196] Elapsed 0m 9s (remain 0m 27s) Loss: 0.9073(0.9335) Grad: 4.6088 LR: 0.000978  \n",
            "Epoch: [3][100/196] Elapsed 0m 18s (remain 0m 17s) Loss: 0.8132(0.9445) Grad: 4.9878 LR: 0.000978  \n",
            "Epoch: [3][150/196] Elapsed 0m 28s (remain 0m 8s) Loss: 0.8886(0.9300) Grad: 1.8506 LR: 0.000978  \n",
            "Epoch: [3][195/196] Elapsed 0m 36s (remain 0m 0s) Loss: 0.9496(0.9326) Grad: 1.8882 LR: 0.000978  \n",
            "EVAL: [0/50] Elapsed 0m 0s (remain 0m 17s) Loss: 0.7403(0.7403) \n"
          ],
          "name": "stdout"
        },
        {
          "output_type": "stream",
          "text": [
            "Epoch 3 - avg_train_loss: 0.9326  avg_val_loss: 0.8571  time: 39s\n",
            "Epoch 3 - Score: 0.8736780310022685\n",
            "Epoch 3 - Save Best Score: 0.8737 Model\n"
          ],
          "name": "stderr"
        },
        {
          "output_type": "stream",
          "text": [
            "EVAL: [49/50] Elapsed 0m 2s (remain 0m 0s) Loss: 1.0938(0.8571) \n",
            "Epoch: [4][0/196] Elapsed 0m 0s (remain 2m 36s) Loss: 1.0584(1.0584) Grad: 2.0463 LR: 0.000951  \n",
            "Epoch: [4][50/196] Elapsed 0m 9s (remain 0m 28s) Loss: 0.8688(0.9170) Grad: 2.4033 LR: 0.000951  \n",
            "Epoch: [4][100/196] Elapsed 0m 19s (remain 0m 17s) Loss: 0.8108(0.9247) Grad: 1.2670 LR: 0.000951  \n",
            "Epoch: [4][150/196] Elapsed 0m 28s (remain 0m 8s) Loss: 1.1508(0.9167) Grad: 2.3075 LR: 0.000951  \n",
            "Epoch: [4][195/196] Elapsed 0m 36s (remain 0m 0s) Loss: 0.9554(0.9207) Grad: 3.7234 LR: 0.000951  \n",
            "EVAL: [0/50] Elapsed 0m 0s (remain 0m 21s) Loss: 0.8079(0.8079) \n"
          ],
          "name": "stdout"
        },
        {
          "output_type": "stream",
          "text": [
            "Epoch 4 - avg_train_loss: 0.9207  avg_val_loss: 0.8552  time: 39s\n",
            "Epoch 4 - Score: 0.8719569512942718\n",
            "Epoch 4 - Save Best Score: 0.8720 Model\n"
          ],
          "name": "stderr"
        },
        {
          "output_type": "stream",
          "text": [
            "EVAL: [49/50] Elapsed 0m 2s (remain 0m 0s) Loss: 0.7609(0.8552) \n",
            "Epoch: [5][0/196] Elapsed 0m 0s (remain 2m 24s) Loss: 0.9895(0.9895) Grad: 1.0584 LR: 0.000914  \n",
            "Epoch: [5][50/196] Elapsed 0m 9s (remain 0m 28s) Loss: 0.7232(0.9061) Grad: 1.2427 LR: 0.000914  \n",
            "Epoch: [5][100/196] Elapsed 0m 18s (remain 0m 17s) Loss: 0.9358(0.9056) Grad: 0.9228 LR: 0.000914  \n",
            "Epoch: [5][150/196] Elapsed 0m 28s (remain 0m 8s) Loss: 0.6268(0.9099) Grad: 2.5022 LR: 0.000914  \n",
            "Epoch: [5][195/196] Elapsed 0m 36s (remain 0m 0s) Loss: 0.7299(0.9125) Grad: 1.4184 LR: 0.000914  \n",
            "EVAL: [0/50] Elapsed 0m 0s (remain 0m 16s) Loss: 0.7691(0.7691) \n"
          ],
          "name": "stdout"
        },
        {
          "output_type": "stream",
          "text": [
            "Epoch 5 - avg_train_loss: 0.9125  avg_val_loss: 0.8532  time: 39s\n",
            "Epoch 5 - Score: 0.892285620759791\n"
          ],
          "name": "stderr"
        },
        {
          "output_type": "stream",
          "text": [
            "EVAL: [49/50] Elapsed 0m 2s (remain 0m 0s) Loss: 0.9230(0.8532) \n",
            "Epoch: [6][0/196] Elapsed 0m 0s (remain 2m 21s) Loss: 0.9752(0.9752) Grad: 2.0604 LR: 0.000868  \n",
            "Epoch: [6][50/196] Elapsed 0m 9s (remain 0m 27s) Loss: 0.9516(0.9084) Grad: 1.8389 LR: 0.000868  \n",
            "Epoch: [6][100/196] Elapsed 0m 18s (remain 0m 17s) Loss: 0.8695(0.8954) Grad: 2.0098 LR: 0.000868  \n",
            "Epoch: [6][150/196] Elapsed 0m 28s (remain 0m 8s) Loss: 1.0444(0.9015) Grad: 2.8588 LR: 0.000868  \n",
            "Epoch: [6][195/196] Elapsed 0m 36s (remain 0m 0s) Loss: 0.7802(0.9060) Grad: 0.8608 LR: 0.000868  \n",
            "EVAL: [0/50] Elapsed 0m 0s (remain 0m 20s) Loss: 0.7147(0.7147) \n"
          ],
          "name": "stdout"
        },
        {
          "output_type": "stream",
          "text": [
            "Epoch 6 - avg_train_loss: 0.9060  avg_val_loss: 0.8476  time: 39s\n",
            "Epoch 6 - Score: 0.8835033931169416\n"
          ],
          "name": "stderr"
        },
        {
          "output_type": "stream",
          "text": [
            "EVAL: [49/50] Elapsed 0m 2s (remain 0m 0s) Loss: 0.9713(0.8476) \n",
            "Epoch: [7][0/196] Elapsed 0m 0s (remain 2m 27s) Loss: 1.1603(1.1603) Grad: 3.1463 LR: 0.000815  \n",
            "Epoch: [7][50/196] Elapsed 0m 9s (remain 0m 27s) Loss: 1.1905(0.9421) Grad: 1.2002 LR: 0.000815  \n",
            "Epoch: [7][100/196] Elapsed 0m 18s (remain 0m 17s) Loss: 0.6848(0.9179) Grad: 2.0141 LR: 0.000815  \n",
            "Epoch: [7][150/196] Elapsed 0m 27s (remain 0m 8s) Loss: 0.7321(0.9076) Grad: 3.4771 LR: 0.000815  \n",
            "Epoch: [7][195/196] Elapsed 0m 36s (remain 0m 0s) Loss: 1.0373(0.8989) Grad: 1.7954 LR: 0.000815  \n",
            "EVAL: [0/50] Elapsed 0m 0s (remain 0m 16s) Loss: 0.7634(0.7634) \n"
          ],
          "name": "stdout"
        },
        {
          "output_type": "stream",
          "text": [
            "Epoch 7 - avg_train_loss: 0.8989  avg_val_loss: 0.8208  time: 39s\n",
            "Epoch 7 - Score: 0.8587405021937288\n",
            "Epoch 7 - Save Best Score: 0.8587 Model\n"
          ],
          "name": "stderr"
        },
        {
          "output_type": "stream",
          "text": [
            "EVAL: [49/50] Elapsed 0m 2s (remain 0m 0s) Loss: 1.0357(0.8208) \n",
            "Epoch: [8][0/196] Elapsed 0m 0s (remain 2m 42s) Loss: 0.6780(0.6780) Grad: 0.9321 LR: 0.000754  \n",
            "Epoch: [8][50/196] Elapsed 0m 9s (remain 0m 28s) Loss: 0.7942(0.8891) Grad: 1.8012 LR: 0.000754  \n",
            "Epoch: [8][100/196] Elapsed 0m 19s (remain 0m 17s) Loss: 1.1125(0.8868) Grad: 1.7920 LR: 0.000754  \n",
            "Epoch: [8][150/196] Elapsed 0m 28s (remain 0m 8s) Loss: 0.7891(0.8959) Grad: 1.1774 LR: 0.000754  \n",
            "Epoch: [8][195/196] Elapsed 0m 36s (remain 0m 0s) Loss: 0.8003(0.8925) Grad: 2.3982 LR: 0.000754  \n",
            "EVAL: [0/50] Elapsed 0m 0s (remain 0m 21s) Loss: 0.7220(0.7220) \n"
          ],
          "name": "stdout"
        },
        {
          "output_type": "stream",
          "text": [
            "Epoch 8 - avg_train_loss: 0.8925  avg_val_loss: 0.8248  time: 39s\n",
            "Epoch 8 - Score: 0.8512214686001628\n",
            "Epoch 8 - Save Best Score: 0.8512 Model\n"
          ],
          "name": "stderr"
        },
        {
          "output_type": "stream",
          "text": [
            "EVAL: [49/50] Elapsed 0m 2s (remain 0m 0s) Loss: 0.8783(0.8248) \n",
            "Epoch: [9][0/196] Elapsed 0m 0s (remain 2m 40s) Loss: 0.7569(0.7569) Grad: 1.3742 LR: 0.000689  \n",
            "Epoch: [9][50/196] Elapsed 0m 9s (remain 0m 28s) Loss: 1.0897(0.8974) Grad: 1.6390 LR: 0.000689  \n",
            "Epoch: [9][100/196] Elapsed 0m 19s (remain 0m 17s) Loss: 0.9795(0.9166) Grad: 0.7744 LR: 0.000689  \n",
            "Epoch: [9][150/196] Elapsed 0m 28s (remain 0m 8s) Loss: 1.0847(0.8999) Grad: 1.8796 LR: 0.000689  \n",
            "Epoch: [9][195/196] Elapsed 0m 36s (remain 0m 0s) Loss: 0.9041(0.8954) Grad: 1.6815 LR: 0.000689  \n",
            "EVAL: [0/50] Elapsed 0m 0s (remain 0m 20s) Loss: 0.7277(0.7277) \n"
          ],
          "name": "stdout"
        },
        {
          "output_type": "stream",
          "text": [
            "Epoch 9 - avg_train_loss: 0.8954  avg_val_loss: 0.8017  time: 39s\n",
            "Epoch 9 - Score: 0.8417713359910534\n",
            "Epoch 9 - Save Best Score: 0.8418 Model\n"
          ],
          "name": "stderr"
        },
        {
          "output_type": "stream",
          "text": [
            "EVAL: [49/50] Elapsed 0m 2s (remain 0m 0s) Loss: 0.9167(0.8017) \n",
            "Epoch: [10][0/196] Elapsed 0m 0s (remain 2m 47s) Loss: 0.7609(0.7609) Grad: 2.0741 LR: 0.000620  \n",
            "Epoch: [10][50/196] Elapsed 0m 9s (remain 0m 28s) Loss: 0.8269(0.8852) Grad: 2.0922 LR: 0.000620  \n",
            "Epoch: [10][100/196] Elapsed 0m 18s (remain 0m 17s) Loss: 0.9369(0.8749) Grad: 2.3821 LR: 0.000620  \n",
            "Epoch: [10][150/196] Elapsed 0m 28s (remain 0m 8s) Loss: 0.9179(0.8732) Grad: 1.9018 LR: 0.000620  \n",
            "Epoch: [10][195/196] Elapsed 0m 36s (remain 0m 0s) Loss: 0.9685(0.8828) Grad: 1.2307 LR: 0.000620  \n",
            "EVAL: [0/50] Elapsed 0m 0s (remain 0m 16s) Loss: 0.6744(0.6744) \n"
          ],
          "name": "stdout"
        },
        {
          "output_type": "stream",
          "text": [
            "Epoch 10 - avg_train_loss: 0.8828  avg_val_loss: 0.8057  time: 39s\n",
            "Epoch 10 - Score: 0.8524863890678472\n"
          ],
          "name": "stderr"
        },
        {
          "output_type": "stream",
          "text": [
            "EVAL: [49/50] Elapsed 0m 2s (remain 0m 0s) Loss: 1.0589(0.8057) \n",
            "Epoch: [11][0/196] Elapsed 0m 0s (remain 2m 11s) Loss: 0.7687(0.7687) Grad: 1.1442 LR: 0.000550  \n",
            "Epoch: [11][50/196] Elapsed 0m 9s (remain 0m 27s) Loss: 0.6912(0.8979) Grad: 1.0830 LR: 0.000550  \n",
            "Epoch: [11][100/196] Elapsed 0m 18s (remain 0m 17s) Loss: 0.6930(0.8859) Grad: 2.1106 LR: 0.000550  \n",
            "Epoch: [11][150/196] Elapsed 0m 28s (remain 0m 8s) Loss: 0.6112(0.8881) Grad: 2.9619 LR: 0.000550  \n",
            "Epoch: [11][195/196] Elapsed 0m 36s (remain 0m 0s) Loss: 0.6850(0.8836) Grad: 1.9104 LR: 0.000550  \n",
            "EVAL: [0/50] Elapsed 0m 0s (remain 0m 20s) Loss: 0.8183(0.8183) \n"
          ],
          "name": "stdout"
        },
        {
          "output_type": "stream",
          "text": [
            "Epoch 11 - avg_train_loss: 0.8836  avg_val_loss: 0.8261  time: 39s\n",
            "Epoch 11 - Score: 0.8501590056636802\n"
          ],
          "name": "stderr"
        },
        {
          "output_type": "stream",
          "text": [
            "EVAL: [49/50] Elapsed 0m 2s (remain 0m 0s) Loss: 1.0941(0.8261) \n",
            "Epoch: [12][0/196] Elapsed 0m 0s (remain 1m 57s) Loss: 0.6874(0.6874) Grad: 1.7784 LR: 0.000480  \n",
            "Epoch: [12][50/196] Elapsed 0m 9s (remain 0m 27s) Loss: 0.7586(0.8638) Grad: 1.1338 LR: 0.000480  \n",
            "Epoch: [12][100/196] Elapsed 0m 18s (remain 0m 17s) Loss: 1.0486(0.8850) Grad: 3.1112 LR: 0.000480  \n",
            "Epoch: [12][150/196] Elapsed 0m 27s (remain 0m 8s) Loss: 0.5615(0.8762) Grad: 1.8942 LR: 0.000480  \n",
            "Epoch: [12][195/196] Elapsed 0m 36s (remain 0m 0s) Loss: 0.6832(0.8724) Grad: 3.2278 LR: 0.000480  \n",
            "EVAL: [0/50] Elapsed 0m 0s (remain 0m 21s) Loss: 0.7912(0.7912) \n"
          ],
          "name": "stdout"
        },
        {
          "output_type": "stream",
          "text": [
            "Epoch 12 - avg_train_loss: 0.8724  avg_val_loss: 0.8243  time: 39s\n",
            "Epoch 12 - Score: 0.8449196822915198\n"
          ],
          "name": "stderr"
        },
        {
          "output_type": "stream",
          "text": [
            "EVAL: [49/50] Elapsed 0m 2s (remain 0m 0s) Loss: 1.0217(0.8243) \n",
            "Epoch: [13][0/196] Elapsed 0m 0s (remain 2m 10s) Loss: 0.8309(0.8309) Grad: 1.8373 LR: 0.000411  \n",
            "Epoch: [13][50/196] Elapsed 0m 9s (remain 0m 27s) Loss: 0.8124(0.8937) Grad: 1.6550 LR: 0.000411  \n",
            "Epoch: [13][100/196] Elapsed 0m 18s (remain 0m 17s) Loss: 1.0451(0.8898) Grad: 1.8376 LR: 0.000411  \n",
            "Epoch: [13][150/196] Elapsed 0m 27s (remain 0m 8s) Loss: 1.0021(0.8739) Grad: 2.2219 LR: 0.000411  \n",
            "Epoch: [13][195/196] Elapsed 0m 36s (remain 0m 0s) Loss: 0.8771(0.8618) Grad: 2.1704 LR: 0.000411  \n",
            "EVAL: [0/50] Elapsed 0m 0s (remain 0m 20s) Loss: 0.7235(0.7235) \n"
          ],
          "name": "stdout"
        },
        {
          "output_type": "stream",
          "text": [
            "Epoch 13 - avg_train_loss: 0.8618  avg_val_loss: 0.7913  time: 39s\n",
            "Epoch 13 - Score: 0.8299489929620703\n",
            "Epoch 13 - Save Best Score: 0.8299 Model\n"
          ],
          "name": "stderr"
        },
        {
          "output_type": "stream",
          "text": [
            "EVAL: [49/50] Elapsed 0m 2s (remain 0m 0s) Loss: 1.0375(0.7913) \n",
            "Epoch: [14][0/196] Elapsed 0m 0s (remain 2m 32s) Loss: 0.6655(0.6655) Grad: 1.2506 LR: 0.000346  \n",
            "Epoch: [14][50/196] Elapsed 0m 9s (remain 0m 28s) Loss: 0.8882(0.8260) Grad: 1.4046 LR: 0.000346  \n",
            "Epoch: [14][100/196] Elapsed 0m 18s (remain 0m 17s) Loss: 0.8005(0.8436) Grad: 1.5502 LR: 0.000346  \n",
            "Epoch: [14][150/196] Elapsed 0m 28s (remain 0m 8s) Loss: 0.7868(0.8453) Grad: 1.5009 LR: 0.000346  \n",
            "Epoch: [14][195/196] Elapsed 0m 36s (remain 0m 0s) Loss: 0.8874(0.8509) Grad: 1.7065 LR: 0.000346  \n",
            "EVAL: [0/50] Elapsed 0m 0s (remain 0m 21s) Loss: 0.8786(0.8786) \n"
          ],
          "name": "stdout"
        },
        {
          "output_type": "stream",
          "text": [
            "Epoch 14 - avg_train_loss: 0.8509  avg_val_loss: 0.8648  time: 39s\n",
            "Epoch 14 - Score: 0.8865607521099834\n"
          ],
          "name": "stderr"
        },
        {
          "output_type": "stream",
          "text": [
            "EVAL: [49/50] Elapsed 0m 2s (remain 0m 0s) Loss: 1.2166(0.8648) \n",
            "Epoch: [15][0/196] Elapsed 0m 0s (remain 2m 19s) Loss: 0.8083(0.8083) Grad: 0.9266 LR: 0.000285  \n",
            "Epoch: [15][50/196] Elapsed 0m 9s (remain 0m 27s) Loss: 0.7333(0.8560) Grad: 1.5920 LR: 0.000285  \n",
            "Epoch: [15][100/196] Elapsed 0m 18s (remain 0m 17s) Loss: 0.9362(0.8747) Grad: 1.7494 LR: 0.000285  \n",
            "Epoch: [15][150/196] Elapsed 0m 28s (remain 0m 8s) Loss: 0.7512(0.8619) Grad: 1.8453 LR: 0.000285  \n",
            "Epoch: [15][195/196] Elapsed 0m 36s (remain 0m 0s) Loss: 0.7852(0.8628) Grad: 1.6398 LR: 0.000285  \n",
            "EVAL: [0/50] Elapsed 0m 0s (remain 0m 21s) Loss: 0.8426(0.8426) \n"
          ],
          "name": "stdout"
        },
        {
          "output_type": "stream",
          "text": [
            "Epoch 15 - avg_train_loss: 0.8628  avg_val_loss: 0.8217  time: 39s\n",
            "Epoch 15 - Score: 0.864739105134259\n"
          ],
          "name": "stderr"
        },
        {
          "output_type": "stream",
          "text": [
            "EVAL: [49/50] Elapsed 0m 2s (remain 0m 0s) Loss: 1.0443(0.8217) \n",
            "Epoch: [16][0/196] Elapsed 0m 0s (remain 2m 3s) Loss: 0.7234(0.7234) Grad: 2.3305 LR: 0.000232  \n",
            "Epoch: [16][50/196] Elapsed 0m 9s (remain 0m 27s) Loss: 0.5919(0.8347) Grad: 1.6001 LR: 0.000232  \n",
            "Epoch: [16][100/196] Elapsed 0m 18s (remain 0m 17s) Loss: 0.7289(0.8214) Grad: 2.4350 LR: 0.000232  \n",
            "Epoch: [16][150/196] Elapsed 0m 27s (remain 0m 8s) Loss: 0.7643(0.8247) Grad: 4.2610 LR: 0.000232  \n",
            "Epoch: [16][195/196] Elapsed 0m 35s (remain 0m 0s) Loss: 0.7135(0.8388) Grad: 2.7097 LR: 0.000232  \n",
            "EVAL: [0/50] Elapsed 0m 0s (remain 0m 16s) Loss: 0.8020(0.8020) \n"
          ],
          "name": "stdout"
        },
        {
          "output_type": "stream",
          "text": [
            "Epoch 16 - avg_train_loss: 0.8388  avg_val_loss: 0.7736  time: 39s\n",
            "Epoch 16 - Score: 0.8138458677657543\n",
            "Epoch 16 - Save Best Score: 0.8138 Model\n"
          ],
          "name": "stderr"
        },
        {
          "output_type": "stream",
          "text": [
            "EVAL: [49/50] Elapsed 0m 2s (remain 0m 0s) Loss: 1.0587(0.7736) \n",
            "Epoch: [17][0/196] Elapsed 0m 0s (remain 2m 22s) Loss: 0.7007(0.7007) Grad: 1.4147 LR: 0.000186  \n",
            "Epoch: [17][50/196] Elapsed 0m 9s (remain 0m 27s) Loss: 0.7510(0.8190) Grad: 1.3816 LR: 0.000186  \n",
            "Epoch: [17][100/196] Elapsed 0m 18s (remain 0m 17s) Loss: 0.7565(0.8171) Grad: 2.5528 LR: 0.000186  \n",
            "Epoch: [17][150/196] Elapsed 0m 27s (remain 0m 8s) Loss: 0.7487(0.8180) Grad: 2.4177 LR: 0.000186  \n",
            "Epoch: [17][195/196] Elapsed 0m 36s (remain 0m 0s) Loss: 0.9412(0.8300) Grad: 5.9133 LR: 0.000186  \n",
            "EVAL: [0/50] Elapsed 0m 0s (remain 0m 17s) Loss: 0.8518(0.8518) \n"
          ],
          "name": "stdout"
        },
        {
          "output_type": "stream",
          "text": [
            "Epoch 17 - avg_train_loss: 0.8300  avg_val_loss: 0.8134  time: 39s\n",
            "Epoch 17 - Score: 0.8493794818865056\n"
          ],
          "name": "stderr"
        },
        {
          "output_type": "stream",
          "text": [
            "EVAL: [49/50] Elapsed 0m 2s (remain 0m 0s) Loss: 1.0417(0.8134) \n",
            "Epoch: [18][0/196] Elapsed 0m 0s (remain 2m 2s) Loss: 0.5517(0.5517) Grad: 1.4609 LR: 0.000149  \n",
            "Epoch: [18][50/196] Elapsed 0m 9s (remain 0m 27s) Loss: 0.7508(0.8190) Grad: 2.4338 LR: 0.000149  \n",
            "Epoch: [18][100/196] Elapsed 0m 18s (remain 0m 17s) Loss: 0.9288(0.8041) Grad: 2.4082 LR: 0.000149  \n",
            "Epoch: [18][150/196] Elapsed 0m 27s (remain 0m 8s) Loss: 0.7739(0.8186) Grad: 4.0676 LR: 0.000149  \n",
            "Epoch: [18][195/196] Elapsed 0m 35s (remain 0m 0s) Loss: 0.9160(0.8293) Grad: 2.1491 LR: 0.000149  \n",
            "EVAL: [0/50] Elapsed 0m 0s (remain 0m 21s) Loss: 0.8058(0.8058) \n"
          ],
          "name": "stdout"
        },
        {
          "output_type": "stream",
          "text": [
            "Epoch 18 - avg_train_loss: 0.8293  avg_val_loss: 0.7802  time: 39s\n",
            "Epoch 18 - Score: 0.8149671062392256\n"
          ],
          "name": "stderr"
        },
        {
          "output_type": "stream",
          "text": [
            "EVAL: [49/50] Elapsed 0m 2s (remain 0m 0s) Loss: 1.0117(0.7802) \n",
            "Epoch: [19][0/196] Elapsed 0m 0s (remain 1m 59s) Loss: 0.7159(0.7159) Grad: 2.0585 LR: 0.000122  \n",
            "Epoch: [19][50/196] Elapsed 0m 9s (remain 0m 27s) Loss: 0.5921(0.7640) Grad: 1.3978 LR: 0.000122  \n",
            "Epoch: [19][100/196] Elapsed 0m 18s (remain 0m 17s) Loss: 0.7407(0.7763) Grad: 2.8635 LR: 0.000122  \n",
            "Epoch: [19][150/196] Elapsed 0m 27s (remain 0m 8s) Loss: 0.9468(0.7859) Grad: 3.4316 LR: 0.000122  \n",
            "Epoch: [19][195/196] Elapsed 0m 36s (remain 0m 0s) Loss: 0.9121(0.7900) Grad: 3.1992 LR: 0.000122  \n",
            "EVAL: [0/50] Elapsed 0m 0s (remain 0m 21s) Loss: 0.7345(0.7345) \n"
          ],
          "name": "stdout"
        },
        {
          "output_type": "stream",
          "text": [
            "Epoch 19 - avg_train_loss: 0.7900  avg_val_loss: 0.7535  time: 39s\n",
            "Epoch 19 - Score: 0.7989013820792982\n",
            "Epoch 19 - Save Best Score: 0.7989 Model\n"
          ],
          "name": "stderr"
        },
        {
          "output_type": "stream",
          "text": [
            "EVAL: [49/50] Elapsed 0m 2s (remain 0m 0s) Loss: 1.0266(0.7535) \n",
            "Epoch: [20][0/196] Elapsed 0m 0s (remain 2m 16s) Loss: 0.8692(0.8692) Grad: 1.6678 LR: 0.000106  \n",
            "Epoch: [20][50/196] Elapsed 0m 9s (remain 0m 27s) Loss: 0.6872(0.7889) Grad: 4.0069 LR: 0.000106  \n",
            "Epoch: [20][100/196] Elapsed 0m 18s (remain 0m 17s) Loss: 0.6664(0.7739) Grad: 1.8754 LR: 0.000106  \n",
            "Epoch: [20][150/196] Elapsed 0m 27s (remain 0m 8s) Loss: 0.6768(0.7680) Grad: 3.4996 LR: 0.000106  \n",
            "Epoch: [20][195/196] Elapsed 0m 36s (remain 0m 0s) Loss: 0.5739(0.7672) Grad: 2.5271 LR: 0.000106  \n",
            "EVAL: [0/50] Elapsed 0m 0s (remain 0m 22s) Loss: 0.7245(0.7245) \n"
          ],
          "name": "stdout"
        },
        {
          "output_type": "stream",
          "text": [
            "Epoch 20 - avg_train_loss: 0.7672  avg_val_loss: 0.7442  time: 39s\n",
            "Epoch 20 - Score: 0.7877959023912514\n",
            "Epoch 20 - Save Best Score: 0.7878 Model\n"
          ],
          "name": "stderr"
        },
        {
          "output_type": "stream",
          "text": [
            "EVAL: [49/50] Elapsed 0m 2s (remain 0m 0s) Loss: 1.0272(0.7442) \n"
          ],
          "name": "stdout"
        },
        {
          "output_type": "stream",
          "text": [
            "========== fold: 1 result ==========\n",
            "Score: 0.78780\n",
            "========== fold: 2 training ==========\n"
          ],
          "name": "stderr"
        },
        {
          "output_type": "stream",
          "text": [
            "Epoch: [1][0/197] Elapsed 0m 0s (remain 1m 55s) Loss: 2.0906(2.0906) Grad: 9.1091 LR: 0.001000  \n",
            "Epoch: [1][50/197] Elapsed 0m 9s (remain 0m 27s) Loss: 1.0947(1.1967) Grad: 5.8492 LR: 0.001000  \n",
            "Epoch: [1][100/197] Elapsed 0m 18s (remain 0m 17s) Loss: 1.2821(1.0842) Grad: 5.1541 LR: 0.001000  \n",
            "Epoch: [1][150/197] Elapsed 0m 27s (remain 0m 8s) Loss: 1.0389(1.0491) Grad: 3.9083 LR: 0.001000  \n",
            "Epoch: [1][196/197] Elapsed 0m 36s (remain 0m 0s) Loss: 0.6262(1.0171) Grad: 4.2956 LR: 0.001000  \n",
            "EVAL: [0/49] Elapsed 0m 0s (remain 0m 15s) Loss: 0.8512(0.8512) \n"
          ],
          "name": "stdout"
        },
        {
          "output_type": "stream",
          "text": [
            "Epoch 1 - avg_train_loss: 1.0171  avg_val_loss: 1.6322  time: 39s\n",
            "Epoch 1 - Score: 0.9485063631715872\n",
            "Epoch 1 - Save Best Score: 0.9485 Model\n"
          ],
          "name": "stderr"
        },
        {
          "output_type": "stream",
          "text": [
            "EVAL: [48/49] Elapsed 0m 2s (remain 0m 0s) Loss: 2.3558(1.6322) \n",
            "Epoch: [2][0/197] Elapsed 0m 0s (remain 2m 4s) Loss: 1.0318(1.0318) Grad: 4.9671 LR: 0.000994  \n",
            "Epoch: [2][50/197] Elapsed 0m 9s (remain 0m 27s) Loss: 1.3720(0.9000) Grad: 5.6560 LR: 0.000994  \n",
            "Epoch: [2][100/197] Elapsed 0m 18s (remain 0m 17s) Loss: 0.7255(0.9081) Grad: 2.8307 LR: 0.000994  \n",
            "Epoch: [2][150/197] Elapsed 0m 27s (remain 0m 8s) Loss: 0.6607(0.8976) Grad: 4.2438 LR: 0.000994  \n",
            "Epoch: [2][196/197] Elapsed 0m 36s (remain 0m 0s) Loss: 0.8532(0.8893) Grad: 4.6380 LR: 0.000994  \n",
            "EVAL: [0/49] Elapsed 0m 0s (remain 0m 21s) Loss: 0.5596(0.5596) \n"
          ],
          "name": "stdout"
        },
        {
          "output_type": "stream",
          "text": [
            "Epoch 2 - avg_train_loss: 0.8893  avg_val_loss: 0.9995  time: 39s\n",
            "Epoch 2 - Score: 0.883304420557173\n",
            "Epoch 2 - Save Best Score: 0.8833 Model\n"
          ],
          "name": "stderr"
        },
        {
          "output_type": "stream",
          "text": [
            "EVAL: [48/49] Elapsed 0m 2s (remain 0m 0s) Loss: 0.9580(0.9995) \n",
            "Epoch: [3][0/197] Elapsed 0m 0s (remain 2m 41s) Loss: 1.1529(1.1529) Grad: 2.7542 LR: 0.000978  \n",
            "Epoch: [3][50/197] Elapsed 0m 9s (remain 0m 28s) Loss: 0.9972(0.9334) Grad: 1.4611 LR: 0.000978  \n",
            "Epoch: [3][100/197] Elapsed 0m 19s (remain 0m 18s) Loss: 1.0732(0.9297) Grad: 3.5789 LR: 0.000978  \n",
            "Epoch: [3][150/197] Elapsed 0m 28s (remain 0m 8s) Loss: 0.8085(0.9194) Grad: 2.4496 LR: 0.000978  \n",
            "Epoch: [3][196/197] Elapsed 0m 36s (remain 0m 0s) Loss: 1.1349(0.9308) Grad: 1.7542 LR: 0.000978  \n",
            "EVAL: [0/49] Elapsed 0m 0s (remain 0m 21s) Loss: 0.7415(0.7415) \n"
          ],
          "name": "stdout"
        },
        {
          "output_type": "stream",
          "text": [
            "Epoch 3 - avg_train_loss: 0.9308  avg_val_loss: 0.8831  time: 39s\n",
            "Epoch 3 - Score: 0.9083019149314439\n"
          ],
          "name": "stderr"
        },
        {
          "output_type": "stream",
          "text": [
            "EVAL: [48/49] Elapsed 0m 2s (remain 0m 0s) Loss: 1.0213(0.8831) \n",
            "Epoch: [4][0/197] Elapsed 0m 0s (remain 2m 24s) Loss: 0.9647(0.9647) Grad: 3.7404 LR: 0.000951  \n",
            "Epoch: [4][50/197] Elapsed 0m 9s (remain 0m 28s) Loss: 0.9695(0.9531) Grad: 2.5668 LR: 0.000951  \n",
            "Epoch: [4][100/197] Elapsed 0m 18s (remain 0m 18s) Loss: 1.0856(0.9455) Grad: 1.6850 LR: 0.000951  \n",
            "Epoch: [4][150/197] Elapsed 0m 28s (remain 0m 8s) Loss: 0.8076(0.9295) Grad: 0.8137 LR: 0.000951  \n",
            "Epoch: [4][196/197] Elapsed 0m 36s (remain 0m 0s) Loss: 0.8274(0.9292) Grad: 1.0627 LR: 0.000951  \n",
            "EVAL: [0/49] Elapsed 0m 0s (remain 0m 16s) Loss: 0.7284(0.7284) \n"
          ],
          "name": "stdout"
        },
        {
          "output_type": "stream",
          "text": [
            "Epoch 4 - avg_train_loss: 0.9292  avg_val_loss: 0.8505  time: 39s\n",
            "Epoch 4 - Score: 0.8890563078622098\n"
          ],
          "name": "stderr"
        },
        {
          "output_type": "stream",
          "text": [
            "EVAL: [48/49] Elapsed 0m 2s (remain 0m 0s) Loss: 0.8723(0.8505) \n",
            "Epoch: [5][0/197] Elapsed 0m 0s (remain 1m 58s) Loss: 0.9298(0.9298) Grad: 3.4407 LR: 0.000914  \n",
            "Epoch: [5][50/197] Elapsed 0m 9s (remain 0m 27s) Loss: 1.0961(0.9268) Grad: 1.7012 LR: 0.000914  \n",
            "Epoch: [5][100/197] Elapsed 0m 18s (remain 0m 17s) Loss: 0.7722(0.9183) Grad: 1.6248 LR: 0.000914  \n",
            "Epoch: [5][150/197] Elapsed 0m 27s (remain 0m 8s) Loss: 0.9952(0.9196) Grad: 2.4305 LR: 0.000914  \n",
            "Epoch: [5][196/197] Elapsed 0m 36s (remain 0m 0s) Loss: 0.8894(0.9128) Grad: 3.2500 LR: 0.000914  \n",
            "EVAL: [0/49] Elapsed 0m 0s (remain 0m 15s) Loss: 0.7649(0.7649) \n"
          ],
          "name": "stdout"
        },
        {
          "output_type": "stream",
          "text": [
            "Epoch 5 - avg_train_loss: 0.9128  avg_val_loss: 0.8338  time: 39s\n",
            "Epoch 5 - Score: 0.8833884042566589\n"
          ],
          "name": "stderr"
        },
        {
          "output_type": "stream",
          "text": [
            "EVAL: [48/49] Elapsed 0m 2s (remain 0m 0s) Loss: 0.9666(0.8338) \n",
            "Epoch: [6][0/197] Elapsed 0m 0s (remain 2m 9s) Loss: 1.1845(1.1845) Grad: 3.3290 LR: 0.000868  \n",
            "Epoch: [6][50/197] Elapsed 0m 9s (remain 0m 28s) Loss: 0.9907(0.9005) Grad: 1.0606 LR: 0.000868  \n",
            "Epoch: [6][100/197] Elapsed 0m 18s (remain 0m 17s) Loss: 1.0578(0.9189) Grad: 2.7938 LR: 0.000868  \n",
            "Epoch: [6][150/197] Elapsed 0m 27s (remain 0m 8s) Loss: 0.8557(0.9119) Grad: 2.5723 LR: 0.000868  \n",
            "Epoch: [6][196/197] Elapsed 0m 36s (remain 0m 0s) Loss: 0.9664(0.9086) Grad: 1.3306 LR: 0.000868  \n",
            "EVAL: [0/49] Elapsed 0m 0s (remain 0m 21s) Loss: 1.0190(1.0190) \n"
          ],
          "name": "stdout"
        },
        {
          "output_type": "stream",
          "text": [
            "Epoch 6 - avg_train_loss: 0.9086  avg_val_loss: 0.9553  time: 39s\n",
            "Epoch 6 - Score: 0.963692538548883\n"
          ],
          "name": "stderr"
        },
        {
          "output_type": "stream",
          "text": [
            "EVAL: [48/49] Elapsed 0m 2s (remain 0m 0s) Loss: 0.9777(0.9553) \n",
            "Epoch: [7][0/197] Elapsed 0m 0s (remain 2m 18s) Loss: 1.0786(1.0786) Grad: 2.0995 LR: 0.000815  \n",
            "Epoch: [7][50/197] Elapsed 0m 9s (remain 0m 27s) Loss: 0.8965(0.9579) Grad: 1.6719 LR: 0.000815  \n",
            "Epoch: [7][100/197] Elapsed 0m 18s (remain 0m 17s) Loss: 0.7809(0.9198) Grad: 0.8136 LR: 0.000815  \n",
            "Epoch: [7][150/197] Elapsed 0m 27s (remain 0m 8s) Loss: 0.9231(0.9055) Grad: 2.2897 LR: 0.000815  \n",
            "Epoch: [7][196/197] Elapsed 0m 36s (remain 0m 0s) Loss: 0.8368(0.9033) Grad: 2.7821 LR: 0.000815  \n",
            "EVAL: [0/49] Elapsed 0m 0s (remain 0m 20s) Loss: 0.8788(0.8788) \n"
          ],
          "name": "stdout"
        },
        {
          "output_type": "stream",
          "text": [
            "Epoch 7 - avg_train_loss: 0.9033  avg_val_loss: 0.8715  time: 39s\n",
            "Epoch 7 - Score: 0.8983387031158754\n"
          ],
          "name": "stderr"
        },
        {
          "output_type": "stream",
          "text": [
            "EVAL: [48/49] Elapsed 0m 2s (remain 0m 0s) Loss: 0.8925(0.8715) \n",
            "Epoch: [8][0/197] Elapsed 0m 0s (remain 2m 19s) Loss: 0.9378(0.9378) Grad: 1.0590 LR: 0.000754  \n",
            "Epoch: [8][50/197] Elapsed 0m 9s (remain 0m 28s) Loss: 0.8085(0.8667) Grad: 1.6793 LR: 0.000754  \n",
            "Epoch: [8][100/197] Elapsed 0m 18s (remain 0m 17s) Loss: 0.9759(0.8839) Grad: 3.2514 LR: 0.000754  \n",
            "Epoch: [8][150/197] Elapsed 0m 28s (remain 0m 8s) Loss: 0.7257(0.8828) Grad: 3.6565 LR: 0.000754  \n",
            "Epoch: [8][196/197] Elapsed 0m 36s (remain 0m 0s) Loss: 1.0092(0.8921) Grad: 2.0259 LR: 0.000754  \n",
            "EVAL: [0/49] Elapsed 0m 0s (remain 0m 16s) Loss: 0.8467(0.8467) \n"
          ],
          "name": "stdout"
        },
        {
          "output_type": "stream",
          "text": [
            "Epoch 8 - avg_train_loss: 0.8921  avg_val_loss: 0.8316  time: 39s\n",
            "Epoch 8 - Score: 0.8684381324159361\n",
            "Epoch 8 - Save Best Score: 0.8684 Model\n"
          ],
          "name": "stderr"
        },
        {
          "output_type": "stream",
          "text": [
            "EVAL: [48/49] Elapsed 0m 2s (remain 0m 0s) Loss: 0.9570(0.8316) \n",
            "Epoch: [9][0/197] Elapsed 0m 0s (remain 2m 40s) Loss: 0.9062(0.9062) Grad: 1.2316 LR: 0.000689  \n",
            "Epoch: [9][50/197] Elapsed 0m 9s (remain 0m 28s) Loss: 1.0386(0.8804) Grad: 2.1848 LR: 0.000689  \n",
            "Epoch: [9][100/197] Elapsed 0m 18s (remain 0m 18s) Loss: 0.7114(0.8775) Grad: 2.3981 LR: 0.000689  \n",
            "Epoch: [9][150/197] Elapsed 0m 28s (remain 0m 8s) Loss: 0.8767(0.8754) Grad: 1.1566 LR: 0.000689  \n",
            "Epoch: [9][196/197] Elapsed 0m 36s (remain 0m 0s) Loss: 0.7907(0.8833) Grad: 2.3150 LR: 0.000689  \n",
            "EVAL: [0/49] Elapsed 0m 0s (remain 0m 17s) Loss: 0.8233(0.8233) \n"
          ],
          "name": "stdout"
        },
        {
          "output_type": "stream",
          "text": [
            "Epoch 9 - avg_train_loss: 0.8833  avg_val_loss: 0.8918  time: 39s\n",
            "Epoch 9 - Score: 0.9341461376163365\n"
          ],
          "name": "stderr"
        },
        {
          "output_type": "stream",
          "text": [
            "EVAL: [48/49] Elapsed 0m 2s (remain 0m 0s) Loss: 1.0175(0.8918) \n",
            "Epoch: [10][0/197] Elapsed 0m 0s (remain 2m 23s) Loss: 0.9774(0.9774) Grad: 2.3282 LR: 0.000620  \n",
            "Epoch: [10][50/197] Elapsed 0m 9s (remain 0m 28s) Loss: 0.9943(0.8833) Grad: 1.3829 LR: 0.000620  \n",
            "Epoch: [10][100/197] Elapsed 0m 18s (remain 0m 17s) Loss: 1.0196(0.9062) Grad: 0.9855 LR: 0.000620  \n",
            "Epoch: [10][150/197] Elapsed 0m 27s (remain 0m 8s) Loss: 0.8619(0.8888) Grad: 1.4574 LR: 0.000620  \n",
            "Epoch: [10][196/197] Elapsed 0m 36s (remain 0m 0s) Loss: 0.9376(0.8858) Grad: 1.6754 LR: 0.000620  \n",
            "EVAL: [0/49] Elapsed 0m 0s (remain 0m 21s) Loss: 0.8700(0.8700) \n"
          ],
          "name": "stdout"
        },
        {
          "output_type": "stream",
          "text": [
            "Epoch 10 - avg_train_loss: 0.8858  avg_val_loss: 0.8387  time: 39s\n",
            "Epoch 10 - Score: 0.8676912882906059\n",
            "Epoch 10 - Save Best Score: 0.8677 Model\n"
          ],
          "name": "stderr"
        },
        {
          "output_type": "stream",
          "text": [
            "EVAL: [48/49] Elapsed 0m 2s (remain 0m 0s) Loss: 0.9932(0.8387) \n",
            "Epoch: [11][0/197] Elapsed 0m 0s (remain 2m 23s) Loss: 0.9035(0.9035) Grad: 1.8814 LR: 0.000550  \n",
            "Epoch: [11][50/197] Elapsed 0m 9s (remain 0m 28s) Loss: 1.1622(0.8784) Grad: 3.3476 LR: 0.000550  \n",
            "Epoch: [11][100/197] Elapsed 0m 18s (remain 0m 17s) Loss: 0.8145(0.8905) Grad: 1.7693 LR: 0.000550  \n",
            "Epoch: [11][150/197] Elapsed 0m 27s (remain 0m 8s) Loss: 0.7426(0.8858) Grad: 2.0755 LR: 0.000550  \n",
            "Epoch: [11][196/197] Elapsed 0m 36s (remain 0m 0s) Loss: 0.7962(0.8804) Grad: 1.5488 LR: 0.000550  \n",
            "EVAL: [0/49] Elapsed 0m 0s (remain 0m 20s) Loss: 0.7774(0.7774) \n"
          ],
          "name": "stdout"
        },
        {
          "output_type": "stream",
          "text": [
            "Epoch 11 - avg_train_loss: 0.8804  avg_val_loss: 0.8268  time: 39s\n",
            "Epoch 11 - Score: 0.8698840039698533\n"
          ],
          "name": "stderr"
        },
        {
          "output_type": "stream",
          "text": [
            "EVAL: [48/49] Elapsed 0m 2s (remain 0m 0s) Loss: 0.9886(0.8268) \n",
            "Epoch: [12][0/197] Elapsed 0m 0s (remain 2m 22s) Loss: 0.7603(0.7603) Grad: 1.5401 LR: 0.000480  \n",
            "Epoch: [12][50/197] Elapsed 0m 9s (remain 0m 28s) Loss: 1.0658(0.9274) Grad: 1.3487 LR: 0.000480  \n",
            "Epoch: [12][100/197] Elapsed 0m 18s (remain 0m 17s) Loss: 0.8989(0.8874) Grad: 2.7618 LR: 0.000480  \n",
            "Epoch: [12][150/197] Elapsed 0m 27s (remain 0m 8s) Loss: 1.0597(0.8778) Grad: 1.4045 LR: 0.000480  \n",
            "Epoch: [12][196/197] Elapsed 0m 36s (remain 0m 0s) Loss: 0.8390(0.8765) Grad: 1.2374 LR: 0.000480  \n",
            "EVAL: [0/49] Elapsed 0m 0s (remain 0m 21s) Loss: 0.7651(0.7651) \n"
          ],
          "name": "stdout"
        },
        {
          "output_type": "stream",
          "text": [
            "Epoch 12 - avg_train_loss: 0.8765  avg_val_loss: 0.8099  time: 39s\n",
            "Epoch 12 - Score: 0.859474343986701\n",
            "Epoch 12 - Save Best Score: 0.8595 Model\n"
          ],
          "name": "stderr"
        },
        {
          "output_type": "stream",
          "text": [
            "EVAL: [48/49] Elapsed 0m 2s (remain 0m 0s) Loss: 0.8532(0.8099) \n",
            "Epoch: [13][0/197] Elapsed 0m 0s (remain 2m 36s) Loss: 0.9313(0.9313) Grad: 2.8534 LR: 0.000411  \n",
            "Epoch: [13][50/197] Elapsed 0m 9s (remain 0m 28s) Loss: 1.0632(0.8888) Grad: 2.1915 LR: 0.000411  \n",
            "Epoch: [13][100/197] Elapsed 0m 18s (remain 0m 18s) Loss: 0.7991(0.8740) Grad: 2.1719 LR: 0.000411  \n",
            "Epoch: [13][150/197] Elapsed 0m 28s (remain 0m 8s) Loss: 0.7805(0.8728) Grad: 1.3817 LR: 0.000411  \n",
            "Epoch: [13][196/197] Elapsed 0m 36s (remain 0m 0s) Loss: 0.8824(0.8778) Grad: 3.0849 LR: 0.000411  \n",
            "EVAL: [0/49] Elapsed 0m 0s (remain 0m 15s) Loss: 0.8219(0.8219) \n"
          ],
          "name": "stdout"
        },
        {
          "output_type": "stream",
          "text": [
            "Epoch 13 - avg_train_loss: 0.8778  avg_val_loss: 0.8175  time: 39s\n",
            "Epoch 13 - Score: 0.8499602276727973\n",
            "Epoch 13 - Save Best Score: 0.8500 Model\n"
          ],
          "name": "stderr"
        },
        {
          "output_type": "stream",
          "text": [
            "EVAL: [48/49] Elapsed 0m 2s (remain 0m 0s) Loss: 0.8759(0.8175) \n",
            "Epoch: [14][0/197] Elapsed 0m 0s (remain 2m 48s) Loss: 0.9431(0.9431) Grad: 1.2872 LR: 0.000346  \n",
            "Epoch: [14][50/197] Elapsed 0m 9s (remain 0m 28s) Loss: 0.9500(0.8416) Grad: 1.4076 LR: 0.000346  \n",
            "Epoch: [14][100/197] Elapsed 0m 19s (remain 0m 18s) Loss: 1.0003(0.8632) Grad: 1.6429 LR: 0.000346  \n",
            "Epoch: [14][150/197] Elapsed 0m 28s (remain 0m 8s) Loss: 0.9396(0.8670) Grad: 1.5650 LR: 0.000346  \n",
            "Epoch: [14][196/197] Elapsed 0m 36s (remain 0m 0s) Loss: 0.8611(0.8639) Grad: 1.2811 LR: 0.000346  \n",
            "EVAL: [0/49] Elapsed 0m 0s (remain 0m 15s) Loss: 0.7908(0.7908) \n"
          ],
          "name": "stdout"
        },
        {
          "output_type": "stream",
          "text": [
            "Epoch 14 - avg_train_loss: 0.8639  avg_val_loss: 0.7997  time: 39s\n",
            "Epoch 14 - Score: 0.8435707185601163\n",
            "Epoch 14 - Save Best Score: 0.8436 Model\n"
          ],
          "name": "stderr"
        },
        {
          "output_type": "stream",
          "text": [
            "EVAL: [48/49] Elapsed 0m 2s (remain 0m 0s) Loss: 0.8991(0.7997) \n",
            "Epoch: [15][0/197] Elapsed 0m 0s (remain 2m 38s) Loss: 1.1384(1.1384) Grad: 1.8821 LR: 0.000285  \n",
            "Epoch: [15][50/197] Elapsed 0m 9s (remain 0m 28s) Loss: 0.8994(0.8520) Grad: 2.2280 LR: 0.000285  \n",
            "Epoch: [15][100/197] Elapsed 0m 18s (remain 0m 18s) Loss: 0.9109(0.8504) Grad: 2.4154 LR: 0.000285  \n",
            "Epoch: [15][150/197] Elapsed 0m 28s (remain 0m 8s) Loss: 0.9299(0.8571) Grad: 2.3136 LR: 0.000285  \n",
            "Epoch: [15][196/197] Elapsed 0m 36s (remain 0m 0s) Loss: 0.7109(0.8619) Grad: 2.3083 LR: 0.000285  \n",
            "EVAL: [0/49] Elapsed 0m 0s (remain 0m 20s) Loss: 0.7360(0.7360) \n"
          ],
          "name": "stdout"
        },
        {
          "output_type": "stream",
          "text": [
            "Epoch 15 - avg_train_loss: 0.8619  avg_val_loss: 0.8284  time: 39s\n",
            "Epoch 15 - Score: 0.8641185113995602\n"
          ],
          "name": "stderr"
        },
        {
          "output_type": "stream",
          "text": [
            "EVAL: [48/49] Elapsed 0m 2s (remain 0m 0s) Loss: 0.8585(0.8284) \n",
            "Epoch: [16][0/197] Elapsed 0m 0s (remain 2m 3s) Loss: 0.7627(0.7627) Grad: 3.3513 LR: 0.000232  \n",
            "Epoch: [16][50/197] Elapsed 0m 9s (remain 0m 27s) Loss: 0.6579(0.8474) Grad: 4.4264 LR: 0.000232  \n",
            "Epoch: [16][100/197] Elapsed 0m 18s (remain 0m 17s) Loss: 0.7785(0.8409) Grad: 1.9344 LR: 0.000232  \n",
            "Epoch: [16][150/197] Elapsed 0m 27s (remain 0m 8s) Loss: 0.5826(0.8388) Grad: 1.8508 LR: 0.000232  \n",
            "Epoch: [16][196/197] Elapsed 0m 36s (remain 0m 0s) Loss: 0.6092(0.8458) Grad: 2.5183 LR: 0.000232  \n",
            "EVAL: [0/49] Elapsed 0m 0s (remain 0m 20s) Loss: 0.8478(0.8478) \n"
          ],
          "name": "stdout"
        },
        {
          "output_type": "stream",
          "text": [
            "Epoch 16 - avg_train_loss: 0.8458  avg_val_loss: 0.8356  time: 39s\n",
            "Epoch 16 - Score: 0.8733731752465426\n"
          ],
          "name": "stderr"
        },
        {
          "output_type": "stream",
          "text": [
            "EVAL: [48/49] Elapsed 0m 2s (remain 0m 0s) Loss: 1.0175(0.8356) \n",
            "Epoch: [17][0/197] Elapsed 0m 0s (remain 2m 1s) Loss: 0.8361(0.8361) Grad: 2.4387 LR: 0.000186  \n",
            "Epoch: [17][50/197] Elapsed 0m 9s (remain 0m 27s) Loss: 0.8507(0.8338) Grad: 2.2603 LR: 0.000186  \n",
            "Epoch: [17][100/197] Elapsed 0m 18s (remain 0m 17s) Loss: 0.8681(0.8365) Grad: 2.4061 LR: 0.000186  \n",
            "Epoch: [17][150/197] Elapsed 0m 27s (remain 0m 8s) Loss: 0.8039(0.8404) Grad: 2.0974 LR: 0.000186  \n",
            "Epoch: [17][196/197] Elapsed 0m 36s (remain 0m 0s) Loss: 1.0270(0.8387) Grad: 1.9582 LR: 0.000186  \n",
            "EVAL: [0/49] Elapsed 0m 0s (remain 0m 21s) Loss: 0.7820(0.7820) \n"
          ],
          "name": "stdout"
        },
        {
          "output_type": "stream",
          "text": [
            "Epoch 17 - avg_train_loss: 0.8387  avg_val_loss: 0.7943  time: 39s\n",
            "Epoch 17 - Score: 0.8375924282577383\n",
            "Epoch 17 - Save Best Score: 0.8376 Model\n"
          ],
          "name": "stderr"
        },
        {
          "output_type": "stream",
          "text": [
            "EVAL: [48/49] Elapsed 0m 2s (remain 0m 0s) Loss: 0.8256(0.7943) \n",
            "Epoch: [18][0/197] Elapsed 0m 0s (remain 2m 25s) Loss: 0.8269(0.8269) Grad: 2.2706 LR: 0.000149  \n",
            "Epoch: [18][50/197] Elapsed 0m 9s (remain 0m 28s) Loss: 0.8592(0.8192) Grad: 2.4340 LR: 0.000149  \n",
            "Epoch: [18][100/197] Elapsed 0m 18s (remain 0m 17s) Loss: 0.6127(0.8163) Grad: 2.8481 LR: 0.000149  \n",
            "Epoch: [18][150/197] Elapsed 0m 28s (remain 0m 8s) Loss: 0.6666(0.8188) Grad: 1.2875 LR: 0.000149  \n",
            "Epoch: [18][196/197] Elapsed 0m 36s (remain 0m 0s) Loss: 0.8281(0.8218) Grad: 3.2392 LR: 0.000149  \n",
            "EVAL: [0/49] Elapsed 0m 0s (remain 0m 16s) Loss: 0.8272(0.8272) \n"
          ],
          "name": "stdout"
        },
        {
          "output_type": "stream",
          "text": [
            "Epoch 18 - avg_train_loss: 0.8218  avg_val_loss: 0.8184  time: 39s\n",
            "Epoch 18 - Score: 0.8465863515108777\n"
          ],
          "name": "stderr"
        },
        {
          "output_type": "stream",
          "text": [
            "EVAL: [48/49] Elapsed 0m 2s (remain 0m 0s) Loss: 0.9874(0.8184) \n",
            "Epoch: [19][0/197] Elapsed 0m 0s (remain 1m 53s) Loss: 0.8248(0.8248) Grad: 2.6579 LR: 0.000122  \n",
            "Epoch: [19][50/197] Elapsed 0m 9s (remain 0m 27s) Loss: 0.6928(0.8357) Grad: 2.3407 LR: 0.000122  \n",
            "Epoch: [19][100/197] Elapsed 0m 18s (remain 0m 17s) Loss: 0.8450(0.8155) Grad: 3.8753 LR: 0.000122  \n",
            "Epoch: [19][150/197] Elapsed 0m 27s (remain 0m 8s) Loss: 1.2695(0.7988) Grad: 2.9898 LR: 0.000122  \n",
            "Epoch: [19][196/197] Elapsed 0m 36s (remain 0m 0s) Loss: 0.5691(0.8056) Grad: 2.1993 LR: 0.000122  \n",
            "EVAL: [0/49] Elapsed 0m 0s (remain 0m 15s) Loss: 0.7005(0.7005) \n"
          ],
          "name": "stdout"
        },
        {
          "output_type": "stream",
          "text": [
            "Epoch 19 - avg_train_loss: 0.8056  avg_val_loss: 0.7622  time: 39s\n",
            "Epoch 19 - Score: 0.8130990407119453\n",
            "Epoch 19 - Save Best Score: 0.8131 Model\n"
          ],
          "name": "stderr"
        },
        {
          "output_type": "stream",
          "text": [
            "EVAL: [48/49] Elapsed 0m 2s (remain 0m 0s) Loss: 0.8921(0.7622) \n",
            "Epoch: [20][0/197] Elapsed 0m 0s (remain 2m 9s) Loss: 1.0651(1.0651) Grad: 2.3437 LR: 0.000106  \n",
            "Epoch: [20][50/197] Elapsed 0m 9s (remain 0m 27s) Loss: 0.3907(0.7795) Grad: 3.5443 LR: 0.000106  \n",
            "Epoch: [20][100/197] Elapsed 0m 18s (remain 0m 17s) Loss: 0.7773(0.7788) Grad: 2.8359 LR: 0.000106  \n",
            "Epoch: [20][150/197] Elapsed 0m 27s (remain 0m 8s) Loss: 0.9861(0.7841) Grad: 4.5429 LR: 0.000106  \n",
            "Epoch: [20][196/197] Elapsed 0m 36s (remain 0m 0s) Loss: 0.6814(0.7782) Grad: 3.0547 LR: 0.000106  \n",
            "EVAL: [0/49] Elapsed 0m 0s (remain 0m 16s) Loss: 0.7379(0.7379) \n"
          ],
          "name": "stdout"
        },
        {
          "output_type": "stream",
          "text": [
            "Epoch 20 - avg_train_loss: 0.7782  avg_val_loss: 0.7777  time: 39s\n",
            "Epoch 20 - Score: 0.8248896644761486\n",
            "========== fold: 2 result ==========\n"
          ],
          "name": "stderr"
        },
        {
          "output_type": "stream",
          "text": [
            "EVAL: [48/49] Elapsed 0m 2s (remain 0m 0s) Loss: 0.9749(0.7777) \n"
          ],
          "name": "stdout"
        },
        {
          "output_type": "stream",
          "text": [
            "Score: 0.81310\n",
            "========== fold: 3 training ==========\n"
          ],
          "name": "stderr"
        },
        {
          "output_type": "stream",
          "text": [
            "Epoch: [1][0/197] Elapsed 0m 0s (remain 1m 52s) Loss: 2.0760(2.0760) Grad: 6.8373 LR: 0.001000  \n",
            "Epoch: [1][50/197] Elapsed 0m 9s (remain 0m 27s) Loss: 1.0974(1.1499) Grad: 5.5388 LR: 0.001000  \n",
            "Epoch: [1][100/197] Elapsed 0m 18s (remain 0m 17s) Loss: 0.9004(1.0627) Grad: 4.6172 LR: 0.001000  \n",
            "Epoch: [1][150/197] Elapsed 0m 27s (remain 0m 8s) Loss: 0.4924(1.0170) Grad: 3.6337 LR: 0.001000  \n",
            "Epoch: [1][196/197] Elapsed 0m 36s (remain 0m 0s) Loss: 0.7038(0.9876) Grad: 4.5374 LR: 0.001000  \n",
            "EVAL: [0/49] Elapsed 0m 0s (remain 0m 16s) Loss: 0.5752(0.5752) \n"
          ],
          "name": "stdout"
        },
        {
          "output_type": "stream",
          "text": [
            "Epoch 1 - avg_train_loss: 0.9876  avg_val_loss: 1.9295  time: 39s\n",
            "Epoch 1 - Score: 1.0226425693995636\n",
            "Epoch 1 - Save Best Score: 1.0226 Model\n"
          ],
          "name": "stderr"
        },
        {
          "output_type": "stream",
          "text": [
            "EVAL: [48/49] Elapsed 0m 2s (remain 0m 0s) Loss: 1.1536(1.9295) \n",
            "Epoch: [2][0/197] Elapsed 0m 0s (remain 2m 8s) Loss: 0.9447(0.9447) Grad: 3.5067 LR: 0.000994  \n",
            "Epoch: [2][50/197] Elapsed 0m 9s (remain 0m 27s) Loss: 0.8799(0.8436) Grad: 4.5843 LR: 0.000994  \n",
            "Epoch: [2][100/197] Elapsed 0m 18s (remain 0m 17s) Loss: 0.9297(0.8787) Grad: 3.8385 LR: 0.000994  \n",
            "Epoch: [2][150/197] Elapsed 0m 27s (remain 0m 8s) Loss: 1.0464(0.8881) Grad: 2.5898 LR: 0.000994  \n",
            "Epoch: [2][196/197] Elapsed 0m 36s (remain 0m 0s) Loss: 0.9562(0.8812) Grad: 7.5580 LR: 0.000994  \n",
            "EVAL: [0/49] Elapsed 0m 0s (remain 0m 16s) Loss: 0.6724(0.6724) \n"
          ],
          "name": "stdout"
        },
        {
          "output_type": "stream",
          "text": [
            "Epoch 2 - avg_train_loss: 0.8812  avg_val_loss: 1.0807  time: 39s\n",
            "Epoch 2 - Score: 0.9849438519535308\n",
            "Epoch 2 - Save Best Score: 0.9849 Model\n"
          ],
          "name": "stderr"
        },
        {
          "output_type": "stream",
          "text": [
            "EVAL: [48/49] Elapsed 0m 2s (remain 0m 0s) Loss: 1.0025(1.0807) \n",
            "Epoch: [3][0/197] Elapsed 0m 0s (remain 2m 33s) Loss: 0.7673(0.7673) Grad: 3.0678 LR: 0.000978  \n",
            "Epoch: [3][50/197] Elapsed 0m 9s (remain 0m 28s) Loss: 0.6702(0.9804) Grad: 2.5049 LR: 0.000978  \n",
            "Epoch: [3][100/197] Elapsed 0m 18s (remain 0m 18s) Loss: 0.6681(0.9527) Grad: 2.7541 LR: 0.000978  \n",
            "Epoch: [3][150/197] Elapsed 0m 28s (remain 0m 8s) Loss: 0.9235(0.9548) Grad: 1.5407 LR: 0.000978  \n",
            "Epoch: [3][196/197] Elapsed 0m 36s (remain 0m 0s) Loss: 0.9382(0.9500) Grad: 3.8046 LR: 0.000978  \n",
            "EVAL: [0/49] Elapsed 0m 0s (remain 0m 15s) Loss: 0.5116(0.5116) \n"
          ],
          "name": "stdout"
        },
        {
          "output_type": "stream",
          "text": [
            "Epoch 3 - avg_train_loss: 0.9500  avg_val_loss: 0.8980  time: 39s\n",
            "Epoch 3 - Score: 0.9108156107379647\n",
            "Epoch 3 - Save Best Score: 0.9108 Model\n"
          ],
          "name": "stderr"
        },
        {
          "output_type": "stream",
          "text": [
            "EVAL: [48/49] Elapsed 0m 2s (remain 0m 0s) Loss: 0.9865(0.8980) \n",
            "Epoch: [4][0/197] Elapsed 0m 0s (remain 2m 49s) Loss: 0.7657(0.7657) Grad: 3.0329 LR: 0.000951  \n",
            "Epoch: [4][50/197] Elapsed 0m 9s (remain 0m 28s) Loss: 1.1593(0.9231) Grad: 5.2415 LR: 0.000951  \n",
            "Epoch: [4][100/197] Elapsed 0m 19s (remain 0m 18s) Loss: 0.8843(0.9107) Grad: 2.8700 LR: 0.000951  \n",
            "Epoch: [4][150/197] Elapsed 0m 28s (remain 0m 8s) Loss: 0.8032(0.9190) Grad: 1.8896 LR: 0.000951  \n",
            "Epoch: [4][196/197] Elapsed 0m 36s (remain 0m 0s) Loss: 1.0609(0.9232) Grad: 3.0249 LR: 0.000951  \n",
            "EVAL: [0/49] Elapsed 0m 0s (remain 0m 16s) Loss: 0.6545(0.6545) \n"
          ],
          "name": "stdout"
        },
        {
          "output_type": "stream",
          "text": [
            "Epoch 4 - avg_train_loss: 0.9232  avg_val_loss: 0.8869  time: 39s\n",
            "Epoch 4 - Score: 0.9250698691146892\n"
          ],
          "name": "stderr"
        },
        {
          "output_type": "stream",
          "text": [
            "EVAL: [48/49] Elapsed 0m 2s (remain 0m 0s) Loss: 1.0613(0.8869) \n",
            "Epoch: [5][0/197] Elapsed 0m 0s (remain 2m 24s) Loss: 1.0138(1.0138) Grad: 3.5912 LR: 0.000914  \n",
            "Epoch: [5][50/197] Elapsed 0m 9s (remain 0m 28s) Loss: 0.9062(0.9147) Grad: 2.5950 LR: 0.000914  \n",
            "Epoch: [5][100/197] Elapsed 0m 18s (remain 0m 17s) Loss: 1.0571(0.9098) Grad: 3.0928 LR: 0.000914  \n",
            "Epoch: [5][150/197] Elapsed 0m 27s (remain 0m 8s) Loss: 0.9317(0.9084) Grad: 1.1046 LR: 0.000914  \n",
            "Epoch: [5][196/197] Elapsed 0m 36s (remain 0m 0s) Loss: 0.8198(0.9118) Grad: 2.9878 LR: 0.000914  \n",
            "EVAL: [0/49] Elapsed 0m 0s (remain 0m 22s) Loss: 0.6137(0.6137) \n"
          ],
          "name": "stdout"
        },
        {
          "output_type": "stream",
          "text": [
            "Epoch 5 - avg_train_loss: 0.9118  avg_val_loss: 0.8780  time: 39s\n",
            "Epoch 5 - Score: 0.9160412401742386\n"
          ],
          "name": "stderr"
        },
        {
          "output_type": "stream",
          "text": [
            "EVAL: [48/49] Elapsed 0m 2s (remain 0m 0s) Loss: 1.0627(0.8780) \n",
            "Epoch: [6][0/197] Elapsed 0m 0s (remain 2m 17s) Loss: 1.0151(1.0151) Grad: 2.7339 LR: 0.000868  \n",
            "Epoch: [6][50/197] Elapsed 0m 9s (remain 0m 28s) Loss: 0.8751(0.9374) Grad: 2.9398 LR: 0.000868  \n",
            "Epoch: [6][100/197] Elapsed 0m 18s (remain 0m 17s) Loss: 1.0394(0.9112) Grad: 1.4419 LR: 0.000868  \n",
            "Epoch: [6][150/197] Elapsed 0m 27s (remain 0m 8s) Loss: 1.4899(0.9189) Grad: 3.3150 LR: 0.000868  \n",
            "Epoch: [6][196/197] Elapsed 0m 36s (remain 0m 0s) Loss: 0.9505(0.9148) Grad: 2.2081 LR: 0.000868  \n",
            "EVAL: [0/49] Elapsed 0m 0s (remain 0m 18s) Loss: 0.7474(0.7474) \n"
          ],
          "name": "stdout"
        },
        {
          "output_type": "stream",
          "text": [
            "Epoch 6 - avg_train_loss: 0.9148  avg_val_loss: 0.8648  time: 39s\n",
            "Epoch 6 - Score: 0.8923722020249357\n",
            "Epoch 6 - Save Best Score: 0.8924 Model\n"
          ],
          "name": "stderr"
        },
        {
          "output_type": "stream",
          "text": [
            "EVAL: [48/49] Elapsed 0m 2s (remain 0m 0s) Loss: 0.9981(0.8648) \n",
            "Epoch: [7][0/197] Elapsed 0m 0s (remain 2m 6s) Loss: 1.0930(1.0930) Grad: 0.8511 LR: 0.000815  \n",
            "Epoch: [7][50/197] Elapsed 0m 9s (remain 0m 28s) Loss: 0.9936(0.8978) Grad: 2.1752 LR: 0.000815  \n",
            "Epoch: [7][100/197] Elapsed 0m 18s (remain 0m 17s) Loss: 0.7338(0.8950) Grad: 2.1530 LR: 0.000815  \n",
            "Epoch: [7][150/197] Elapsed 0m 27s (remain 0m 8s) Loss: 0.8050(0.9017) Grad: 1.3183 LR: 0.000815  \n",
            "Epoch: [7][196/197] Elapsed 0m 36s (remain 0m 0s) Loss: 0.7885(0.9016) Grad: 1.1122 LR: 0.000815  \n",
            "EVAL: [0/49] Elapsed 0m 0s (remain 0m 17s) Loss: 0.7496(0.7496) \n"
          ],
          "name": "stdout"
        },
        {
          "output_type": "stream",
          "text": [
            "Epoch 7 - avg_train_loss: 0.9016  avg_val_loss: 0.8831  time: 39s\n",
            "Epoch 7 - Score: 0.9111815365438982\n"
          ],
          "name": "stderr"
        },
        {
          "output_type": "stream",
          "text": [
            "EVAL: [48/49] Elapsed 0m 2s (remain 0m 0s) Loss: 0.9799(0.8831) \n",
            "Epoch: [8][0/197] Elapsed 0m 0s (remain 2m 21s) Loss: 1.0862(1.0862) Grad: 0.9891 LR: 0.000754  \n",
            "Epoch: [8][50/197] Elapsed 0m 9s (remain 0m 28s) Loss: 0.7884(0.9050) Grad: 1.2353 LR: 0.000754  \n",
            "Epoch: [8][100/197] Elapsed 0m 18s (remain 0m 17s) Loss: 1.0575(0.9046) Grad: 1.4073 LR: 0.000754  \n",
            "Epoch: [8][150/197] Elapsed 0m 27s (remain 0m 8s) Loss: 0.7685(0.8995) Grad: 2.2687 LR: 0.000754  \n",
            "Epoch: [8][196/197] Elapsed 0m 36s (remain 0m 0s) Loss: 0.6966(0.8976) Grad: 3.4057 LR: 0.000754  \n",
            "EVAL: [0/49] Elapsed 0m 0s (remain 0m 15s) Loss: 0.6861(0.6861) \n"
          ],
          "name": "stdout"
        },
        {
          "output_type": "stream",
          "text": [
            "Epoch 8 - avg_train_loss: 0.8976  avg_val_loss: 0.8527  time: 39s\n",
            "Epoch 8 - Score: 0.8923827002029637\n"
          ],
          "name": "stderr"
        },
        {
          "output_type": "stream",
          "text": [
            "EVAL: [48/49] Elapsed 0m 2s (remain 0m 0s) Loss: 0.9449(0.8527) \n",
            "Epoch: [9][0/197] Elapsed 0m 0s (remain 2m 24s) Loss: 0.7400(0.7400) Grad: 2.3341 LR: 0.000689  \n",
            "Epoch: [9][50/197] Elapsed 0m 9s (remain 0m 28s) Loss: 0.7785(0.8754) Grad: 2.2896 LR: 0.000689  \n",
            "Epoch: [9][100/197] Elapsed 0m 18s (remain 0m 18s) Loss: 0.9556(0.8776) Grad: 2.2300 LR: 0.000689  \n",
            "Epoch: [9][150/197] Elapsed 0m 28s (remain 0m 8s) Loss: 0.8076(0.8906) Grad: 1.5538 LR: 0.000689  \n",
            "Epoch: [9][196/197] Elapsed 0m 36s (remain 0m 0s) Loss: 0.7797(0.8893) Grad: 4.4578 LR: 0.000689  \n",
            "EVAL: [0/49] Elapsed 0m 0s (remain 0m 21s) Loss: 0.7215(0.7215) \n"
          ],
          "name": "stdout"
        },
        {
          "output_type": "stream",
          "text": [
            "Epoch 9 - avg_train_loss: 0.8893  avg_val_loss: 0.8502  time: 39s\n",
            "Epoch 9 - Score: 0.8892490767296938\n",
            "Epoch 9 - Save Best Score: 0.8892 Model\n"
          ],
          "name": "stderr"
        },
        {
          "output_type": "stream",
          "text": [
            "EVAL: [48/49] Elapsed 0m 2s (remain 0m 0s) Loss: 0.8955(0.8502) \n",
            "Epoch: [10][0/197] Elapsed 0m 0s (remain 2m 23s) Loss: 0.8315(0.8315) Grad: 1.9084 LR: 0.000620  \n",
            "Epoch: [10][50/197] Elapsed 0m 9s (remain 0m 28s) Loss: 1.1527(0.8699) Grad: 1.9437 LR: 0.000620  \n",
            "Epoch: [10][100/197] Elapsed 0m 18s (remain 0m 18s) Loss: 0.5778(0.8523) Grad: 0.8874 LR: 0.000620  \n",
            "Epoch: [10][150/197] Elapsed 0m 28s (remain 0m 8s) Loss: 0.7620(0.8714) Grad: 1.0957 LR: 0.000620  \n",
            "Epoch: [10][196/197] Elapsed 0m 36s (remain 0m 0s) Loss: 1.1236(0.8786) Grad: 2.8322 LR: 0.000620  \n",
            "EVAL: [0/49] Elapsed 0m 0s (remain 0m 21s) Loss: 0.6599(0.6599) \n"
          ],
          "name": "stdout"
        },
        {
          "output_type": "stream",
          "text": [
            "Epoch 10 - avg_train_loss: 0.8786  avg_val_loss: 0.8421  time: 39s\n",
            "Epoch 10 - Score: 0.8784454975491387\n",
            "Epoch 10 - Save Best Score: 0.8784 Model\n"
          ],
          "name": "stderr"
        },
        {
          "output_type": "stream",
          "text": [
            "EVAL: [48/49] Elapsed 0m 2s (remain 0m 0s) Loss: 0.9661(0.8421) \n",
            "Epoch: [11][0/197] Elapsed 0m 0s (remain 2m 41s) Loss: 1.0071(1.0071) Grad: 2.1449 LR: 0.000550  \n",
            "Epoch: [11][50/197] Elapsed 0m 9s (remain 0m 28s) Loss: 0.8952(0.8604) Grad: 1.1095 LR: 0.000550  \n",
            "Epoch: [11][100/197] Elapsed 0m 18s (remain 0m 18s) Loss: 1.1580(0.8739) Grad: 1.8404 LR: 0.000550  \n",
            "Epoch: [11][150/197] Elapsed 0m 28s (remain 0m 8s) Loss: 0.9887(0.8688) Grad: 2.7538 LR: 0.000550  \n",
            "Epoch: [11][196/197] Elapsed 0m 36s (remain 0m 0s) Loss: 0.9368(0.8701) Grad: 1.8919 LR: 0.000550  \n",
            "EVAL: [0/49] Elapsed 0m 0s (remain 0m 15s) Loss: 0.6785(0.6785) \n"
          ],
          "name": "stdout"
        },
        {
          "output_type": "stream",
          "text": [
            "Epoch 11 - avg_train_loss: 0.8701  avg_val_loss: 0.8477  time: 39s\n",
            "Epoch 11 - Score: 0.8777501397463829\n",
            "Epoch 11 - Save Best Score: 0.8778 Model\n"
          ],
          "name": "stderr"
        },
        {
          "output_type": "stream",
          "text": [
            "EVAL: [48/49] Elapsed 0m 2s (remain 0m 0s) Loss: 0.9109(0.8477) \n",
            "Epoch: [12][0/197] Elapsed 0m 0s (remain 2m 37s) Loss: 0.8298(0.8298) Grad: 1.8770 LR: 0.000480  \n",
            "Epoch: [12][50/197] Elapsed 0m 9s (remain 0m 28s) Loss: 0.7411(0.8480) Grad: 2.0297 LR: 0.000480  \n",
            "Epoch: [12][100/197] Elapsed 0m 19s (remain 0m 18s) Loss: 0.7758(0.8623) Grad: 0.9954 LR: 0.000480  \n",
            "Epoch: [12][150/197] Elapsed 0m 28s (remain 0m 8s) Loss: 1.1353(0.8745) Grad: 1.4778 LR: 0.000480  \n",
            "Epoch: [12][196/197] Elapsed 0m 36s (remain 0m 0s) Loss: 0.8798(0.8667) Grad: 1.4157 LR: 0.000480  \n",
            "EVAL: [0/49] Elapsed 0m 0s (remain 0m 19s) Loss: 0.6655(0.6655) \n"
          ],
          "name": "stdout"
        },
        {
          "output_type": "stream",
          "text": [
            "Epoch 12 - avg_train_loss: 0.8667  avg_val_loss: 0.8170  time: 39s\n",
            "Epoch 12 - Score: 0.8470698162866179\n",
            "Epoch 12 - Save Best Score: 0.8471 Model\n"
          ],
          "name": "stderr"
        },
        {
          "output_type": "stream",
          "text": [
            "EVAL: [48/49] Elapsed 0m 2s (remain 0m 0s) Loss: 0.8677(0.8170) \n",
            "Epoch: [13][0/197] Elapsed 0m 0s (remain 2m 44s) Loss: 0.8848(0.8848) Grad: 2.7588 LR: 0.000411  \n",
            "Epoch: [13][50/197] Elapsed 0m 9s (remain 0m 28s) Loss: 0.7901(0.8682) Grad: 2.1311 LR: 0.000411  \n",
            "Epoch: [13][100/197] Elapsed 0m 18s (remain 0m 18s) Loss: 0.7569(0.8563) Grad: 3.0921 LR: 0.000411  \n",
            "Epoch: [13][150/197] Elapsed 0m 28s (remain 0m 8s) Loss: 0.7689(0.8477) Grad: 2.2893 LR: 0.000411  \n",
            "Epoch: [13][196/197] Elapsed 0m 36s (remain 0m 0s) Loss: 1.1114(0.8524) Grad: 1.8186 LR: 0.000411  \n",
            "EVAL: [0/49] Elapsed 0m 0s (remain 0m 16s) Loss: 0.7125(0.7125) \n"
          ],
          "name": "stdout"
        },
        {
          "output_type": "stream",
          "text": [
            "Epoch 13 - avg_train_loss: 0.8524  avg_val_loss: 0.8693  time: 39s\n",
            "Epoch 13 - Score: 0.9033289369925704\n"
          ],
          "name": "stderr"
        },
        {
          "output_type": "stream",
          "text": [
            "EVAL: [48/49] Elapsed 0m 2s (remain 0m 0s) Loss: 1.0143(0.8693) \n",
            "Epoch: [14][0/197] Elapsed 0m 0s (remain 2m 32s) Loss: 0.6018(0.6018) Grad: 1.4019 LR: 0.000346  \n",
            "Epoch: [14][50/197] Elapsed 0m 9s (remain 0m 28s) Loss: 0.8055(0.8375) Grad: 1.1519 LR: 0.000346  \n",
            "Epoch: [14][100/197] Elapsed 0m 18s (remain 0m 17s) Loss: 0.7531(0.8362) Grad: 1.5380 LR: 0.000346  \n",
            "Epoch: [14][150/197] Elapsed 0m 28s (remain 0m 8s) Loss: 0.7713(0.8571) Grad: 1.9561 LR: 0.000346  \n",
            "Epoch: [14][196/197] Elapsed 0m 36s (remain 0m 0s) Loss: 0.9990(0.8531) Grad: 2.0636 LR: 0.000346  \n",
            "EVAL: [0/49] Elapsed 0m 0s (remain 0m 20s) Loss: 0.5846(0.5846) \n"
          ],
          "name": "stdout"
        },
        {
          "output_type": "stream",
          "text": [
            "Epoch 14 - avg_train_loss: 0.8531  avg_val_loss: 0.8294  time: 39s\n",
            "Epoch 14 - Score: 0.8609078708914403\n"
          ],
          "name": "stderr"
        },
        {
          "output_type": "stream",
          "text": [
            "EVAL: [48/49] Elapsed 0m 2s (remain 0m 0s) Loss: 0.8378(0.8294) \n",
            "Epoch: [15][0/197] Elapsed 0m 0s (remain 2m 23s) Loss: 0.8198(0.8198) Grad: 1.9610 LR: 0.000285  \n",
            "Epoch: [15][50/197] Elapsed 0m 9s (remain 0m 28s) Loss: 0.8046(0.8426) Grad: 2.3697 LR: 0.000285  \n",
            "Epoch: [15][100/197] Elapsed 0m 18s (remain 0m 17s) Loss: 0.9057(0.8403) Grad: 2.2710 LR: 0.000285  \n",
            "Epoch: [15][150/197] Elapsed 0m 28s (remain 0m 8s) Loss: 0.6742(0.8421) Grad: 2.7173 LR: 0.000285  \n",
            "Epoch: [15][196/197] Elapsed 0m 36s (remain 0m 0s) Loss: 1.0128(0.8554) Grad: 2.2665 LR: 0.000285  \n",
            "EVAL: [0/49] Elapsed 0m 0s (remain 0m 21s) Loss: 0.6292(0.6292) \n"
          ],
          "name": "stdout"
        },
        {
          "output_type": "stream",
          "text": [
            "Epoch 15 - avg_train_loss: 0.8554  avg_val_loss: 0.8400  time: 39s\n",
            "Epoch 15 - Score: 0.8741805611819681\n"
          ],
          "name": "stderr"
        },
        {
          "output_type": "stream",
          "text": [
            "EVAL: [48/49] Elapsed 0m 2s (remain 0m 0s) Loss: 0.9353(0.8400) \n",
            "Epoch: [16][0/197] Elapsed 0m 0s (remain 2m 7s) Loss: 0.6573(0.6573) Grad: 1.6529 LR: 0.000232  \n",
            "Epoch: [16][50/197] Elapsed 0m 9s (remain 0m 27s) Loss: 1.0115(0.8043) Grad: 1.7386 LR: 0.000232  \n",
            "Epoch: [16][100/197] Elapsed 0m 18s (remain 0m 17s) Loss: 0.8217(0.8224) Grad: 2.1264 LR: 0.000232  \n",
            "Epoch: [16][150/197] Elapsed 0m 27s (remain 0m 8s) Loss: 0.7567(0.8366) Grad: 2.3677 LR: 0.000232  \n",
            "Epoch: [16][196/197] Elapsed 0m 36s (remain 0m 0s) Loss: 0.9074(0.8342) Grad: 2.8333 LR: 0.000232  \n",
            "EVAL: [0/49] Elapsed 0m 0s (remain 0m 19s) Loss: 0.6406(0.6406) \n"
          ],
          "name": "stdout"
        },
        {
          "output_type": "stream",
          "text": [
            "Epoch 16 - avg_train_loss: 0.8342  avg_val_loss: 0.8283  time: 39s\n",
            "Epoch 16 - Score: 0.8650121845488288\n"
          ],
          "name": "stderr"
        },
        {
          "output_type": "stream",
          "text": [
            "EVAL: [48/49] Elapsed 0m 2s (remain 0m 0s) Loss: 0.8616(0.8283) \n",
            "Epoch: [17][0/197] Elapsed 0m 0s (remain 2m 13s) Loss: 0.7161(0.7161) Grad: 2.5272 LR: 0.000186  \n",
            "Epoch: [17][50/197] Elapsed 0m 9s (remain 0m 27s) Loss: 0.7373(0.8504) Grad: 3.0566 LR: 0.000186  \n",
            "Epoch: [17][100/197] Elapsed 0m 18s (remain 0m 17s) Loss: 0.7574(0.8334) Grad: 1.7119 LR: 0.000186  \n",
            "Epoch: [17][150/197] Elapsed 0m 27s (remain 0m 8s) Loss: 0.8105(0.8316) Grad: 2.6993 LR: 0.000186  \n",
            "Epoch: [17][196/197] Elapsed 0m 36s (remain 0m 0s) Loss: 0.8920(0.8275) Grad: 2.3178 LR: 0.000186  \n",
            "EVAL: [0/49] Elapsed 0m 0s (remain 0m 16s) Loss: 0.7183(0.7183) \n"
          ],
          "name": "stdout"
        },
        {
          "output_type": "stream",
          "text": [
            "Epoch 17 - avg_train_loss: 0.8275  avg_val_loss: 0.8279  time: 39s\n",
            "Epoch 17 - Score: 0.8595098720658019\n"
          ],
          "name": "stderr"
        },
        {
          "output_type": "stream",
          "text": [
            "EVAL: [48/49] Elapsed 0m 2s (remain 0m 0s) Loss: 0.9663(0.8279) \n",
            "Epoch: [18][0/197] Elapsed 0m 0s (remain 2m 5s) Loss: 0.4975(0.4975) Grad: 2.5279 LR: 0.000149  \n",
            "Epoch: [18][50/197] Elapsed 0m 9s (remain 0m 27s) Loss: 1.1105(0.8386) Grad: 2.1623 LR: 0.000149  \n",
            "Epoch: [18][100/197] Elapsed 0m 18s (remain 0m 17s) Loss: 0.8151(0.8367) Grad: 3.4693 LR: 0.000149  \n",
            "Epoch: [18][150/197] Elapsed 0m 27s (remain 0m 8s) Loss: 0.7233(0.8210) Grad: 3.4110 LR: 0.000149  \n",
            "Epoch: [18][196/197] Elapsed 0m 36s (remain 0m 0s) Loss: 0.9480(0.8225) Grad: 1.9052 LR: 0.000149  \n",
            "EVAL: [0/49] Elapsed 0m 0s (remain 0m 23s) Loss: 0.6053(0.6053) \n"
          ],
          "name": "stdout"
        },
        {
          "output_type": "stream",
          "text": [
            "Epoch 18 - avg_train_loss: 0.8225  avg_val_loss: 0.8044  time: 39s\n",
            "Epoch 18 - Score: 0.8328689960274868\n",
            "Epoch 18 - Save Best Score: 0.8329 Model\n"
          ],
          "name": "stderr"
        },
        {
          "output_type": "stream",
          "text": [
            "EVAL: [48/49] Elapsed 0m 2s (remain 0m 0s) Loss: 0.9077(0.8044) \n",
            "Epoch: [19][0/197] Elapsed 0m 0s (remain 2m 14s) Loss: 1.0271(1.0271) Grad: 2.7570 LR: 0.000122  \n",
            "Epoch: [19][50/197] Elapsed 0m 9s (remain 0m 27s) Loss: 1.0120(0.8084) Grad: 2.4613 LR: 0.000122  \n",
            "Epoch: [19][100/197] Elapsed 0m 18s (remain 0m 17s) Loss: 1.0354(0.7839) Grad: 1.9550 LR: 0.000122  \n",
            "Epoch: [19][150/197] Elapsed 0m 27s (remain 0m 8s) Loss: 0.5157(0.7764) Grad: 2.2523 LR: 0.000122  \n",
            "Epoch: [19][196/197] Elapsed 0m 36s (remain 0m 0s) Loss: 0.5909(0.7806) Grad: 1.6895 LR: 0.000122  \n",
            "EVAL: [0/49] Elapsed 0m 0s (remain 0m 14s) Loss: 0.5612(0.5612) \n"
          ],
          "name": "stdout"
        },
        {
          "output_type": "stream",
          "text": [
            "Epoch 19 - avg_train_loss: 0.7806  avg_val_loss: 0.7847  time: 39s\n",
            "Epoch 19 - Score: 0.8241420890697638\n",
            "Epoch 19 - Save Best Score: 0.8241 Model\n"
          ],
          "name": "stderr"
        },
        {
          "output_type": "stream",
          "text": [
            "EVAL: [48/49] Elapsed 0m 2s (remain 0m 0s) Loss: 0.9291(0.7847) \n",
            "Epoch: [20][0/197] Elapsed 0m 0s (remain 2m 9s) Loss: 0.7323(0.7323) Grad: 2.6197 LR: 0.000106  \n",
            "Epoch: [20][50/197] Elapsed 0m 9s (remain 0m 27s) Loss: 0.8219(0.7295) Grad: 1.9538 LR: 0.000106  \n"
          ],
          "name": "stdout"
        }
      ]
    },
    {
      "cell_type": "markdown",
      "metadata": {
        "id": "-scfhV4ueW4K"
      },
      "source": [
        "## Public LB"
      ],
      "id": "-scfhV4ueW4K"
    },
    {
      "cell_type": "code",
      "metadata": {
        "id": "jRNsH2CvA1He"
      },
      "source": [
        "RUN_ID = None\n",
        "LB_SCORE = 0.7890\n",
        "\n",
        "WANDB_ENTITY = \"imokuri\"\n",
        "WANDB_PROJECT = \"atma11\""
      ],
      "id": "jRNsH2CvA1He",
      "execution_count": 2,
      "outputs": []
    },
    {
      "cell_type": "code",
      "metadata": {
        "colab": {
          "base_uri": "https://localhost:8080/",
          "height": 51
        },
        "id": "AS7aRYF_eh7z",
        "outputId": "0a42c703-7195-44c1-b4fb-9d0293bb1d55"
      },
      "source": [
        "if RUN_ID is not None and LB_SCORE is not None:\n",
        "    import wandb\n",
        "    api = wandb.Api()\n",
        "\n",
        "    run = api.run(f\"{WANDB_ENTITY}/{WANDB_PROJECT}/{RUN_ID}\")\n",
        "    run.summary[\"LB\"] = LB_SCORE\n",
        "    run.summary.update()\n"
      ],
      "id": "AS7aRYF_eh7z",
      "execution_count": 3,
      "outputs": [
        {
          "output_type": "display_data",
          "data": {
            "application/javascript": [
              "\n",
              "        window._wandbApiKey = new Promise((resolve, reject) => {\n",
              "            function loadScript(url) {\n",
              "            return new Promise(function(resolve, reject) {\n",
              "                let newScript = document.createElement(\"script\");\n",
              "                newScript.onerror = reject;\n",
              "                newScript.onload = resolve;\n",
              "                document.body.appendChild(newScript);\n",
              "                newScript.src = url;\n",
              "            });\n",
              "            }\n",
              "            loadScript(\"https://cdn.jsdelivr.net/npm/postmate/build/postmate.min.js\").then(() => {\n",
              "            const iframe = document.createElement('iframe')\n",
              "            iframe.style.cssText = \"width:0;height:0;border:none\"\n",
              "            document.body.appendChild(iframe)\n",
              "            const handshake = new Postmate({\n",
              "                container: iframe,\n",
              "                url: 'https://wandb.ai/authorize'\n",
              "            });\n",
              "            const timeout = setTimeout(() => reject(\"Couldn't auto authenticate\"), 5000)\n",
              "            handshake.then(function(child) {\n",
              "                child.on('authorize', data => {\n",
              "                    clearTimeout(timeout)\n",
              "                    resolve(data)\n",
              "                });\n",
              "            });\n",
              "            })\n",
              "        });\n",
              "    "
            ],
            "text/plain": [
              "<IPython.core.display.Javascript object>"
            ]
          },
          "metadata": {
            "tags": []
          }
        },
        {
          "output_type": "stream",
          "text": [
            "\u001b[34m\u001b[1mwandb\u001b[0m: Appending key for api.wandb.ai to your netrc file: /root/.netrc\n"
          ],
          "name": "stderr"
        }
      ]
    },
    {
      "cell_type": "code",
      "metadata": {
        "id": "-gEHUGpXei3-"
      },
      "source": [
        ""
      ],
      "id": "-gEHUGpXei3-",
      "execution_count": null,
      "outputs": []
    }
  ]
}